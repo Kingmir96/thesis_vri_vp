{
 "cells": [
  {
   "cell_type": "code",
   "execution_count": 6,
   "id": "c0b56859-ecf1-4e20-9013-fd2293980d59",
   "metadata": {},
   "outputs": [
    {
     "name": "stdout",
     "output_type": "stream",
     "text": [
      "Daily returns: Date\n",
      "2002-05-30    0.003827\n",
      "2002-05-31   -0.005607\n",
      "2002-06-03   -0.030221\n",
      "2002-06-04    0.007441\n",
      "2002-06-05    0.012235\n",
      "                ...   \n",
      "2025-02-18   -0.000096\n",
      "2025-02-19    0.000360\n",
      "2025-02-20   -0.005282\n",
      "2025-02-21   -0.022690\n",
      "2025-02-24   -0.010225\n",
      "Name: IWF, Length: 5722, dtype: float64\n",
      "Engineered features:                ret_5  DD-log_5  sortino_5    ret_20  DD-log_20  sortino_20    ret_60  DD-log_60  sortino_60\n",
      "Date                                                                                                       \n",
      "2002-05-30  0.003827      -inf        inf  0.003827       -inf         inf  0.003827       -inf         inf\n",
      "2002-05-31 -0.001216 -5.496935  -0.296640 -0.000971  -5.521803   -0.242913 -0.000917  -5.527513   -0.230600\n",
      "2002-06-03 -0.012251 -3.967661  -0.647599 -0.011061  -4.015058   -0.613064 -0.010798  -4.026057   -0.605103\n",
      "2002-06-04 -0.006262 -4.148951  -0.396816 -0.006192  -4.167739   -0.399820 -0.006159  -4.172805   -0.399681\n",
      "2002-06-05 -0.001473 -4.298760  -0.108451 -0.002247  -4.288200   -0.163660 -0.002395  -4.287290   -0.174248\n",
      "...              ...       ...        ...       ...        ...         ...       ...        ...         ...\n",
      "2025-02-18  0.001579 -5.197135   0.285352  0.001044  -4.870097    0.136007  0.001121  -4.840544    0.141850\n",
      "2025-02-19  0.001421 -5.266449   0.275280  0.001020  -4.887426    0.135299  0.001112  -4.846320    0.141560\n",
      "2025-02-20  0.000553 -5.263402   0.106848  0.000806  -4.896176    0.107767  0.001039  -4.849477    0.132630\n",
      "2025-02-21 -0.002456 -4.657946  -0.258867  0.000005  -4.772829    0.000618  0.000766  -4.808731    0.093927\n",
      "2025-02-24 -0.003461 -4.647571  -0.361130 -0.000343  -4.765020   -0.040276  0.000640  -4.805463    0.078196\n",
      "\n",
      "[5722 rows x 9 columns]\n"
     ]
    }
   ],
   "source": [
    "from feature import DataLoader\n",
    "\n",
    "file_path = r\"C:\\Users\\victo\\0_thesis_repo\\thesis_vri_vp\\index_data\\full_returns.csv\"\n",
    "data = DataLoader(file_path=file_path).load(start_date=\"2002-05-30\", end_date=\"2025-02-24\")\n",
    "\n",
    "print(\"Daily returns:\", data.ret_ser)\n",
    "print(\"Engineered features:\", data.X)\n"
   ]
  },
  {
   "cell_type": "code",
   "execution_count": null,
   "id": "cf5de15d-ba19-4e93-b299-9de229f7e16d",
   "metadata": {},
   "outputs": [],
   "source": []
  }
 ],
 "metadata": {
  "kernelspec": {
   "display_name": "Python [conda env:base] *",
   "language": "python",
   "name": "conda-base-py"
  },
  "language_info": {
   "codemirror_mode": {
    "name": "ipython",
    "version": 3
   },
   "file_extension": ".py",
   "mimetype": "text/x-python",
   "name": "python",
   "nbconvert_exporter": "python",
   "pygments_lexer": "ipython3",
   "version": "3.12.7"
  }
 },
 "nbformat": 4,
 "nbformat_minor": 5
}
