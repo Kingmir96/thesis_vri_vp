{
 "cells": [
  {
   "cell_type": "code",
   "execution_count": null,
   "metadata": {},
   "outputs": [
    {
     "name": "stdout",
     "output_type": "stream",
     "text": [
      "            VIXCLS\n",
      "DATE              \n",
      "2020-05-28   28.59\n",
      "2020-05-29   27.51\n",
      "2020-06-01   28.23\n",
      "2020-06-02   26.84\n",
      "2020-06-03   25.66             DGS2\n",
      "DATE            \n",
      "2020-05-28  0.17\n",
      "2020-05-29  0.16\n",
      "2020-06-01  0.14\n",
      "2020-06-02  0.17\n",
      "2020-06-03  0.19             T10Y2Y\n",
      "DATE              \n",
      "2020-05-28    0.53\n",
      "2020-05-29    0.49\n",
      "2020-06-01    0.52\n",
      "2020-06-02    0.51\n",
      "2020-06-03    0.58\n"
     ]
    }
   ],
   "source": [
    "import pandas_datareader.data as web\n",
    "import datetime\n",
    "\n",
    "# Define date range\n",
    "start = datetime.datetime(2020, 5, 28)\n",
    "end = datetime.datetime(2024, 2, 24)\n",
    "\n",
    "# Fetch data\n",
    "vix = web.DataReader('VIXCLS', 'fred', start, end)\n",
    "two_year_yield = web.DataReader('DGS2', 'fred', start, end)\n",
    "ten_minus_two = web.DataReader('T10Y2Y', 'fred', start, end)\n",
    "\n",
    "# Print first few rows\n",
    "print(vix.head(), two_year_yield.head(), ten_minus_two.head())\n"
   ]
  },
  {
   "cell_type": "code",
   "execution_count": 7,
   "metadata": {},
   "outputs": [
    {
     "name": "stdout",
     "output_type": "stream",
     "text": [
      "CSV file saved as market_data.csv\n"
     ]
    }
   ],
   "source": [
    "# Rename columns with industry-standard names\n",
    "vix.rename(columns={\"VIXCLS\": \"VIX\"}, inplace=True)\n",
    "two_year_yield.rename(columns={\"DGS2\": \"2Y_Yield\"}, inplace=True)\n",
    "ten_minus_two.rename(columns={\"T10Y2Y\": \"10Y-2Y_Spread\"}, inplace=True)\n",
    "\n",
    "# Merge data into a single DataFrame\n",
    "data = vix.join([two_year_yield, ten_minus_two])\n",
    "\n",
    "# Export to CSV\n",
    "data.to_csv(\"market_data.csv\")\n",
    "\n",
    "print(\"CSV file saved as market_data.csv\")"
   ]
  },
  {
   "cell_type": "code",
   "execution_count": null,
   "metadata": {},
   "outputs": [],
   "source": []
  }
 ],
 "metadata": {
  "kernelspec": {
   "display_name": "base",
   "language": "python",
   "name": "python3"
  },
  "language_info": {
   "codemirror_mode": {
    "name": "ipython",
    "version": 3
   },
   "file_extension": ".py",
   "mimetype": "text/x-python",
   "name": "python",
   "nbconvert_exporter": "python",
   "pygments_lexer": "ipython3",
   "version": "3.12.7"
  }
 },
 "nbformat": 4,
 "nbformat_minor": 2
}
