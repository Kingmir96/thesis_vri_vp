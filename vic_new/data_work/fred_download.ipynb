{
 "cells": [
  {
   "cell_type": "code",
   "execution_count": 2,
   "metadata": {},
   "outputs": [
    {
     "name": "stdout",
     "output_type": "stream",
     "text": [
      "CSV file saved as market_data.csv\n"
     ]
    }
   ],
   "source": [
    "import pandas_datareader.data as web\n",
    "import datetime\n",
    "import numpy as np\n",
    "import pandas as pd\n",
    "\n",
    "# Define date range\n",
    "start = datetime.datetime(2002, 5, 28)\n",
    "end = datetime.datetime(2025, 4, 9)\n",
    "\n",
    "# Fetch data\n",
    "vix = web.DataReader('VIXCLS', 'fred', start, end)\n",
    "two_year_yield = web.DataReader('DGS2', 'fred', start, end)\n",
    "ten_minus_two = web.DataReader('T10Y2Y', 'fred', start, end)\n",
    "\n",
    "# Rename columns\n",
    "vix.rename(columns={\"VIXCLS\": \"VIX\"}, inplace=True)\n",
    "two_year_yield.rename(columns={\"DGS2\": \"2Y_Yield\"}, inplace=True)\n",
    "ten_minus_two.rename(columns={\"T10Y2Y\": \"10Y-2Y_Spread\"}, inplace=True)\n",
    "\n",
    "# Merge data into single DataFrame\n",
    "data = vix.join([two_year_yield, ten_minus_two])\n",
    "\n",
    "# Replace zeros with NaN\n",
    "data.replace(0, np.nan, inplace=True)\n",
    "\n",
    "# Interpolate missing data linearly\n",
    "data.interpolate(method='linear', inplace=True)\n",
    "\n",
    "# Forward/backward fill any remaining NaNs\n",
    "data.ffill(inplace=True)\n",
    "data.bfill(inplace=True)\n",
    "\n",
    "# Convert yields from percentage to decimal\n",
    "data['2Y_Yield'] = data['2Y_Yield'] / 100\n",
    "data['10Y-2Y_Spread'] = data['10Y-2Y_Spread'] / 100\n",
    "\n",
    "# Export to CSV\n",
    "data.to_csv(\"new_market_data.csv\")\n",
    "\n",
    "print(\"CSV file saved as market_data.csv\")\n"
   ]
  },
  {
   "cell_type": "code",
   "execution_count": null,
   "metadata": {},
   "outputs": [],
   "source": []
  }
 ],
 "metadata": {
  "kernelspec": {
   "display_name": "base",
   "language": "python",
   "name": "python3"
  },
  "language_info": {
   "codemirror_mode": {
    "name": "ipython",
    "version": 3
   },
   "file_extension": ".py",
   "mimetype": "text/x-python",
   "name": "python",
   "nbconvert_exporter": "python",
   "pygments_lexer": "ipython3",
   "version": "3.12.3"
  }
 },
 "nbformat": 4,
 "nbformat_minor": 2
}
