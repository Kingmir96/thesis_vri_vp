{
 "cells": [
  {
   "cell_type": "code",
   "execution_count": 1,
   "metadata": {},
   "outputs": [],
   "source": [
    "import pandas_datareader.data as web\n",
    "import datetime\n",
    "import numpy as np\n",
    "import pandas as pd"
   ]
  },
  {
   "cell_type": "code",
   "execution_count": null,
   "metadata": {},
   "outputs": [
    {
     "name": "stdout",
     "output_type": "stream",
     "text": [
      "CSV file saved as market_data.csv\n"
     ]
    }
   ],
   "source": [
    "# Define date range\n",
    "start = datetime.datetime(2002, 5, 28)\n",
    "end = datetime.datetime(2025, 4, 9)\n",
    "\n",
    "# Fetch data\n",
    "vix = web.DataReader('VIXCLS', 'fred', start, end)\n",
    "two_year_yield = web.DataReader('DGS2', 'fred', start, end)\n",
    "ten_minus_two = web.DataReader('T10Y2Y', 'fred', start, end)\n",
    "\n",
    "# Rename columns\n",
    "vix.rename(columns={\"VIXCLS\": \"VIX\"}, inplace=True)\n",
    "two_year_yield.rename(columns={\"DGS2\": \"2Y_Yield\"}, inplace=True)\n",
    "ten_minus_two.rename(columns={\"T10Y2Y\": \"10Y-2Y_Spread\"}, inplace=True)\n",
    "\n",
    "# Merge data into single DataFrame\n",
    "data = vix.join([two_year_yield, ten_minus_two])\n",
    "\n",
    "# Replace zeros with NaN\n",
    "data.replace(0, np.nan, inplace=True)\n",
    "\n",
    "# Interpolate missing data linearly\n",
    "data.interpolate(method='linear', inplace=True)\n",
    "\n",
    "# Forward/backward fill any remaining NaNs\n",
    "data.ffill(inplace=True)\n",
    "data.bfill(inplace=True)\n",
    "\n",
    "# Convert yields from percentage to decimal\n",
    "data['2Y_Yield'] = data['2Y_Yield'] / 100\n",
    "data['10Y-2Y_Spread'] = data['10Y-2Y_Spread'] / 100\n",
    "\n",
    "# Export to CSV\n",
    "data.to_csv(\"new_market_data.csv\")\n",
    "\n",
    "print(\"CSV file saved as market_data.csv\")\n"
   ]
  },
  {
   "cell_type": "code",
   "execution_count": 6,
   "metadata": {},
   "outputs": [
    {
     "name": "stdout",
     "output_type": "stream",
     "text": [
      "            DTB3  daily_return\n",
      "DATE                          \n",
      "2025-04-08  4.19      0.000163\n",
      "2025-04-09  4.24      0.000165\n",
      "2025-04-10  4.22      0.000164\n",
      "2025-04-11  4.23      0.000164\n",
      "2025-04-14  4.22      0.000164\n"
     ]
    }
   ],
   "source": [
    "# Define the start and end dates\n",
    "start = datetime.datetime(2013, 1, 1)\n",
    "end = datetime.datetime.today()\n",
    "\n",
    "# Download the daily U.S. 3-month T-bill rate from FRED (ticker: DTB3)\n",
    "data = web.DataReader('DTB3', 'fred', start, end)\n",
    "\n",
    "# The DTB3 data is the annualized yield in percentage.\n",
    "# Convert to daily return using compounding: (1 + annual_rate/100)^(1/252) - 1\n",
    "data['daily_return'] = (1 + data['DTB3']/100) ** (1/252) - 1\n",
    "\n",
    "# Display the last few records\n",
    "print(data.tail())"
   ]
  },
  {
   "cell_type": "code",
   "execution_count": 10,
   "metadata": {},
   "outputs": [
    {
     "name": "stdout",
     "output_type": "stream",
     "text": [
      "CSV file saved as 2trading_etf_returns_aligned.csv\n"
     ]
    }
   ],
   "source": [
    "import pandas as pd\n",
    "import numpy as np\n",
    "import datetime\n",
    "from pandas_datareader import data as web\n",
    "\n",
    "# Define the start and end dates\n",
    "start = datetime.datetime(2013, 1, 1)\n",
    "end = datetime.datetime.today()\n",
    "\n",
    "# Download the daily U.S. 3-month T-bill rate from FRED\n",
    "data = web.DataReader('DTB3', 'fred', start, end)\n",
    "\n",
    "# Convert annual rate to daily return\n",
    "data['daily_return'] = (1 + data['DTB3']/100) ** (1/252) - 1\n",
    "\n",
    "# Reindex to full daily calendar (including weekends)\n",
    "full_index = pd.date_range(start=start, end=end, freq='D')\n",
    "data = data.reindex(full_index)\n",
    "\n",
    "# Linearly interpolate missing values\n",
    "data['DTB3'] = data['DTB3'].interpolate(method='linear')\n",
    "data['daily_return'] = (1 + data['DTB3']/100) ** (1/252) - 1\n",
    "\n",
    "# Load ETF returns\n",
    "etf_returns = pd.read_csv('1trading_etf_returns_aligned.csv', parse_dates=['date'])\n",
    "etf_returns.set_index('date', inplace=True)\n",
    "\n",
    "# Align and merge 'rf' from interpolated daily_return\n",
    "etf_returns['rf'] = data['daily_return'].reindex(etf_returns.index)\n",
    "\n",
    "# Export to CSV\n",
    "etf_returns.to_csv(\"2trading_etf_returns_aligned.csv\")\n",
    "\n",
    "print(\"CSV file saved as 2trading_etf_returns_aligned.csv\")\n",
    "\n",
    "\n"
   ]
  },
  {
   "cell_type": "code",
   "execution_count": null,
   "metadata": {},
   "outputs": [],
   "source": []
  }
 ],
 "metadata": {
  "kernelspec": {
   "display_name": "base",
   "language": "python",
   "name": "python3"
  },
  "language_info": {
   "codemirror_mode": {
    "name": "ipython",
    "version": 3
   },
   "file_extension": ".py",
   "mimetype": "text/x-python",
   "name": "python",
   "nbconvert_exporter": "python",
   "pygments_lexer": "ipython3",
   "version": "3.12.3"
  }
 },
 "nbformat": 4,
 "nbformat_minor": 2
}
