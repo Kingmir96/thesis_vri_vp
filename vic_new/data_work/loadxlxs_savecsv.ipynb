{
 "cells": [
  {
   "cell_type": "code",
   "execution_count": 1,
   "id": "53e5434a",
   "metadata": {},
   "outputs": [],
   "source": [
    "import pandas as pd"
   ]
  },
  {
   "cell_type": "code",
   "execution_count": 2,
   "id": "be6cfbb0-ade0-4ef8-8586-d901f4194414",
   "metadata": {},
   "outputs": [],
   "source": [
    "def convert_excel_to_csv(excel_path, csv_path):\n",
    "    # Load the Excel file (default engine works for .xlsx)\n",
    "    df = pd.read_excel(excel_path)\n",
    "    # Save the DataFrame to CSV without the index column\n",
    "    df.to_csv(csv_path, index=False)\n",
    "\n",
    "# Example usage:\n",
    "excel_file = \"estimation_index_returns.xlsx\"\n",
    "csv_file = \"estimation_index_returns.csv\"\n",
    "convert_excel_to_csv(excel_file, csv_file)\n"
   ]
  },
  {
   "cell_type": "code",
   "execution_count": 2,
   "id": "cfade478",
   "metadata": {},
   "outputs": [],
   "source": [
    "def convert_excel_to_csv(excel_path, csv_path):\n",
    "    # Load the Excel file (default engine works for .xlsx)\n",
    "    df = pd.read_excel(excel_path)\n",
    "    # Save the DataFrame to CSV without the index column\n",
    "    df.to_csv(csv_path, index=False)\n",
    "\n",
    "# Example usage:\n",
    "excel_file = \"trading_etf_returns_aligned.xlsx\"\n",
    "csv_file = \"trading_etf_returns_aligned.csv\"\n",
    "convert_excel_to_csv(excel_file, csv_file)\n"
   ]
  },
  {
   "cell_type": "code",
   "execution_count": null,
   "id": "95d869ef",
   "metadata": {},
   "outputs": [],
   "source": []
  }
 ],
 "metadata": {
  "kernelspec": {
   "display_name": "base",
   "language": "python",
   "name": "python3"
  },
  "language_info": {
   "codemirror_mode": {
    "name": "ipython",
    "version": 3
   },
   "file_extension": ".py",
   "mimetype": "text/x-python",
   "name": "python",
   "nbconvert_exporter": "python",
   "pygments_lexer": "ipython3",
   "version": "3.12.3"
  }
 },
 "nbformat": 4,
 "nbformat_minor": 5
}
