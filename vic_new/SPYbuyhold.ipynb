{
 "cells": [
  {
   "cell_type": "code",
   "execution_count": 17,
   "id": "620a4639",
   "metadata": {},
   "outputs": [
    {
     "name": "stderr",
     "output_type": "stream",
     "text": [
      "[*********************100%***********************]  1 of 1 completed"
     ]
    },
    {
     "name": "stdout",
     "output_type": "stream",
     "text": [
      "Total Return: 1.8700\n",
      "Sharpe Ratio (2017-01-01 to 2025-04-03): 0.79\n"
     ]
    },
    {
     "name": "stderr",
     "output_type": "stream",
     "text": [
      "\n"
     ]
    }
   ],
   "source": [
    "import yfinance as yf\n",
    "import numpy as np\n",
    "\n",
    "# Download SPY data\n",
    "spy = yf.download(\"SPY\", start=\"2017-01-01\", end=\"2025-04-03\")\n",
    "\n",
    "# Use Close prices\n",
    "prices = spy['Close']\n",
    "\n",
    "# Calculate daily returns\n",
    "daily_returns = prices.pct_change()\n",
    "\n",
    "# Sharpe Ratio (0% risk-free rate, annualized)\n",
    "raw_sharpe = (daily_returns.mean() / daily_returns.std()) * np.sqrt(252)\n",
    "sharpe_ratio_scalar = raw_sharpe.item()  # or raw_sharpe.iloc[0]\n",
    "\n",
    "# Total return calculation\n",
    "total_return = (prices.iloc[-1] / prices.iloc[0]) - 1\n",
    "total_return_scalar = total_return.item()  # ensure it's a scalar\n",
    "\n",
    "print(f\"Total Return: {total_return_scalar:.4f}\")\n",
    "print(f\"Sharpe Ratio (2017-01-01 to 2025-04-03): {sharpe_ratio_scalar:.2f}\")\n"
   ]
  },
  {
   "cell_type": "code",
   "execution_count": null,
   "id": "3a86992a",
   "metadata": {},
   "outputs": [],
   "source": []
  }
 ],
 "metadata": {
  "kernelspec": {
   "display_name": "base",
   "language": "python",
   "name": "python3"
  },
  "language_info": {
   "codemirror_mode": {
    "name": "ipython",
    "version": 3
   },
   "file_extension": ".py",
   "mimetype": "text/x-python",
   "name": "python",
   "nbconvert_exporter": "python",
   "pygments_lexer": "ipython3",
   "version": "3.12.3"
  }
 },
 "nbformat": 4,
 "nbformat_minor": 5
}
