{
 "cells": [
  {
   "cell_type": "code",
   "execution_count": 3,
   "id": "654c1574",
   "metadata": {},
   "outputs": [
    {
     "name": "stdout",
     "output_type": "stream",
     "text": [
      "Dictionaries are identical from 2017 onward.\n"
     ]
    }
   ],
   "source": [
    "import pickle\n",
    "import pandas as pd\n",
    "\n",
    "# Load and filter function\n",
    "\n",
    "def load_and_filter(path, start_date):\n",
    "    \"\"\"\n",
    "    Load a pickle file and filter entries by date >= start_date.\n",
    "    Supports pandas.DataFrame (with 'date' column) or dict (keys as date strings).\n",
    "    Returns the filtered DataFrame or dict.\n",
    "    \"\"\"\n",
    "    obj = pickle.load(open(path, 'rb'))\n",
    "    # DataFrame case\n",
    "    if isinstance(obj, pd.DataFrame):\n",
    "        df = obj.copy()\n",
    "        if 'date' in df.columns:\n",
    "            df.set_index(pd.to_datetime(df['date']), inplace=True)\n",
    "        return df.loc[df.index >= start_date]\n",
    "    # Dictionary case\n",
    "    elif isinstance(obj, dict):\n",
    "        result = {}\n",
    "        for key, value in obj.items():\n",
    "            try:\n",
    "                ts = pd.to_datetime(key)\n",
    "            except Exception:\n",
    "                continue\n",
    "            if ts >= start_date:\n",
    "                result[key] = value\n",
    "        return result\n",
    "    else:\n",
    "        raise ValueError(f\"Unsupported object type: {type(obj)}\")\n",
    "\n",
    "# Comparison functions\n",
    "\n",
    "def compare_dataframes(df1, df2):\n",
    "    try:\n",
    "        pd.testing.assert_frame_equal(df1, df2)\n",
    "        print(\"DataFrames are identical from 2017 onward.\")\n",
    "    except AssertionError as err:\n",
    "        print(\"Differences in DataFrames from 2017 onward:\")\n",
    "        print(err)\n",
    "\n",
    "\n",
    "def compare_dicts(d1, d2):\n",
    "    keys1, keys2 = set(d1), set(d2)\n",
    "    only1 = keys1 - keys2\n",
    "    only2 = keys2 - keys1\n",
    "    common = keys1 & keys2\n",
    "    diffs = {k: (d1[k], d2[k]) for k in common if d1[k] != d2[k]}\n",
    "    if not only1 and not only2 and not diffs:\n",
    "        print(\"Dictionaries are identical from 2017 onward.\")\n",
    "    else:\n",
    "        print(\"Differences in dictionaries from 2017 onward:\")\n",
    "        if only1:\n",
    "            print(f\"Keys only in first file: {only1}\")\n",
    "        if only2:\n",
    "            print(f\"Keys only in second file: {only2}\")\n",
    "        if diffs:\n",
    "            print(\"Mismatched entries:\")\n",
    "            for k, (v1, v2) in diffs.items():\n",
    "                print(f\"  {k}: {v1} != {v2}\")\n",
    "\n",
    "# Main execution\n",
    "if __name__ == '__main__':\n",
    "    file1 = 'ro_views.pkl'\n",
    "    file2 = 'bayes_factor_views_v2_2014.pkl'\n",
    "    start_date = pd.Timestamp('2017-01-01')\n",
    "\n",
    "    ro_data = load_and_filter(file1, start_date)\n",
    "    bayes_data = load_and_filter(file2, start_date)\n",
    "\n",
    "    if isinstance(ro_data, pd.DataFrame) and isinstance(bayes_data, pd.DataFrame):\n",
    "        compare_dataframes(ro_data, bayes_data)\n",
    "    elif isinstance(ro_data, dict) and isinstance(bayes_data, dict):\n",
    "        compare_dicts(ro_data, bayes_data)\n",
    "    else:\n",
    "        raise ValueError(f\"Mismatched types: {type(ro_data)}, {type(bayes_data)}\")\n"
   ]
  },
  {
   "cell_type": "code",
   "execution_count": null,
   "id": "8f4d4e79",
   "metadata": {},
   "outputs": [],
   "source": []
  }
 ],
 "metadata": {
  "kernelspec": {
   "display_name": "base",
   "language": "python",
   "name": "python3"
  },
  "language_info": {
   "codemirror_mode": {
    "name": "ipython",
    "version": 3
   },
   "file_extension": ".py",
   "mimetype": "text/x-python",
   "name": "python",
   "nbconvert_exporter": "python",
   "pygments_lexer": "ipython3",
   "version": "3.12.2"
  }
 },
 "nbformat": 4,
 "nbformat_minor": 5
}
