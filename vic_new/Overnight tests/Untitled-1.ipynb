{
 "cells": [
  {
   "cell_type": "code",
   "execution_count": 1,
   "id": "bc0bb6ec",
   "metadata": {},
   "outputs": [
    {
     "name": "stdout",
     "output_type": "stream",
     "text": [
      "Factors: ['iwf', 'mtum', 'qual', 'size', 'usmv', 'vlue']\n",
      "\n",
      "Sample data for 'iwf':\n",
      "           state  ann_abs_ret\n",
      "2017-02-01     0     0.139732\n",
      "2017-02-02     0     0.139732\n",
      "2017-02-03     0     0.139732\n",
      "2017-02-06     0     0.139732\n",
      "2017-02-07     0     0.139732\n"
     ]
    }
   ],
   "source": [
    "import pickle\n",
    "import pandas as pd\n",
    "\n",
    "# Path to your pickle file\n",
    "VIEWS_FILE = \"factor_views.pkl\"\n",
    "\n",
    "# Load the factor views\n",
    "with open(VIEWS_FILE, \"rb\") as f:\n",
    "    factor_views = pickle.load(f)\n",
    "\n",
    "# Print keys (factor names)\n",
    "print(\"Factors:\", list(factor_views.keys()))\n",
    "\n",
    "# Print sample from one factor\n",
    "sample_factor = list(factor_views.keys())[0]\n",
    "print(f\"\\nSample data for '{sample_factor}':\")\n",
    "print(factor_views[sample_factor].head())\n"
   ]
  },
  {
   "cell_type": "code",
   "execution_count": 2,
   "id": "d56d478b",
   "metadata": {},
   "outputs": [
    {
     "data": {
      "text/plain": [
       "{'iwf':            state  ann_abs_ret\n",
       " 2017-02-01     0     0.139732\n",
       " 2017-02-02     0     0.139732\n",
       " 2017-02-03     0     0.139732\n",
       " 2017-02-06     0     0.139732\n",
       " 2017-02-07     0     0.139732\n",
       " ...          ...          ...\n",
       " 2025-03-28     1    -0.241560\n",
       " 2025-03-31     1    -0.241560\n",
       " 2025-04-01     1    -0.282981\n",
       " 2025-04-02     1    -0.282981\n",
       " 2025-04-03     1    -0.282981\n",
       " \n",
       " [2056 rows x 2 columns],\n",
       " 'mtum':            state  ann_abs_ret\n",
       " 2017-02-01     0     0.177390\n",
       " 2017-02-02     0     0.177390\n",
       " 2017-02-03     0     0.177390\n",
       " 2017-02-06     0     0.177390\n",
       " 2017-02-07     0     0.177390\n",
       " ...          ...          ...\n",
       " 2025-03-28     1    -0.150756\n",
       " 2025-03-31     1    -0.150756\n",
       " 2025-04-01     1    -0.124154\n",
       " 2025-04-02     1    -0.124154\n",
       " 2025-04-03     1    -0.124154\n",
       " \n",
       " [2056 rows x 2 columns],\n",
       " 'qual':            state  ann_abs_ret\n",
       " 2017-02-01     1     0.149712\n",
       " 2017-02-02     1     0.149712\n",
       " 2017-02-03     1     0.149712\n",
       " 2017-02-06     1     0.149712\n",
       " 2017-02-07     1     0.149712\n",
       " ...          ...          ...\n",
       " 2025-03-28     0    -0.275256\n",
       " 2025-03-31     0    -0.275256\n",
       " 2025-04-01     0    -0.286314\n",
       " 2025-04-02     0    -0.286314\n",
       " 2025-04-03     0    -0.286314\n",
       " \n",
       " [2056 rows x 2 columns],\n",
       " 'size':            state  ann_abs_ret\n",
       " 2017-02-01     0     0.272136\n",
       " 2017-02-02     0     0.272136\n",
       " 2017-02-03     0     0.272136\n",
       " 2017-02-06     0     0.272136\n",
       " 2017-02-07     0     0.272136\n",
       " ...          ...          ...\n",
       " 2025-03-28     1     0.034285\n",
       " 2025-03-31     1     0.034285\n",
       " 2025-04-01     1     0.082341\n",
       " 2025-04-02     1     0.082341\n",
       " 2025-04-03     1     0.082341\n",
       " \n",
       " [2056 rows x 2 columns],\n",
       " 'usmv':            state  ann_abs_ret\n",
       " 2017-02-01     1     0.179697\n",
       " 2017-02-02     1     0.179697\n",
       " 2017-02-03     1     0.179697\n",
       " 2017-02-06     1     0.179697\n",
       " 2017-02-07     1     0.179697\n",
       " ...          ...          ...\n",
       " 2025-03-28     1     0.116965\n",
       " 2025-03-31     1     0.116965\n",
       " 2025-04-01     1     0.176557\n",
       " 2025-04-02     1     0.176557\n",
       " 2025-04-03     1     0.176557\n",
       " \n",
       " [2056 rows x 2 columns],\n",
       " 'vlue':            state  ann_abs_ret\n",
       " 2017-02-01     0     0.249391\n",
       " 2017-02-02     0     0.249391\n",
       " 2017-02-03     0     0.249391\n",
       " 2017-02-06     0     0.249391\n",
       " 2017-02-07     0     0.249391\n",
       " ...          ...          ...\n",
       " 2025-03-28     1     0.092923\n",
       " 2025-03-31     1     0.092923\n",
       " 2025-04-01     1     0.086295\n",
       " 2025-04-02     1     0.086295\n",
       " 2025-04-03     1     0.086295\n",
       " \n",
       " [2056 rows x 2 columns]}"
      ]
     },
     "execution_count": 2,
     "metadata": {},
     "output_type": "execute_result"
    }
   ],
   "source": [
    "factor_views"
   ]
  },
  {
   "cell_type": "code",
   "execution_count": null,
   "id": "39bee4fc",
   "metadata": {},
   "outputs": [],
   "source": []
  }
 ],
 "metadata": {
  "kernelspec": {
   "display_name": "base",
   "language": "python",
   "name": "python3"
  },
  "language_info": {
   "codemirror_mode": {
    "name": "ipython",
    "version": 3
   },
   "file_extension": ".py",
   "mimetype": "text/x-python",
   "name": "python",
   "nbconvert_exporter": "python",
   "pygments_lexer": "ipython3",
   "version": "3.12.2"
  }
 },
 "nbformat": 4,
 "nbformat_minor": 5
}
