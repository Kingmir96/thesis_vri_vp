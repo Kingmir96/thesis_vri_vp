{
 "cells": [
  {
   "cell_type": "code",
   "execution_count": 1,
   "id": "bc0bb6ec",
   "metadata": {},
   "outputs": [
    {
     "name": "stdout",
     "output_type": "stream",
     "text": [
      "Factors: ['iwf', 'mtum', 'qual', 'size', 'usmv', 'vlue']\n",
      "\n",
      "Sample data for 'iwf':\n",
      "           state  ann_abs_ret\n",
      "2017-02-01     0     0.139732\n",
      "2017-02-02     0     0.139732\n",
      "2017-02-03     0     0.139732\n",
      "2017-02-06     0     0.139732\n",
      "2017-02-07     0     0.139732\n"
     ]
    }
   ],
   "source": [
    "import pickle\n",
    "import pandas as pd\n",
    "\n",
    "# Path to your pickle file\n",
    "VIEWS_FILE = \"factor_views.pkl\"\n",
    "\n",
    "# Load the factor views\n",
    "with open(VIEWS_FILE, \"rb\") as f:\n",
    "    factor_views = pickle.load(f)\n",
    "\n",
    "# Print keys (factor names)\n",
    "print(\"Factors:\", list(factor_views.keys()))\n",
    "\n",
    "# Print sample from one factor\n",
    "sample_factor = list(factor_views.keys())[0]\n",
    "print(f\"\\nSample data for '{sample_factor}':\")\n",
    "print(factor_views[sample_factor].head())\n"
   ]
  },
  {
   "cell_type": "code",
   "execution_count": null,
   "id": "d56d478b",
   "metadata": {},
   "outputs": [],
   "source": []
  }
 ],
 "metadata": {
  "kernelspec": {
   "display_name": "base",
   "language": "python",
   "name": "python3"
  },
  "language_info": {
   "codemirror_mode": {
    "name": "ipython",
    "version": 3
   },
   "file_extension": ".py",
   "mimetype": "text/x-python",
   "name": "python",
   "nbconvert_exporter": "python",
   "pygments_lexer": "ipython3",
   "version": "3.12.2"
  }
 },
 "nbformat": 4,
 "nbformat_minor": 5
}
