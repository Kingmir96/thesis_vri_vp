{
 "cells": [
  {
   "cell_type": "code",
   "execution_count": 4,
   "metadata": {},
   "outputs": [],
   "source": [
    "#load packages\n",
    "import numpy as np\n",
    "import pandas as pd\n",
    "import dtale\n",
    "from hmmlearn import hmm\n",
    "from sklearn.metrics import balanced_accuracy_score, confusion_matrix\n",
    "from scipy.optimize import linear_sum_assignment\n",
    "from jumpmodels.sparse_jump import SparseJumpModel    # Sparse JM class\n",
    "from jumpmodels.jump import JumpModel                 # JM class"
   ]
  },
  {
   "cell_type": "code",
   "execution_count": 6,
   "metadata": {},
   "outputs": [
    {
     "name": "stdout",
     "output_type": "stream",
     "text": [
      "      Feature_1  Feature_2  Feature_3  Feature_4  Feature_5  Feature_6  Feature_7  Feature_8  Feature_9  Feature_10  ...  Feature_42  Feature_43  Feature_44  Feature_45  Feature_46  Feature_47  Feature_48  Feature_49  Feature_50  State\n",
      "Time                                                                                                                 ...                                                                                                                   \n",
      "0     -0.827144  -1.379214  -0.438970  -3.135831  -0.767627  -0.971874  -2.370340   1.175598  -2.387413   -2.077520  ...   -1.312379    0.398908    1.669743    1.065854    0.897108   -0.011932    0.913627   -0.935753    0.690793      0\n",
      "1     -1.087248   0.130906  -0.533989  -2.089880  -0.872007   0.218221  -2.129234  -1.559140  -1.768673   -2.495646  ...    0.974836   -0.701287   -2.469362   -0.933327    0.149726   -2.896892   -0.353552   -0.337576   -1.395112      0\n",
      "2     -2.482503  -1.462462  -1.547100   0.259919  -0.625137  -2.580855  -1.854651  -0.294858   0.895977   -0.613501  ...   -0.605784   -0.211195   -0.102583    0.861220    0.374543    0.631907    0.826715    0.297481    1.335167      0\n",
      "3     -1.728959  -2.436121  -2.776872  -2.621010  -1.550516   0.030047  -0.825833  -1.598547  -2.069856   -1.528886  ...    0.854596   -1.276739   -0.964848    0.287829   -3.134546   -1.588989    0.402678   -0.119277    0.383919      0\n",
      "4     -1.309761  -0.436001  -1.730844  -2.371960  -2.694795  -1.551710  -1.548941  -1.629377  -4.548805   -2.998604  ...    0.841313    0.681279   -0.634160    0.964688   -1.256839    0.202801   -0.234686   -0.151937   -0.695436      0\n",
      "\n",
      "[5 rows x 51 columns]\n",
      "State\n",
      "0    363\n",
      "1    137\n",
      "Name: count, dtype: int64\n"
     ]
    }
   ],
   "source": [
    "\n",
    "def simulate_data_correlated(T, P, mu, random_state=None):\n",
    "    \"\"\"\n",
    "    Simulate data from a 2-state Gaussian HMM with correlated noise features.\n",
    "    \n",
    "    Parameters:\n",
    "        T (int): Number of observations.\n",
    "        P (int): Total number of features. The first 15 features are informative,\n",
    "                 the remaining (if any) are noise.\n",
    "        mu (float): Signal magnitude for informative features.\n",
    "        random_state (int or None): Seed for reproducibility.\n",
    "        \n",
    "    Returns:\n",
    "        X (ndarray): Simulated observations (T x P).\n",
    "        states (ndarray): True state sequence (length T).\n",
    "    \"\"\"\n",
    "    rng = np.random.default_rng(random_state)\n",
    "    \n",
    "    # Transition matrix for 2-state HMM with high persistence.\n",
    "    transmat = np.array([[0.9979, 0.0021],\n",
    "                         [0.0120, 0.9880]])\n",
    "    \n",
    "    # Compute stationary distribution\n",
    "    eigvals, eigvecs = np.linalg.eig(transmat.T)\n",
    "    stat = np.real(eigvecs[:, np.isclose(eigvals, 1)])\n",
    "    stat = stat[:, 0]\n",
    "    stat = stat / np.sum(stat)\n",
    "    \n",
    "    # Generate state sequence\n",
    "    states = np.zeros(T, dtype=int)\n",
    "    states[0] = rng.choice(np.arange(2), p=stat)\n",
    "    for t in range(1, T):\n",
    "        states[t] = rng.choice(np.arange(2), p=transmat[states[t-1]])\n",
    "    \n",
    "    # Define means for each state\n",
    "    means = np.zeros((2, P))\n",
    "    if P >= 15:\n",
    "        means[0, :15] = -mu\n",
    "        means[1, :15] = mu\n",
    "    else:\n",
    "        means[0, :P] = -mu\n",
    "        means[1, :P] = mu\n",
    "\n",
    "    # Handle correlated noise for features beyond the first 15\n",
    "    informative = 15\n",
    "    if P > informative:\n",
    "        num_noise = P - informative\n",
    "        # Covariance: 1 on diag, 0.1 off-diagonal\n",
    "        sigma = np.full((num_noise, num_noise), 0.1)\n",
    "        np.fill_diagonal(sigma, 1.0)\n",
    "        C = np.linalg.cholesky(sigma)\n",
    "    else:\n",
    "        C = None\n",
    "    \n",
    "    # Generate observations\n",
    "    X = np.zeros((T, P))\n",
    "    for t in range(T):\n",
    "        # Informative features\n",
    "        X[t, :min(P, informative)] = rng.normal(\n",
    "            loc=means[states[t], :min(P, informative)],\n",
    "            scale=1.0,\n",
    "            size=min(P, informative)\n",
    "        )\n",
    "        # Correlated noise if P > 15\n",
    "        if P > informative:\n",
    "            noise_indep = rng.normal(loc=0.0, scale=1.0, size=num_noise)\n",
    "            noise_corr = C @ noise_indep\n",
    "            X[t, informative:] = noise_corr\n",
    "            \n",
    "    return X, states\n",
    "\n",
    "# Simulate data\n",
    "T = 500  \n",
    "P = 50\n",
    "mu = 1.0\n",
    "X, states = simulate_data_correlated(T, P, mu, random_state=1)\n",
    "\n",
    "# Create a DataFrame\n",
    "df_simulated = pd.DataFrame(X, columns=[f'Feature_{i+1}' for i in range(P)])\n",
    "df_simulated['State'] = states\n",
    "df_simulated.index.name = 'Time'\n",
    "\n",
    "print(df_simulated.head())\n",
    "print(df_simulated['State'].value_counts())\n"
   ]
  },
  {
   "cell_type": "markdown",
   "metadata": {},
   "source": [
    "\n",
    "\n",
    "## Align Labels Function\n",
    "\n",
    "This function aligns predicted labels with true labels using the Hungarian algorithm.\n",
    "\n"
   ]
  },
  {
   "cell_type": "code",
   "execution_count": 7,
   "metadata": {},
   "outputs": [],
   "source": [
    "def align_labels(true_labels, pred_labels):\n",
    "    \"\"\"\n",
    "    Align predicted labels with true labels using the Hungarian algorithm.\n",
    "    \n",
    "    Returns:\n",
    "        aligned (ndarray): Predicted labels after optimal permutation.\n",
    "    \"\"\"\n",
    "    D = confusion_matrix(true_labels, pred_labels)\n",
    "    row_ind, col_ind = linear_sum_assignment(-D)\n",
    "    mapping = {col: row for row, col in zip(row_ind, col_ind)}\n",
    "    aligned = np.array([mapping[x] for x in pred_labels])\n",
    "    return aligned"
   ]
  },
  {
   "cell_type": "markdown",
   "metadata": {},
   "source": [
    "\n",
    "\n",
    "## Run HMM Function\n",
    "\n",
    "This function fits a Gaussian HMM to the data using `hmmlearn`.\n",
    "\n"
   ]
  },
  {
   "cell_type": "code",
   "execution_count": 8,
   "metadata": {},
   "outputs": [],
   "source": [
    "def run_hmm(X, n_components=2, random_state=None):\n",
    "    \"\"\"\n",
    "    Fit a Gaussian HMM to the data X using hmmlearn.\n",
    "    \n",
    "    Parameters:\n",
    "        X (ndarray): Observations (T x P).\n",
    "        n_components (int): Number of hidden states.\n",
    "        random_state (int or None): Seed for reproducibility.\n",
    "        \n",
    "    Returns:\n",
    "        pred_states (ndarray): Inferred state sequence.\n",
    "    \"\"\"\n",
    "    # Let the HMM initialize all parameters by itself (i.e., start probabilities, transition matrix, means, covariances)\n",
    "    model = hmm.GaussianHMM(n_components=n_components, covariance_type='diag',\n",
    "                            n_iter=100, random_state=random_state)\n",
    "    model.fit(X)\n",
    "    pred_states = model.predict(X)\n",
    "    return pred_states\n",
    "\n",
    "# Example usage:\n",
    "pred_states = run_hmm(X, random_state=42)"
   ]
  },
  {
   "cell_type": "markdown",
   "metadata": {},
   "source": [
    "\n",
    "\n",
    "## Calculate Balanced Accuracy Function\n",
    "\n",
    "This function computes the Balanced Accuracy (BAC) after aligning the predicted state labels.\n",
    "\n"
   ]
  },
  {
   "cell_type": "code",
   "execution_count": 9,
   "metadata": {},
   "outputs": [],
   "source": [
    "def calculate_bac(true_states, pred_states):\n",
    "    \"\"\"\n",
    "    Compute the Balanced Accuracy (BAC) after aligning the predicted state labels.\n",
    "    \"\"\"\n",
    "    aligned_pred = align_labels(true_states, pred_states)\n",
    "    bac = balanced_accuracy_score(true_states, aligned_pred)\n",
    "    return bac"
   ]
  },
  {
   "cell_type": "markdown",
   "metadata": {},
   "source": [
    "\n",
    "\n",
    "## Main Execution\n",
    "\n",
    "This section runs the simulation, fits the HMM, and calculates the BAC for different numbers of features.\n",
    "\n"
   ]
  },
  {
   "cell_type": "code",
   "execution_count": null,
   "metadata": {},
   "outputs": [
    {
     "name": "stderr",
     "output_type": "stream",
     "text": [
      "/Users/vlad/Desktop/git/anaconda3/lib/python3.12/site-packages/sklearn/metrics/_classification.py:2480: UserWarning:\n",
      "\n",
      "y_pred contains classes not in y_true\n",
      "\n",
      "/Users/vlad/Desktop/git/anaconda3/lib/python3.12/site-packages/sklearn/metrics/_classification.py:409: UserWarning:\n",
      "\n",
      "A single label was found in 'y_true' and 'y_pred'. For the confusion matrix to have the correct shape, use the 'labels' parameter to pass all known labels.\n",
      "\n",
      "/Users/vlad/Desktop/git/anaconda3/lib/python3.12/site-packages/sklearn/metrics/_classification.py:409: UserWarning:\n",
      "\n",
      "A single label was found in 'y_true' and 'y_pred'. For the confusion matrix to have the correct shape, use the 'labels' parameter to pass all known labels.\n",
      "\n",
      "/Users/vlad/Desktop/git/anaconda3/lib/python3.12/site-packages/sklearn/metrics/_classification.py:409: UserWarning:\n",
      "\n",
      "A single label was found in 'y_true' and 'y_pred'. For the confusion matrix to have the correct shape, use the 'labels' parameter to pass all known labels.\n",
      "\n",
      "/Users/vlad/Desktop/git/anaconda3/lib/python3.12/site-packages/sklearn/metrics/_classification.py:409: UserWarning:\n",
      "\n",
      "A single label was found in 'y_true' and 'y_pred'. For the confusion matrix to have the correct shape, use the 'labels' parameter to pass all known labels.\n",
      "\n"
     ]
    },
    {
     "name": "stdout",
     "output_type": "stream",
     "text": [
      "mu = 0.125, P = 15, HMM BAC = 0.594, Normal Jump BAC = 0.598, Sparse Jump BAC = 0.687\n"
     ]
    },
    {
     "name": "stderr",
     "output_type": "stream",
     "text": [
      "/Users/vlad/Desktop/git/anaconda3/lib/python3.12/site-packages/sklearn/metrics/_classification.py:2480: UserWarning:\n",
      "\n",
      "y_pred contains classes not in y_true\n",
      "\n",
      "/Users/vlad/Desktop/git/anaconda3/lib/python3.12/site-packages/sklearn/metrics/_classification.py:409: UserWarning:\n",
      "\n",
      "A single label was found in 'y_true' and 'y_pred'. For the confusion matrix to have the correct shape, use the 'labels' parameter to pass all known labels.\n",
      "\n",
      "/Users/vlad/Desktop/git/anaconda3/lib/python3.12/site-packages/sklearn/metrics/_classification.py:409: UserWarning:\n",
      "\n",
      "A single label was found in 'y_true' and 'y_pred'. For the confusion matrix to have the correct shape, use the 'labels' parameter to pass all known labels.\n",
      "\n",
      "/Users/vlad/Desktop/git/anaconda3/lib/python3.12/site-packages/sklearn/metrics/_classification.py:409: UserWarning:\n",
      "\n",
      "A single label was found in 'y_true' and 'y_pred'. For the confusion matrix to have the correct shape, use the 'labels' parameter to pass all known labels.\n",
      "\n",
      "/Users/vlad/Desktop/git/anaconda3/lib/python3.12/site-packages/sklearn/metrics/_classification.py:409: UserWarning:\n",
      "\n",
      "A single label was found in 'y_true' and 'y_pred'. For the confusion matrix to have the correct shape, use the 'labels' parameter to pass all known labels.\n",
      "\n"
     ]
    },
    {
     "name": "stdout",
     "output_type": "stream",
     "text": [
      "mu = 0.125, P = 30, HMM BAC = 0.512, Normal Jump BAC = 0.622, Sparse Jump BAC = 0.638\n"
     ]
    },
    {
     "name": "stderr",
     "output_type": "stream",
     "text": [
      "/Users/vlad/Desktop/git/anaconda3/lib/python3.12/site-packages/sklearn/metrics/_classification.py:2480: UserWarning:\n",
      "\n",
      "y_pred contains classes not in y_true\n",
      "\n",
      "/Users/vlad/Desktop/git/anaconda3/lib/python3.12/site-packages/sklearn/metrics/_classification.py:409: UserWarning:\n",
      "\n",
      "A single label was found in 'y_true' and 'y_pred'. For the confusion matrix to have the correct shape, use the 'labels' parameter to pass all known labels.\n",
      "\n",
      "/Users/vlad/Desktop/git/anaconda3/lib/python3.12/site-packages/sklearn/metrics/_classification.py:409: UserWarning:\n",
      "\n",
      "A single label was found in 'y_true' and 'y_pred'. For the confusion matrix to have the correct shape, use the 'labels' parameter to pass all known labels.\n",
      "\n",
      "/Users/vlad/Desktop/git/anaconda3/lib/python3.12/site-packages/sklearn/metrics/_classification.py:409: UserWarning:\n",
      "\n",
      "A single label was found in 'y_true' and 'y_pred'. For the confusion matrix to have the correct shape, use the 'labels' parameter to pass all known labels.\n",
      "\n",
      "/Users/vlad/Desktop/git/anaconda3/lib/python3.12/site-packages/sklearn/metrics/_classification.py:409: UserWarning:\n",
      "\n",
      "A single label was found in 'y_true' and 'y_pred'. For the confusion matrix to have the correct shape, use the 'labels' parameter to pass all known labels.\n",
      "\n"
     ]
    },
    {
     "name": "stdout",
     "output_type": "stream",
     "text": [
      "mu = 0.125, P = 60, HMM BAC = 0.524, Normal Jump BAC = 0.700, Sparse Jump BAC = 0.680\n"
     ]
    },
    {
     "name": "stderr",
     "output_type": "stream",
     "text": [
      "/Users/vlad/Desktop/git/anaconda3/lib/python3.12/site-packages/sklearn/metrics/_classification.py:2480: UserWarning:\n",
      "\n",
      "y_pred contains classes not in y_true\n",
      "\n",
      "/Users/vlad/Desktop/git/anaconda3/lib/python3.12/site-packages/sklearn/metrics/_classification.py:2480: UserWarning:\n",
      "\n",
      "y_pred contains classes not in y_true\n",
      "\n",
      "/Users/vlad/Desktop/git/anaconda3/lib/python3.12/site-packages/sklearn/metrics/_classification.py:2480: UserWarning:\n",
      "\n",
      "y_pred contains classes not in y_true\n",
      "\n"
     ]
    },
    {
     "name": "stdout",
     "output_type": "stream",
     "text": [
      "mu = 0.125, P = 150, HMM BAC = 0.506, Normal Jump BAC = 0.592, Sparse Jump BAC = 0.553\n"
     ]
    },
    {
     "name": "stderr",
     "output_type": "stream",
     "text": [
      "/Users/vlad/Desktop/git/anaconda3/lib/python3.12/site-packages/sklearn/metrics/_classification.py:2480: UserWarning:\n",
      "\n",
      "y_pred contains classes not in y_true\n",
      "\n",
      "/Users/vlad/Desktop/git/anaconda3/lib/python3.12/site-packages/sklearn/metrics/_classification.py:2480: UserWarning:\n",
      "\n",
      "y_pred contains classes not in y_true\n",
      "\n",
      "/Users/vlad/Desktop/git/anaconda3/lib/python3.12/site-packages/sklearn/metrics/_classification.py:2480: UserWarning:\n",
      "\n",
      "y_pred contains classes not in y_true\n",
      "\n"
     ]
    },
    {
     "name": "stdout",
     "output_type": "stream",
     "text": [
      "mu = 0.125, P = 300, HMM BAC = 0.520, Normal Jump BAC = 0.556, Sparse Jump BAC = 0.591\n"
     ]
    },
    {
     "name": "stderr",
     "output_type": "stream",
     "text": [
      "/Users/vlad/Desktop/git/anaconda3/lib/python3.12/site-packages/sklearn/metrics/_classification.py:2480: UserWarning:\n",
      "\n",
      "y_pred contains classes not in y_true\n",
      "\n",
      "/Users/vlad/Desktop/git/anaconda3/lib/python3.12/site-packages/sklearn/metrics/_classification.py:409: UserWarning:\n",
      "\n",
      "A single label was found in 'y_true' and 'y_pred'. For the confusion matrix to have the correct shape, use the 'labels' parameter to pass all known labels.\n",
      "\n",
      "/Users/vlad/Desktop/git/anaconda3/lib/python3.12/site-packages/sklearn/metrics/_classification.py:409: UserWarning:\n",
      "\n",
      "A single label was found in 'y_true' and 'y_pred'. For the confusion matrix to have the correct shape, use the 'labels' parameter to pass all known labels.\n",
      "\n",
      "/Users/vlad/Desktop/git/anaconda3/lib/python3.12/site-packages/sklearn/metrics/_classification.py:409: UserWarning:\n",
      "\n",
      "A single label was found in 'y_true' and 'y_pred'. For the confusion matrix to have the correct shape, use the 'labels' parameter to pass all known labels.\n",
      "\n",
      "/Users/vlad/Desktop/git/anaconda3/lib/python3.12/site-packages/sklearn/metrics/_classification.py:409: UserWarning:\n",
      "\n",
      "A single label was found in 'y_true' and 'y_pred'. For the confusion matrix to have the correct shape, use the 'labels' parameter to pass all known labels.\n",
      "\n"
     ]
    },
    {
     "name": "stdout",
     "output_type": "stream",
     "text": [
      "mu = 0.25, P = 15, HMM BAC = 0.794, Normal Jump BAC = 0.898, Sparse Jump BAC = 0.898\n"
     ]
    },
    {
     "name": "stderr",
     "output_type": "stream",
     "text": [
      "/Users/vlad/Desktop/git/anaconda3/lib/python3.12/site-packages/sklearn/metrics/_classification.py:2480: UserWarning:\n",
      "\n",
      "y_pred contains classes not in y_true\n",
      "\n",
      "/Users/vlad/Desktop/git/anaconda3/lib/python3.12/site-packages/sklearn/metrics/_classification.py:409: UserWarning:\n",
      "\n",
      "A single label was found in 'y_true' and 'y_pred'. For the confusion matrix to have the correct shape, use the 'labels' parameter to pass all known labels.\n",
      "\n",
      "/Users/vlad/Desktop/git/anaconda3/lib/python3.12/site-packages/sklearn/metrics/_classification.py:409: UserWarning:\n",
      "\n",
      "A single label was found in 'y_true' and 'y_pred'. For the confusion matrix to have the correct shape, use the 'labels' parameter to pass all known labels.\n",
      "\n",
      "/Users/vlad/Desktop/git/anaconda3/lib/python3.12/site-packages/sklearn/metrics/_classification.py:409: UserWarning:\n",
      "\n",
      "A single label was found in 'y_true' and 'y_pred'. For the confusion matrix to have the correct shape, use the 'labels' parameter to pass all known labels.\n",
      "\n",
      "/Users/vlad/Desktop/git/anaconda3/lib/python3.12/site-packages/sklearn/metrics/_classification.py:409: UserWarning:\n",
      "\n",
      "A single label was found in 'y_true' and 'y_pred'. For the confusion matrix to have the correct shape, use the 'labels' parameter to pass all known labels.\n",
      "\n"
     ]
    },
    {
     "name": "stdout",
     "output_type": "stream",
     "text": [
      "mu = 0.25, P = 30, HMM BAC = 0.533, Normal Jump BAC = 0.798, Sparse Jump BAC = 0.891\n"
     ]
    },
    {
     "name": "stderr",
     "output_type": "stream",
     "text": [
      "/Users/vlad/Desktop/git/anaconda3/lib/python3.12/site-packages/sklearn/metrics/_classification.py:2480: UserWarning:\n",
      "\n",
      "y_pred contains classes not in y_true\n",
      "\n",
      "/Users/vlad/Desktop/git/anaconda3/lib/python3.12/site-packages/sklearn/metrics/_classification.py:409: UserWarning:\n",
      "\n",
      "A single label was found in 'y_true' and 'y_pred'. For the confusion matrix to have the correct shape, use the 'labels' parameter to pass all known labels.\n",
      "\n",
      "/Users/vlad/Desktop/git/anaconda3/lib/python3.12/site-packages/sklearn/metrics/_classification.py:409: UserWarning:\n",
      "\n",
      "A single label was found in 'y_true' and 'y_pred'. For the confusion matrix to have the correct shape, use the 'labels' parameter to pass all known labels.\n",
      "\n",
      "/Users/vlad/Desktop/git/anaconda3/lib/python3.12/site-packages/sklearn/metrics/_classification.py:409: UserWarning:\n",
      "\n",
      "A single label was found in 'y_true' and 'y_pred'. For the confusion matrix to have the correct shape, use the 'labels' parameter to pass all known labels.\n",
      "\n",
      "/Users/vlad/Desktop/git/anaconda3/lib/python3.12/site-packages/sklearn/metrics/_classification.py:409: UserWarning:\n",
      "\n",
      "A single label was found in 'y_true' and 'y_pred'. For the confusion matrix to have the correct shape, use the 'labels' parameter to pass all known labels.\n",
      "\n"
     ]
    },
    {
     "name": "stdout",
     "output_type": "stream",
     "text": [
      "mu = 0.25, P = 60, HMM BAC = 0.525, Normal Jump BAC = 0.822, Sparse Jump BAC = 0.872\n"
     ]
    },
    {
     "name": "stderr",
     "output_type": "stream",
     "text": [
      "/Users/vlad/Desktop/git/anaconda3/lib/python3.12/site-packages/sklearn/metrics/_classification.py:2480: UserWarning:\n",
      "\n",
      "y_pred contains classes not in y_true\n",
      "\n",
      "/Users/vlad/Desktop/git/anaconda3/lib/python3.12/site-packages/sklearn/metrics/_classification.py:2480: UserWarning:\n",
      "\n",
      "y_pred contains classes not in y_true\n",
      "\n",
      "/Users/vlad/Desktop/git/anaconda3/lib/python3.12/site-packages/sklearn/metrics/_classification.py:2480: UserWarning:\n",
      "\n",
      "y_pred contains classes not in y_true\n",
      "\n"
     ]
    },
    {
     "name": "stdout",
     "output_type": "stream",
     "text": [
      "mu = 0.25, P = 150, HMM BAC = 0.505, Normal Jump BAC = 0.740, Sparse Jump BAC = 0.704\n"
     ]
    },
    {
     "name": "stderr",
     "output_type": "stream",
     "text": [
      "/Users/vlad/Desktop/git/anaconda3/lib/python3.12/site-packages/sklearn/metrics/_classification.py:2480: UserWarning:\n",
      "\n",
      "y_pred contains classes not in y_true\n",
      "\n",
      "/Users/vlad/Desktop/git/anaconda3/lib/python3.12/site-packages/sklearn/metrics/_classification.py:2480: UserWarning:\n",
      "\n",
      "y_pred contains classes not in y_true\n",
      "\n",
      "/Users/vlad/Desktop/git/anaconda3/lib/python3.12/site-packages/sklearn/metrics/_classification.py:2480: UserWarning:\n",
      "\n",
      "y_pred contains classes not in y_true\n",
      "\n"
     ]
    },
    {
     "name": "stdout",
     "output_type": "stream",
     "text": [
      "mu = 0.25, P = 300, HMM BAC = 0.520, Normal Jump BAC = 0.563, Sparse Jump BAC = 0.593\n"
     ]
    },
    {
     "name": "stderr",
     "output_type": "stream",
     "text": [
      "/Users/vlad/Desktop/git/anaconda3/lib/python3.12/site-packages/sklearn/metrics/_classification.py:2480: UserWarning:\n",
      "\n",
      "y_pred contains classes not in y_true\n",
      "\n",
      "/Users/vlad/Desktop/git/anaconda3/lib/python3.12/site-packages/sklearn/metrics/_classification.py:409: UserWarning:\n",
      "\n",
      "A single label was found in 'y_true' and 'y_pred'. For the confusion matrix to have the correct shape, use the 'labels' parameter to pass all known labels.\n",
      "\n",
      "/Users/vlad/Desktop/git/anaconda3/lib/python3.12/site-packages/sklearn/metrics/_classification.py:409: UserWarning:\n",
      "\n",
      "A single label was found in 'y_true' and 'y_pred'. For the confusion matrix to have the correct shape, use the 'labels' parameter to pass all known labels.\n",
      "\n",
      "/Users/vlad/Desktop/git/anaconda3/lib/python3.12/site-packages/sklearn/metrics/_classification.py:409: UserWarning:\n",
      "\n",
      "A single label was found in 'y_true' and 'y_pred'. For the confusion matrix to have the correct shape, use the 'labels' parameter to pass all known labels.\n",
      "\n",
      "/Users/vlad/Desktop/git/anaconda3/lib/python3.12/site-packages/sklearn/metrics/_classification.py:409: UserWarning:\n",
      "\n",
      "A single label was found in 'y_true' and 'y_pred'. For the confusion matrix to have the correct shape, use the 'labels' parameter to pass all known labels.\n",
      "\n"
     ]
    },
    {
     "name": "stdout",
     "output_type": "stream",
     "text": [
      "mu = 0.375, P = 15, HMM BAC = 0.844, Normal Jump BAC = 0.929, Sparse Jump BAC = 0.930\n"
     ]
    },
    {
     "name": "stderr",
     "output_type": "stream",
     "text": [
      "/Users/vlad/Desktop/git/anaconda3/lib/python3.12/site-packages/sklearn/metrics/_classification.py:2480: UserWarning:\n",
      "\n",
      "y_pred contains classes not in y_true\n",
      "\n",
      "/Users/vlad/Desktop/git/anaconda3/lib/python3.12/site-packages/sklearn/metrics/_classification.py:409: UserWarning:\n",
      "\n",
      "A single label was found in 'y_true' and 'y_pred'. For the confusion matrix to have the correct shape, use the 'labels' parameter to pass all known labels.\n",
      "\n",
      "/Users/vlad/Desktop/git/anaconda3/lib/python3.12/site-packages/sklearn/metrics/_classification.py:409: UserWarning:\n",
      "\n",
      "A single label was found in 'y_true' and 'y_pred'. For the confusion matrix to have the correct shape, use the 'labels' parameter to pass all known labels.\n",
      "\n",
      "/Users/vlad/Desktop/git/anaconda3/lib/python3.12/site-packages/sklearn/metrics/_classification.py:409: UserWarning:\n",
      "\n",
      "A single label was found in 'y_true' and 'y_pred'. For the confusion matrix to have the correct shape, use the 'labels' parameter to pass all known labels.\n",
      "\n",
      "/Users/vlad/Desktop/git/anaconda3/lib/python3.12/site-packages/sklearn/metrics/_classification.py:409: UserWarning:\n",
      "\n",
      "A single label was found in 'y_true' and 'y_pred'. For the confusion matrix to have the correct shape, use the 'labels' parameter to pass all known labels.\n",
      "\n"
     ]
    },
    {
     "name": "stdout",
     "output_type": "stream",
     "text": [
      "mu = 0.375, P = 30, HMM BAC = 0.778, Normal Jump BAC = 0.873, Sparse Jump BAC = 0.935\n"
     ]
    },
    {
     "name": "stderr",
     "output_type": "stream",
     "text": [
      "/Users/vlad/Desktop/git/anaconda3/lib/python3.12/site-packages/sklearn/metrics/_classification.py:2480: UserWarning:\n",
      "\n",
      "y_pred contains classes not in y_true\n",
      "\n",
      "/Users/vlad/Desktop/git/anaconda3/lib/python3.12/site-packages/sklearn/metrics/_classification.py:409: UserWarning:\n",
      "\n",
      "A single label was found in 'y_true' and 'y_pred'. For the confusion matrix to have the correct shape, use the 'labels' parameter to pass all known labels.\n",
      "\n",
      "/Users/vlad/Desktop/git/anaconda3/lib/python3.12/site-packages/sklearn/metrics/_classification.py:409: UserWarning:\n",
      "\n",
      "A single label was found in 'y_true' and 'y_pred'. For the confusion matrix to have the correct shape, use the 'labels' parameter to pass all known labels.\n",
      "\n",
      "/Users/vlad/Desktop/git/anaconda3/lib/python3.12/site-packages/sklearn/metrics/_classification.py:409: UserWarning:\n",
      "\n",
      "A single label was found in 'y_true' and 'y_pred'. For the confusion matrix to have the correct shape, use the 'labels' parameter to pass all known labels.\n",
      "\n",
      "/Users/vlad/Desktop/git/anaconda3/lib/python3.12/site-packages/sklearn/metrics/_classification.py:409: UserWarning:\n",
      "\n",
      "A single label was found in 'y_true' and 'y_pred'. For the confusion matrix to have the correct shape, use the 'labels' parameter to pass all known labels.\n",
      "\n"
     ]
    },
    {
     "name": "stdout",
     "output_type": "stream",
     "text": [
      "mu = 0.375, P = 60, HMM BAC = 0.527, Normal Jump BAC = 0.810, Sparse Jump BAC = 0.924\n"
     ]
    },
    {
     "name": "stderr",
     "output_type": "stream",
     "text": [
      "/Users/vlad/Desktop/git/anaconda3/lib/python3.12/site-packages/sklearn/metrics/_classification.py:2480: UserWarning:\n",
      "\n",
      "y_pred contains classes not in y_true\n",
      "\n",
      "/Users/vlad/Desktop/git/anaconda3/lib/python3.12/site-packages/sklearn/metrics/_classification.py:2480: UserWarning:\n",
      "\n",
      "y_pred contains classes not in y_true\n",
      "\n",
      "/Users/vlad/Desktop/git/anaconda3/lib/python3.12/site-packages/sklearn/metrics/_classification.py:2480: UserWarning:\n",
      "\n",
      "y_pred contains classes not in y_true\n",
      "\n"
     ]
    },
    {
     "name": "stdout",
     "output_type": "stream",
     "text": [
      "mu = 0.375, P = 150, HMM BAC = 0.505, Normal Jump BAC = 0.764, Sparse Jump BAC = 0.816\n"
     ]
    },
    {
     "name": "stderr",
     "output_type": "stream",
     "text": [
      "/Users/vlad/Desktop/git/anaconda3/lib/python3.12/site-packages/sklearn/metrics/_classification.py:2480: UserWarning:\n",
      "\n",
      "y_pred contains classes not in y_true\n",
      "\n",
      "/Users/vlad/Desktop/git/anaconda3/lib/python3.12/site-packages/sklearn/metrics/_classification.py:2480: UserWarning:\n",
      "\n",
      "y_pred contains classes not in y_true\n",
      "\n",
      "/Users/vlad/Desktop/git/anaconda3/lib/python3.12/site-packages/sklearn/metrics/_classification.py:2480: UserWarning:\n",
      "\n",
      "y_pred contains classes not in y_true\n",
      "\n"
     ]
    },
    {
     "name": "stdout",
     "output_type": "stream",
     "text": [
      "mu = 0.375, P = 300, HMM BAC = 0.520, Normal Jump BAC = 0.560, Sparse Jump BAC = 0.588\n"
     ]
    },
    {
     "name": "stderr",
     "output_type": "stream",
     "text": [
      "/Users/vlad/Desktop/git/anaconda3/lib/python3.12/site-packages/sklearn/metrics/_classification.py:2480: UserWarning:\n",
      "\n",
      "y_pred contains classes not in y_true\n",
      "\n",
      "/Users/vlad/Desktop/git/anaconda3/lib/python3.12/site-packages/sklearn/metrics/_classification.py:409: UserWarning:\n",
      "\n",
      "A single label was found in 'y_true' and 'y_pred'. For the confusion matrix to have the correct shape, use the 'labels' parameter to pass all known labels.\n",
      "\n",
      "/Users/vlad/Desktop/git/anaconda3/lib/python3.12/site-packages/sklearn/metrics/_classification.py:409: UserWarning:\n",
      "\n",
      "A single label was found in 'y_true' and 'y_pred'. For the confusion matrix to have the correct shape, use the 'labels' parameter to pass all known labels.\n",
      "\n",
      "/Users/vlad/Desktop/git/anaconda3/lib/python3.12/site-packages/sklearn/metrics/_classification.py:409: UserWarning:\n",
      "\n",
      "A single label was found in 'y_true' and 'y_pred'. For the confusion matrix to have the correct shape, use the 'labels' parameter to pass all known labels.\n",
      "\n",
      "/Users/vlad/Desktop/git/anaconda3/lib/python3.12/site-packages/sklearn/metrics/_classification.py:409: UserWarning:\n",
      "\n",
      "A single label was found in 'y_true' and 'y_pred'. For the confusion matrix to have the correct shape, use the 'labels' parameter to pass all known labels.\n",
      "\n"
     ]
    },
    {
     "name": "stdout",
     "output_type": "stream",
     "text": [
      "mu = 0.5, P = 15, HMM BAC = 0.906, Normal Jump BAC = 0.950, Sparse Jump BAC = 1.000\n"
     ]
    },
    {
     "name": "stderr",
     "output_type": "stream",
     "text": [
      "/Users/vlad/Desktop/git/anaconda3/lib/python3.12/site-packages/sklearn/metrics/_classification.py:2480: UserWarning:\n",
      "\n",
      "y_pred contains classes not in y_true\n",
      "\n",
      "/Users/vlad/Desktop/git/anaconda3/lib/python3.12/site-packages/sklearn/metrics/_classification.py:409: UserWarning:\n",
      "\n",
      "A single label was found in 'y_true' and 'y_pred'. For the confusion matrix to have the correct shape, use the 'labels' parameter to pass all known labels.\n",
      "\n",
      "/Users/vlad/Desktop/git/anaconda3/lib/python3.12/site-packages/sklearn/metrics/_classification.py:409: UserWarning:\n",
      "\n",
      "A single label was found in 'y_true' and 'y_pred'. For the confusion matrix to have the correct shape, use the 'labels' parameter to pass all known labels.\n",
      "\n",
      "/Users/vlad/Desktop/git/anaconda3/lib/python3.12/site-packages/sklearn/metrics/_classification.py:409: UserWarning:\n",
      "\n",
      "A single label was found in 'y_true' and 'y_pred'. For the confusion matrix to have the correct shape, use the 'labels' parameter to pass all known labels.\n",
      "\n",
      "/Users/vlad/Desktop/git/anaconda3/lib/python3.12/site-packages/sklearn/metrics/_classification.py:409: UserWarning:\n",
      "\n",
      "A single label was found in 'y_true' and 'y_pred'. For the confusion matrix to have the correct shape, use the 'labels' parameter to pass all known labels.\n",
      "\n"
     ]
    },
    {
     "name": "stdout",
     "output_type": "stream",
     "text": [
      "mu = 0.5, P = 30, HMM BAC = 0.778, Normal Jump BAC = 0.994, Sparse Jump BAC = 0.900\n"
     ]
    },
    {
     "name": "stderr",
     "output_type": "stream",
     "text": [
      "/Users/vlad/Desktop/git/anaconda3/lib/python3.12/site-packages/sklearn/metrics/_classification.py:2480: UserWarning:\n",
      "\n",
      "y_pred contains classes not in y_true\n",
      "\n",
      "/Users/vlad/Desktop/git/anaconda3/lib/python3.12/site-packages/sklearn/metrics/_classification.py:409: UserWarning:\n",
      "\n",
      "A single label was found in 'y_true' and 'y_pred'. For the confusion matrix to have the correct shape, use the 'labels' parameter to pass all known labels.\n",
      "\n",
      "/Users/vlad/Desktop/git/anaconda3/lib/python3.12/site-packages/sklearn/metrics/_classification.py:409: UserWarning:\n",
      "\n",
      "A single label was found in 'y_true' and 'y_pred'. For the confusion matrix to have the correct shape, use the 'labels' parameter to pass all known labels.\n",
      "\n",
      "/Users/vlad/Desktop/git/anaconda3/lib/python3.12/site-packages/sklearn/metrics/_classification.py:409: UserWarning:\n",
      "\n",
      "A single label was found in 'y_true' and 'y_pred'. For the confusion matrix to have the correct shape, use the 'labels' parameter to pass all known labels.\n",
      "\n",
      "/Users/vlad/Desktop/git/anaconda3/lib/python3.12/site-packages/sklearn/metrics/_classification.py:409: UserWarning:\n",
      "\n",
      "A single label was found in 'y_true' and 'y_pred'. For the confusion matrix to have the correct shape, use the 'labels' parameter to pass all known labels.\n",
      "\n"
     ]
    },
    {
     "name": "stdout",
     "output_type": "stream",
     "text": [
      "mu = 0.5, P = 60, HMM BAC = 0.573, Normal Jump BAC = 0.872, Sparse Jump BAC = 0.932\n"
     ]
    },
    {
     "name": "stderr",
     "output_type": "stream",
     "text": [
      "/Users/vlad/Desktop/git/anaconda3/lib/python3.12/site-packages/sklearn/metrics/_classification.py:2480: UserWarning:\n",
      "\n",
      "y_pred contains classes not in y_true\n",
      "\n",
      "/Users/vlad/Desktop/git/anaconda3/lib/python3.12/site-packages/sklearn/metrics/_classification.py:2480: UserWarning:\n",
      "\n",
      "y_pred contains classes not in y_true\n",
      "\n",
      "/Users/vlad/Desktop/git/anaconda3/lib/python3.12/site-packages/sklearn/metrics/_classification.py:2480: UserWarning:\n",
      "\n",
      "y_pred contains classes not in y_true\n",
      "\n"
     ]
    },
    {
     "name": "stdout",
     "output_type": "stream",
     "text": [
      "mu = 0.5, P = 150, HMM BAC = 0.505, Normal Jump BAC = 0.839, Sparse Jump BAC = 0.816\n"
     ]
    },
    {
     "name": "stderr",
     "output_type": "stream",
     "text": [
      "/Users/vlad/Desktop/git/anaconda3/lib/python3.12/site-packages/sklearn/metrics/_classification.py:2480: UserWarning:\n",
      "\n",
      "y_pred contains classes not in y_true\n",
      "\n",
      "/Users/vlad/Desktop/git/anaconda3/lib/python3.12/site-packages/sklearn/metrics/_classification.py:2480: UserWarning:\n",
      "\n",
      "y_pred contains classes not in y_true\n",
      "\n",
      "/Users/vlad/Desktop/git/anaconda3/lib/python3.12/site-packages/sklearn/metrics/_classification.py:2480: UserWarning:\n",
      "\n",
      "y_pred contains classes not in y_true\n",
      "\n"
     ]
    },
    {
     "name": "stdout",
     "output_type": "stream",
     "text": [
      "mu = 0.5, P = 300, HMM BAC = 0.520, Normal Jump BAC = 0.731, Sparse Jump BAC = 0.587\n"
     ]
    },
    {
     "name": "stderr",
     "output_type": "stream",
     "text": [
      "/Users/vlad/Desktop/git/anaconda3/lib/python3.12/site-packages/sklearn/metrics/_classification.py:2480: UserWarning:\n",
      "\n",
      "y_pred contains classes not in y_true\n",
      "\n",
      "/Users/vlad/Desktop/git/anaconda3/lib/python3.12/site-packages/sklearn/metrics/_classification.py:409: UserWarning:\n",
      "\n",
      "A single label was found in 'y_true' and 'y_pred'. For the confusion matrix to have the correct shape, use the 'labels' parameter to pass all known labels.\n",
      "\n",
      "/Users/vlad/Desktop/git/anaconda3/lib/python3.12/site-packages/sklearn/metrics/_classification.py:409: UserWarning:\n",
      "\n",
      "A single label was found in 'y_true' and 'y_pred'. For the confusion matrix to have the correct shape, use the 'labels' parameter to pass all known labels.\n",
      "\n",
      "/Users/vlad/Desktop/git/anaconda3/lib/python3.12/site-packages/sklearn/metrics/_classification.py:409: UserWarning:\n",
      "\n",
      "A single label was found in 'y_true' and 'y_pred'. For the confusion matrix to have the correct shape, use the 'labels' parameter to pass all known labels.\n",
      "\n",
      "/Users/vlad/Desktop/git/anaconda3/lib/python3.12/site-packages/sklearn/metrics/_classification.py:409: UserWarning:\n",
      "\n",
      "A single label was found in 'y_true' and 'y_pred'. For the confusion matrix to have the correct shape, use the 'labels' parameter to pass all known labels.\n",
      "\n"
     ]
    },
    {
     "name": "stdout",
     "output_type": "stream",
     "text": [
      "mu = 1, P = 15, HMM BAC = 0.965, Normal Jump BAC = 0.950, Sparse Jump BAC = 1.000\n"
     ]
    },
    {
     "name": "stderr",
     "output_type": "stream",
     "text": [
      "/Users/vlad/Desktop/git/anaconda3/lib/python3.12/site-packages/sklearn/metrics/_classification.py:2480: UserWarning:\n",
      "\n",
      "y_pred contains classes not in y_true\n",
      "\n",
      "/Users/vlad/Desktop/git/anaconda3/lib/python3.12/site-packages/sklearn/metrics/_classification.py:409: UserWarning:\n",
      "\n",
      "A single label was found in 'y_true' and 'y_pred'. For the confusion matrix to have the correct shape, use the 'labels' parameter to pass all known labels.\n",
      "\n",
      "/Users/vlad/Desktop/git/anaconda3/lib/python3.12/site-packages/sklearn/metrics/_classification.py:409: UserWarning:\n",
      "\n",
      "A single label was found in 'y_true' and 'y_pred'. For the confusion matrix to have the correct shape, use the 'labels' parameter to pass all known labels.\n",
      "\n",
      "/Users/vlad/Desktop/git/anaconda3/lib/python3.12/site-packages/sklearn/metrics/_classification.py:409: UserWarning:\n",
      "\n",
      "A single label was found in 'y_true' and 'y_pred'. For the confusion matrix to have the correct shape, use the 'labels' parameter to pass all known labels.\n",
      "\n",
      "/Users/vlad/Desktop/git/anaconda3/lib/python3.12/site-packages/sklearn/metrics/_classification.py:409: UserWarning:\n",
      "\n",
      "A single label was found in 'y_true' and 'y_pred'. For the confusion matrix to have the correct shape, use the 'labels' parameter to pass all known labels.\n",
      "\n"
     ]
    },
    {
     "name": "stdout",
     "output_type": "stream",
     "text": [
      "mu = 1, P = 30, HMM BAC = 0.926, Normal Jump BAC = 1.000, Sparse Jump BAC = 1.000\n"
     ]
    },
    {
     "name": "stderr",
     "output_type": "stream",
     "text": [
      "/Users/vlad/Desktop/git/anaconda3/lib/python3.12/site-packages/sklearn/metrics/_classification.py:2480: UserWarning:\n",
      "\n",
      "y_pred contains classes not in y_true\n",
      "\n",
      "/Users/vlad/Desktop/git/anaconda3/lib/python3.12/site-packages/sklearn/metrics/_classification.py:409: UserWarning:\n",
      "\n",
      "A single label was found in 'y_true' and 'y_pred'. For the confusion matrix to have the correct shape, use the 'labels' parameter to pass all known labels.\n",
      "\n",
      "/Users/vlad/Desktop/git/anaconda3/lib/python3.12/site-packages/sklearn/metrics/_classification.py:409: UserWarning:\n",
      "\n",
      "A single label was found in 'y_true' and 'y_pred'. For the confusion matrix to have the correct shape, use the 'labels' parameter to pass all known labels.\n",
      "\n",
      "/Users/vlad/Desktop/git/anaconda3/lib/python3.12/site-packages/sklearn/metrics/_classification.py:409: UserWarning:\n",
      "\n",
      "A single label was found in 'y_true' and 'y_pred'. For the confusion matrix to have the correct shape, use the 'labels' parameter to pass all known labels.\n",
      "\n",
      "/Users/vlad/Desktop/git/anaconda3/lib/python3.12/site-packages/sklearn/metrics/_classification.py:409: UserWarning:\n",
      "\n",
      "A single label was found in 'y_true' and 'y_pred'. For the confusion matrix to have the correct shape, use the 'labels' parameter to pass all known labels.\n",
      "\n"
     ]
    },
    {
     "name": "stdout",
     "output_type": "stream",
     "text": [
      "mu = 1, P = 60, HMM BAC = 0.801, Normal Jump BAC = 0.975, Sparse Jump BAC = 1.000\n"
     ]
    },
    {
     "name": "stderr",
     "output_type": "stream",
     "text": [
      "/Users/vlad/Desktop/git/anaconda3/lib/python3.12/site-packages/sklearn/metrics/_classification.py:2480: UserWarning:\n",
      "\n",
      "y_pred contains classes not in y_true\n",
      "\n",
      "/Users/vlad/Desktop/git/anaconda3/lib/python3.12/site-packages/sklearn/metrics/_classification.py:2480: UserWarning:\n",
      "\n",
      "y_pred contains classes not in y_true\n",
      "\n",
      "/Users/vlad/Desktop/git/anaconda3/lib/python3.12/site-packages/sklearn/metrics/_classification.py:2480: UserWarning:\n",
      "\n",
      "y_pred contains classes not in y_true\n",
      "\n"
     ]
    },
    {
     "name": "stdout",
     "output_type": "stream",
     "text": [
      "mu = 1, P = 150, HMM BAC = 0.652, Normal Jump BAC = 0.943, Sparse Jump BAC = 0.998\n"
     ]
    },
    {
     "name": "stderr",
     "output_type": "stream",
     "text": [
      "/Users/vlad/Desktop/git/anaconda3/lib/python3.12/site-packages/sklearn/metrics/_classification.py:2480: UserWarning:\n",
      "\n",
      "y_pred contains classes not in y_true\n",
      "\n",
      "/Users/vlad/Desktop/git/anaconda3/lib/python3.12/site-packages/sklearn/metrics/_classification.py:2480: UserWarning:\n",
      "\n",
      "y_pred contains classes not in y_true\n",
      "\n",
      "/Users/vlad/Desktop/git/anaconda3/lib/python3.12/site-packages/sklearn/metrics/_classification.py:2480: UserWarning:\n",
      "\n",
      "y_pred contains classes not in y_true\n",
      "\n"
     ]
    },
    {
     "name": "stdout",
     "output_type": "stream",
     "text": [
      "mu = 1, P = 300, HMM BAC = 0.523, Normal Jump BAC = 0.802, Sparse Jump BAC = 0.933\n"
     ]
    }
   ],
   "source": [
    "if __name__ == '__main__':\n",
    "    # Simulation settings\n",
    "    T = 500\n",
    "    mu_values = [0.125, 0.250, 0.375, 0.5, 1]  # Different signal magnitudes\n",
    "    p_values = [15, 30, 60, 150, 300]  # Different numbers of features\n",
    "    n_simulations = 10  # Increase to 100 for full replication\n",
    "    \n",
    "    results = []\n",
    "    \n",
    "    for mu in mu_values:\n",
    "        for P in p_values:\n",
    "            bac_hmm_list = []\n",
    "            bac_jump_normal_list = []\n",
    "            bac_sparse_jump_list = []\n",
    "            \n",
    "            for sim in range(n_simulations):\n",
    "                # Simulate data and get true state sequence\n",
    "                X, true_states = simulate_data_correlated(T, P, mu, random_state=sim)\n",
    "                \n",
    "                # ----- HMM Analysis -----\n",
    "                pred_states_hmm = run_hmm(X, random_state=sim)\n",
    "                bac_hmm = calculate_bac(true_states, pred_states_hmm)\n",
    "                bac_hmm_list.append(bac_hmm)\n",
    "                \n",
    "                # ----- Normal (Standard) Jump Model Analysis -----\n",
    "                # Use the jump penalty value from Nystrup et al.: lambda = 400\n",
    "                jump_model_normal = JumpModel(n_components=2, jump_penalty=30, cont=False, )\n",
    "                jump_model_normal.fit(X)\n",
    "                pred_states_jump_normal = jump_model_normal.labels_\n",
    "                bac_jump_normal = calculate_bac(true_states, pred_states_jump_normal)\n",
    "                bac_jump_normal_list.append(bac_jump_normal)\n",
    "                \n",
    "                # ----- Sparse Jump Model Analysis -----\n",
    "                # For sparse jump model, use lambda = 30 and kappa = 17 (i.e., max_feats = 300)\n",
    "                sparse_jump_model = SparseJumpModel(n_components=2, max_feats=50, jump_penalty=30, random_state=sim)\n",
    "                sparse_jump_model.fit(X)\n",
    "                pred_states_sparse_jump = sparse_jump_model.labels_\n",
    "                bac_sparse_jump = calculate_bac(true_states, pred_states_sparse_jump)\n",
    "                bac_sparse_jump_list.append(bac_sparse_jump)\n",
    "            \n",
    "            mean_bac_hmm = np.mean(bac_hmm_list)\n",
    "            mean_bac_jump_normal = np.mean(bac_jump_normal_list)\n",
    "            mean_bac_sparse_jump = np.mean(bac_sparse_jump_list)\n",
    "            \n",
    "            results.append({\n",
    "                'mu': mu, \n",
    "                'P': P, \n",
    "                'HMM Mean BAC': mean_bac_hmm,\n",
    "                'Normal Jump Model Mean BAC': mean_bac_jump_normal,\n",
    "                'Sparse Jump Model Mean BAC': mean_bac_sparse_jump\n",
    "            })\n",
    "            print(f\"mu = {mu}, P = {P}, HMM BAC = {mean_bac_hmm:.3f}, Normal Jump BAC = {mean_bac_jump_normal:.3f}, Sparse Jump BAC = {mean_bac_sparse_jump:.3f}\")\n",
    "    \n"
   ]
  },
  {
   "cell_type": "code",
   "execution_count": 14,
   "metadata": {},
   "outputs": [
    {
     "name": "stdout",
     "output_type": "stream",
     "text": [
      "       mu    P  HMM Mean BAC  Normal Jump Model Mean BAC  Sparse Jump Model Mean BAC\n",
      "0   0.125   15      0.594136                    0.597981                    0.686885\n",
      "1   0.125   30      0.511903                    0.622417                    0.637890\n",
      "2   0.125   60      0.523670                    0.699774                    0.679851\n",
      "3   0.125  150      0.505938                    0.592089                    0.552995\n",
      "4   0.125  300      0.520356                    0.555793                    0.590972\n",
      "5   0.250   15      0.794359                    0.898283                    0.897662\n",
      "6   0.250   30      0.532919                    0.798348                    0.891202\n",
      "7   0.250   60      0.524716                    0.821623                    0.871799\n",
      "8   0.250  150      0.504599                    0.739807                    0.704121\n",
      "9   0.250  300      0.520313                    0.562854                    0.592684\n",
      "10  0.375   15      0.844187                    0.929332                    0.930194\n",
      "11  0.375   30      0.777830                    0.873458                    0.935419\n",
      "12  0.375   60      0.526695                    0.810179                    0.923672\n",
      "13  0.375  150      0.504878                    0.764391                    0.815889\n",
      "14  0.375  300      0.519996                    0.560256                    0.587724\n",
      "15  0.500   15      0.905767                    0.949746                    0.999644\n",
      "16  0.500   30      0.777836                    0.994015                    0.900000\n",
      "17  0.500   60      0.573197                    0.872154                    0.932401\n",
      "18  0.500  150      0.504610                    0.839015                    0.815889\n",
      "19  0.500  300      0.520161                    0.730799                    0.586797\n",
      "20  1.000   15      0.965000                    0.950000                    1.000000\n",
      "21  1.000   30      0.925800                    1.000000                    1.000000\n",
      "22  1.000   60      0.801095                    0.974898                    1.000000\n",
      "23  1.000  150      0.652079                    0.943400                    0.997600\n",
      "24  1.000  300      0.523235                    0.802333                    0.932939\n"
     ]
    }
   ],
   "source": [
    "  df_results = pd.DataFrame(results)\n",
    "  print(df_results)"
   ]
  },
  {
   "cell_type": "code",
   "execution_count": null,
   "metadata": {},
   "outputs": [],
   "source": []
  }
 ],
 "metadata": {
  "kernelspec": {
   "display_name": "base",
   "language": "python",
   "name": "python3"
  },
  "language_info": {
   "codemirror_mode": {
    "name": "ipython",
    "version": 3
   },
   "file_extension": ".py",
   "mimetype": "text/x-python",
   "name": "python",
   "nbconvert_exporter": "python",
   "pygments_lexer": "ipython3",
   "version": "3.12.2"
  }
 },
 "nbformat": 4,
 "nbformat_minor": 2
}
