{
 "cells": [
  {
   "cell_type": "markdown",
   "metadata": {},
   "source": [
    "#### 1. Load Packages\n",
    "\n",
    "Notes on Key Changes\n",
    "Rolling Covariance (get_rolling_cov): We now use risk_models.exp_cov(sub_df, span=window) every day in regime_based_bl_backtest_flatprior().\n",
    "\n",
    "Fallback in max_sharpe: A new EfficientFrontier(...) is instantiated as ef2 if ef.max_sharpe(...) fails.\n",
    "\n",
    "Risk Aversion is set to 2.5 in the BlackLittermanModel(...).\n",
    "\n",
    "Absolute Views remain: absolute_views=dict(zip(assets, view_vector)).\n",
    "\n",
    "Transaction Cost is 0.0007 = 7 bps (unchanged usage).\n",
    "\n",
    "One-Day Delay: On day t, we use states_test[t-1] to build a new portfolio, applying it at the end of day t. Meanwhile, the day t-1 returns are realized with the old weights.\n",
    "\n",
    "Fallback Return = 0.0 for an unseen regime. also fallback function is equal weight rather that minimum volatility."
   ]
  },
  {
   "cell_type": "code",
   "execution_count": 1,
   "metadata": {},
   "outputs": [],
   "source": [
    "import numpy as np\n",
    "import pandas as pd\n",
    "import matplotlib.pyplot as plt\n",
    "from scipy.stats import wilcoxon\n",
    "from joblib import Parallel, delayed\n",
    "import multiprocessing\n",
    "\n",
    "# Hidden Markov Model utilities\n",
    "from hmmlearn.hmm import GaussianHMM\n",
    "from sklearn.cluster import KMeans\n",
    "\n",
    "# PyPortfolioOpt\n",
    "from pypfopt.efficient_frontier import EfficientFrontier\n",
    "from pypfopt import risk_models, expected_returns\n",
    "from pypfopt.black_litterman import BlackLittermanModel\n",
    "\n",
    "# Sparse Jump Model utilities\n",
    "from jumpmodels.sparse_jump import SparseJumpModel\n",
    "from jumpmodels.preprocess import StandardScalerPD, DataClipperStd"
   ]
  },
  {
   "cell_type": "markdown",
   "metadata": {},
   "source": [
    "#### 2. Data simulation"
   ]
  },
  {
   "cell_type": "code",
   "execution_count": 2,
   "metadata": {},
   "outputs": [],
   "source": [
    "ASSETS = [\"Value\", \"Growth\", \"LowVol\", \"Size\", \"Momentum\", \"Quality\"]\n",
    "N_ASSETS = len(ASSETS)\n",
    "\n",
    "def simulate_1state_data(num_days, seed=None):\n",
    "    np_rng = np.random.default_rng(seed)\n",
    "    SIM_MEAN_1STATE = 0.000461\n",
    "    SIM_SIG_1STATE  = 0.008388\n",
    "\n",
    "    corr = np.full((N_ASSETS, N_ASSETS), 0.185)\n",
    "    np.fill_diagonal(corr, 1.0)\n",
    "    cov = np.outer(np.full(N_ASSETS, SIM_SIG_1STATE),\n",
    "                   np.full(N_ASSETS, SIM_SIG_1STATE)) * corr\n",
    "\n",
    "    rets = np_rng.multivariate_normal(\n",
    "        mean=np.full(N_ASSETS, SIM_MEAN_1STATE),\n",
    "        cov=cov,\n",
    "        size=num_days\n",
    "    )\n",
    "    return pd.DataFrame(rets, columns=ASSETS)\n",
    "\n",
    "\n",
    "def simulate_2state_data(num_days, seed=None):\n",
    "    np_rng = np.random.default_rng(seed)\n",
    "    transmat = np.array([[0.9976, 0.0024],\n",
    "                         [0.0232, 0.9768]])\n",
    "    mu_dict  = {0: 0.0006,   1: -0.000881}\n",
    "    sig_dict = {0: 0.00757, 1: 0.0163}\n",
    "\n",
    "    base_corr = np.full((N_ASSETS, N_ASSETS), 0.185)\n",
    "    np.fill_diagonal(base_corr, 1.0)\n",
    "\n",
    "    all_states = np.zeros((num_days, N_ASSETS), dtype=int)\n",
    "    for i in range(N_ASSETS):\n",
    "        s = np.zeros(num_days, dtype=int)\n",
    "        s[0] = np_rng.integers(2)\n",
    "        for t in range(1, num_days):\n",
    "            s[t] = np_rng.choice(2, p=transmat[s[t - 1]])\n",
    "        all_states[:, i] = s\n",
    "\n",
    "    rets = np.zeros((num_days, N_ASSETS))\n",
    "    for t in range(num_days):\n",
    "        mu_vec  = np.zeros(N_ASSETS)\n",
    "        sig_vec = np.zeros(N_ASSETS)\n",
    "        for i in range(N_ASSETS):\n",
    "            curr_state = all_states[t, i]\n",
    "            mu_vec[i]  = mu_dict[curr_state]\n",
    "            sig_vec[i] = sig_dict[curr_state]\n",
    "        cov_t = np.outer(sig_vec, sig_vec) * base_corr\n",
    "        rets[t] = np_rng.multivariate_normal(mean=mu_vec, cov=cov_t)\n",
    "\n",
    "    return pd.DataFrame(rets, columns=ASSETS), all_states\n",
    "\n",
    "\n",
    "def simulate_3state_data(num_days, seed=None):\n",
    "    np_rng = np.random.default_rng(seed)\n",
    "    transmat = np.array([\n",
    "        [0.9989, 0.0004, 0.0007],\n",
    "        [0.0089, 0.9904, 0.0007],\n",
    "        [0.0089, 0.0004, 0.9907]\n",
    "    ])\n",
    "    mu_list  = [0.0008, 0.0,     -0.003586]\n",
    "    sig_list = [0.0070, 0.0050,  0.01897]\n",
    "\n",
    "    base_corr = np.full((N_ASSETS, N_ASSETS), 0.185)\n",
    "    np.fill_diagonal(base_corr, 1.0)\n",
    "\n",
    "    all_states = np.zeros((num_days, N_ASSETS), dtype=int)\n",
    "    for i in range(N_ASSETS):\n",
    "        s = np.zeros(num_days, dtype=int)\n",
    "        s[0] = np_rng.integers(3)\n",
    "        for t in range(1, num_days):\n",
    "            s[t] = np_rng.choice(3, p=transmat[s[t - 1]])\n",
    "        all_states[:, i] = s\n",
    "\n",
    "    rets = np.zeros((num_days, N_ASSETS))\n",
    "    for t in range(num_days):\n",
    "        mu_vec  = np.zeros(N_ASSETS)\n",
    "        sig_vec = np.zeros(N_ASSETS)\n",
    "        for i in range(N_ASSETS):\n",
    "            st_i   = all_states[t, i]\n",
    "            mu_vec[i]  = mu_list[st_i]\n",
    "            sig_vec[i] = sig_list[st_i]\n",
    "        cov_t = np.outer(sig_vec, sig_vec) * base_corr\n",
    "        rets[t] = np_rng.multivariate_normal(mean=mu_vec, cov=cov_t)\n",
    "\n",
    "    return pd.DataFrame(rets, columns=ASSETS), all_states"
   ]
  },
  {
   "cell_type": "markdown",
   "metadata": {},
   "source": [
    "#### 3. Training Regime Models"
   ]
  },
  {
   "cell_type": "markdown",
   "metadata": {},
   "source": [
    "#### 3.1 Hidden Markov Model"
   ]
  },
  {
   "cell_type": "code",
   "execution_count": 3,
   "metadata": {},
   "outputs": [],
   "source": [
    "def run_mle(observations, n_components=2, init_type='default', seed=None):\n",
    "    model = GaussianHMM(\n",
    "        n_components=n_components,\n",
    "        covariance_type='diag',\n",
    "        n_iter=100,\n",
    "        random_state=seed\n",
    "    )\n",
    "    if init_type == 'default':\n",
    "        model.startprob_ = np.array([1.0, 0.0])\n",
    "        model.transmat_  = np.array([\n",
    "            [0.9, 0.1],\n",
    "            [0.1, 0.9]\n",
    "        ])\n",
    "        model.means_  = np.zeros((n_components, observations.shape[1]))\n",
    "        model.covars_ = np.full((n_components, observations.shape[1]), 1e-10)\n",
    "        model.init_params = ''\n",
    "    elif init_type == 'kmeans':\n",
    "        km = KMeans(n_clusters=n_components, n_init=10, random_state=seed)\n",
    "        labels = km.fit_predict(observations)\n",
    "        means, covars = [], []\n",
    "        for i in range(n_components):\n",
    "            obs_i = observations[labels == i]\n",
    "            means.append(np.mean(obs_i, axis=0))\n",
    "            covars.append(np.var(obs_i, axis=0) + 1e-10)\n",
    "        model.startprob_ = np.ones(n_components) / n_components\n",
    "        model.transmat_  = np.ones((n_components, n_components)) / n_components\n",
    "        model.means_     = np.array(means)\n",
    "        model.covars_    = np.array(covars)\n",
    "        model.init_params = ''\n",
    "\n",
    "    model.fit(observations)\n",
    "    pred_states = model.predict(observations)\n",
    "    return model, pred_states\n",
    "\n",
    "\n",
    "def run_mle_default(observations, seed=None):\n",
    "    return run_mle(observations, init_type='default', seed=seed)\n",
    "\n",
    "\n",
    "def run_mle_kmeans(observations, seed=None):\n",
    "    return run_mle(observations, init_type='kmeans', seed=seed)\n",
    "\n",
    "\n",
    "def train_hmm_single_asset_default(series, n_components=2, random_state=42):\n",
    "    X = series.values.reshape(-1, 1)\n",
    "    model, _ = run_mle_default(X, seed=random_state)\n",
    "    return model\n",
    "\n",
    "\n",
    "def train_hmm_single_asset_kmeans(series, n_components=2, random_state=42):\n",
    "    X = series.values.reshape(-1, 1)\n",
    "    model, _ = run_mle_kmeans(X, seed=random_state)\n",
    "    return model"
   ]
  },
  {
   "cell_type": "markdown",
   "metadata": {},
   "source": [
    "#### 3.2 Feature selection and SJM training"
   ]
  },
  {
   "cell_type": "code",
   "execution_count": 4,
   "metadata": {},
   "outputs": [],
   "source": [
    "def compute_sjm_features(factor_ser: pd.Series) -> pd.DataFrame:\n",
    "    def ewm_downside_dev(returns: pd.Series, halflife: float) -> pd.Series:\n",
    "        negative_returns = returns.clip(upper=0)\n",
    "        neg_sq = negative_returns ** 2\n",
    "        ewm_mean = neg_sq.ewm(halflife=halflife, adjust=False).mean()\n",
    "        return np.sqrt(ewm_mean)\n",
    "\n",
    "    dd20 = ewm_downside_dev(factor_ser, halflife=20)\n",
    "    dd60 = ewm_downside_dev(factor_ser, halflife=60)\n",
    "    dd120 = ewm_downside_dev(factor_ser, halflife=120)\n",
    "\n",
    "    feat_dd20 = dd20\n",
    "    feat_dd20_minus_dd60 = dd20 - dd60\n",
    "    feat_dd60_minus_dd120 = dd60 - dd120\n",
    "    ret_hl120 = factor_ser.ewm(halflife=120, adjust=False).mean()\n",
    "\n",
    "    feats = {\n",
    "        \"DD_hl20\": feat_dd20,\n",
    "        \"DD20_minus_DD60\": feat_dd20_minus_dd60,\n",
    "        \"DD60_minus_DD120\": feat_dd60_minus_dd120,\n",
    "        \"Return_hl120\": ret_hl120,\n",
    "    }\n",
    "    df_feats = pd.DataFrame(feats)\n",
    "    df_feats = df_feats.replace([np.inf, -np.inf], np.nan).fillna(0.0)\n",
    "    return df_feats"
   ]
  },
  {
   "cell_type": "code",
   "execution_count": 5,
   "metadata": {},
   "outputs": [],
   "source": [
    "def train_sjm_single_asset(series, n_components=2, max_feats=4, lam=50, random_state=42):\n",
    "    feats_df = compute_sjm_features(series)\n",
    "    feats_df = feats_df.replace([np.inf, -np.inf], np.nan).fillna(0.0)\n",
    "\n",
    "    clipper = DataClipperStd(mul=3.0)\n",
    "    scaler  = StandardScalerPD()\n",
    "\n",
    "    X_clipped = clipper.fit_transform(feats_df)\n",
    "    X_scaled  = scaler.fit_transform(X_clipped)\n",
    "    X_arr = X_scaled.values\n",
    "\n",
    "    sjm = SparseJumpModel(\n",
    "        n_components=n_components,\n",
    "        max_feats=max_feats,\n",
    "        jump_penalty=lam,\n",
    "        cont=False,\n",
    "        max_iter=20,\n",
    "        random_state=random_state\n",
    "    )\n",
    "    sjm.fit(X_arr)\n",
    "\n",
    "    return sjm, clipper, scaler"
   ]
  },
  {
   "cell_type": "markdown",
   "metadata": {},
   "source": [
    "#### 4. Allocation simulation"
   ]
  },
  {
   "cell_type": "markdown",
   "metadata": {},
   "source": [
    "#### 4.1 Backtest a static portfolio with single allocaiton"
   ]
  },
  {
   "cell_type": "code",
   "execution_count": 6,
   "metadata": {},
   "outputs": [],
   "source": [
    "def backtest_portfolio(returns, weights, transaction_cost=0.0007):\n",
    "    \"\"\"\n",
    "    Backtest a static portfolio with a single allocation across the entire\n",
    "    test period. Includes an initial transaction cost.\n",
    "    \"\"\"\n",
    "    T = len(returns)\n",
    "    portfolio_vals = np.zeros(T)\n",
    "    cost_init = np.sum(np.abs(weights)) * transaction_cost\n",
    "    portfolio_vals[0] = 1.0 - cost_init\n",
    "\n",
    "    for t in range(T - 1):\n",
    "        ret_t = returns.iloc[t].values\n",
    "        portfolio_vals[t + 1] = portfolio_vals[t] * (1.0 + np.dot(weights, ret_t))\n",
    "\n",
    "    return portfolio_vals\n"
   ]
  },
  {
   "cell_type": "markdown",
   "metadata": {},
   "source": [
    "#### 5.0 Performance Metric"
   ]
  },
  {
   "cell_type": "code",
   "execution_count": 7,
   "metadata": {},
   "outputs": [],
   "source": [
    "def compute_performance_metrics(portfolio_vals, weight_history=None, annual_factor=250):\n",
    "    pv = np.asarray(portfolio_vals)\n",
    "    rets = np.diff(pv) / pv[:-1]\n",
    "\n",
    "    ann_ret = rets.mean() * annual_factor\n",
    "    cum_ret = pv[-1] / pv[0] - 1\n",
    "    ann_vol = rets.std() * np.sqrt(annual_factor)\n",
    "    negative_rets = rets[rets < 0]\n",
    "    ddev = (negative_rets.std() * np.sqrt(annual_factor)) if len(negative_rets) > 0 else 0.0\n",
    "    max_dd = (pv / np.maximum.accumulate(pv) - 1).min()\n",
    "\n",
    "    sharpe = ann_ret / (ann_vol + 1e-12)\n",
    "    sortino = ann_ret / ddev if ddev > 1e-12 else np.nan\n",
    "    calmar  = ann_ret / abs(max_dd) if max_dd < 0 else np.nan\n",
    "\n",
    "    if weight_history is not None and len(weight_history) > 1:\n",
    "        turnovers = []\n",
    "        for t in range(1, len(weight_history)):\n",
    "            turnovers.append(np.sum(np.abs(weight_history[t] - weight_history[t-1])))\n",
    "        avg_turnover = np.mean(turnovers)\n",
    "    else:\n",
    "        avg_turnover = 0.0\n",
    "\n",
    "    return {\n",
    "        \"Annualized Return\": ann_ret,\n",
    "        \"Cumulative Return\": cum_ret,\n",
    "        \"Volatility\": ann_vol,\n",
    "        \"Downside Deviation\": ddev,\n",
    "        \"Max Drawdown\": max_dd,\n",
    "        \"Sharpe Ratio\": sharpe,\n",
    "        \"Sortino Ratio\": sortino,\n",
    "        \"Calmar Ratio\": calmar,\n",
    "        \"Turnover Rate\": avg_turnover,\n",
    "    }"
   ]
  },
  {
   "cell_type": "markdown",
   "metadata": {},
   "source": [
    "#### 6. Helper Function: get per-regime means & std"
   ]
  },
  {
   "cell_type": "code",
   "execution_count": 8,
   "metadata": {},
   "outputs": [],
   "source": [
    "def get_regime_means_stds_single_asset(asset_series, regime_assignments):\n",
    "    \"\"\"\n",
    "    Returns two dicts:\n",
    "      means_dict = {state: mean_return_in_that_state}\n",
    "      stds_dict  = {state: std_return_in_that_state}\n",
    "    \"\"\"\n",
    "    unique_states = np.unique(regime_assignments)\n",
    "    regime_means = {}\n",
    "    regime_stds  = {}\n",
    "    for s in unique_states:\n",
    "        data_in_s = asset_series[regime_assignments == s]\n",
    "        if len(data_in_s) > 0:\n",
    "            regime_means[s] = data_in_s.mean()\n",
    "            regime_stds[s]  = data_in_s.std()\n",
    "        else:\n",
    "            # Fallback if empty\n",
    "            regime_means[s] = asset_series.mean()\n",
    "            regime_stds[s]  = asset_series.std()\n",
    "\n",
    "    return regime_means, regime_stds"
   ]
  },
  {
   "cell_type": "markdown",
   "metadata": {},
   "source": [
    "#### 7. Equal Unconditional Prior"
   ]
  },
  {
   "cell_type": "code",
   "execution_count": 9,
   "metadata": {},
   "outputs": [],
   "source": [
    "def build_equal_unconditional_prior(df_train):\n",
    "    \"\"\"\n",
    "    Build an 'equal unconditional prior' for BL using approximate known\n",
    "    unconditional values for demonstration. \n",
    "    \"\"\"\n",
    "    SIM_MEAN_1STATE = 0.000461\n",
    "    SIM_SIG_1STATE  = 0.008388\n",
    "    TRUE_CORR       = 0.185\n",
    "\n",
    "    n_assets = df_train.shape[1]\n",
    "    uniform_corr = np.full((n_assets, n_assets), TRUE_CORR)\n",
    "    np.fill_diagonal(uniform_corr, 1.0)\n",
    "\n",
    "    cov_flat = (SIM_SIG_1STATE**2) * uniform_corr\n",
    "\n",
    "    assets = df_train.columns\n",
    "    pi_series = pd.Series(np.full(n_assets, SIM_MEAN_1STATE), index=assets)\n",
    "    cov_df = pd.DataFrame(cov_flat, index=assets, columns=assets)\n",
    "    return pi_series, cov_df"
   ]
  },
  {
   "cell_type": "code",
   "execution_count": 10,
   "metadata": {},
   "outputs": [],
   "source": [
    "def get_rolling_cov(full_returns, current_index, halflife=126):\n",
    "    \"\"\"\n",
    "    Compute an exponentially weighted covariance matrix using all data \n",
    "    available up to 'current_index', with an effective halflife equal to 'halflife' days.\n",
    "    \n",
    "    The equivalent span parameter is computed as:\n",
    "        span_equiv = (2 / (1 - exp(-ln(2)/halflife))) - 1\n",
    "    which ensures that the EWMA decay rate matches the specified halflife.\n",
    "    \n",
    "    If there are fewer than 2 data points, an identity matrix is returned.\n",
    "    \"\"\"\n",
    "    # Use all available data from the beginning until current_index\n",
    "    sub_df = full_returns.iloc[:current_index]\n",
    "    \n",
    "    if len(sub_df) < 2:\n",
    "        n_ = sub_df.shape[1]\n",
    "        return np.eye(n_)\n",
    "    \n",
    "    # Calculate the equivalent span for the desired halflife\n",
    "    span_equiv = (2 / (1 - np.exp(-np.log(2) / halflife))) - 1\n",
    "    \n",
    "    # Compute the exponentially weighted covariance matrix\n",
    "    cov_est = risk_models.exp_cov(sub_df, span=span_equiv, returns_data=True)\n",
    "    return cov_est\n"
   ]
  },
  {
   "cell_type": "markdown",
   "metadata": {},
   "source": [
    "#### 8.0 Regime-Based BL with the 'Equal Unconditional Prior'"
   ]
  },
  {
   "cell_type": "code",
   "execution_count": 11,
   "metadata": {},
   "outputs": [],
   "source": [
    "def regime_based_bl_backtest_flatprior(\n",
    "    df_train,\n",
    "    df_test,\n",
    "    states_test,\n",
    "    init_state,  # initial state from training for each asset\n",
    "    regime_means_list,\n",
    "    transaction_cost=0.0007,\n",
    "    risk_free_rate=0.02/252,\n",
    "    bl_tau=0.05,\n",
    "    halflife=126\n",
    "):\n",
    "    T_test = len(df_test)\n",
    "    assets = df_test.columns\n",
    "    n_assets = len(assets)\n",
    "    \n",
    "    # Combined data for rolling covariance and flat prior\n",
    "    combined_df = pd.concat([df_train, df_test], axis=0).reset_index(drop=True)\n",
    "    flat_pi, _ = build_equal_unconditional_prior(df_train)\n",
    "\n",
    "    portfolio_vals = np.zeros(T_test)\n",
    "    portfolio_vals[0] = 1.0\n",
    "    weight_history = np.zeros((T_test, n_assets))\n",
    "    w_prev = np.ones(n_assets) / n_assets\n",
    "    weight_history[0] = w_prev\n",
    "\n",
    "    # --- New: initialize fallback records list ---\n",
    "    fallback_records = []\n",
    "\n",
    "    for t in range(1, T_test):\n",
    "        ret_t_minus_1 = df_test.iloc[t - 1].values\n",
    "        gross_growth = portfolio_vals[t - 1] * (1.0 + np.dot(w_prev, ret_t_minus_1))\n",
    "        \n",
    "        if t == 1:\n",
    "            current_states = init_state\n",
    "            do_rebalance = True\n",
    "        else:\n",
    "            current_states = states_test[t - 1]\n",
    "            do_rebalance = np.any(states_test[t - 1] != states_test[t - 2])\n",
    "        \n",
    "        if do_rebalance:\n",
    "            view_vector = np.zeros(n_assets)\n",
    "            for i in range(n_assets):\n",
    "                view_vector[i] = regime_means_list[i].get(current_states[i], 0.0)\n",
    "            \n",
    "            global_index = len(df_train) + t\n",
    "            cov_t = get_rolling_cov(combined_df, global_index, halflife=halflife)\n",
    "            \n",
    "            bl = BlackLittermanModel(\n",
    "                cov_matrix=cov_t,\n",
    "                pi=\"equal\",\n",
    "                absolute_views=dict(zip(assets, view_vector)),\n",
    "                tau=bl_tau,\n",
    "                risk_aversion=2.5\n",
    "            )\n",
    "            bl_rets = bl.bl_returns()\n",
    "\n",
    "            ef = EfficientFrontier(bl_rets, cov_t, weight_bounds=(0, 1), solver=\"SCS\")\n",
    "            try:\n",
    "                w_dict = ef.max_sharpe(risk_free_rate=risk_free_rate)\n",
    "            except ValueError as e:\n",
    "                print(f\"Max Sharpe optimization failed at t = {t} with error: {e}\")\n",
    "                # --- Record fallback event details ---\n",
    "                fallback_records.append({\n",
    "                    \"time\": t,\n",
    "                    \"predicted_regime\": current_states.copy(),\n",
    "                    \"absolute_views\": dict(zip(assets, view_vector)),\n",
    "                    \"posterior_views\": bl_rets.copy() if isinstance(bl_rets, np.ndarray) else bl_rets,\n",
    "                })\n",
    "                # Fallback to equal weights\n",
    "                w_dict = {a: 1.0 / n_assets for a in assets}\n",
    "            w_array = np.array([w_dict[a] for a in assets])\n",
    "        else:\n",
    "            w_array = w_prev.copy()\n",
    "\n",
    "        traded_fraction = np.sum(np.abs(w_array - w_prev))\n",
    "        cost = gross_growth * traded_fraction * transaction_cost\n",
    "        portfolio_vals[t] = gross_growth - cost\n",
    "\n",
    "        weight_history[t] = w_array\n",
    "        w_prev = w_array\n",
    "\n",
    "    return portfolio_vals, weight_history, fallback_records\n"
   ]
  },
  {
   "cell_type": "markdown",
   "metadata": {},
   "source": [
    "#### 9. Wrapper to run all strategies"
   ]
  },
  {
   "cell_type": "code",
   "execution_count": 12,
   "metadata": {},
   "outputs": [],
   "source": [
    "def equal_weight_allocation(n_assets):\n",
    "    return np.ones(n_assets)/n_assets\n",
    "\n",
    "def inverse_vol_weights(returns):\n",
    "    stds = returns.std(axis=0).values + 1e-12\n",
    "    w = 1.0/stds\n",
    "    return w / w.sum()\n",
    "\n",
    "def static_mvo_allocation(returns, risk_free_rate=0.02/252):\n",
    "    mu = expected_returns.mean_historical_return(returns, frequency=250)\n",
    "    raw_cov = risk_models.sample_cov(returns)\n",
    "    ridge_lambda = 1e-5\n",
    "    cov = raw_cov + np.eye(len(raw_cov)) * ridge_lambda\n",
    "    try:\n",
    "        ef = EfficientFrontier(mu, cov, weight_bounds=(0, 1), solver=\"SCS\")\n",
    "        w_dict = ef.max_sharpe(risk_free_rate=risk_free_rate)\n",
    "    except ValueError as e:\n",
    "        print(f\"Falling back to min_volatility due to: {e}\")\n",
    "        ef = EfficientFrontier(mu, cov, weight_bounds=(0,1), solver=\"SCS\")\n",
    "        w_dict = ef.min_volatility()\n",
    "    return ef.clean_weights()"
   ]
  },
  {
   "cell_type": "code",
   "execution_count": 13,
   "metadata": {},
   "outputs": [],
   "source": [
    "def run_allocation(\n",
    "    df,\n",
    "    lam_sjm=50,\n",
    "    risk_free_rate=0.02/252,\n",
    "    transaction_cost=0.0007,\n",
    "    bl_tau=0.05\n",
    "):\n",
    "    split_idx = int(len(df) * 0.8)\n",
    "    df_train = df.iloc[:split_idx]\n",
    "    df_test  = df.iloc[split_idx:]\n",
    "\n",
    "    # Train per-asset models\n",
    "    hmm_models_default = []\n",
    "    hmm_models_kmeans  = []\n",
    "    sjm_models         = []\n",
    "    sjm_clippers       = []\n",
    "    sjm_scalers        = []\n",
    "\n",
    "    hmm_states_default_train = np.zeros((split_idx, N_ASSETS), dtype=int)\n",
    "    hmm_states_kmeans_train  = np.zeros((split_idx, N_ASSETS), dtype=int)\n",
    "    sjm_states_train         = np.zeros((split_idx, N_ASSETS), dtype=int)\n",
    "\n",
    "    for i, asset in enumerate(ASSETS):\n",
    "        series_train = df_train[asset]\n",
    "\n",
    "        # HMM default\n",
    "        hmm_d = train_hmm_single_asset_default(series_train)\n",
    "        st_def = hmm_d.predict(series_train.values.reshape(-1, 1))\n",
    "        hmm_models_default.append(hmm_d)\n",
    "        hmm_states_default_train[:, i] = st_def\n",
    "\n",
    "        # HMM kmeans\n",
    "        hmm_k = train_hmm_single_asset_kmeans(series_train)\n",
    "        st_km = hmm_k.predict(series_train.values.reshape(-1, 1))\n",
    "        hmm_models_kmeans.append(hmm_k)\n",
    "        hmm_states_kmeans_train[:, i] = st_km\n",
    "\n",
    "        # SJM\n",
    "        sjm_mod, sjm_clip, sjm_scale = train_sjm_single_asset(\n",
    "            series_train, n_components=2, max_feats=4, lam=lam_sjm\n",
    "        )\n",
    "        feats_train = compute_sjm_features(series_train).replace([np.inf, -np.inf], np.nan).fillna(0.0)\n",
    "        X_train_clip = sjm_clip.transform(feats_train)\n",
    "        X_train_scl  = sjm_scale.transform(X_train_clip)\n",
    "        st_sjm = sjm_mod.predict(X_train_scl)\n",
    "\n",
    "        sjm_models.append(sjm_mod)\n",
    "        sjm_clippers.append(sjm_clip)\n",
    "        sjm_scalers.append(sjm_scale)\n",
    "        sjm_states_train[:, i] = st_sjm\n",
    "\n",
    "    # In-sample regime means\n",
    "    hmm_regime_means_default = []\n",
    "    hmm_regime_means_kmeans  = []\n",
    "    sjm_regime_means         = []\n",
    "\n",
    "    for i in range(N_ASSETS):\n",
    "        asset_train = df_train.iloc[:, i]\n",
    "\n",
    "        # HMM default\n",
    "        m_def, _ = get_regime_means_stds_single_asset(asset_train, hmm_states_default_train[:, i])\n",
    "        hmm_regime_means_default.append(m_def)\n",
    "\n",
    "        # HMM kmeans\n",
    "        m_km, _ = get_regime_means_stds_single_asset(asset_train, hmm_states_kmeans_train[:, i])\n",
    "        hmm_regime_means_kmeans.append(m_km)\n",
    "\n",
    "        # SJM\n",
    "        m_sjm, _ = get_regime_means_stds_single_asset(asset_train, sjm_states_train[:, i])\n",
    "        sjm_regime_means.append(m_sjm)\n",
    "\n",
    "    # Predict states on the test day-by-day\n",
    "    T_test = len(df_test)\n",
    "    hmm_states_default_test = np.zeros((T_test, N_ASSETS), dtype=int)\n",
    "    hmm_states_kmeans_test  = np.zeros((T_test, N_ASSETS), dtype=int)\n",
    "    sjm_states_test         = np.zeros((T_test, N_ASSETS), dtype=int)\n",
    "\n",
    "    # Full series for partial inference\n",
    "    full_series = pd.concat([df_train, df_test], axis=0).reset_index(drop=True)\n",
    "\n",
    "    for i, asset in enumerate(ASSETS):\n",
    "        asset_full = full_series[asset].values\n",
    "\n",
    "        # HMM default\n",
    "        for t in range(T_test):\n",
    "            end_idx = split_idx + t + 1\n",
    "            partial_data = asset_full[:end_idx].reshape(-1, 1)\n",
    "            partial_states = hmm_models_default[i].predict(partial_data)\n",
    "            hmm_states_default_test[t, i] = np.asarray(partial_states)[-1]\n",
    "\n",
    "        # HMM kmeans\n",
    "        for t in range(T_test):\n",
    "            end_idx = split_idx + t + 1\n",
    "            partial_data = asset_full[:end_idx].reshape(-1, 1)\n",
    "            partial_states = hmm_models_kmeans[i].predict(partial_data)\n",
    "            hmm_states_kmeans_test[t, i] = np.asarray(partial_states)[-1]\n",
    "\n",
    "        # SJM\n",
    "        feats_full = compute_sjm_features(pd.Series(asset_full))\n",
    "        feats_full = feats_full.replace([np.inf, -np.inf], np.nan).fillna(0.0)\n",
    "        X_full_clip = sjm_clippers[i].transform(feats_full)\n",
    "        X_full_scl  = sjm_scalers[i].transform(X_full_clip)\n",
    "        for t in range(T_test):\n",
    "            end_idx = split_idx + t + 1\n",
    "            partial_X = X_full_scl[:end_idx]\n",
    "            partial_states = sjm_models[i].predict(partial_X)\n",
    "            sjm_states_test[t, i] = np.asarray(partial_states)[-1]\n",
    "\n",
    "    # Evaluate Strategies\n",
    "\n",
    "    # A) Equal Weight\n",
    "    w_ew = equal_weight_allocation(N_ASSETS)\n",
    "    pv_ew = backtest_portfolio(df_test, w_ew, transaction_cost=transaction_cost)\n",
    "    w_hist_ew = np.tile(w_ew, (T_test, 1))\n",
    "\n",
    "    # B) Inverse Vol\n",
    "    w_iv = inverse_vol_weights(df_test)\n",
    "    pv_iv = backtest_portfolio(df_test, w_iv, transaction_cost=transaction_cost)\n",
    "    w_hist_iv = np.tile(w_iv, (T_test, 1))\n",
    "\n",
    "    # C) Static MVO (trained on df_train)\n",
    "    w_mvo_dict = static_mvo_allocation(df_train, risk_free_rate=risk_free_rate)\n",
    "    w_mvo_arr = np.array([w_mvo_dict[a] for a in df_train.columns])\n",
    "    pv_mvo = backtest_portfolio(df_test, w_mvo_arr, transaction_cost=transaction_cost)\n",
    "    w_hist_mvo = np.tile(w_mvo_arr, (T_test, 1))\n",
    "\n",
    "    # D) HMM-BL (Default)\n",
    "    pv_hmmbl_def, w_hmmbl_def, fallback_hmmbl_def = regime_based_bl_backtest_flatprior(\n",
    "        df_train,\n",
    "        df_test,\n",
    "        hmm_states_default_test,\n",
    "        hmm_states_default_train[-1, :],  # Use last training state for initialization\n",
    "        hmm_regime_means_default,\n",
    "        transaction_cost=transaction_cost,\n",
    "        risk_free_rate=risk_free_rate,\n",
    "        bl_tau=bl_tau,\n",
    "        halflife=126\n",
    "    )\n",
    "\n",
    "    # E) HMM-BL (KMeans)\n",
    "    pv_hmmbl_km, w_hmmbl_km, fallback_hmmbl_km = regime_based_bl_backtest_flatprior(\n",
    "        df_train,\n",
    "        df_test,\n",
    "        hmm_states_kmeans_test,\n",
    "        hmm_states_kmeans_train[-1, :],  # Use last training state for initialization\n",
    "        hmm_regime_means_kmeans,\n",
    "        transaction_cost=transaction_cost,\n",
    "        risk_free_rate=risk_free_rate,\n",
    "        bl_tau=bl_tau,\n",
    "        halflife=126\n",
    "    )\n",
    "\n",
    "    # F) SJM-BL\n",
    "    pv_sjmbl, w_sjmbl, fallback_sjmbl = regime_based_bl_backtest_flatprior(\n",
    "        df_train,\n",
    "        df_test,\n",
    "        sjm_states_test,\n",
    "        sjm_states_train[-1, :],  # Use last training state for initialization\n",
    "        sjm_regime_means,\n",
    "        transaction_cost=transaction_cost,\n",
    "        risk_free_rate=risk_free_rate,\n",
    "        bl_tau=bl_tau,\n",
    "        halflife=126\n",
    "    )\n",
    "\n",
    "    perf = {\n",
    "        \"EW\": compute_performance_metrics(pv_ew, w_hist_ew),\n",
    "        \"IV\": compute_performance_metrics(pv_iv, w_hist_iv),\n",
    "        \"MVO\": compute_performance_metrics(pv_mvo, w_hist_mvo),\n",
    "        \"HMM-BL-Default\": compute_performance_metrics(pv_hmmbl_def, w_hmmbl_def),\n",
    "        \"HMM-BL-KMeans\":  compute_performance_metrics(pv_hmmbl_km, w_hmmbl_km),\n",
    "        \"SJM-BL\":         compute_performance_metrics(pv_sjmbl, w_sjmbl)\n",
    "    }\n",
    "\n",
    "    # Bundle fallback events from the regime-based strategies\n",
    "    fallback_events = {\n",
    "        \"HMM-BL-Default\": fallback_hmmbl_def,\n",
    "        \"HMM-BL-KMeans\": fallback_hmmbl_km,\n",
    "        \"SJM-BL\": fallback_sjmbl\n",
    "    }\n",
    "\n",
    "    return perf, fallback_events"
   ]
  },
  {
   "cell_type": "markdown",
   "metadata": {},
   "source": [
    "#### 10. FUll scenario 1-state, 2-state, 3-state"
   ]
  },
  {
   "cell_type": "code",
   "execution_count": 14,
   "metadata": {},
   "outputs": [],
   "source": [
    "def run_scenario_123(\n",
    "    T_sim=1000,\n",
    "    lam_sjm=50,\n",
    "    risk_free_rate=0.02/252,\n",
    "    transaction_cost=0.0007,\n",
    "    bl_tau=0.05,\n",
    "    seed1=None,\n",
    "    seed2=None,\n",
    "    seed3=None\n",
    "):\n",
    "    df1_full = simulate_1state_data(T_sim, seed=seed1)\n",
    "    perf_1 = run_allocation(\n",
    "        df1_full,\n",
    "        lam_sjm=lam_sjm,\n",
    "        risk_free_rate=risk_free_rate,\n",
    "        transaction_cost=transaction_cost,\n",
    "        bl_tau=bl_tau\n",
    "    )\n",
    "\n",
    "    df2_full, _ = simulate_2state_data(T_sim, seed=seed2)\n",
    "    perf_2 = run_allocation(\n",
    "        df2_full,\n",
    "        lam_sjm=lam_sjm,\n",
    "        risk_free_rate=risk_free_rate,\n",
    "        transaction_cost=transaction_cost,\n",
    "        bl_tau=bl_tau\n",
    "    )\n",
    "\n",
    "    df3_full, _ = simulate_3state_data(T_sim, seed=seed3)\n",
    "    perf_3 = run_allocation(\n",
    "        df3_full,\n",
    "        lam_sjm=lam_sjm,\n",
    "        risk_free_rate=risk_free_rate,\n",
    "        transaction_cost=transaction_cost,\n",
    "        bl_tau=bl_tau\n",
    "    )\n",
    "\n",
    "    return {\n",
    "        \"1state\": perf_1,\n",
    "        \"2state\": perf_2,\n",
    "        \"3state\": perf_3\n",
    "    }\n",
    "\n",
    "\n",
    "def single_monte_carlo_run(\n",
    "    run_id,\n",
    "    T_sim=1000,\n",
    "    lam_sjm=50,\n",
    "    risk_free_rate=0.02/252,\n",
    "    transaction_cost=0.0007,\n",
    "    bl_tau=0.05\n",
    "):\n",
    "    print(f\"Running simulation {run_id}...\")\n",
    "    seed_for_1state = run_id * 1000 + 11\n",
    "    seed_for_2state = run_id * 1000 + 22\n",
    "    seed_for_3state = run_id * 1000 + 33\n",
    "\n",
    "    results = run_scenario_123(\n",
    "        T_sim=T_sim,\n",
    "        lam_sjm=lam_sjm,\n",
    "        risk_free_rate=risk_free_rate,\n",
    "        transaction_cost=transaction_cost,\n",
    "        bl_tau=bl_tau,\n",
    "        seed1=seed_for_1state,\n",
    "        seed2=seed_for_2state,\n",
    "        seed3=seed_for_3state\n",
    "    )\n",
    "    return results\n",
    "\n",
    "\n",
    "def run_monte_carlo_study(\n",
    "    n_runs=10,\n",
    "    T_sim=1000,\n",
    "    lam_sjm=50,\n",
    "    risk_free_rate=0.02/252,\n",
    "    transaction_cost=0.0007,\n",
    "    bl_tau=0.05\n",
    "):\n",
    "    print(f\"Detected {multiprocessing.cpu_count()} cores\")\n",
    "    all_results = Parallel(n_jobs=-1)(\n",
    "        delayed(single_monte_carlo_run)(\n",
    "            i+1, T_sim, lam_sjm, risk_free_rate, transaction_cost, bl_tau\n",
    "        )\n",
    "        for i in range(n_runs)\n",
    "    )\n",
    "\n",
    "    strategies = [\"EW\", \"IV\", \"MVO\", \"HMM-BL-Default\", \"HMM-BL-KMeans\", \"SJM-BL\"]\n",
    "    scenarios  = [\"1state\", \"2state\", \"3state\"]\n",
    "\n",
    "    sharpe_data = {sc: {st: [] for st in strategies} for sc in scenarios}\n",
    "    all_metrics = {sc: {} for sc in scenarios}\n",
    "    for sc in scenarios:\n",
    "        all_metrics[sc] = {}\n",
    "        for st in strategies:\n",
    "            all_metrics[sc][st] = {\n",
    "                \"Annualized Return\": [],\n",
    "                \"Cumulative Return\": [],\n",
    "                \"Volatility\": [],\n",
    "                \"Downside Deviation\": [],\n",
    "                \"Max Drawdown\": [],\n",
    "                \"Sharpe Ratio\": [],\n",
    "                \"Sortino Ratio\": [],\n",
    "                \"Calmar Ratio\": [],\n",
    "                \"Turnover Rate\": [],\n",
    "            }\n",
    "\n",
    "    # Gather distribution of metrics\n",
    "    for run_res in all_results:\n",
    "        for sc in scenarios:\n",
    "            # Unpack the tuple (perf, fallback_events)\n",
    "            perf, fallback_events = run_res[sc]\n",
    "            for st in strategies:\n",
    "                metrics_dict = perf[st]\n",
    "                sharpe_data[sc][st].append(metrics_dict[\"Sharpe Ratio\"])\n",
    "                for mkey in all_metrics[sc][st]:\n",
    "                    all_metrics[sc][st][mkey].append(metrics_dict[mkey])\n",
    "\n",
    "    # Wilcoxon tests\n",
    "    print(\"\\n==== Wilcoxon Tests (SJM-BL vs. others) ====\")\n",
    "    wilcoxon_rows = []\n",
    "    for sc in scenarios:\n",
    "        sjm_sharpes = sharpe_data[sc][\"SJM-BL\"]\n",
    "        for st in strategies:\n",
    "            if st == \"SJM-BL\":\n",
    "                continue\n",
    "            other_sharpes = sharpe_data[sc][st]\n",
    "            try:\n",
    "                stat, pval = wilcoxon(sjm_sharpes, other_sharpes, alternative='two-sided')\n",
    "            except ValueError:\n",
    "                stat, pval = np.nan, np.nan\n",
    "            print(f\"{sc} | SJM-BL vs {st}: stat={stat:.4f}, p={pval:.4g}\")\n",
    "            wilcoxon_rows.append({\n",
    "                \"Scenario\": sc,\n",
    "                \"Comparison\": f\"SJM-BL vs {st}\",\n",
    "                \"Statistic\": stat,\n",
    "                \"p-value\": pval\n",
    "            })\n",
    "\n",
    "    df_wilcoxon = pd.DataFrame(wilcoxon_rows)\n",
    "    print(\"\\nWilcoxon Results Table:\")\n",
    "    print(df_wilcoxon.to_string(index=False))\n",
    "\n",
    "    # Print average metrics\n",
    "    print(\"\\n==== Average Performance Metrics (across runs) ====\")\n",
    "    for sc in scenarios:\n",
    "        rows = []\n",
    "        for st in strategies:\n",
    "            metric_means = {}\n",
    "            for mkey, vals in all_metrics[sc][st].items():\n",
    "                metric_means[mkey] = np.mean(vals)\n",
    "            row = {\"Strategy\": st}\n",
    "            row.update(metric_means)\n",
    "            rows.append(row)\n",
    "        df_avg = pd.DataFrame(rows)\n",
    "        df_avg.set_index(\"Strategy\", inplace=True)\n",
    "        print(f\"\\n--- {sc.upper()} ---\")\n",
    "        print(df_avg.to_string())\n",
    "\n",
    "    return sharpe_data, all_metrics, all_results, df_wilcoxon"
   ]
  },
  {
   "cell_type": "markdown",
   "metadata": {},
   "source": [
    "#### Main Exectution"
   ]
  },
  {
   "cell_type": "code",
   "execution_count": null,
   "metadata": {},
   "outputs": [
    {
     "name": "stdout",
     "output_type": "stream",
     "text": [
      "Detected 8 cores\n"
     ]
    },
    {
     "name": "stdout",
     "output_type": "stream",
     "text": [
      "Running simulation 5...\n",
      "Running simulation 2...\n",
      "Running simulation 4...\n",
      "Running simulation 7...\n",
      "Running simulation 6...\n",
      "Running simulation 3...\n",
      "Running simulation 1...\n",
      "Running simulation 8...\n"
     ]
    },
    {
     "name": "stderr",
     "output_type": "stream",
     "text": [
      "Model is not converging.  Current: 13399.97468682194 is not greater than 13400.026712611634. Delta is -0.05202578969328897\n",
      "Model is not converging.  Current: 13461.444512960772 is not greater than 13461.462574048224. Delta is -0.018061087452224456\n",
      "Model is not converging.  Current: 13417.123647420682 is not greater than 13417.135908083997. Delta is -0.012260663315828424\n",
      "Model is not converging.  Current: 13430.843406489204 is not greater than 13430.876458913983. Delta is -0.033052424778361456\n",
      "Model is not converging.  Current: 13477.861014403064 is not greater than 13477.897984230327. Delta is -0.03696982726251008\n",
      "Model is not converging.  Current: 13458.44335717629 is not greater than 13458.466881097735. Delta is -0.02352392144530313\n",
      "Model is not converging.  Current: 13384.283015944642 is not greater than 13384.291657760492. Delta is -0.008641815849841805\n",
      "Model is not converging.  Current: 13384.939811275972 is not greater than 13384.963567917232. Delta is -0.023756641259751632\n",
      "Model is not converging.  Current: 13447.338113765592 is not greater than 13447.353301179308. Delta is -0.015187413715466391\n",
      "Model is not converging.  Current: 13375.547607300168 is not greater than 13375.567555383988. Delta is -0.019948083820054308\n",
      "Model is not converging.  Current: 13421.02177870159 is not greater than 13421.03472617778. Delta is -0.012947476190674934\n",
      "Model is not converging.  Current: 13462.898706862929 is not greater than 13462.93507963494. Delta is -0.036372772012327914\n",
      "Model is not converging.  Current: 13416.502634233335 is not greater than 13416.580299258192. Delta is -0.07766502485719684\n",
      "Model is not converging.  Current: 13480.39719515895 is not greater than 13480.401366854374. Delta is -0.004171695423792698\n",
      "Model is not converging.  Current: 13451.588503478912 is not greater than 13451.590400511674. Delta is -0.0018970327619172167\n",
      "Model is not converging.  Current: 13492.680395457206 is not greater than 13492.753342455084. Delta is -0.07294699787780701\n",
      "Model is not converging.  Current: 13428.905073388998 is not greater than 13428.917221144113. Delta is -0.01214775511471089\n",
      "Model is not converging.  Current: 13482.359134842107 is not greater than 13482.367062601059. Delta is -0.007927758952064323\n",
      "Model is not converging.  Current: 13476.085714253271 is not greater than 13476.164444167523. Delta is -0.07872991425210785\n",
      "Model is not converging.  Current: 13448.95435023117 is not greater than 13448.955919831802. Delta is -0.0015696006321377354\n",
      "Model is not converging.  Current: 13467.850384575173 is not greater than 13467.974295631035. Delta is -0.123911055861754\n",
      "Model is not converging.  Current: 13430.970806585665 is not greater than 13431.03993357022. Delta is -0.0691269845556235\n"
     ]
    },
    {
     "name": "stdout",
     "output_type": "stream",
     "text": [
      "Error in LDL factorization when computing the nonzero elements. The problem seems to be non-convex.\n",
      "factor_status: 0, num_vars: 7\n",
      "Error in LDL initial factorization.\n",
      "ERROR: init_lin_sys_work failure\n",
      "Falling back to min_volatility due to: ScsWork allocation error!\n",
      "Error in LDL factorization when computing the nonzero elements. The problem seems to be non-convex.\n",
      "factor_status: 0, num_vars: 7\n",
      "Error in LDL initial factorization.\n",
      "ERROR: init_lin_sys_work failure\n",
      "Falling back to min_volatility due to: ScsWork allocation error!\n",
      "Error in LDL factorization when computing the nonzero elements. The problem seems to be non-convex.\n",
      "factor_status: 0, num_vars: 7\n",
      "Error in LDL initial factorization.\n",
      "ERROR: init_lin_sys_work failure\n",
      "Falling back to min_volatility due to: ScsWork allocation error!\n",
      "Error in LDL factorization when computing the nonzero elements. The problem seems to be non-convex.\n",
      "factor_status: 0, num_vars: 7\n",
      "Error in LDL initial factorization.\n",
      "ERROR: init_lin_sys_work failure\n",
      "Falling back to min_volatility due to: ScsWork allocation error!\n",
      "Error in LDL factorization when computing the nonzero elements. The problem seems to be non-convex.\n",
      "factor_status: 0, num_vars: 7\n",
      "Error in LDL initial factorization.\n",
      "ERROR: init_lin_sys_work failure\n",
      "Falling back to min_volatility due to: ScsWork allocation error!\n",
      "Error in LDL factorization when computing the nonzero elements. The problem seems to be non-convex.\n",
      "factor_status: 0, num_vars: 7\n",
      "Error in LDL initial factorization.\n",
      "ERROR: init_lin_sys_work failure\n",
      "Falling back to min_volatility due to: ScsWork allocation error!\n",
      "Error in LDL factorization when computing the nonzero elements. The problem seems to be non-convex.\n",
      "factor_status: 0, num_vars: 7\n",
      "Error in LDL initial factorization.\n",
      "ERROR: init_lin_sys_work failure\n",
      "Falling back to min_volatility due to: ScsWork allocation error!\n",
      "Error in LDL factorization when computing the nonzero elements. The problem seems to be non-convex.\n",
      "factor_status: 0, num_vars: 7\n",
      "Error in LDL initial factorization.\n",
      "ERROR: init_lin_sys_work failure\n",
      "Falling back to min_volatility due to: ScsWork allocation error!\n"
     ]
    },
    {
     "name": "stderr",
     "output_type": "stream",
     "text": [
      "Model is not converging.  Current: 13519.865165012987 is not greater than 13519.95135763685. Delta is -0.08619262386309856\n",
      "Model is not converging.  Current: 13322.759857633637 is not greater than 13322.791455116407. Delta is -0.031597482769939234\n",
      "Model is not converging.  Current: 13322.75963222329 is not greater than 13322.787329813167. Delta is -0.02769758987778914\n",
      "Model is not converging.  Current: 13392.537879476446 is not greater than 13392.62322514505. Delta is -0.08534566860362247\n",
      "Model is not converging.  Current: 13392.563560121065 is not greater than 13392.637893202103. Delta is -0.07433308103827585\n",
      "Model is not converging.  Current: 13448.980465230197 is not greater than 13449.056881712593. Delta is -0.07641648239587084\n",
      "Model is not converging.  Current: 13448.071973352226 is not greater than 13448.135226222103. Delta is -0.06325286987703294\n",
      "Model is not converging.  Current: 13272.79084790031 is not greater than 13272.799533903004. Delta is -0.008686002693139017\n",
      "Model is not converging.  Current: 13556.557441620107 is not greater than 13556.55910009154. Delta is -0.0016584714321652427\n",
      "Model is not converging.  Current: 13556.552089422566 is not greater than 13556.556328213921. Delta is -0.004238791354509885\n",
      "Model is not converging.  Current: 13265.597026257688 is not greater than 13265.659958279835. Delta is -0.06293202214692428\n",
      "Model is not converging.  Current: 13262.408930947933 is not greater than 13262.465672323062. Delta is -0.056741375128694926\n",
      "Model is not converging.  Current: 13702.562410045384 is not greater than 13702.632431568874. Delta is -0.07002152349014068\n",
      "Model is not converging.  Current: 13702.546851581392 is not greater than 13702.598364801435. Delta is -0.05151322004348913\n",
      "Model is not converging.  Current: 13584.595659604283 is not greater than 13584.689496994924. Delta is -0.09383739064105612\n",
      "Model is not converging.  Current: 13584.609239779866 is not greater than 13584.691938309361. Delta is -0.08269852949524648\n",
      "Model is not converging.  Current: 13516.67396583896 is not greater than 13516.680757591486. Delta is -0.006791752526623895\n",
      "Model is not converging.  Current: 13572.441225338818 is not greater than 13572.454665262112. Delta is -0.013439923293844913\n",
      "Model is not converging.  Current: 13442.79226397249 is not greater than 13442.81669565347. Delta is -0.024431680980342207\n",
      "Model is not converging.  Current: 13475.803503442388 is not greater than 13475.807757561965. Delta is -0.004254119576216908\n",
      "Model is not converging.  Current: 13475.802548561913 is not greater than 13475.804507009967. Delta is -0.0019584480542107485\n",
      "Model is not converging.  Current: 13732.098743094904 is not greater than 13732.208773288065. Delta is -0.11003019316012796\n",
      "Model is not converging.  Current: 13531.08704238805 is not greater than 13531.122596417064. Delta is -0.03555402901474736\n",
      "Model is not converging.  Current: 13531.070328997173 is not greater than 13531.093359238008. Delta is -0.023030240834486904\n",
      "Model is not converging.  Current: 13732.106277962464 is not greater than 13732.20591851379. Delta is -0.0996405513251375\n",
      "Model is not converging.  Current: 13418.443206536373 is not greater than 13418.601909647203. Delta is -0.1587031108301744\n",
      "Model is not converging.  Current: 13418.385024807616 is not greater than 13418.457903843384. Delta is -0.07287903576798271\n",
      "Model is not converging.  Current: 13303.3115747099 is not greater than 13303.312956495032. Delta is -0.001381785132252844\n",
      "Model is not converging.  Current: 13303.311499094403 is not greater than 13303.312078515448. Delta is -0.0005794210446765646\n",
      "Model is not converging.  Current: 13611.45113813625 is not greater than 13611.513514410797. Delta is -0.06237627454720496\n",
      "Model is not converging.  Current: 13611.457344525026 is not greater than 13611.5005757294. Delta is -0.043231204374023946\n",
      "Model is not converging.  Current: 13598.064079155685 is not greater than 13598.065692803593. Delta is -0.0016136479080159916\n",
      "Model is not converging.  Current: 13598.063628141208 is not greater than 13598.065002793406. Delta is -0.0013746521981374826\n",
      "Model is not converging.  Current: 13121.234198300472 is not greater than 13121.239950820192. Delta is -0.005752519720772398\n",
      "Model is not converging.  Current: 13121.235421431575 is not greater than 13121.23924133756. Delta is -0.0038199059854377992\n",
      "Model is not converging.  Current: 13704.058601517845 is not greater than 13704.064791557661. Delta is -0.00619003981591959\n",
      "Model is not converging.  Current: 13315.851916878188 is not greater than 13315.859576429619. Delta is -0.007659551431061118\n",
      "Model is not converging.  Current: 13315.851473588293 is not greater than 13315.858499756625. Delta is -0.007026168332231464\n",
      "Model is not converging.  Current: 13434.800814051017 is not greater than 13434.803674697487. Delta is -0.0028606464693439193\n",
      "Model is not converging.  Current: 13463.031461219227 is not greater than 13463.093396163442. Delta is -0.06193494421495416\n",
      "Model is not converging.  Current: 13463.06833941711 is not greater than 13463.070567932962. Delta is -0.0022285158520389814\n",
      "Model is not converging.  Current: 13529.881813829626 is not greater than 13529.896279148596. Delta is -0.014465318969087093\n",
      "Model is not converging.  Current: 13571.513178326039 is not greater than 13571.558170250706. Delta is -0.044991924667556304\n",
      "Model is not converging.  Current: 13475.75489396396 is not greater than 13475.80264199011. Delta is -0.0477480261506571\n",
      "Model is not converging.  Current: 13559.241010036892 is not greater than 13559.332736270173. Delta is -0.09172623328049667\n",
      "Model is not converging.  Current: 13475.730531832989 is not greater than 13475.758228534418. Delta is -0.027696701428794768\n",
      "Model is not converging.  Current: 13559.184286229603 is not greater than 13559.275283065886. Delta is -0.09099683628301136\n",
      "Model is not converging.  Current: 13534.898041609153 is not greater than 13534.937700939676. Delta is -0.039659330523136305\n",
      "Model is not converging.  Current: 13534.89585601338 is not greater than 13534.927795598669. Delta is -0.031939585289364913\n",
      "Model is not converging.  Current: 13622.507266713284 is not greater than 13622.542640524904. Delta is -0.035373811619137996\n",
      "Model is not converging.  Current: 13443.042146669197 is not greater than 13443.047069889788. Delta is -0.00492322059108119\n",
      "Model is not converging.  Current: 13443.043099432527 is not greater than 13443.04429657766. Delta is -0.001197145133119193\n",
      "Model is not converging.  Current: 13309.83837379229 is not greater than 13309.841978419328. Delta is -0.003604627037930186\n",
      "Model is not converging.  Current: 13309.835396938764 is not greater than 13309.838862335113. Delta is -0.0034653963484743144\n",
      "Model is not converging.  Current: 13596.253386994358 is not greater than 13596.26246765015. Delta is -0.009080655790967285\n",
      "Model is not converging.  Current: 13457.350676015336 is not greater than 13457.3654521423. Delta is -0.014776126963624847\n"
     ]
    },
    {
     "name": "stdout",
     "output_type": "stream",
     "text": [
      "Falling back to min_volatility due to: at least one of the assets must have an expected return exceeding the risk-free rate\n"
     ]
    },
    {
     "name": "stderr",
     "output_type": "stream",
     "text": [
      "Model is not converging.  Current: 13741.750631399585 is not greater than 13741.768260005809. Delta is -0.017628606223297538\n",
      "Model is not converging.  Current: 13741.751665553356 is not greater than 13741.76293460549. Delta is -0.01126905213277496\n"
     ]
    },
    {
     "name": "stdout",
     "output_type": "stream",
     "text": [
      "Error in LDL factorization when computing the nonzero elements. The problem seems to be non-convex.\n",
      "factor_status: 0, num_vars: 7\n",
      "Error in LDL initial factorization.\n",
      "ERROR: init_lin_sys_work failure\n",
      "Falling back to min_volatility due to: ScsWork allocation error!\n"
     ]
    },
    {
     "name": "stderr",
     "output_type": "stream",
     "text": [
      "Model is not converging.  Current: 14257.679120173147 is not greater than 14257.756560733404. Delta is -0.0774405602569459\n",
      "Model is not converging.  Current: 14257.680521466731 is not greater than 14257.761130954541. Delta is -0.080609487809852\n",
      "Model is not converging.  Current: 14142.27742274296 is not greater than 14142.342628491953. Delta is -0.06520574899332132\n",
      "Model is not converging.  Current: 13614.772276801765 is not greater than 13614.772998134502. Delta is -0.0007213327371573541\n",
      "Model is not converging.  Current: 13614.772198560278 is not greater than 13614.77220792848. Delta is -9.368201062898152e-06\n"
     ]
    },
    {
     "name": "stdout",
     "output_type": "stream",
     "text": [
      "Error in LDL factorization when computing the nonzero elements. The problem seems to be non-convex.\n",
      "factor_status: 0, num_vars: 7\n",
      "Error in LDL initial factorization.\n",
      "ERROR: init_lin_sys_work failure\n",
      "Falling back to min_volatility due to: ScsWork allocation error!\n",
      "Error in LDL factorization when computing the nonzero elements. The problem seems to be non-convex.\n",
      "factor_status: 0, num_vars: 7\n",
      "Error in LDL initial factorization.\n",
      "ERROR: init_lin_sys_work failure\n",
      "Falling back to min_volatility due to: ScsWork allocation error!\n",
      "Error in LDL factorization when computing the nonzero elements. The problem seems to be non-convex.\n",
      "factor_status: 0, num_vars: 7\n",
      "Error in LDL initial factorization.\n",
      "ERROR: init_lin_sys_work failure\n",
      "Falling back to min_volatility due to: ScsWork allocation error!\n",
      "Error in LDL factorization when computing the nonzero elements. The problem seems to be non-convex.\n",
      "factor_status: 0, num_vars: 7\n",
      "Error in LDL initial factorization.\n",
      "ERROR: init_lin_sys_work failure\n",
      "Falling back to min_volatility due to: ScsWork allocation error!\n"
     ]
    },
    {
     "name": "stderr",
     "output_type": "stream",
     "text": [
      "Model is not converging.  Current: 13945.045455969072 is not greater than 13945.047384781057. Delta is -0.001928811985635548\n",
      "Model is not converging.  Current: 13945.046307688137 is not greater than 13945.046657051273. Delta is -0.00034936313568323385\n",
      "Model is not converging.  Current: 13709.990471421164 is not greater than 13709.99105921904. Delta is -0.0005877978765056469\n"
     ]
    },
    {
     "name": "stdout",
     "output_type": "stream",
     "text": [
      "Error in LDL factorization when computing the nonzero elements. The problem seems to be non-convex.\n",
      "factor_status: 0, num_vars: 7\n",
      "Error in LDL initial factorization.\n",
      "ERROR: init_lin_sys_work failure\n",
      "Falling back to min_volatility due to: ScsWork allocation error!\n"
     ]
    },
    {
     "name": "stderr",
     "output_type": "stream",
     "text": [
      "Model is not converging.  Current: 13772.69842963362 is not greater than 13772.729349322432. Delta is -0.030919688811991364\n",
      "Model is not converging.  Current: 13772.69915504393 is not greater than 13772.722349527896. Delta is -0.023194483965198742\n"
     ]
    },
    {
     "name": "stdout",
     "output_type": "stream",
     "text": [
      "Falling back to min_volatility due to: at least one of the assets must have an expected return exceeding the risk-free rate\n"
     ]
    },
    {
     "name": "stderr",
     "output_type": "stream",
     "text": [
      "Model is not converging.  Current: 14131.371251123286 is not greater than 14131.452067532215. Delta is -0.08081640892851283\n",
      "Model is not converging.  Current: 14131.36837895754 is not greater than 14131.443596114896. Delta is -0.07521715735492762\n",
      "Model is not converging.  Current: 13336.045762378551 is not greater than 13336.156657045653. Delta is -0.11089466710109264\n",
      "Model is not converging.  Current: 13336.10958530411 is not greater than 13336.191098612777. Delta is -0.0815133086671267\n",
      "Model is not converging.  Current: 13494.609936389952 is not greater than 13494.623917389194. Delta is -0.013980999241539394\n",
      "Model is not converging.  Current: 13494.609861557274 is not greater than 13494.621784495128. Delta is -0.011922937854251359\n",
      "Model is not converging.  Current: 14062.05003964017 is not greater than 14062.15555687868. Delta is -0.105517238511311\n",
      "Model is not converging.  Current: 14058.87785295788 is not greater than 14058.975934144502. Delta is -0.09808118662294874\n",
      "Model is not converging.  Current: 13992.084627582042 is not greater than 13992.106589216548. Delta is -0.021961634505714756\n",
      "Model is not converging.  Current: 13992.078837708925 is not greater than 13992.093729649048. Delta is -0.014891940123561653\n",
      "Model is not converging.  Current: 13939.868558371383 is not greater than 13939.879214657245. Delta is -0.010656285861841752\n",
      "Model is not converging.  Current: 13939.85888361654 is not greater than 13939.871940159028. Delta is -0.013056542487902334\n",
      "Model is not converging.  Current: 13956.317011935489 is not greater than 13956.319923274774. Delta is -0.0029113392847648356\n",
      "Model is not converging.  Current: 13956.316911429525 is not greater than 13956.317934736382. Delta is -0.0010233068569505122\n",
      "Model is not converging.  Current: 13619.665750387756 is not greater than 13619.667220029474. Delta is -0.0014696417183586163\n",
      "Model is not converging.  Current: 13619.665625296971 is not greater than 13619.666098149293. Delta is -0.00047285232176363934\n",
      "Model is not converging.  Current: 13887.431322267443 is not greater than 13887.497692266612. Delta is -0.06636999916918285\n",
      "Model is not converging.  Current: 13887.453560278287 is not greater than 13887.546947144665. Delta is -0.09338686637784122\n",
      "Model is not converging.  Current: 14134.674649417113 is not greater than 14134.710797065225. Delta is -0.0361476481120917\n",
      "Model is not converging.  Current: 14134.67883895166 is not greater than 14134.718663543168. Delta is -0.039824591507567675\n",
      "Model is not converging.  Current: 13699.693850007472 is not greater than 13699.706096969458. Delta is -0.012246961985511007\n",
      "Model is not converging.  Current: 13699.693300290806 is not greater than 13699.704548747157. Delta is -0.011248456350585911\n",
      "Model is not converging.  Current: 13712.910206409555 is not greater than 13712.916178709978. Delta is -0.005972300423309207\n",
      "Model is not converging.  Current: 13652.097951125903 is not greater than 13652.100189240964. Delta is -0.002238115061118151\n",
      "Model is not converging.  Current: 13724.4242950718 is not greater than 13724.446082750834. Delta is -0.021787679033877794\n",
      "Model is not converging.  Current: 13724.422794009863 is not greater than 13724.431216771287. Delta is -0.008422761424299097\n",
      "Model is not converging.  Current: 14062.413687544711 is not greater than 14062.453779025558. Delta is -0.0400914808469679\n",
      "Model is not converging.  Current: 14062.40193019863 is not greater than 14062.436313695742. Delta is -0.034383497111775796\n",
      "Model is not converging.  Current: 13374.451656651025 is not greater than 13374.469915605301. Delta is -0.018258954276461736\n",
      "Model is not converging.  Current: 13374.45116903461 is not greater than 13374.465832138318. Delta is -0.01466310370778956\n",
      "Model is not converging.  Current: 14183.233080715514 is not greater than 14183.280000342713. Delta is -0.04691962719880394\n",
      "Model is not converging.  Current: 14183.23143975363 is not greater than 14183.27396257718. Delta is -0.042522823549006716\n",
      "Model is not converging.  Current: 13612.026207197936 is not greater than 13612.030883824506. Delta is -0.004676626569562359\n",
      "Model is not converging.  Current: 13612.02634367217 is not greater than 13612.031792690063. Delta is -0.005449017891805852\n",
      "Model is not converging.  Current: 13901.056876869661 is not greater than 13901.070480083006. Delta is -0.01360321334504988\n",
      "Model is not converging.  Current: 13901.05794910146 is not greater than 13901.078263440204. Delta is -0.020314338744356064\n",
      "Model is not converging.  Current: 14000.318890283796 is not greater than 14000.330206126358. Delta is -0.011315842562908074\n",
      "Model is not converging.  Current: 14000.319363877017 is not greater than 14000.32617280894. Delta is -0.00680893192293297\n",
      "Model is not converging.  Current: 13572.300666690056 is not greater than 13572.411058834687. Delta is -0.11039214463016833\n",
      "Model is not converging.  Current: 13900.41576247249 is not greater than 13900.496272367729. Delta is -0.08050989523871976\n",
      "Model is not converging.  Current: 13572.328995692958 is not greater than 13572.408420305022. Delta is -0.07942461206403095\n",
      "Model is not converging.  Current: 13900.413519619584 is not greater than 13900.488647242146. Delta is -0.07512762256192218\n",
      "Model is not converging.  Current: 14091.004529071506 is not greater than 14091.04980752159. Delta is -0.045278450083060306\n",
      "Model is not converging.  Current: 14091.001159637188 is not greater than 14091.0230144407. Delta is -0.02185480351181468\n",
      "Model is not converging.  Current: 13710.198431515953 is not greater than 13710.2189321441. Delta is -0.02050062814669218\n",
      "Model is not converging.  Current: 13710.194144669333 is not greater than 13710.212543611116. Delta is -0.018398941783743794\n",
      "Model is not converging.  Current: 13378.66008174979 is not greater than 13378.668050543021. Delta is -0.007968793232066673\n",
      "Model is not converging.  Current: 13378.660309155888 is not greater than 13378.669709560925. Delta is -0.009400405037013115\n",
      "Model is not converging.  Current: 14055.81580381817 is not greater than 14055.816681362207. Delta is -0.0008775440364843234\n"
     ]
    },
    {
     "name": "stdout",
     "output_type": "stream",
     "text": [
      "Error in LDL factorization when computing the nonzero elements. The problem seems to be non-convex.\n",
      "factor_status: 0, num_vars: 7\n",
      "Error in LDL initial factorization.\n",
      "ERROR: init_lin_sys_work failure\n",
      "Falling back to min_volatility due to: ScsWork allocation error!\n",
      "Running simulation 9...\n"
     ]
    },
    {
     "name": "stderr",
     "output_type": "stream",
     "text": [
      "Model is not converging.  Current: 13441.111122645774 is not greater than 13441.278215071468. Delta is -0.16709242569413618\n"
     ]
    },
    {
     "name": "stdout",
     "output_type": "stream",
     "text": [
      "Error in LDL factorization when computing the nonzero elements. The problem seems to be non-convex.\n",
      "factor_status: 0, num_vars: 7\n",
      "Error in LDL initial factorization.\n",
      "ERROR: init_lin_sys_work failure\n",
      "Falling back to min_volatility due to: ScsWork allocation error!\n",
      "Error in LDL factorization when computing the nonzero elements. The problem seems to be non-convex.\n",
      "factor_status: 0, num_vars: 7\n",
      "Error in LDL initial factorization.\n",
      "ERROR: init_lin_sys_work failure\n",
      "Falling back to min_volatility due to: ScsWork allocation error!\n",
      "Error in LDL factorization when computing the nonzero elements. The problem seems to be non-convex.\n",
      "factor_status: 0, num_vars: 7\n",
      "Error in LDL initial factorization.\n",
      "ERROR: init_lin_sys_work failure\n",
      "Falling back to min_volatility due to: ScsWork allocation error!\n",
      "Running simulation 10...\n"
     ]
    },
    {
     "name": "stderr",
     "output_type": "stream",
     "text": [
      "Model is not converging.  Current: 13350.612405658294 is not greater than 13350.694256326968. Delta is -0.0818506686737237\n"
     ]
    },
    {
     "name": "stdout",
     "output_type": "stream",
     "text": [
      "Running simulation 11...\n"
     ]
    },
    {
     "name": "stderr",
     "output_type": "stream",
     "text": [
      "Model is not converging.  Current: 13501.287998620848 is not greater than 13501.35608111622. Delta is -0.06808249537243682\n",
      "Model is not converging.  Current: 13460.147096765184 is not greater than 13460.149037876685. Delta is -0.001941111500855186\n"
     ]
    },
    {
     "name": "stdout",
     "output_type": "stream",
     "text": [
      "Falling back to min_volatility due to: at least one of the assets must have an expected return exceeding the risk-free rate\n",
      "Error in LDL factorization when computing the nonzero elements. The problem seems to be non-convex.\n",
      "factor_status: 0, num_vars: 7\n",
      "Error in LDL initial factorization.\n",
      "ERROR: init_lin_sys_work failure\n",
      "Falling back to min_volatility due to: ScsWork allocation error!\n",
      "Running simulation 12...\n",
      "Running simulation 13...\n",
      "Running simulation 14...\n"
     ]
    },
    {
     "name": "stderr",
     "output_type": "stream",
     "text": [
      "Model is not converging.  Current: 13391.312943307968 is not greater than 13391.321683719358. Delta is -0.00874041138922621\n",
      "Model is not converging.  Current: 13424.002702103417 is not greater than 13424.009890215908. Delta is -0.007188112491348875\n",
      "Model is not converging.  Current: 13362.825559522327 is not greater than 13362.836050140642. Delta is -0.010490618315088795\n"
     ]
    },
    {
     "name": "stdout",
     "output_type": "stream",
     "text": [
      "Error in LDL factorization when computing the nonzero elements. The problem seems to be non-convex.\n",
      "factor_status: 0, num_vars: 7\n",
      "Error in LDL initial factorization.\n",
      "ERROR: init_lin_sys_work failure\n",
      "Falling back to min_volatility due to: ScsWork allocation error!\n",
      "Error in LDL factorization when computing the nonzero elements. The problem seems to be non-convex.\n",
      "factor_status: 0, num_vars: 7\n",
      "Error in LDL initial factorization.\n",
      "ERROR: init_lin_sys_work failure\n",
      "Falling back to min_volatility due to: ScsWork allocation error!\n",
      "Running simulation 15...\n"
     ]
    },
    {
     "name": "stderr",
     "output_type": "stream",
     "text": [
      "Model is not converging.  Current: 13428.56798655874 is not greater than 13428.568863662867. Delta is -0.0008771041266300017\n"
     ]
    },
    {
     "name": "stdout",
     "output_type": "stream",
     "text": [
      "Running simulation 16...\n"
     ]
    },
    {
     "name": "stderr",
     "output_type": "stream",
     "text": [
      "Model is not converging.  Current: 13386.609967656319 is not greater than 13386.663039708545. Delta is -0.05307205222561606\n",
      "Model is not converging.  Current: 13421.852146701824 is not greater than 13421.994462960345. Delta is -0.1423162585215323\n",
      "Model is not converging.  Current: 13504.409534598817 is not greater than 13504.422883945816. Delta is -0.013349346998438705\n",
      "Model is not converging.  Current: 13440.440116597048 is not greater than 13440.457665303096. Delta is -0.017548706047818996\n",
      "Model is not converging.  Current: 13466.133829042172 is not greater than 13466.20364730947. Delta is -0.06981826729861496\n",
      "Model is not converging.  Current: 13491.561806120206 is not greater than 13491.580038901171. Delta is -0.018232780965263373\n",
      "Model is not converging.  Current: 13484.500505571692 is not greater than 13484.546952155819. Delta is -0.046446584126897505\n",
      "Model is not converging.  Current: 13489.590602488648 is not greater than 13489.611823687817. Delta is -0.021221199169303873\n"
     ]
    },
    {
     "name": "stdout",
     "output_type": "stream",
     "text": [
      "Error in LDL factorization when computing the nonzero elements. The problem seems to be non-convex.\n",
      "factor_status: 0, num_vars: 7\n",
      "Error in LDL initial factorization.\n",
      "ERROR: init_lin_sys_work failure\n",
      "Falling back to min_volatility due to: ScsWork allocation error!\n",
      "Error in LDL factorization when computing the nonzero elements. The problem seems to be non-convex.\n",
      "factor_status: 0, num_vars: 7\n",
      "Error in LDL initial factorization.\n",
      "ERROR: init_lin_sys_work failure\n",
      "Falling back to min_volatility due to: ScsWork allocation error!\n",
      "Error in LDL factorization when computing the nonzero elements. The problem seems to be non-convex.\n",
      "factor_status: 0, num_vars: 7\n",
      "Error in LDL initial factorization.\n",
      "ERROR: init_lin_sys_work failure\n",
      "Falling back to min_volatility due to: ScsWork allocation error!\n",
      "Error in LDL factorization when computing the nonzero elements. The problem seems to be non-convex.\n",
      "factor_status: 0, num_vars: 7\n",
      "Error in LDL initial factorization.\n",
      "ERROR: init_lin_sys_work failure\n",
      "Falling back to min_volatility due to: ScsWork allocation error!\n"
     ]
    },
    {
     "name": "stderr",
     "output_type": "stream",
     "text": [
      "Model is not converging.  Current: 13211.801729152845 is not greater than 13211.808887753497. Delta is -0.007158600652473979\n",
      "Model is not converging.  Current: 13211.799098159043 is not greater than 13211.80040125085. Delta is -0.0013030918071308406\n"
     ]
    },
    {
     "name": "stdout",
     "output_type": "stream",
     "text": [
      "Error in LDL factorization when computing the nonzero elements. The problem seems to be non-convex.\n",
      "factor_status: 0, num_vars: 7\n",
      "Error in LDL initial factorization.\n",
      "ERROR: init_lin_sys_work failure\n",
      "Falling back to min_volatility due to: ScsWork allocation error!\n"
     ]
    },
    {
     "name": "stderr",
     "output_type": "stream",
     "text": [
      "Model is not converging.  Current: 13577.59246282711 is not greater than 13577.598274656923. Delta is -0.005811829812955693\n",
      "Model is not converging.  Current: 13577.55265647617 is not greater than 13577.594880850793. Delta is -0.04222437462340167\n"
     ]
    },
    {
     "name": "stdout",
     "output_type": "stream",
     "text": [
      "Error in LDL factorization when computing the nonzero elements. The problem seems to be non-convex.\n",
      "factor_status: 0, num_vars: 7\n",
      "Error in LDL initial factorization.\n",
      "ERROR: init_lin_sys_work failure\n",
      "Falling back to min_volatility due to: ScsWork allocation error!\n"
     ]
    },
    {
     "name": "stderr",
     "output_type": "stream",
     "text": [
      "Model is not converging.  Current: 13409.109928019836 is not greater than 13409.19184786603. Delta is -0.08191984619406867\n",
      "Model is not converging.  Current: 13406.379292001327 is not greater than 13406.407375810582. Delta is -0.02808380925489473\n",
      "Model is not converging.  Current: 13545.90938241769 is not greater than 13545.918234059887. Delta is -0.008851642196532339\n",
      "Model is not converging.  Current: 13545.90354086465 is not greater than 13545.911310821466. Delta is -0.007769956815536716\n"
     ]
    },
    {
     "name": "stdout",
     "output_type": "stream",
     "text": [
      "Error in LDL factorization when computing the nonzero elements. The problem seems to be non-convex.\n",
      "factor_status: 0, num_vars: 7\n",
      "Error in LDL initial factorization.\n",
      "ERROR: init_lin_sys_work failure\n",
      "Falling back to min_volatility due to: ScsWork allocation error!\n"
     ]
    },
    {
     "name": "stderr",
     "output_type": "stream",
     "text": [
      "Model is not converging.  Current: 13644.2197973126 is not greater than 13644.220580972204. Delta is -0.0007836596032575471\n"
     ]
    },
    {
     "name": "stdout",
     "output_type": "stream",
     "text": [
      "Error in LDL factorization when computing the nonzero elements. The problem seems to be non-convex.\n",
      "factor_status: 0, num_vars: 7\n",
      "Error in LDL initial factorization.\n",
      "ERROR: init_lin_sys_work failure\n",
      "Falling back to min_volatility due to: ScsWork allocation error!\n"
     ]
    },
    {
     "name": "stderr",
     "output_type": "stream",
     "text": [
      "Model is not converging.  Current: 13301.966043127508 is not greater than 13301.973375570984. Delta is -0.007332443476116168\n",
      "Model is not converging.  Current: 13301.964654959716 is not greater than 13301.970542719122. Delta is -0.005887759405595716\n",
      "Model is not converging.  Current: 13312.443073456847 is not greater than 13312.589361575168. Delta is -0.14628811832153588\n",
      "Model is not converging.  Current: 13312.505283286824 is not greater than 13312.585918518154. Delta is -0.08063523133023409\n",
      "Model is not converging.  Current: 13415.328614903528 is not greater than 13415.351870888931. Delta is -0.023255985403011437\n",
      "Model is not converging.  Current: 13503.129280593677 is not greater than 13503.249855295242. Delta is -0.12057470156469208\n",
      "Model is not converging.  Current: 13415.334955111322 is not greater than 13415.354898290432. Delta is -0.019943179109759512\n",
      "Model is not converging.  Current: 13391.677760024877 is not greater than 13391.774634173527. Delta is -0.0968741486503859\n",
      "Model is not converging.  Current: 13391.718537377163 is not greater than 13391.766628376232. Delta is -0.0480909990692453\n",
      "Model is not converging.  Current: 13649.882073604134 is not greater than 13649.982638170884. Delta is -0.1005645667501085\n",
      "Model is not converging.  Current: 13649.870376329258 is not greater than 13649.956236042022. Delta is -0.0858597127644316\n",
      "Model is not converging.  Current: 13594.293902976991 is not greater than 13594.42549355764. Delta is -0.13159058064775309\n",
      "Model is not converging.  Current: 13544.811008295874 is not greater than 13544.831810630129. Delta is -0.02080233425476763\n",
      "Model is not converging.  Current: 13544.799186594642 is not greater than 13544.831386285532. Delta is -0.03219969088968355\n",
      "Model is not converging.  Current: 13453.689413010161 is not greater than 13453.718958046338. Delta is -0.029545036177296424\n",
      "Model is not converging.  Current: 13453.678655867247 is not greater than 13453.6976770655. Delta is -0.019021198253540206\n",
      "Model is not converging.  Current: 13409.258651301614 is not greater than 13409.326734743008. Delta is -0.06808344139426481\n",
      "Model is not converging.  Current: 13409.251789050106 is not greater than 13409.312043040329. Delta is -0.06025399022291822\n",
      "Model is not converging.  Current: 13419.146944404856 is not greater than 13419.157843357152. Delta is -0.010898952295974595\n",
      "Model is not converging.  Current: 13297.69525708875 is not greater than 13297.816293293254. Delta is -0.12103620450398012\n",
      "Model is not converging.  Current: 13297.764765258036 is not greater than 13297.855796320058. Delta is -0.09103106202201161\n",
      "Model is not converging.  Current: 13408.246918196344 is not greater than 13408.261527068265. Delta is -0.014608871921154787\n",
      "Model is not converging.  Current: 13558.28918793125 is not greater than 13558.290109051746. Delta is -0.0009211204960593022\n",
      "Model is not converging.  Current: 13557.366283628251 is not greater than 13557.387564382463. Delta is -0.021280754212057218\n",
      "Model is not converging.  Current: 13557.366555768152 is not greater than 13557.381161502995. Delta is -0.014605734842916718\n",
      "Model is not converging.  Current: 13497.157149754952 is not greater than 13497.161807185963. Delta is -0.004657431010855362\n",
      "Model is not converging.  Current: 13497.152779380467 is not greater than 13497.159606340736. Delta is -0.006826960268881521\n",
      "Model is not converging.  Current: 13468.10383620077 is not greater than 13468.149606771336. Delta is -0.045770570566673996\n",
      "Model is not converging.  Current: 13468.093598671874 is not greater than 13468.129660646766. Delta is -0.036061974891708815\n",
      "Model is not converging.  Current: 13500.501021077747 is not greater than 13500.575233504514. Delta is -0.07421242676718975\n",
      "Model is not converging.  Current: 13530.282212205911 is not greater than 13530.316091950222. Delta is -0.03387974431097973\n",
      "Model is not converging.  Current: 13530.279002188723 is not greater than 13530.299944939785. Delta is -0.020942751061738818\n",
      "Model is not converging.  Current: 13555.839643436384 is not greater than 13555.884948789622. Delta is -0.04530535323829099\n",
      "Model is not converging.  Current: 13555.697631947689 is not greater than 13555.77985755927. Delta is -0.08222561158072494\n",
      "Model is not converging.  Current: 13718.976452143987 is not greater than 13719.091146064675. Delta is -0.1146939206882962\n",
      "Model is not converging.  Current: 13719.042770426347 is not greater than 13719.11957711012. Delta is -0.07680668377179245\n",
      "Model is not converging.  Current: 13166.408268476118 is not greater than 13166.441337739026. Delta is -0.03306926290861156\n",
      "Model is not converging.  Current: 13166.403383247945 is not greater than 13166.433600506416. Delta is -0.030217258470656816\n",
      "Model is not converging.  Current: 13301.87848111536 is not greater than 13301.989036293202. Delta is -0.11055517784188851\n",
      "Model is not converging.  Current: 13301.928249556968 is not greater than 13301.970262194478. Delta is -0.04201263751019724\n",
      "Model is not converging.  Current: 13632.36366435064 is not greater than 13632.443242203113. Delta is -0.07957785247344873\n",
      "Model is not converging.  Current: 13632.390581392707 is not greater than 13632.45760397923. Delta is -0.06702258652330784\n",
      "Model is not converging.  Current: 13593.588467194839 is not greater than 13593.714582304781. Delta is -0.1261151099424751\n",
      "Model is not converging.  Current: 13593.64685893302 is not greater than 13593.714927380914. Delta is -0.06806844789389288\n",
      "Model is not converging.  Current: 13421.061011454563 is not greater than 13421.10356951122. Delta is -0.042558056657071575\n",
      "Model is not converging.  Current: 13513.811601945774 is not greater than 13513.831708378411. Delta is -0.020106432637476246\n",
      "Model is not converging.  Current: 13513.778473777047 is not greater than 13513.812529692259. Delta is -0.034055915211865795\n",
      "Model is not converging.  Current: 13559.870404093272 is not greater than 13559.88354416268. Delta is -0.013140069408109412\n",
      "Model is not converging.  Current: 13515.232853956772 is not greater than 13515.250620255196. Delta is -0.017766298424248816\n",
      "Model is not converging.  Current: 13515.144394664661 is not greater than 13515.196736197413. Delta is -0.0523415327515977\n",
      "Model is not converging.  Current: 13445.416070988864 is not greater than 13445.506710813837. Delta is -0.09063982497355028\n",
      "Model is not converging.  Current: 13445.420177524846 is not greater than 13445.512659493133. Delta is -0.0924819682877569\n",
      "Model is not converging.  Current: 13357.64146723292 is not greater than 13357.645248905788. Delta is -0.003781672869081376\n",
      "Model is not converging.  Current: 13357.639688533889 is not greater than 13357.640715729827. Delta is -0.0010271959381498164\n"
     ]
    },
    {
     "name": "stdout",
     "output_type": "stream",
     "text": [
      "Falling back to min_volatility due to: at least one of the assets must have an expected return exceeding the risk-free rate\n"
     ]
    },
    {
     "name": "stderr",
     "output_type": "stream",
     "text": [
      "Model is not converging.  Current: 14222.212102912014 is not greater than 14222.355822047715. Delta is -0.1437191357017582\n"
     ]
    },
    {
     "name": "stdout",
     "output_type": "stream",
     "text": [
      "Error in LDL factorization when computing the nonzero elements. The problem seems to be non-convex.\n",
      "factor_status: 0, num_vars: 7\n",
      "Error in LDL initial factorization.\n",
      "ERROR: init_lin_sys_work failure\n",
      "Falling back to min_volatility due to: ScsWork allocation error!\n"
     ]
    },
    {
     "name": "stderr",
     "output_type": "stream",
     "text": [
      "Model is not converging.  Current: 13929.946970531364 is not greater than 13929.947299922474. Delta is -0.0003293911104265135\n",
      "Model is not converging.  Current: 13834.346817722806 is not greater than 13834.383569925583. Delta is -0.03675220277727931\n",
      "Model is not converging.  Current: 13834.344581923095 is not greater than 13834.366118110496. Delta is -0.02153618740157981\n",
      "Model is not converging.  Current: 13736.171066768045 is not greater than 13736.196369192172. Delta is -0.02530242412649386\n",
      "Model is not converging.  Current: 13736.171396681715 is not greater than 13736.19564591384. Delta is -0.02424923212493013\n",
      "Model is not converging.  Current: 13807.299097631236 is not greater than 13807.368903649978. Delta is -0.06980601874238346\n",
      "Model is not converging.  Current: 13804.927816935828 is not greater than 13805.028599492209. Delta is -0.10078255638109113\n"
     ]
    },
    {
     "name": "stdout",
     "output_type": "stream",
     "text": [
      "Error in LDL factorization when computing the nonzero elements. The problem seems to be non-convex.\n",
      "factor_status: 0, num_vars: 7\n",
      "Error in LDL initial factorization.\n",
      "ERROR: init_lin_sys_work failure\n",
      "Falling back to min_volatility due to: ScsWork allocation error!\n"
     ]
    },
    {
     "name": "stderr",
     "output_type": "stream",
     "text": [
      "Model is not converging.  Current: 13963.90416103298 is not greater than 13964.140859922816. Delta is -0.23669888983567944\n",
      "Model is not converging.  Current: 13678.187836121297 is not greater than 13678.191493344919. Delta is -0.0036572236222127685\n",
      "Model is not converging.  Current: 14028.82668369624 is not greater than 14028.932370804976. Delta is -0.10568710873667442\n",
      "Model is not converging.  Current: 14028.870294831242 is not greater than 14028.969173918527. Delta is -0.09887908728524053\n"
     ]
    },
    {
     "name": "stdout",
     "output_type": "stream",
     "text": [
      "Error in LDL factorization when computing the nonzero elements. The problem seems to be non-convex.\n",
      "factor_status: 0, num_vars: 7\n",
      "Error in LDL initial factorization.\n",
      "ERROR: init_lin_sys_work failure\n",
      "Falling back to min_volatility due to: ScsWork allocation error!\n"
     ]
    },
    {
     "name": "stderr",
     "output_type": "stream",
     "text": [
      "Model is not converging.  Current: 13856.005713031216 is not greater than 13856.00858034846. Delta is -0.002867317243726575\n",
      "Model is not converging.  Current: 13856.005674090517 is not greater than 13856.007996141194. Delta is -0.0023220506773213856\n",
      "Model is not converging.  Current: 14250.368638394264 is not greater than 14250.378942700732. Delta is -0.01030430646824243\n",
      "Model is not converging.  Current: 14092.894080641543 is not greater than 14092.900981174706. Delta is -0.006900533162479405\n",
      "Model is not converging.  Current: 14092.893969352082 is not greater than 14092.898287268. Delta is -0.004317915918363724\n",
      "Model is not converging.  Current: 13980.430493637574 is not greater than 13980.445639615134. Delta is -0.015145977560678148\n",
      "Model is not converging.  Current: 13980.429560960782 is not greater than 13980.437066952507. Delta is -0.00750599172533839\n"
     ]
    },
    {
     "name": "stdout",
     "output_type": "stream",
     "text": [
      "Error in LDL factorization when computing the nonzero elements. The problem seems to be non-convex.\n",
      "factor_status: 0, num_vars: 7\n",
      "Error in LDL initial factorization.\n",
      "ERROR: init_lin_sys_work failure\n",
      "Falling back to min_volatility due to: ScsWork allocation error!\n"
     ]
    },
    {
     "name": "stderr",
     "output_type": "stream",
     "text": [
      "Model is not converging.  Current: 13693.061754403669 is not greater than 13693.092633932143. Delta is -0.030879528474542894\n",
      "Model is not converging.  Current: 13693.058913137618 is not greater than 13693.074084724865. Delta is -0.015171587247095886\n",
      "Model is not converging.  Current: 14047.911841376359 is not greater than 14047.964270008997. Delta is -0.052428632638111594\n",
      "Model is not converging.  Current: 14047.907401707087 is not greater than 14047.950420325293. Delta is -0.04301861820567865\n",
      "Model is not converging.  Current: 14133.416991739032 is not greater than 14133.45443453336. Delta is -0.037442794327944284\n",
      "Model is not converging.  Current: 14133.400537856158 is not greater than 14133.426895916824. Delta is -0.026358060666098027\n"
     ]
    },
    {
     "name": "stdout",
     "output_type": "stream",
     "text": [
      "Error in LDL factorization when computing the nonzero elements. The problem seems to be non-convex.\n",
      "factor_status: 0, num_vars: 7\n",
      "Error in LDL initial factorization.\n",
      "ERROR: init_lin_sys_work failure\n",
      "Falling back to min_volatility due to: ScsWork allocation error!\n"
     ]
    },
    {
     "name": "stderr",
     "output_type": "stream",
     "text": [
      "Model is not converging.  Current: 13736.226107608141 is not greater than 13736.226769346835. Delta is -0.0006617386934522074\n",
      "Model is not converging.  Current: 13736.226087290788 is not greater than 13736.226163352967. Delta is -7.60621787776472e-05\n"
     ]
    },
    {
     "name": "stdout",
     "output_type": "stream",
     "text": [
      "Error in LDL factorization when computing the nonzero elements. The problem seems to be non-convex.\n",
      "factor_status: 0, num_vars: 7\n",
      "Error in LDL initial factorization.\n",
      "ERROR: init_lin_sys_work failure\n",
      "Falling back to min_volatility due to: ScsWork allocation error!\n"
     ]
    },
    {
     "name": "stderr",
     "output_type": "stream",
     "text": [
      "Model is not converging.  Current: 13844.299603599722 is not greater than 13844.335252624296. Delta is -0.03564902457401331\n",
      "Model is not converging.  Current: 13904.138665524446 is not greater than 13904.145649205153. Delta is -0.006983680706980522\n",
      "Model is not converging.  Current: 13936.936598818735 is not greater than 13936.983866190789. Delta is -0.0472673720541934\n",
      "Model is not converging.  Current: 13936.933115332356 is not greater than 13936.972673002605. Delta is -0.0395576702485414\n",
      "Model is not converging.  Current: 14054.528599426492 is not greater than 14054.549565531499. Delta is -0.020966105006664293\n",
      "Model is not converging.  Current: 14054.529503188947 is not greater than 14054.550935869891. Delta is -0.021432680943689775\n",
      "Model is not converging.  Current: 14152.926232698157 is not greater than 14152.946542066753. Delta is -0.020309368595917476\n",
      "Model is not converging.  Current: 14152.927878777822 is not greater than 14152.954930855718. Delta is -0.02705207789585984\n",
      "Model is not converging.  Current: 13511.584039860016 is not greater than 13511.589251829562. Delta is -0.005211969546508044\n",
      "Model is not converging.  Current: 13905.016277844707 is not greater than 13905.097167853108. Delta is -0.08089000840118388\n",
      "Model is not converging.  Current: 13904.935898730975 is not greater than 13905.040565046604. Delta is -0.10466631562849216\n",
      "Model is not converging.  Current: 13731.659894920514 is not greater than 13731.700882212988. Delta is -0.04098729247380106\n",
      "Model is not converging.  Current: 13731.635729045964 is not greater than 13731.67163219816. Delta is -0.03590315219662443\n",
      "Model is not converging.  Current: 13888.237556065724 is not greater than 13888.3537070552. Delta is -0.11615098947549996\n",
      "Model is not converging.  Current: 13888.246244031978 is not greater than 13888.321695063478. Delta is -0.07545103150005161\n",
      "Model is not converging.  Current: 13829.891629365582 is not greater than 13829.897286516494. Delta is -0.005657150912156794\n",
      "Model is not converging.  Current: 13404.152498475722 is not greater than 13404.33979116109. Delta is -0.18729268536844756\n",
      "Model is not converging.  Current: 13404.183967126168 is not greater than 13404.3248537221. Delta is -0.14088659593289776\n",
      "Model is not converging.  Current: 13411.061472916006 is not greater than 13411.11272534374. Delta is -0.05125242773465288\n",
      "Model is not converging.  Current: 13411.060397666126 is not greater than 13411.106498003668. Delta is -0.04610033754215692\n",
      "Model is not converging.  Current: 13566.613357306842 is not greater than 13566.614397317959. Delta is -0.0010400111168564763\n",
      "Model is not converging.  Current: 13566.613429423105 is not greater than 13566.615392896425. Delta is -0.001963473319847253\n",
      "Model is not converging.  Current: 13939.803706683637 is not greater than 13939.81143272458. Delta is -0.007726040943452972\n",
      "Model is not converging.  Current: 13939.803614056334 is not greater than 13939.808990042486. Delta is -0.005375986151193501\n",
      "Model is not converging.  Current: 13802.387267983571 is not greater than 13802.39064867854. Delta is -0.003380694968655007\n",
      "Model is not converging.  Current: 13881.109931412022 is not greater than 13881.15312113656. Delta is -0.043189724538024166\n",
      "Model is not converging.  Current: 13881.113942871129 is not greater than 13881.130574355251. Delta is -0.016631484122626716\n",
      "Model is not converging.  Current: 13584.258494888045 is not greater than 13584.269293006992. Delta is -0.010798118946695467\n",
      "Model is not converging.  Current: 13584.258717459124 is not greater than 13584.270778444357. Delta is -0.012060985232892563\n",
      "Model is not converging.  Current: 14125.53713759663 is not greater than 14125.561424943984. Delta is -0.0242873473544023\n",
      "Model is not converging.  Current: 14128.090610947227 is not greater than 14128.11810627049. Delta is -0.02749532326379267\n",
      "Model is not converging.  Current: 13989.383597343025 is not greater than 13989.384353637997. Delta is -0.0007562949722341727\n",
      "Model is not converging.  Current: 14028.78580497042 is not greater than 14028.834700214358. Delta is -0.04889524393911415\n",
      "Model is not converging.  Current: 14030.241736711512 is not greater than 14030.255107715502. Delta is -0.013371003989959718\n",
      "Model is not converging.  Current: 13839.890861589693 is not greater than 13839.892545237637. Delta is -0.0016836479444464203\n",
      "Model is not converging.  Current: 13839.890899731401 is not greater than 13839.892217815826. Delta is -0.0013180844252929091\n",
      "Model is not converging.  Current: 13803.119053294753 is not greater than 13803.132717724773. Delta is -0.01366443002007145\n",
      "Model is not converging.  Current: 13803.117588829704 is not greater than 13803.121850788622. Delta is -0.0042619589185051154\n"
     ]
    },
    {
     "name": "stdout",
     "output_type": "stream",
     "text": [
      "Error in LDL factorization when computing the nonzero elements. The problem seems to be non-convex.\n",
      "factor_status: 0, num_vars: 7\n",
      "Error in LDL initial factorization.\n",
      "ERROR: init_lin_sys_work failure\n",
      "Falling back to min_volatility due to: ScsWork allocation error!\n",
      "Running simulation 17...\n"
     ]
    },
    {
     "name": "stderr",
     "output_type": "stream",
     "text": [
      "Model is not converging.  Current: 13394.138145633517 is not greater than 13394.138211438629. Delta is -6.580511217180174e-05\n"
     ]
    },
    {
     "name": "stdout",
     "output_type": "stream",
     "text": [
      "Error in LDL factorization when computing the nonzero elements. The problem seems to be non-convex.\n",
      "factor_status: 0, num_vars: 7\n",
      "Error in LDL initial factorization.\n",
      "ERROR: init_lin_sys_work failure\n",
      "Falling back to min_volatility due to: ScsWork allocation error!\n",
      "Running simulation 18...\n"
     ]
    },
    {
     "name": "stderr",
     "output_type": "stream",
     "text": [
      "Model is not converging.  Current: 13370.169138487212 is not greater than 13370.179664070394. Delta is -0.010525583182243281\n",
      "Model is not converging.  Current: 13464.94356690127 is not greater than 13464.960022798152. Delta is -0.016455896882689558\n",
      "Model is not converging.  Current: 13369.590072539348 is not greater than 13369.597748396938. Delta is -0.007675857590584201\n",
      "Model is not converging.  Current: 13437.6790216329 is not greater than 13437.6849410678. Delta is -0.00591943490144331\n"
     ]
    },
    {
     "name": "stdout",
     "output_type": "stream",
     "text": [
      "Error in LDL factorization when computing the nonzero elements. The problem seems to be non-convex.\n",
      "factor_status: 0, num_vars: 7\n",
      "Error in LDL initial factorization.\n",
      "ERROR: init_lin_sys_work failure\n",
      "Falling back to min_volatility due to: ScsWork allocation error!\n"
     ]
    },
    {
     "name": "stderr",
     "output_type": "stream",
     "text": [
      "Model is not converging.  Current: 13392.938164590169 is not greater than 13392.947773072821. Delta is -0.009608482652765815\n"
     ]
    },
    {
     "name": "stdout",
     "output_type": "stream",
     "text": [
      "Running simulation 19...\n"
     ]
    },
    {
     "name": "stderr",
     "output_type": "stream",
     "text": [
      "Model is not converging.  Current: 13460.029115354886 is not greater than 13460.071400553283. Delta is -0.042285198396712076\n"
     ]
    },
    {
     "name": "stdout",
     "output_type": "stream",
     "text": [
      "Falling back to min_volatility due to: at least one of the assets must have an expected return exceeding the risk-free rate\n"
     ]
    },
    {
     "name": "stderr",
     "output_type": "stream",
     "text": [
      "Model is not converging.  Current: 13547.851132413787 is not greater than 13547.853400464779. Delta is -0.0022680509919155156\n"
     ]
    },
    {
     "name": "stdout",
     "output_type": "stream",
     "text": [
      "Running simulation 20...\n"
     ]
    },
    {
     "name": "stderr",
     "output_type": "stream",
     "text": [
      "Model is not converging.  Current: 13473.204918454023 is not greater than 13473.206972505383. Delta is -0.0020540513596642995\n",
      "Model is not converging.  Current: 13440.805976431695 is not greater than 13440.811281520917. Delta is -0.0053050892220198875\n",
      "Model is not converging.  Current: 13490.30394504551 is not greater than 13490.48785366415. Delta is -0.18390861863917962\n",
      "Model is not converging.  Current: 13428.636882648263 is not greater than 13428.638880987106. Delta is -0.001998338842895464\n"
     ]
    },
    {
     "name": "stdout",
     "output_type": "stream",
     "text": [
      "Error in LDL factorization when computing the nonzero elements. The problem seems to be non-convex.\n",
      "factor_status: 0, num_vars: 7\n",
      "Error in LDL initial factorization.\n",
      "ERROR: init_lin_sys_work failure\n",
      "Falling back to min_volatility due to: ScsWork allocation error!\n",
      "Falling back to min_volatility due to: at least one of the assets must have an expected return exceeding the risk-free rate\n",
      "Error in LDL factorization when computing the nonzero elements. The problem seems to be non-convex.\n",
      "factor_status: 0, num_vars: 7\n",
      "Error in LDL initial factorization.\n",
      "ERROR: init_lin_sys_work failure\n",
      "Falling back to min_volatility due to: ScsWork allocation error!\n",
      "Running simulation 21...\n"
     ]
    },
    {
     "name": "stderr",
     "output_type": "stream",
     "text": [
      "Model is not converging.  Current: 13408.275005413312 is not greater than 13408.275534154029. Delta is -0.0005287407166179037\n"
     ]
    },
    {
     "name": "stdout",
     "output_type": "stream",
     "text": [
      "Running simulation 22...\n"
     ]
    },
    {
     "name": "stderr",
     "output_type": "stream",
     "text": [
      "Model is not converging.  Current: 13477.638338012399 is not greater than 13477.692898305653. Delta is -0.0545602932543261\n"
     ]
    },
    {
     "name": "stdout",
     "output_type": "stream",
     "text": [
      "Error in LDL factorization when computing the nonzero elements. The problem seems to be non-convex.\n",
      "factor_status: 0, num_vars: 7\n",
      "Error in LDL initial factorization.\n",
      "ERROR: init_lin_sys_work failure\n",
      "Falling back to min_volatility due to: ScsWork allocation error!\n",
      "Running simulation 23...\n"
     ]
    },
    {
     "name": "stderr",
     "output_type": "stream",
     "text": [
      "Model is not converging.  Current: 13438.028018536314 is not greater than 13438.243258998333. Delta is -0.2152404620192101\n"
     ]
    },
    {
     "name": "stdout",
     "output_type": "stream",
     "text": [
      "Running simulation 24...\n"
     ]
    },
    {
     "name": "stderr",
     "output_type": "stream",
     "text": [
      "Model is not converging.  Current: 13452.149420906348 is not greater than 13452.156253442077. Delta is -0.0068325357296998845\n",
      "Model is not converging.  Current: 13558.351905831527 is not greater than 13558.35418775756. Delta is -0.002281926033901982\n",
      "Model is not converging.  Current: 13486.146854520031 is not greater than 13486.175755882263. Delta is -0.02890136223140871\n",
      "Model is not converging.  Current: 13425.006320928293 is not greater than 13425.011057698655. Delta is -0.00473677036279696\n",
      "Model is not converging.  Current: 13400.069631411581 is not greater than 13400.103308893365. Delta is -0.03367748178425245\n",
      "Model is not converging.  Current: 13382.785678680428 is not greater than 13382.805647562176. Delta is -0.01996888174835476\n",
      "Model is not converging.  Current: 13451.169187163314 is not greater than 13451.196617909753. Delta is -0.027430746438767528\n",
      "Model is not converging.  Current: 13391.404207861628 is not greater than 13391.41277504056. Delta is -0.008567178932935349\n",
      "Model is not converging.  Current: 13490.28296921142 is not greater than 13490.312914608254. Delta is -0.02994539683459152\n",
      "Model is not converging.  Current: 13467.587834649865 is not greater than 13467.599027926532. Delta is -0.011193276666745078\n",
      "Model is not converging.  Current: 13423.46319407509 is not greater than 13423.465846398201. Delta is -0.0026523231117607793\n",
      "Model is not converging.  Current: 13506.819448266737 is not greater than 13506.96103238468. Delta is -0.1415841179423296\n",
      "Model is not converging.  Current: 13521.040897116558 is not greater than 13521.0436408431. Delta is -0.002743726541666547\n",
      "Model is not converging.  Current: 13413.467643699787 is not greater than 13413.495935350664. Delta is -0.028291650876781205\n"
     ]
    },
    {
     "name": "stdout",
     "output_type": "stream",
     "text": [
      "Falling back to min_volatility due to: at least one of the assets must have an expected return exceeding the risk-free rate\n",
      "Error in LDL factorization when computing the nonzero elements. The problem seems to be non-convex.\n",
      "factor_status: 0, num_vars: 7\n",
      "Error in LDL initial factorization.\n",
      "ERROR: init_lin_sys_work failure\n",
      "Falling back to min_volatility due to: ScsWork allocation error!\n"
     ]
    },
    {
     "name": "stderr",
     "output_type": "stream",
     "text": [
      "Model is not converging.  Current: 13499.188117563532 is not greater than 13499.242305601969. Delta is -0.05418803843713249\n",
      "Model is not converging.  Current: 13499.183204994464 is not greater than 13499.20256999567. Delta is -0.019365001206097077\n",
      "Model is not converging.  Current: 13504.241051789715 is not greater than 13504.243125084935. Delta is -0.0020732952198159182\n",
      "Model is not converging.  Current: 13465.889446692938 is not greater than 13466.132330330876. Delta is -0.2428836379385757\n",
      "Model is not converging.  Current: 13465.933101069297 is not greater than 13466.168288615616. Delta is -0.23518754631913907\n",
      "Model is not converging.  Current: 13666.764736694018 is not greater than 13666.833565355479. Delta is -0.06882866146042943\n",
      "Model is not converging.  Current: 13663.079505089225 is not greater than 13663.11671042806. Delta is -0.0372053388346103\n"
     ]
    },
    {
     "name": "stdout",
     "output_type": "stream",
     "text": [
      "Error in LDL factorization when computing the nonzero elements. The problem seems to be non-convex.\n",
      "factor_status: 0, num_vars: 7\n",
      "Error in LDL initial factorization.\n",
      "ERROR: init_lin_sys_work failure\n",
      "Falling back to min_volatility due to: ScsWork allocation error!\n"
     ]
    },
    {
     "name": "stderr",
     "output_type": "stream",
     "text": [
      "Model is not converging.  Current: 13525.741507539227 is not greater than 13525.74968532107. Delta is -0.008177781843187404\n",
      "Model is not converging.  Current: 13525.731301953529 is not greater than 13525.73905615129. Delta is -0.007754197760732495\n",
      "Model is not converging.  Current: 13702.915927041786 is not greater than 13703.027848490481. Delta is -0.1119214486952842\n",
      "Model is not converging.  Current: 13702.932056174046 is not greater than 13702.95813946577. Delta is -0.026083291724717128\n",
      "Model is not converging.  Current: 13463.904240861368 is not greater than 13463.920043899303. Delta is -0.015803037935256725\n",
      "Model is not converging.  Current: 13463.89840114008 is not greater than 13463.90195799179. Delta is -0.003556851708708564\n"
     ]
    },
    {
     "name": "stdout",
     "output_type": "stream",
     "text": [
      "Error in LDL factorization when computing the nonzero elements. The problem seems to be non-convex.\n",
      "factor_status: 0, num_vars: 7\n",
      "Error in LDL initial factorization.\n",
      "ERROR: init_lin_sys_work failure\n",
      "Falling back to min_volatility due to: ScsWork allocation error!\n"
     ]
    },
    {
     "name": "stderr",
     "output_type": "stream",
     "text": [
      "Model is not converging.  Current: 13751.248007634322 is not greater than 13751.256094848124. Delta is -0.008087213802355109\n",
      "Model is not converging.  Current: 13751.245299177732 is not greater than 13751.251044256678. Delta is -0.005745078946347348\n",
      "Model is not converging.  Current: 13524.616035495319 is not greater than 13524.66575861949. Delta is -0.04972312417157809\n",
      "Model is not converging.  Current: 13524.650648987004 is not greater than 13524.670734639474. Delta is -0.02008565246978833\n",
      "Model is not converging.  Current: 13628.830105661018 is not greater than 13628.865899550014. Delta is -0.03579388899561309\n"
     ]
    },
    {
     "name": "stdout",
     "output_type": "stream",
     "text": [
      "Error in LDL factorization when computing the nonzero elements. The problem seems to be non-convex.\n",
      "factor_status: 0, num_vars: 7\n",
      "Error in LDL initial factorization.\n",
      "ERROR: init_lin_sys_work failure\n",
      "Falling back to min_volatility due to: ScsWork allocation error!\n",
      "Error in LDL factorization when computing the nonzero elements. The problem seems to be non-convex.\n",
      "factor_status: 0, num_vars: 7\n",
      "Error in LDL initial factorization.\n",
      "ERROR: init_lin_sys_work failure\n",
      "Falling back to min_volatility due to: ScsWork allocation error!\n",
      "Error in LDL factorization when computing the nonzero elements. The problem seems to be non-convex.\n",
      "factor_status: 0, num_vars: 7\n",
      "Error in LDL initial factorization.\n",
      "ERROR: init_lin_sys_work failure\n",
      "Falling back to min_volatility due to: ScsWork allocation error!\n"
     ]
    },
    {
     "name": "stderr",
     "output_type": "stream",
     "text": [
      "Model is not converging.  Current: 13464.675016320622 is not greater than 13464.700339733197. Delta is -0.02532341257574444\n",
      "Model is not converging.  Current: 13582.598509362586 is not greater than 13582.616865745498. Delta is -0.018356382912315894\n"
     ]
    },
    {
     "name": "stdout",
     "output_type": "stream",
     "text": [
      "Error in LDL factorization when computing the nonzero elements. The problem seems to be non-convex.\n",
      "factor_status: 0, num_vars: 7\n",
      "Error in LDL initial factorization.\n",
      "ERROR: init_lin_sys_work failure\n",
      "Falling back to min_volatility due to: ScsWork allocation error!\n"
     ]
    },
    {
     "name": "stderr",
     "output_type": "stream",
     "text": [
      "Model is not converging.  Current: 13591.500266274003 is not greater than 13591.504987393377. Delta is -0.004721119374153204\n",
      "Model is not converging.  Current: 13468.748976319748 is not greater than 13468.790965820399. Delta is -0.04198950065074314\n",
      "Model is not converging.  Current: 13468.736274069819 is not greater than 13468.771706901694. Delta is -0.03543283187536872\n",
      "Model is not converging.  Current: 13751.348479782557 is not greater than 13751.428019527893. Delta is -0.07953974533666042\n",
      "Model is not converging.  Current: 13553.454220287664 is not greater than 13553.523166755122. Delta is -0.06894646745786304\n",
      "Model is not converging.  Current: 13520.074901794818 is not greater than 13520.100588331012. Delta is -0.025686536193461507\n",
      "Model is not converging.  Current: 13716.455908062846 is not greater than 13716.577081287232. Delta is -0.12117322438643896\n",
      "Model is not converging.  Current: 13354.817326730848 is not greater than 13354.914484532692. Delta is -0.09715780184342293\n",
      "Model is not converging.  Current: 13354.856256918705 is not greater than 13354.872674434844. Delta is -0.016417516138972132\n",
      "Model is not converging.  Current: 13394.774431629734 is not greater than 13394.797651191848. Delta is -0.023219562113808934\n",
      "Model is not converging.  Current: 13394.75987109749 is not greater than 13394.78010004974. Delta is -0.02022895224945387\n",
      "Model is not converging.  Current: 13609.966689392999 is not greater than 13610.023349557126. Delta is -0.05666016412760655\n",
      "Model is not converging.  Current: 13609.946344635606 is not greater than 13609.976084768638. Delta is -0.02974013303173706\n",
      "Model is not converging.  Current: 13474.29767918868 is not greater than 13474.32732428494. Delta is -0.02964509625962819\n",
      "Model is not converging.  Current: 13474.279962986726 is not greater than 13474.320069047113. Delta is -0.040106060387188336\n",
      "Model is not converging.  Current: 13510.692831281101 is not greater than 13510.736744251004. Delta is -0.04391296990252158\n",
      "Model is not converging.  Current: 13520.60700242527 is not greater than 13520.61995145962. Delta is -0.012949034349730937\n",
      "Model is not converging.  Current: 13520.573181845897 is not greater than 13520.60458395491. Delta is -0.031402109012560686\n",
      "Model is not converging.  Current: 13650.220639131574 is not greater than 13650.259722721938. Delta is -0.03908359036358888\n",
      "Model is not converging.  Current: 13650.087707772835 is not greater than 13650.09841954342. Delta is -0.010711770584748592\n",
      "Model is not converging.  Current: 13362.573795335515 is not greater than 13362.611998607943. Delta is -0.0382032724282908\n",
      "Model is not converging.  Current: 13362.574162427038 is not greater than 13362.59938056429. Delta is -0.025218137252522865\n",
      "Model is not converging.  Current: 13380.574775717618 is not greater than 13380.58974162564. Delta is -0.014965908021622454\n",
      "Model is not converging.  Current: 13380.482985158324 is not greater than 13380.622111823168. Delta is -0.13912666484429792\n",
      "Model is not converging.  Current: 13413.3049161973 is not greater than 13413.30528272003. Delta is -0.0003665227304736618\n",
      "Model is not converging.  Current: 13565.848050747913 is not greater than 13565.920391812115. Delta is -0.07234106420219177\n",
      "Model is not converging.  Current: 13518.820016779715 is not greater than 13518.92296386013. Delta is -0.10294708041510603\n",
      "Model is not converging.  Current: 13469.850937435614 is not greater than 13469.957811635548. Delta is -0.10687419993337244\n",
      "Model is not converging.  Current: 13466.712161848562 is not greater than 13466.792959104287. Delta is -0.08079725572497409\n",
      "Model is not converging.  Current: 13466.719671472352 is not greater than 13466.783955319843. Delta is -0.06428384749051475\n",
      "Model is not converging.  Current: 13545.385558071112 is not greater than 13545.489772005862. Delta is -0.1042139347500779\n",
      "Model is not converging.  Current: 13545.383747795282 is not greater than 13545.461747666994. Delta is -0.07799987171165412\n"
     ]
    },
    {
     "name": "stdout",
     "output_type": "stream",
     "text": [
      "Error in LDL factorization when computing the nonzero elements. The problem seems to be non-convex.\n",
      "factor_status: 0, num_vars: 7\n",
      "Error in LDL initial factorization.\n",
      "ERROR: init_lin_sys_work failure\n",
      "Falling back to min_volatility due to: ScsWork allocation error!\n",
      "Error in LDL factorization when computing the nonzero elements. The problem seems to be non-convex.\n",
      "factor_status: 0, num_vars: 7\n",
      "Error in LDL initial factorization.\n",
      "ERROR: init_lin_sys_work failure\n",
      "Falling back to min_volatility due to: ScsWork allocation error!\n"
     ]
    },
    {
     "name": "stderr",
     "output_type": "stream",
     "text": [
      "Model is not converging.  Current: 13947.210534896416 is not greater than 13947.217273002725. Delta is -0.006738106309057912\n",
      "Model is not converging.  Current: 14009.28961043278 is not greater than 14009.328513819604. Delta is -0.0389033868250408\n",
      "Model is not converging.  Current: 14009.294285175421 is not greater than 14009.340173514807. Delta is -0.04588833938578318\n",
      "Model is not converging.  Current: 13857.844960946906 is not greater than 13857.909917118897. Delta is -0.06495617199107073\n",
      "Model is not converging.  Current: 13854.382067824 is not greater than 13854.398949275599. Delta is -0.016881451598237618\n",
      "Model is not converging.  Current: 13823.08576277927 is not greater than 13823.22814375337. Delta is -0.14238097409906914\n",
      "Model is not converging.  Current: 13823.080161563103 is not greater than 13823.216494264841. Delta is -0.13633270173886558\n",
      "Model is not converging.  Current: 14089.97120498469 is not greater than 14089.980484330948. Delta is -0.009279346259063459\n",
      "Model is not converging.  Current: 14089.972258024065 is not greater than 14089.982220173126. Delta is -0.009962149060811498\n",
      "Model is not converging.  Current: 13806.924421415528 is not greater than 13806.973126759389. Delta is -0.04870534386100189\n",
      "Model is not converging.  Current: 13806.91830325007 is not greater than 13806.969850765132. Delta is -0.05154751506233879\n",
      "Model is not converging.  Current: 13079.320345445572 is not greater than 13079.392522971611. Delta is -0.07217752603901317\n",
      "Model is not converging.  Current: 13079.309533805308 is not greater than 13079.369882337262. Delta is -0.060348531953422935\n"
     ]
    },
    {
     "name": "stdout",
     "output_type": "stream",
     "text": [
      "Error in LDL factorization when computing the nonzero elements. The problem seems to be non-convex.\n",
      "factor_status: 0, num_vars: 7\n",
      "Error in LDL initial factorization.\n",
      "ERROR: init_lin_sys_work failure\n",
      "Falling back to min_volatility due to: ScsWork allocation error!\n"
     ]
    },
    {
     "name": "stderr",
     "output_type": "stream",
     "text": [
      "Model is not converging.  Current: 13822.268110988494 is not greater than 13822.636820014815. Delta is -0.3687090263210848\n",
      "Model is not converging.  Current: 13822.3818263137 is not greater than 13822.543003561208. Delta is -0.16117724750802154\n"
     ]
    },
    {
     "name": "stdout",
     "output_type": "stream",
     "text": [
      "Error in LDL factorization when computing the nonzero elements. The problem seems to be non-convex.\n",
      "factor_status: 0, num_vars: 7\n",
      "Error in LDL initial factorization.\n",
      "ERROR: init_lin_sys_work failure\n",
      "Falling back to min_volatility due to: ScsWork allocation error!\n"
     ]
    },
    {
     "name": "stderr",
     "output_type": "stream",
     "text": [
      "Model is not converging.  Current: 14071.67880199724 is not greater than 14071.710508844655. Delta is -0.031706847415989614\n",
      "Model is not converging.  Current: 14071.67866450607 is not greater than 14071.706172959728. Delta is -0.02750845365881105\n",
      "Model is not converging.  Current: 14214.661196077817 is not greater than 14214.69153011795. Delta is -0.030334040133311646\n",
      "Model is not converging.  Current: 14214.660925040967 is not greater than 14214.688172131056. Delta is -0.027247090089076664\n",
      "Model is not converging.  Current: 13895.408324416509 is not greater than 13895.459799494989. Delta is -0.051475078480507364\n",
      "Model is not converging.  Current: 13895.3975040809 is not greater than 13895.438826025147. Delta is -0.04132194424710178\n",
      "Model is not converging.  Current: 14027.646550734029 is not greater than 14027.658063550125. Delta is -0.011512816096001188\n",
      "Model is not converging.  Current: 14027.648777241366 is not greater than 14027.67940651498. Delta is -0.030629273614977137\n",
      "Model is not converging.  Current: 13637.292405825383 is not greater than 13637.297657984634. Delta is -0.005252159251540434\n",
      "Model is not converging.  Current: 14064.891757461148 is not greater than 14064.94650683746. Delta is -0.05474937631151988\n",
      "Model is not converging.  Current: 14064.87813373817 is not greater than 14064.918391704776. Delta is -0.04025796660607739\n"
     ]
    },
    {
     "name": "stdout",
     "output_type": "stream",
     "text": [
      "Error in LDL factorization when computing the nonzero elements. The problem seems to be non-convex.\n",
      "factor_status: 0, num_vars: 7\n",
      "Error in LDL initial factorization.\n",
      "ERROR: init_lin_sys_work failure\n",
      "Falling back to min_volatility due to: ScsWork allocation error!\n"
     ]
    },
    {
     "name": "stderr",
     "output_type": "stream",
     "text": [
      "Model is not converging.  Current: 14036.461413188585 is not greater than 14036.470998883538. Delta is -0.009585694953784696\n",
      "Model is not converging.  Current: 14016.141942298631 is not greater than 14016.190791487401. Delta is -0.0488491887699638\n",
      "Model is not converging.  Current: 14016.158989130883 is not greater than 14016.231522897217. Delta is -0.07253376633343578\n"
     ]
    },
    {
     "name": "stdout",
     "output_type": "stream",
     "text": [
      "Error in LDL factorization when computing the nonzero elements. The problem seems to be non-convex.\n",
      "factor_status: 0, num_vars: 7\n",
      "Error in LDL initial factorization.\n",
      "ERROR: init_lin_sys_work failure\n",
      "Falling back to min_volatility due to: ScsWork allocation error!\n"
     ]
    },
    {
     "name": "stderr",
     "output_type": "stream",
     "text": [
      "Model is not converging.  Current: 13724.36124503633 is not greater than 13724.362752779025. Delta is -0.0015077426942298189\n",
      "Model is not converging.  Current: 14102.168888513721 is not greater than 14102.184983404231. Delta is -0.01609489051043056\n",
      "Model is not converging.  Current: 14094.74670039453 is not greater than 14094.757037343385. Delta is -0.010336948855183437\n"
     ]
    },
    {
     "name": "stdout",
     "output_type": "stream",
     "text": [
      "Falling back to min_volatility due to: at least one of the assets must have an expected return exceeding the risk-free rate\n",
      "Falling back to min_volatility due to: at least one of the assets must have an expected return exceeding the risk-free rate\n"
     ]
    },
    {
     "name": "stderr",
     "output_type": "stream",
     "text": [
      "Model is not converging.  Current: 14008.035999637515 is not greater than 14008.040565619776. Delta is -0.004565982260828605\n",
      "Model is not converging.  Current: 14009.503961043238 is not greater than 14009.506463882199. Delta is -0.00250283896093606\n",
      "Model is not converging.  Current: 13902.993951350254 is not greater than 13903.00385119317. Delta is -0.00989984291663859\n",
      "Model is not converging.  Current: 13902.998170821338 is not greater than 13903.01361895303. Delta is -0.01544813169130066\n",
      "Model is not converging.  Current: 13304.873329602371 is not greater than 13304.903796230925. Delta is -0.030466628553767805\n",
      "Model is not converging.  Current: 13999.552547833562 is not greater than 13999.564420820623. Delta is -0.01187298706099682\n",
      "Model is not converging.  Current: 13999.549038085326 is not greater than 13999.554597024448. Delta is -0.005558939121328876\n",
      "Model is not converging.  Current: 14023.970157598182 is not greater than 14023.982918900763. Delta is -0.01276130258156627\n",
      "Model is not converging.  Current: 13546.889236453262 is not greater than 13546.893192746693. Delta is -0.003956293430746882\n",
      "Model is not converging.  Current: 13546.88922654509 is not greater than 13546.890912838313. Delta is -0.0016862932225194527\n",
      "Model is not converging.  Current: 14235.520791316672 is not greater than 14235.56501277123. Delta is -0.04422145455828286\n",
      "Model is not converging.  Current: 13801.774649133158 is not greater than 13801.825514552296. Delta is -0.05086541913806286\n",
      "Model is not converging.  Current: 13801.773888756228 is not greater than 13801.822955686652. Delta is -0.049066930423578015\n",
      "Model is not converging.  Current: 13670.464944112904 is not greater than 13670.475193154327. Delta is -0.010249041422866867\n",
      "Model is not converging.  Current: 13670.461992689237 is not greater than 13670.473306328526. Delta is -0.011313639288346167\n",
      "Model is not converging.  Current: 13935.295069815966 is not greater than 13935.308586444668. Delta is -0.013516628701836453\n",
      "Model is not converging.  Current: 13935.298907341163 is not greater than 13935.328663368753. Delta is -0.029756027590337908\n",
      "Model is not converging.  Current: 13910.015714952047 is not greater than 13910.027918727126. Delta is -0.012203775078887702\n",
      "Model is not converging.  Current: 13910.015171660394 is not greater than 13910.025202039478. Delta is -0.010030379084128072\n",
      "Model is not converging.  Current: 14055.914851002213 is not greater than 14055.928712439796. Delta is -0.013861437582818326\n",
      "Model is not converging.  Current: 14055.904898073488 is not greater than 14055.936672225518. Delta is -0.03177415203026612\n",
      "Model is not converging.  Current: 13448.651443129247 is not greater than 13448.652318943643. Delta is -0.0008758143958402798\n",
      "Model is not converging.  Current: 13448.6516091213 is not greater than 13448.652027261809. Delta is -0.0004181405092822388\n",
      "Model is not converging.  Current: 13324.423714142446 is not greater than 13324.434776029233. Delta is -0.011061886787501862\n",
      "Model is not converging.  Current: 13917.84081084205 is not greater than 13917.87169993744. Delta is -0.030889095389284194\n",
      "Model is not converging.  Current: 13917.848085032161 is not greater than 13917.874869374458. Delta is -0.026784342297105468\n",
      "Model is not converging.  Current: 13976.332337582193 is not greater than 13976.34954207279. Delta is -0.017204490597578115\n",
      "Model is not converging.  Current: 13109.532267657389 is not greater than 13109.578200432203. Delta is -0.04593277481399127\n",
      "Model is not converging.  Current: 13109.533122978526 is not greater than 13109.581636829133. Delta is -0.04851385060646862\n"
     ]
    },
    {
     "name": "stdout",
     "output_type": "stream",
     "text": [
      "Error in LDL factorization when computing the nonzero elements. The problem seems to be non-convex.\n",
      "factor_status: 0, num_vars: 7\n",
      "Error in LDL initial factorization.\n",
      "ERROR: init_lin_sys_work failure\n",
      "Falling back to min_volatility due to: ScsWork allocation error!\n",
      "Running simulation 25...\n"
     ]
    },
    {
     "name": "stderr",
     "output_type": "stream",
     "text": [
      "Model is not converging.  Current: 13454.897004237886 is not greater than 13454.94977583724. Delta is -0.05277159935394593\n",
      "Model is not converging.  Current: 13510.012964719874 is not greater than 13510.043410610793. Delta is -0.03044589091950911\n"
     ]
    },
    {
     "name": "stdout",
     "output_type": "stream",
     "text": [
      "Error in LDL factorization when computing the nonzero elements. The problem seems to be non-convex.\n",
      "factor_status: 0, num_vars: 7\n",
      "Error in LDL initial factorization.\n",
      "ERROR: init_lin_sys_work failure\n",
      "Falling back to min_volatility due to: ScsWork allocation error!\n",
      "Running simulation 26...\n"
     ]
    },
    {
     "name": "stderr",
     "output_type": "stream",
     "text": [
      "Model is not converging.  Current: 13462.052252732832 is not greater than 13462.054848703907. Delta is -0.002595971074697445\n",
      "Model is not converging.  Current: 13417.221262489926 is not greater than 13417.231974856157. Delta is -0.010712366231018677\n",
      "Model is not converging.  Current: 13478.258741181175 is not greater than 13478.269768961021. Delta is -0.011027779846699559\n"
     ]
    },
    {
     "name": "stdout",
     "output_type": "stream",
     "text": [
      "Error in LDL factorization when computing the nonzero elements. The problem seems to be non-convex.\n",
      "factor_status: 0, num_vars: 7\n",
      "Error in LDL initial factorization.\n",
      "ERROR: init_lin_sys_work failure\n",
      "Falling back to min_volatility due to: ScsWork allocation error!\n",
      "Running simulation 27...\n"
     ]
    },
    {
     "name": "stderr",
     "output_type": "stream",
     "text": [
      "Model is not converging.  Current: 13474.760847122147 is not greater than 13474.874323793652. Delta is -0.11347667150585039\n"
     ]
    },
    {
     "name": "stdout",
     "output_type": "stream",
     "text": [
      "Error in LDL factorization when computing the nonzero elements. The problem seems to be non-convex.\n",
      "factor_status: 0, num_vars: 7\n",
      "Error in LDL initial factorization.\n",
      "ERROR: init_lin_sys_work failure\n",
      "Falling back to min_volatility due to: ScsWork allocation error!\n",
      "Running simulation 28...\n"
     ]
    },
    {
     "name": "stderr",
     "output_type": "stream",
     "text": [
      "Model is not converging.  Current: 13454.96599197143 is not greater than 13454.971991553182. Delta is -0.0059995817518938566\n",
      "Model is not converging.  Current: 13357.767766671526 is not greater than 13357.768164694606. Delta is -0.00039802307946956716\n",
      "Model is not converging.  Current: 13433.812792215354 is not greater than 13433.816717344607. Delta is -0.003925129252820625\n",
      "Model is not converging.  Current: 13460.058373816513 is not greater than 13460.064466159844. Delta is -0.006092343330237782\n",
      "Model is not converging.  Current: 13474.784383808865 is not greater than 13474.887190003163. Delta is -0.10280619429795479\n"
     ]
    },
    {
     "name": "stdout",
     "output_type": "stream",
     "text": [
      "Error in LDL factorization when computing the nonzero elements. The problem seems to be non-convex.\n",
      "factor_status: 0, num_vars: 7\n",
      "Error in LDL initial factorization.\n",
      "ERROR: init_lin_sys_work failure\n",
      "Falling back to min_volatility due to: ScsWork allocation error!\n",
      "Running simulation 29...\n"
     ]
    },
    {
     "name": "stderr",
     "output_type": "stream",
     "text": [
      "Model is not converging.  Current: 13440.352141262707 is not greater than 13440.35524253433. Delta is -0.003101271622654167\n"
     ]
    },
    {
     "name": "stdout",
     "output_type": "stream",
     "text": [
      "Error in LDL factorization when computing the nonzero elements. The problem seems to be non-convex.\n",
      "factor_status: 0, num_vars: 7\n",
      "Error in LDL initial factorization.\n",
      "ERROR: init_lin_sys_work failure\n",
      "Falling back to min_volatility due to: ScsWork allocation error!\n",
      "Falling back to min_volatility due to: at least one of the assets must have an expected return exceeding the risk-free rate\n"
     ]
    },
    {
     "name": "stderr",
     "output_type": "stream",
     "text": [
      "Model is not converging.  Current: 13507.116528011355 is not greater than 13507.117791683228. Delta is -0.00126367187294818\n"
     ]
    },
    {
     "name": "stdout",
     "output_type": "stream",
     "text": [
      "Running simulation 30...\n",
      "Running simulation 31...\n",
      "Error in LDL factorization when computing the nonzero elements. The problem seems to be non-convex.\n",
      "factor_status: 0, num_vars: 7\n",
      "Error in LDL initial factorization.\n",
      "ERROR: init_lin_sys_work failure\n",
      "Falling back to min_volatility due to: ScsWork allocation error!\n"
     ]
    },
    {
     "name": "stderr",
     "output_type": "stream",
     "text": [
      "Model is not converging.  Current: 13381.634013802008 is not greater than 13381.642797128638. Delta is -0.008783326629782096\n",
      "Model is not converging.  Current: 13410.005050729214 is not greater than 13410.04350707407. Delta is -0.03845634485514893\n"
     ]
    },
    {
     "name": "stdout",
     "output_type": "stream",
     "text": [
      "Running simulation 32...\n"
     ]
    },
    {
     "name": "stderr",
     "output_type": "stream",
     "text": [
      "Model is not converging.  Current: 13355.48445435617 is not greater than 13355.492935688579. Delta is -0.008481332408337039\n",
      "Model is not converging.  Current: 13466.468849269842 is not greater than 13466.52772160249. Delta is -0.0588723326472973\n",
      "Model is not converging.  Current: 13412.93781514078 is not greater than 13412.941201752761. Delta is -0.003386611981113674\n",
      "Model is not converging.  Current: 13359.176267593908 is not greater than 13359.198689259914. Delta is -0.022421666006266605\n",
      "Model is not converging.  Current: 13414.949731532824 is not greater than 13414.983314488654. Delta is -0.03358295582984283\n",
      "Model is not converging.  Current: 13385.386903328976 is not greater than 13385.387299200082. Delta is -0.0003958711058658082\n",
      "Model is not converging.  Current: 13416.192088202946 is not greater than 13416.214354310716. Delta is -0.022266107769610244\n",
      "Model is not converging.  Current: 13323.05769626024 is not greater than 13323.059820699098. Delta is -0.002124438857208588\n"
     ]
    },
    {
     "name": "stdout",
     "output_type": "stream",
     "text": [
      "Error in LDL factorization when computing the nonzero elements. The problem seems to be non-convex.\n",
      "factor_status: 0, num_vars: 7\n",
      "Error in LDL initial factorization.\n",
      "ERROR: init_lin_sys_work failure\n",
      "Falling back to min_volatility due to: ScsWork allocation error!\n",
      "Error in LDL factorization when computing the nonzero elements. The problem seems to be non-convex.\n",
      "factor_status: 0, num_vars: 7\n",
      "Error in LDL initial factorization.\n",
      "ERROR: init_lin_sys_work failure\n",
      "Falling back to min_volatility due to: ScsWork allocation error!\n"
     ]
    },
    {
     "name": "stderr",
     "output_type": "stream",
     "text": [
      "Model is not converging.  Current: 13634.611565271813 is not greater than 13634.671625006535. Delta is -0.06005973472201731\n",
      "Model is not converging.  Current: 13695.332132238656 is not greater than 13695.431357449532. Delta is -0.09922521087537461\n",
      "Model is not converging.  Current: 13695.205281815759 is not greater than 13695.239887681113. Delta is -0.03460586535402399\n",
      "Model is not converging.  Current: 13458.755148445822 is not greater than 13458.819987830077. Delta is -0.06483938425481028\n",
      "Model is not converging.  Current: 13458.765723467302 is not greater than 13458.783748150943. Delta is -0.018024683640760486\n",
      "Model is not converging.  Current: 13690.516378431046 is not greater than 13690.598398142476. Delta is -0.0820197114298935\n",
      "Model is not converging.  Current: 13690.315191138678 is not greater than 13690.418604392164. Delta is -0.10341325348599639\n",
      "Model is not converging.  Current: 13444.788360484146 is not greater than 13444.790594274938. Delta is -0.0022337907921610167\n",
      "Model is not converging.  Current: 13444.76599944908 is not greater than 13444.778527867507. Delta is -0.012528418426882126\n",
      "Model is not converging.  Current: 13413.830911966008 is not greater than 13413.85487221288. Delta is -0.02396024687186582\n"
     ]
    },
    {
     "name": "stdout",
     "output_type": "stream",
     "text": [
      "Error in LDL factorization when computing the nonzero elements. The problem seems to be non-convex.\n",
      "factor_status: 0, num_vars: 7\n",
      "Error in LDL initial factorization.\n",
      "ERROR: init_lin_sys_work failure\n",
      "Falling back to min_volatility due to: ScsWork allocation error!\n",
      "Error in LDL factorization when computing the nonzero elements. The problem seems to be non-convex.\n",
      "factor_status: 0, num_vars: 7\n",
      "Error in LDL initial factorization.\n",
      "ERROR: init_lin_sys_work failure\n",
      "Falling back to min_volatility due to: ScsWork allocation error!\n"
     ]
    },
    {
     "name": "stderr",
     "output_type": "stream",
     "text": [
      "Model is not converging.  Current: 13633.323113401975 is not greater than 13633.344304496053. Delta is -0.021191094077948947\n",
      "Model is not converging.  Current: 13404.924524713857 is not greater than 13404.985399473308. Delta is -0.0608747594505985\n",
      "Model is not converging.  Current: 13404.929665400005 is not greater than 13404.984711260227. Delta is -0.05504586022289004\n",
      "Model is not converging.  Current: 13615.1410151866 is not greater than 13615.239942302454. Delta is -0.09892711585416691\n",
      "Model is not converging.  Current: 13615.170064828824 is not greater than 13615.185966854599. Delta is -0.015902025774266804\n",
      "Model is not converging.  Current: 13511.71695500465 is not greater than 13511.736049904273. Delta is -0.01909489962417865\n"
     ]
    },
    {
     "name": "stdout",
     "output_type": "stream",
     "text": [
      "Error in LDL factorization when computing the nonzero elements. The problem seems to be non-convex.\n",
      "factor_status: 0, num_vars: 7\n",
      "Error in LDL initial factorization.\n",
      "ERROR: init_lin_sys_work failure\n",
      "Falling back to min_volatility due to: ScsWork allocation error!\n"
     ]
    },
    {
     "name": "stderr",
     "output_type": "stream",
     "text": [
      "Model is not converging.  Current: 13492.740444214725 is not greater than 13492.7732802979. Delta is -0.0328360831754253\n",
      "Model is not converging.  Current: 13492.730635412427 is not greater than 13492.736512085607. Delta is -0.005876673179955105\n",
      "Model is not converging.  Current: 13337.595165732188 is not greater than 13337.641325398725. Delta is -0.0461596665372781\n",
      "Model is not converging.  Current: 13337.611919401976 is not greater than 13337.63547534826. Delta is -0.023555946283522644\n"
     ]
    },
    {
     "name": "stdout",
     "output_type": "stream",
     "text": [
      "Error in LDL factorization when computing the nonzero elements. The problem seems to be non-convex.\n",
      "factor_status: 0, num_vars: 7\n",
      "Error in LDL initial factorization.\n",
      "ERROR: init_lin_sys_work failure\n",
      "Falling back to min_volatility due to: ScsWork allocation error!\n"
     ]
    },
    {
     "name": "stderr",
     "output_type": "stream",
     "text": [
      "Model is not converging.  Current: 13395.889175401298 is not greater than 13395.91982064268. Delta is -0.03064524138244451\n",
      "Model is not converging.  Current: 13395.899158328137 is not greater than 13395.920917075793. Delta is -0.021758747656349442\n"
     ]
    },
    {
     "name": "stdout",
     "output_type": "stream",
     "text": [
      "Error in LDL factorization when computing the nonzero elements. The problem seems to be non-convex.\n",
      "factor_status: 0, num_vars: 7\n",
      "Error in LDL initial factorization.\n",
      "ERROR: init_lin_sys_work failure\n",
      "Falling back to min_volatility due to: ScsWork allocation error!\n"
     ]
    },
    {
     "name": "stderr",
     "output_type": "stream",
     "text": [
      "Model is not converging.  Current: 13252.775724729052 is not greater than 13252.778212692543. Delta is -0.002487963491148548\n",
      "Model is not converging.  Current: 13252.774441161144 is not greater than 13252.777815998254. Delta is -0.003374837109731743\n",
      "Model is not converging.  Current: 13363.272690761296 is not greater than 13363.359767050044. Delta is -0.08707628874799411\n",
      "Model is not converging.  Current: 13363.226740497787 is not greater than 13363.327122604394. Delta is -0.10038210660786717\n",
      "Model is not converging.  Current: 13407.814254123989 is not greater than 13407.816477875007. Delta is -0.00222375101839134\n"
     ]
    },
    {
     "name": "stdout",
     "output_type": "stream",
     "text": [
      "Error in LDL factorization when computing the nonzero elements. The problem seems to be non-convex.\n",
      "factor_status: 0, num_vars: 7\n",
      "Error in LDL initial factorization.\n",
      "ERROR: init_lin_sys_work failure\n",
      "Falling back to min_volatility due to: ScsWork allocation error!\n"
     ]
    },
    {
     "name": "stderr",
     "output_type": "stream",
     "text": [
      "Model is not converging.  Current: 13568.810322418927 is not greater than 13568.813126143172. Delta is -0.002803724244586192\n",
      "Model is not converging.  Current: 13670.054659686011 is not greater than 13670.198167005374. Delta is -0.1435073193624703\n",
      "Model is not converging.  Current: 13670.04554786332 is not greater than 13670.149021442601. Delta is -0.10347357928185374\n",
      "Model is not converging.  Current: 13533.453953826132 is not greater than 13533.483674697158. Delta is -0.02972087102534715\n",
      "Model is not converging.  Current: 13609.146414027353 is not greater than 13609.245221235247. Delta is -0.09880720789442421\n",
      "Model is not converging.  Current: 13581.819517150469 is not greater than 13581.821094907735. Delta is -0.0015777572662045714\n",
      "Model is not converging.  Current: 13551.651393236809 is not greater than 13551.746584346556. Delta is -0.09519110974724754\n",
      "Model is not converging.  Current: 13551.563220242446 is not greater than 13551.700210491947. Delta is -0.1369902495007409\n",
      "Model is not converging.  Current: 13579.141673053866 is not greater than 13579.227469204347. Delta is -0.08579615048074629\n",
      "Model is not converging.  Current: 13326.578234326731 is not greater than 13326.583376541843. Delta is -0.005142215111845871\n",
      "Model is not converging.  Current: 13554.431466608285 is not greater than 13554.464928921667. Delta is -0.03346231338218786\n",
      "Model is not converging.  Current: 13643.684242478015 is not greater than 13643.689599278532. Delta is -0.00535680051689269\n",
      "Model is not converging.  Current: 13717.384556437211 is not greater than 13717.500030301708. Delta is -0.11547386449637997\n",
      "Model is not converging.  Current: 13717.355597674052 is not greater than 13717.45203860218. Delta is -0.09644092812777671\n",
      "Model is not converging.  Current: 13450.56036909788 is not greater than 13450.588090201265. Delta is -0.027721103384465096\n",
      "Model is not converging.  Current: 13547.805532162813 is not greater than 13547.907565453628. Delta is -0.10203329081559787\n",
      "Model is not converging.  Current: 13547.811878820092 is not greater than 13547.91057916306. Delta is -0.0987003429690958\n",
      "Model is not converging.  Current: 13562.261031041073 is not greater than 13562.291522311772. Delta is -0.030491270699712913\n",
      "Model is not converging.  Current: 13367.544126816863 is not greater than 13367.580077460578. Delta is -0.03595064371438639\n",
      "Model is not converging.  Current: 13367.552688574817 is not greater than 13367.580887455175. Delta is -0.02819888035810436\n"
     ]
    },
    {
     "name": "stdout",
     "output_type": "stream",
     "text": [
      "Falling back to min_volatility due to: at least one of the assets must have an expected return exceeding the risk-free rate\n"
     ]
    },
    {
     "name": "stderr",
     "output_type": "stream",
     "text": [
      "Model is not converging.  Current: 13720.61657576964 is not greater than 13720.624267847796. Delta is -0.0076920781557419105\n",
      "Model is not converging.  Current: 13720.616600906802 is not greater than 13720.62406129. Delta is -0.007460383198122145\n",
      "Model is not converging.  Current: 13804.37457785626 is not greater than 13804.38378696724. Delta is -0.009209110980009427\n"
     ]
    },
    {
     "name": "stdout",
     "output_type": "stream",
     "text": [
      "Error in LDL factorization when computing the nonzero elements. The problem seems to be non-convex.\n",
      "factor_status: 0, num_vars: 7\n",
      "Error in LDL initial factorization.\n",
      "ERROR: init_lin_sys_work failure\n",
      "Falling back to min_volatility due to: ScsWork allocation error!\n"
     ]
    },
    {
     "name": "stderr",
     "output_type": "stream",
     "text": [
      "Model is not converging.  Current: 13666.681298273235 is not greater than 13666.71184206662. Delta is -0.030543793383912998\n",
      "Model is not converging.  Current: 13666.68123233345 is not greater than 13666.710975668278. Delta is -0.029743334827799117\n",
      "Model is not converging.  Current: 14014.109491170133 is not greater than 14014.147633483726. Delta is -0.038142313593198196\n",
      "Model is not converging.  Current: 14014.110768084405 is not greater than 14014.152472747921. Delta is -0.04170466351570212\n",
      "Model is not converging.  Current: 13379.765819820368 is not greater than 13379.784314140676. Delta is -0.018494320307581802\n",
      "Model is not converging.  Current: 13379.769160840786 is not greater than 13379.797763339713. Delta is -0.028602498927284614\n",
      "Model is not converging.  Current: 14157.08680712807 is not greater than 14157.091789437944. Delta is -0.0049823098743218\n",
      "Model is not converging.  Current: 14154.47500384745 is not greater than 14154.479185214544. Delta is -0.004181367094133748\n",
      "Model is not converging.  Current: 13721.164906347582 is not greater than 13721.167149876785. Delta is -0.0022435292030422715\n",
      "Model is not converging.  Current: 13721.164896296274 is not greater than 13721.166717962862. Delta is -0.0018216665885120165\n",
      "Model is not converging.  Current: 13585.546651480892 is not greater than 13585.565932345788. Delta is -0.01928086489533598\n",
      "Model is not converging.  Current: 13585.545222325767 is not greater than 13585.561084458328. Delta is -0.015862132560869213\n",
      "Model is not converging.  Current: 13992.242352153522 is not greater than 13992.253382446845. Delta is -0.0110302933226194\n",
      "Model is not converging.  Current: 13992.243199968692 is not greater than 13992.25637873469. Delta is -0.01317876599750889\n",
      "Model is not converging.  Current: 13941.39876606786 is not greater than 13941.50532801166. Delta is -0.10656194380135275\n",
      "Model is not converging.  Current: 13941.45258209553 is not greater than 13941.500820387351. Delta is -0.04823829182168993\n"
     ]
    },
    {
     "name": "stdout",
     "output_type": "stream",
     "text": [
      "Error in LDL factorization when computing the nonzero elements. The problem seems to be non-convex.\n",
      "factor_status: 0, num_vars: 7\n",
      "Error in LDL initial factorization.\n",
      "ERROR: init_lin_sys_work failure\n",
      "Falling back to min_volatility due to: ScsWork allocation error!\n"
     ]
    },
    {
     "name": "stderr",
     "output_type": "stream",
     "text": [
      "Model is not converging.  Current: 13791.49061659417 is not greater than 13791.502147858797. Delta is -0.011531264626682969\n",
      "Model is not converging.  Current: 13791.465426660372 is not greater than 13791.557646663485. Delta is -0.09222000311274314\n",
      "Model is not converging.  Current: 13693.359272830074 is not greater than 13693.449438992851. Delta is -0.09016616277767753\n",
      "Model is not converging.  Current: 13693.343535195005 is not greater than 13693.350398568313. Delta is -0.006863373308078735\n",
      "Model is not converging.  Current: 14107.347200587252 is not greater than 14107.468416175512. Delta is -0.12121558826038381\n"
     ]
    },
    {
     "name": "stdout",
     "output_type": "stream",
     "text": [
      "Error in LDL factorization when computing the nonzero elements. The problem seems to be non-convex.\n",
      "factor_status: 0, num_vars: 7\n",
      "Error in LDL initial factorization.\n",
      "ERROR: init_lin_sys_work failure\n",
      "Falling back to min_volatility due to: ScsWork allocation error!\n"
     ]
    },
    {
     "name": "stderr",
     "output_type": "stream",
     "text": [
      "Model is not converging.  Current: 13642.455446220114 is not greater than 13642.487435472958. Delta is -0.03198925284414145\n",
      "Model is not converging.  Current: 13642.451295049235 is not greater than 13642.47073776087. Delta is -0.019442711634837906\n",
      "Model is not converging.  Current: 13893.445330055174 is not greater than 13893.450268485998. Delta is -0.004938430824040552\n",
      "Model is not converging.  Current: 13893.446221132897 is not greater than 13893.457058819624. Delta is -0.010837686726517859\n",
      "Model is not converging.  Current: 13468.30191313416 is not greater than 13468.45469252062. Delta is -0.15277938645886024\n",
      "Model is not converging.  Current: 13468.311642788372 is not greater than 13468.469065315327. Delta is -0.15742252695417847\n",
      "Model is not converging.  Current: 13071.230891900468 is not greater than 13071.23502006259. Delta is -0.004128162121560308\n",
      "Model is not converging.  Current: 13071.230862303972 is not greater than 13071.23442990751. Delta is -0.0035676035386131844\n",
      "Model is not converging.  Current: 14100.628819892196 is not greater than 14100.690843820315. Delta is -0.06202392811974278\n",
      "Model is not converging.  Current: 14100.615153787236 is not greater than 14100.617275297398. Delta is -0.0021215101623965893\n"
     ]
    },
    {
     "name": "stdout",
     "output_type": "stream",
     "text": [
      "Error in LDL factorization when computing the nonzero elements. The problem seems to be non-convex.\n",
      "factor_status: 0, num_vars: 7\n",
      "Error in LDL initial factorization.\n",
      "ERROR: init_lin_sys_work failure\n",
      "Falling back to min_volatility due to: ScsWork allocation error!\n"
     ]
    },
    {
     "name": "stderr",
     "output_type": "stream",
     "text": [
      "Model is not converging.  Current: 13805.955340637405 is not greater than 13806.01621689962. Delta is -0.06087626221415121\n",
      "Model is not converging.  Current: 13805.95525055851 is not greater than 13806.015636167662. Delta is -0.06038560915112612\n",
      "Model is not converging.  Current: 13975.121046953114 is not greater than 13975.121156030791. Delta is -0.00010907767682510894\n",
      "Model is not converging.  Current: 13784.551248673019 is not greater than 13784.572403881722. Delta is -0.02115520870393084\n",
      "Model is not converging.  Current: 13784.550161731442 is not greater than 13784.564832327831. Delta is -0.014670596388896229\n",
      "Model is not converging.  Current: 13763.273006609516 is not greater than 13763.273542871813. Delta is -0.0005362622978282161\n",
      "Model is not converging.  Current: 13763.272938274016 is not greater than 13763.27352839158. Delta is -0.0005901175645703916\n",
      "Model is not converging.  Current: 14077.481667355058 is not greater than 14077.601719954842. Delta is -0.1200525997846853\n",
      "Model is not converging.  Current: 14077.466857395142 is not greater than 14077.552004447258. Delta is -0.08514705211564433\n"
     ]
    },
    {
     "name": "stdout",
     "output_type": "stream",
     "text": [
      "Falling back to min_volatility due to: at least one of the assets must have an expected return exceeding the risk-free rate\n"
     ]
    },
    {
     "name": "stderr",
     "output_type": "stream",
     "text": [
      "Model is not converging.  Current: 13865.847719668143 is not greater than 13865.858312434888. Delta is -0.010592766744593973\n",
      "Model is not converging.  Current: 13865.84654824554 is not greater than 13865.849474729495. Delta is -0.0029264839558891254\n",
      "Model is not converging.  Current: 14115.547370646076 is not greater than 14115.628531305396. Delta is -0.08116065931972116\n"
     ]
    },
    {
     "name": "stdout",
     "output_type": "stream",
     "text": [
      "Error in LDL factorization when computing the nonzero elements. The problem seems to be non-convex.\n",
      "factor_status: 0, num_vars: 7\n",
      "Error in LDL initial factorization.\n",
      "ERROR: init_lin_sys_work failure\n",
      "Falling back to min_volatility due to: ScsWork allocation error!\n"
     ]
    },
    {
     "name": "stderr",
     "output_type": "stream",
     "text": [
      "Model is not converging.  Current: 13906.74066193052 is not greater than 13906.74274851253. Delta is -0.002086582009724225\n",
      "Model is not converging.  Current: 13906.739785051084 is not greater than 13906.742574945592. Delta is -0.0027898945081688\n"
     ]
    },
    {
     "name": "stdout",
     "output_type": "stream",
     "text": [
      "Falling back to min_volatility due to: at least one of the assets must have an expected return exceeding the risk-free rate\n"
     ]
    },
    {
     "name": "stderr",
     "output_type": "stream",
     "text": [
      "Model is not converging.  Current: 14120.825974667261 is not greater than 14120.863865243093. Delta is -0.03789057583162503\n",
      "Model is not converging.  Current: 13843.283141370923 is not greater than 13843.314383295297. Delta is -0.03124192437462625\n",
      "Model is not converging.  Current: 13843.284405524786 is not greater than 13843.315234699454. Delta is -0.030829174667815096\n",
      "Model is not converging.  Current: 13719.921433258174 is not greater than 13719.979260906106. Delta is -0.057827647931844695\n",
      "Model is not converging.  Current: 13979.615595960102 is not greater than 13979.646703868017. Delta is -0.031107907914702082\n",
      "Model is not converging.  Current: 13932.534147932436 is not greater than 13932.549577779522. Delta is -0.015429847086124937\n",
      "Model is not converging.  Current: 13932.519288786796 is not greater than 13932.591183255661. Delta is -0.07189446886513906\n",
      "Model is not converging.  Current: 13400.389647013239 is not greater than 13400.404663293806. Delta is -0.015016280567579088\n",
      "Model is not converging.  Current: 13400.389703424491 is not greater than 13400.404754195266. Delta is -0.015050770774905686\n",
      "Model is not converging.  Current: 13529.795088709612 is not greater than 13529.799797755895. Delta is -0.004709046283096541\n",
      "Model is not converging.  Current: 13529.796149248732 is not greater than 13529.798568952523. Delta is -0.002419703791019856\n",
      "Model is not converging.  Current: 13578.15157588331 is not greater than 13578.161626125799. Delta is -0.01005024248843256\n",
      "Model is not converging.  Current: 13578.152141518485 is not greater than 13578.164401794927. Delta is -0.012260276442248141\n"
     ]
    },
    {
     "name": "stdout",
     "output_type": "stream",
     "text": [
      "Error in LDL factorization when computing the nonzero elements. The problem seems to be non-convex.\n",
      "factor_status: 0, num_vars: 7\n",
      "Error in LDL initial factorization.\n",
      "ERROR: init_lin_sys_work failure\n",
      "Falling back to min_volatility due to: ScsWork allocation error!\n",
      "Running simulation 33...\n"
     ]
    },
    {
     "name": "stderr",
     "output_type": "stream",
     "text": [
      "Model is not converging.  Current: 13488.84978328072 is not greater than 13488.885212376917. Delta is -0.035429096196821774\n"
     ]
    },
    {
     "name": "stdout",
     "output_type": "stream",
     "text": [
      "Error in LDL factorization when computing the nonzero elements. The problem seems to be non-convex.\n",
      "factor_status: 0, num_vars: 7\n",
      "Error in LDL initial factorization.\n",
      "ERROR: init_lin_sys_work failure\n",
      "Falling back to min_volatility due to: ScsWork allocation error!\n",
      "Running simulation 34...\n"
     ]
    },
    {
     "name": "stderr",
     "output_type": "stream",
     "text": [
      "Model is not converging.  Current: 13480.222286870128 is not greater than 13480.255217253867. Delta is -0.03293038373885793\n",
      "Model is not converging.  Current: 13475.554202715855 is not greater than 13475.574356076711. Delta is -0.02015336085605668\n",
      "Model is not converging.  Current: 13451.027390944431 is not greater than 13451.059725438652. Delta is -0.03233449422077683\n",
      "Model is not converging.  Current: 13486.50550249805 is not greater than 13486.529330049516. Delta is -0.023827551465728902\n"
     ]
    },
    {
     "name": "stdout",
     "output_type": "stream",
     "text": [
      "Error in LDL factorization when computing the nonzero elements. The problem seems to be non-convex.\n",
      "factor_status: 0, num_vars: 7\n",
      "Error in LDL initial factorization.\n",
      "ERROR: init_lin_sys_work failure\n",
      "Falling back to min_volatility due to: ScsWork allocation error!\n",
      "Running simulation 35...\n"
     ]
    },
    {
     "name": "stderr",
     "output_type": "stream",
     "text": [
      "Model is not converging.  Current: 13364.426540499722 is not greater than 13364.430175894895. Delta is -0.0036353951727505773\n",
      "Model is not converging.  Current: 13424.03928513207 is not greater than 13424.040046836179. Delta is -0.0007617041082994547\n",
      "Model is not converging.  Current: 13365.424550161852 is not greater than 13365.426979382495. Delta is -0.0024292206435347907\n"
     ]
    },
    {
     "name": "stdout",
     "output_type": "stream",
     "text": [
      "Error in LDL factorization when computing the nonzero elements. The problem seems to be non-convex.\n",
      "factor_status: 0, num_vars: 7\n",
      "Error in LDL initial factorization.\n",
      "ERROR: init_lin_sys_work failure\n",
      "Falling back to min_volatility due to: ScsWork allocation error!\n",
      "Running simulation 36...\n"
     ]
    },
    {
     "name": "stderr",
     "output_type": "stream",
     "text": [
      "Model is not converging.  Current: 13400.560369160345 is not greater than 13400.561547195472. Delta is -0.001178035126940813\n",
      "Model is not converging.  Current: 13505.32553512018 is not greater than 13505.339965818725. Delta is -0.014430698543947074\n"
     ]
    },
    {
     "name": "stdout",
     "output_type": "stream",
     "text": [
      "Error in LDL factorization when computing the nonzero elements. The problem seems to be non-convex.\n",
      "factor_status: 0, num_vars: 7\n",
      "Error in LDL initial factorization.\n",
      "ERROR: init_lin_sys_work failure\n",
      "Falling back to min_volatility due to: ScsWork allocation error!\n",
      "Running simulation 37...\n"
     ]
    },
    {
     "name": "stderr",
     "output_type": "stream",
     "text": [
      "Model is not converging.  Current: 13458.128367905947 is not greater than 13458.133660971112. Delta is -0.005293065165460575\n",
      "Model is not converging.  Current: 13452.474445660897 is not greater than 13452.474447119359. Delta is -1.4584620657842606e-06\n"
     ]
    },
    {
     "name": "stdout",
     "output_type": "stream",
     "text": [
      "Error in LDL factorization when computing the nonzero elements. The problem seems to be non-convex.\n",
      "factor_status: 0, num_vars: 7\n",
      "Error in LDL initial factorization.\n",
      "ERROR: init_lin_sys_work failure\n",
      "Falling back to min_volatility due to: ScsWork allocation error!\n",
      "Error in LDL factorization when computing the nonzero elements. The problem seems to be non-convex.\n",
      "factor_status: 0, num_vars: 7\n",
      "Error in LDL initial factorization.\n",
      "ERROR: init_lin_sys_work failure\n",
      "Falling back to min_volatility due to: ScsWork allocation error!\n",
      "Running simulation 38...\n"
     ]
    },
    {
     "name": "stderr",
     "output_type": "stream",
     "text": [
      "Model is not converging.  Current: 13407.965121689209 is not greater than 13408.022242602781. Delta is -0.05712091357236204\n"
     ]
    },
    {
     "name": "stdout",
     "output_type": "stream",
     "text": [
      "Error in LDL factorization when computing the nonzero elements. The problem seems to be non-convex.\n",
      "factor_status: 0, num_vars: 7\n",
      "Error in LDL initial factorization.\n",
      "ERROR: init_lin_sys_work failure\n",
      "Falling back to min_volatility due to: ScsWork allocation error!\n",
      "Running simulation 39...\n",
      "Running simulation 40...\n"
     ]
    },
    {
     "name": "stderr",
     "output_type": "stream",
     "text": [
      "Model is not converging.  Current: 13421.447894680723 is not greater than 13421.556011432524. Delta is -0.10811675180048042\n",
      "Model is not converging.  Current: 13451.048014806775 is not greater than 13451.050619998083. Delta is -0.0026051913082483225\n",
      "Model is not converging.  Current: 13435.616829631828 is not greater than 13435.697679879127. Delta is -0.08085024729916768\n",
      "Model is not converging.  Current: 13490.17911832328 is not greater than 13490.284774619498. Delta is -0.10565629621851258\n",
      "Model is not converging.  Current: 13444.182734608428 is not greater than 13444.219848581677. Delta is -0.037113973248779075\n",
      "Model is not converging.  Current: 13461.209518744132 is not greater than 13461.229442379501. Delta is -0.019923635369195836\n",
      "Model is not converging.  Current: 13532.272594047674 is not greater than 13532.338727875467. Delta is -0.06613382779323729\n",
      "Model is not converging.  Current: 13539.880328332865 is not greater than 13539.915147694905. Delta is -0.034819362039343105\n",
      "Model is not converging.  Current: 13493.835347500071 is not greater than 13493.850738196936. Delta is -0.015390696864415077\n",
      "Model is not converging.  Current: 13414.603903102754 is not greater than 13414.66019827958. Delta is -0.056295176826097304\n",
      "Model is not converging.  Current: 13545.254077553682 is not greater than 13545.298388856778. Delta is -0.04431130309603759\n"
     ]
    },
    {
     "name": "stdout",
     "output_type": "stream",
     "text": [
      "Error in LDL factorization when computing the nonzero elements. The problem seems to be non-convex.\n",
      "factor_status: 0, num_vars: 7\n",
      "Error in LDL initial factorization.\n",
      "ERROR: init_lin_sys_work failure\n",
      "Falling back to min_volatility due to: ScsWork allocation error!\n",
      "Error in LDL factorization when computing the nonzero elements. The problem seems to be non-convex.\n",
      "factor_status: 0, num_vars: 7\n",
      "Error in LDL initial factorization.\n",
      "ERROR: init_lin_sys_work failure\n",
      "Falling back to min_volatility due to: ScsWork allocation error!\n"
     ]
    },
    {
     "name": "stderr",
     "output_type": "stream",
     "text": [
      "Model is not converging.  Current: 13603.352382169853 is not greater than 13603.458941526853. Delta is -0.10655935700015107\n",
      "Model is not converging.  Current: 13603.320680079505 is not greater than 13603.427757007972. Delta is -0.10707692846699501\n",
      "Model is not converging.  Current: 13365.966285687455 is not greater than 13366.00922408559. Delta is -0.04293839813544764\n",
      "Model is not converging.  Current: 13365.958941638568 is not greater than 13366.004460045087. Delta is -0.04551840651947714\n",
      "Model is not converging.  Current: 13475.45099115895 is not greater than 13475.502060478377. Delta is -0.051069319426460424\n",
      "Model is not converging.  Current: 13472.793409076992 is not greater than 13472.823835056. Delta is -0.0304259790082142\n",
      "Model is not converging.  Current: 13441.593400465414 is not greater than 13441.656298238462. Delta is -0.06289777304846211\n",
      "Model is not converging.  Current: 13712.581137523866 is not greater than 13712.647057370128. Delta is -0.06591984626174963\n",
      "Model is not converging.  Current: 13650.802092880513 is not greater than 13650.84909985603. Delta is -0.0470069755174336\n",
      "Model is not converging.  Current: 13650.793032311378 is not greater than 13650.838106306705. Delta is -0.045073995326674776\n",
      "Model is not converging.  Current: 13457.301810851524 is not greater than 13457.341617564654. Delta is -0.03980671313001949\n",
      "Model is not converging.  Current: 13457.289687107019 is not greater than 13457.330384221665. Delta is -0.04069711464580905\n",
      "Model is not converging.  Current: 13577.566035544838 is not greater than 13577.700898167135. Delta is -0.1348626222970779\n",
      "Model is not converging.  Current: 13577.59602796472 is not greater than 13577.68247855574. Delta is -0.08645059101945662\n",
      "Model is not converging.  Current: 13582.419445161759 is not greater than 13582.450234386608. Delta is -0.030789224849286256\n",
      "Model is not converging.  Current: 13582.435628783274 is not greater than 13582.44175863753. Delta is -0.006129854255050304\n"
     ]
    },
    {
     "name": "stdout",
     "output_type": "stream",
     "text": [
      "Error in LDL factorization when computing the nonzero elements. The problem seems to be non-convex.\n",
      "factor_status: 0, num_vars: 7\n",
      "Error in LDL initial factorization.\n",
      "ERROR: init_lin_sys_work failure\n",
      "Falling back to min_volatility due to: ScsWork allocation error!\n"
     ]
    },
    {
     "name": "stderr",
     "output_type": "stream",
     "text": [
      "Model is not converging.  Current: 13610.397243667376 is not greater than 13610.458724696842. Delta is -0.0614810294664494\n",
      "Model is not converging.  Current: 13765.001802787147 is not greater than 13765.009786811084. Delta is -0.007984023937751772\n",
      "Model is not converging.  Current: 13764.996970776681 is not greater than 13765.00459270848. Delta is -0.007621931797984871\n"
     ]
    },
    {
     "name": "stdout",
     "output_type": "stream",
     "text": [
      "Error in LDL factorization when computing the nonzero elements. The problem seems to be non-convex.\n",
      "factor_status: 0, num_vars: 7\n",
      "Error in LDL initial factorization.\n",
      "ERROR: init_lin_sys_work failure\n",
      "Falling back to min_volatility due to: ScsWork allocation error!\n"
     ]
    },
    {
     "name": "stderr",
     "output_type": "stream",
     "text": [
      "Model is not converging.  Current: 13228.044453918472 is not greater than 13228.143721254237. Delta is -0.09926733576503466\n",
      "Model is not converging.  Current: 13668.736975719903 is not greater than 13668.877034437779. Delta is -0.14005871787594515\n",
      "Model is not converging.  Current: 13570.19601860703 is not greater than 13570.212315883244. Delta is -0.01629727621366328\n",
      "Model is not converging.  Current: 13382.768879966065 is not greater than 13382.77577369266. Delta is -0.006893726595080807\n",
      "Model is not converging.  Current: 13284.394888886329 is not greater than 13284.3967496117. Delta is -0.00186072537144355\n",
      "Model is not converging.  Current: 13284.39419555944 is not greater than 13284.396533563415. Delta is -0.0023380039747280534\n"
     ]
    },
    {
     "name": "stdout",
     "output_type": "stream",
     "text": [
      "Error in LDL factorization when computing the nonzero elements. The problem seems to be non-convex.\n",
      "factor_status: 0, num_vars: 7\n",
      "Error in LDL initial factorization.\n",
      "ERROR: init_lin_sys_work failure\n",
      "Falling back to min_volatility due to: ScsWork allocation error!\n"
     ]
    },
    {
     "name": "stderr",
     "output_type": "stream",
     "text": [
      "Model is not converging.  Current: 13444.909825613291 is not greater than 13444.998296948394. Delta is -0.08847133510244021\n",
      "Model is not converging.  Current: 13613.691812206382 is not greater than 13613.707499420281. Delta is -0.015687213899582275\n"
     ]
    },
    {
     "name": "stdout",
     "output_type": "stream",
     "text": [
      "Error in LDL factorization when computing the nonzero elements. The problem seems to be non-convex.\n",
      "factor_status: 0, num_vars: 7\n",
      "Error in LDL initial factorization.\n",
      "ERROR: init_lin_sys_work failure\n",
      "Falling back to min_volatility due to: ScsWork allocation error!\n"
     ]
    },
    {
     "name": "stderr",
     "output_type": "stream",
     "text": [
      "Model is not converging.  Current: 13475.31547269599 is not greater than 13475.324023703251. Delta is -0.008551007262212806\n",
      "Model is not converging.  Current: 13475.315557434273 is not greater than 13475.324081240884. Delta is -0.008523806611265172\n"
     ]
    },
    {
     "name": "stdout",
     "output_type": "stream",
     "text": [
      "Error in LDL factorization when computing the nonzero elements. The problem seems to be non-convex.\n",
      "factor_status: 0, num_vars: 7\n",
      "Error in LDL initial factorization.\n",
      "ERROR: init_lin_sys_work failure\n",
      "Falling back to min_volatility due to: ScsWork allocation error!\n",
      "Error in LDL factorization when computing the nonzero elements. The problem seems to be non-convex.\n",
      "factor_status: 0, num_vars: 7\n",
      "Error in LDL initial factorization.\n",
      "ERROR: init_lin_sys_work failure\n",
      "Falling back to min_volatility due to: ScsWork allocation error!\n"
     ]
    },
    {
     "name": "stderr",
     "output_type": "stream",
     "text": [
      "Model is not converging.  Current: 13585.931281060846 is not greater than 13585.989775807378. Delta is -0.058494746532232966\n",
      "Model is not converging.  Current: 13577.57742966624 is not greater than 13577.581016192884. Delta is -0.00358652664363035\n",
      "Model is not converging.  Current: 13577.575708509483 is not greater than 13577.578835946944. Delta is -0.0031274374614440603\n",
      "Model is not converging.  Current: 13613.348495576041 is not greater than 13613.420258558544. Delta is -0.0717629825030599\n",
      "Model is not converging.  Current: 13613.10367878263 is not greater than 13613.19282943152. Delta is -0.08915064888969937\n",
      "Model is not converging.  Current: 13616.920708656247 is not greater than 13616.975295038646. Delta is -0.05458638239906577\n",
      "Model is not converging.  Current: 13447.468384906839 is not greater than 13447.560758740547. Delta is -0.09237383370782482\n",
      "Model is not converging.  Current: 13665.04134097684 is not greater than 13665.088270028022. Delta is -0.046929051180995884\n",
      "Model is not converging.  Current: 13433.613948036982 is not greater than 13433.66044367146. Delta is -0.04649563447856053\n",
      "Model is not converging.  Current: 13433.613068815244 is not greater than 13433.655448789548. Delta is -0.042379974303912604\n",
      "Model is not converging.  Current: 13532.505016124393 is not greater than 13532.531856312176. Delta is -0.026840187783818692\n",
      "Model is not converging.  Current: 13456.658716114513 is not greater than 13456.865767200195. Delta is -0.20705108568290598\n",
      "Model is not converging.  Current: 13456.721922442699 is not greater than 13456.914145354662. Delta is -0.19222291196274455\n",
      "Model is not converging.  Current: 13522.380852530534 is not greater than 13522.385733904497. Delta is -0.004881373963144142\n",
      "Model is not converging.  Current: 13522.374989783051 is not greater than 13522.37558112963. Delta is -0.0005913465793128125\n",
      "Model is not converging.  Current: 13406.852276108051 is not greater than 13406.853575697869. Delta is -0.0012995898177905474\n"
     ]
    },
    {
     "name": "stdout",
     "output_type": "stream",
     "text": [
      "Error in LDL factorization when computing the nonzero elements. The problem seems to be non-convex.\n",
      "factor_status: 0, num_vars: 7\n",
      "Error in LDL initial factorization.\n",
      "ERROR: init_lin_sys_work failure\n",
      "Falling back to min_volatility due to: ScsWork allocation error!\n"
     ]
    },
    {
     "name": "stderr",
     "output_type": "stream",
     "text": [
      "Model is not converging.  Current: 13957.830002817831 is not greater than 13957.843626161795. Delta is -0.013623343964354717\n",
      "Model is not converging.  Current: 13954.434952714058 is not greater than 13954.449625332447. Delta is -0.014672618388431147\n",
      "Model is not converging.  Current: 13644.962562932857 is not greater than 13644.984828132261. Delta is -0.02226519940450089\n",
      "Model is not converging.  Current: 13644.93763838221 is not greater than 13645.016873836585. Delta is -0.07923545437552093\n"
     ]
    },
    {
     "name": "stdout",
     "output_type": "stream",
     "text": [
      "Falling back to min_volatility due to: at least one of the assets must have an expected return exceeding the risk-free rate\n"
     ]
    },
    {
     "name": "stderr",
     "output_type": "stream",
     "text": [
      "Model is not converging.  Current: 14038.831757110154 is not greater than 14038.83418867387. Delta is -0.0024315637165273074\n",
      "Model is not converging.  Current: 13652.15525883676 is not greater than 13652.202777130982. Delta is -0.047518294222754776\n",
      "Model is not converging.  Current: 13652.166484053152 is not greater than 13652.200679303949. Delta is -0.0341952507969836\n",
      "Model is not converging.  Current: 14238.943327797939 is not greater than 14238.996372886488. Delta is -0.05304508854896994\n",
      "Model is not converging.  Current: 14238.965020764737 is not greater than 14239.030692928474. Delta is -0.06567216373696283\n",
      "Model is not converging.  Current: 14213.451784686044 is not greater than 14213.454811842425. Delta is -0.003027156380994711\n",
      "Model is not converging.  Current: 14361.602752784462 is not greater than 14361.66150696957. Delta is -0.058754185109137325\n",
      "Model is not converging.  Current: 13665.526486742721 is not greater than 13665.598772089681. Delta is -0.07228534695968847\n",
      "Model is not converging.  Current: 13665.524133284305 is not greater than 13665.588426196671. Delta is -0.06429291236599965\n",
      "Model is not converging.  Current: 13985.64042588744 is not greater than 13985.670741730353. Delta is -0.03031584291238687\n",
      "Model is not converging.  Current: 13985.652774222188 is not greater than 13985.702531736122. Delta is -0.04975751393430983\n",
      "Model is not converging.  Current: 13457.561234286935 is not greater than 13457.588019663222. Delta is -0.02678537628708\n",
      "Model is not converging.  Current: 13457.561965046501 is not greater than 13457.592289151029. Delta is -0.030324104527608142\n"
     ]
    },
    {
     "name": "stdout",
     "output_type": "stream",
     "text": [
      "Error in LDL factorization when computing the nonzero elements. The problem seems to be non-convex.\n",
      "factor_status: 0, num_vars: 7\n",
      "Error in LDL initial factorization.\n",
      "ERROR: init_lin_sys_work failure\n",
      "Falling back to min_volatility due to: ScsWork allocation error!\n"
     ]
    },
    {
     "name": "stderr",
     "output_type": "stream",
     "text": [
      "Model is not converging.  Current: 14105.762041657264 is not greater than 14105.762925808658. Delta is -0.0008841513936204137\n",
      "Model is not converging.  Current: 13766.261835337002 is not greater than 13766.268758486509. Delta is -0.006923149507201742\n",
      "Model is not converging.  Current: 13766.261882824607 is not greater than 13766.269336991209. Delta is -0.007454166601746692\n",
      "Model is not converging.  Current: 14171.452817735617 is not greater than 14171.532442538111. Delta is -0.07962480249443615\n",
      "Model is not converging.  Current: 14171.44765726209 is not greater than 14171.515615356886. Delta is -0.06795809479626769\n"
     ]
    },
    {
     "name": "stdout",
     "output_type": "stream",
     "text": [
      "Falling back to min_volatility due to: at least one of the assets must have an expected return exceeding the risk-free rate\n"
     ]
    },
    {
     "name": "stderr",
     "output_type": "stream",
     "text": [
      "Model is not converging.  Current: 13449.18527161479 is not greater than 13449.262125683215. Delta is -0.07685406842574594\n",
      "Model is not converging.  Current: 13449.178029222061 is not greater than 13449.248756159977. Delta is -0.07072693791633355\n",
      "Model is not converging.  Current: 13680.114540581993 is not greater than 13680.120396228489. Delta is -0.005855646495547262\n",
      "Model is not converging.  Current: 13680.114747153495 is not greater than 13680.122170664366. Delta is -0.007423510871376493\n",
      "Model is not converging.  Current: 14022.41368033397 is not greater than 14022.426286667307. Delta is -0.012606333337316755\n",
      "Model is not converging.  Current: 14022.411332241996 is not greater than 14022.424039104399. Delta is -0.01270686240241048\n",
      "Model is not converging.  Current: 13912.888416678468 is not greater than 13912.920140912318. Delta is -0.0317242338496726\n",
      "Model is not converging.  Current: 13912.902828001346 is not greater than 13912.968784886261. Delta is -0.06595688491506735\n",
      "Model is not converging.  Current: 14299.707205171546 is not greater than 14299.758101690555. Delta is -0.050896519009256735\n",
      "Model is not converging.  Current: 14299.70114774158 is not greater than 14299.747491198701. Delta is -0.04634345712111099\n",
      "Model is not converging.  Current: 14144.208214221851 is not greater than 14144.216674752728. Delta is -0.008460530876618577\n"
     ]
    },
    {
     "name": "stdout",
     "output_type": "stream",
     "text": [
      "Falling back to min_volatility due to: at least one of the assets must have an expected return exceeding the risk-free rate\n"
     ]
    },
    {
     "name": "stderr",
     "output_type": "stream",
     "text": [
      "Model is not converging.  Current: 13651.76789975461 is not greater than 13651.767909273776. Delta is -9.519166269456036e-06\n",
      "Model is not converging.  Current: 13651.767722763358 is not greater than 13651.769076631497. Delta is -0.0013538681396312313\n",
      "Model is not converging.  Current: 14071.4371265039 is not greater than 14071.468016339264. Delta is -0.030889835363268503\n",
      "Model is not converging.  Current: 14071.436332818248 is not greater than 14071.464363827357. Delta is -0.028031009109326988\n",
      "Model is not converging.  Current: 13883.463317002612 is not greater than 13883.468598438243. Delta is -0.005281435631331988\n",
      "Model is not converging.  Current: 13880.493089659145 is not greater than 13880.498966111725. Delta is -0.005876452580196201\n",
      "Model is not converging.  Current: 14117.417763012314 is not greater than 14117.43081616034. Delta is -0.013053148026301642\n",
      "Model is not converging.  Current: 14117.421229057201 is not greater than 14117.444491581251. Delta is -0.023262524049641797\n"
     ]
    },
    {
     "name": "stdout",
     "output_type": "stream",
     "text": [
      "Error in LDL factorization when computing the nonzero elements. The problem seems to be non-convex.\n",
      "factor_status: 0, num_vars: 7\n",
      "Error in LDL initial factorization.\n",
      "ERROR: init_lin_sys_work failure\n",
      "Falling back to min_volatility due to: ScsWork allocation error!\n"
     ]
    },
    {
     "name": "stderr",
     "output_type": "stream",
     "text": [
      "Model is not converging.  Current: 13980.02440025083 is not greater than 13980.056786284811. Delta is -0.0323860339813109\n"
     ]
    },
    {
     "name": "stdout",
     "output_type": "stream",
     "text": [
      "Error in LDL factorization when computing the nonzero elements. The problem seems to be non-convex.\n",
      "factor_status: 0, num_vars: 7\n",
      "Error in LDL initial factorization.\n",
      "ERROR: init_lin_sys_work failure\n",
      "Falling back to min_volatility due to: ScsWork allocation error!\n"
     ]
    },
    {
     "name": "stderr",
     "output_type": "stream",
     "text": [
      "Model is not converging.  Current: 14235.928821290556 is not greater than 14236.001285195493. Delta is -0.07246390493673971\n",
      "Model is not converging.  Current: 14235.916175320868 is not greater than 14235.98118559183. Delta is -0.06501027096237522\n",
      "Model is not converging.  Current: 13875.55176317775 is not greater than 13875.583134602357. Delta is -0.03137142460764153\n",
      "Model is not converging.  Current: 13875.549364783981 is not greater than 13875.58013147516. Delta is -0.0307666911794513\n"
     ]
    },
    {
     "name": "stdout",
     "output_type": "stream",
     "text": [
      "Error in LDL factorization when computing the nonzero elements. The problem seems to be non-convex.\n",
      "factor_status: 0, num_vars: 7\n",
      "Error in LDL initial factorization.\n",
      "ERROR: init_lin_sys_work failure\n",
      "Falling back to min_volatility due to: ScsWork allocation error!\n"
     ]
    },
    {
     "name": "stderr",
     "output_type": "stream",
     "text": [
      "Model is not converging.  Current: 13863.234211034245 is not greater than 13863.242444435922. Delta is -0.00823340167698916\n",
      "Model is not converging.  Current: 13863.234753719278 is not greater than 13863.24011111136. Delta is -0.005357392081350554\n",
      "Model is not converging.  Current: 13272.701862260288 is not greater than 13272.708533078558. Delta is -0.006670818269412848\n",
      "Model is not converging.  Current: 13272.701678566164 is not greater than 13272.704000510786. Delta is -0.0023219446229632013\n",
      "Model is not converging.  Current: 14033.573042211146 is not greater than 14033.598853515403. Delta is -0.025811304256421863\n",
      "Model is not converging.  Current: 14033.556967340643 is not greater than 14033.583478952847. Delta is -0.026511612204558332\n",
      "Model is not converging.  Current: 13274.67736770533 is not greater than 13274.720877654725. Delta is -0.04350994939522934\n",
      "Model is not converging.  Current: 13274.689337324113 is not greater than 13274.731276459592. Delta is -0.04193913547896955\n",
      "Model is not converging.  Current: 13614.34269378019 is not greater than 13614.4187541419. Delta is -0.07606036170909647\n",
      "Model is not converging.  Current: 13614.338262213003 is not greater than 13614.418749298417. Delta is -0.08048708541355154\n",
      "Model is not converging.  Current: 13878.856024755765 is not greater than 13878.921465693176. Delta is -0.06544093741104007\n",
      "Model is not converging.  Current: 13878.856078625511 is not greater than 13878.921381302542. Delta is -0.0653026770305587\n",
      "Model is not converging.  Current: 13740.319097853919 is not greater than 13740.322055840903. Delta is -0.002957986984256422\n",
      "Model is not converging.  Current: 14094.833430390834 is not greater than 14094.834387537787. Delta is -0.0009571469527145382\n",
      "Model is not converging.  Current: 13868.086336090659 is not greater than 13868.164250641046. Delta is -0.07791455038750428\n",
      "Model is not converging.  Current: 13868.066355589977 is not greater than 13868.127841956262. Delta is -0.061486366284952965\n",
      "Model is not converging.  Current: 14237.970096325867 is not greater than 14237.98799043291. Delta is -0.017894107042593532\n",
      "Model is not converging.  Current: 14082.615334784841 is not greater than 14082.65436855784. Delta is -0.03903377299866406\n",
      "Model is not converging.  Current: 14082.582778535807 is not greater than 14082.626002605868. Delta is -0.04322407006111462\n",
      "Model is not converging.  Current: 13988.767315284178 is not greater than 13988.827614481213. Delta is -0.06029919703541964\n",
      "Model is not converging.  Current: 13988.772079494198 is not greater than 13988.805629865017. Delta is -0.03355037081928458\n"
     ]
    },
    {
     "name": "stdout",
     "output_type": "stream",
     "text": [
      "Error in LDL factorization when computing the nonzero elements. The problem seems to be non-convex.\n",
      "factor_status: 0, num_vars: 7\n",
      "Error in LDL initial factorization.\n",
      "ERROR: init_lin_sys_work failure\n",
      "Falling back to min_volatility due to: ScsWork allocation error!\n",
      "Running simulation 41...\n"
     ]
    },
    {
     "name": "stderr",
     "output_type": "stream",
     "text": [
      "Model is not converging.  Current: 13483.060413226573 is not greater than 13483.062417446112. Delta is -0.0020042195392306894\n"
     ]
    },
    {
     "name": "stdout",
     "output_type": "stream",
     "text": [
      "Error in LDL factorization when computing the nonzero elements. The problem seems to be non-convex.\n",
      "factor_status: 0, num_vars: 7\n",
      "Error in LDL initial factorization.\n",
      "ERROR: init_lin_sys_work failure\n",
      "Falling back to min_volatility due to: ScsWork allocation error!\n"
     ]
    },
    {
     "name": "stderr",
     "output_type": "stream",
     "text": [
      "Model is not converging.  Current: 13379.545687197064 is not greater than 13379.65946369442. Delta is -0.11377649735550222\n",
      "Model is not converging.  Current: 13490.245552157054 is not greater than 13490.280249644878. Delta is -0.03469748782481474\n"
     ]
    },
    {
     "name": "stdout",
     "output_type": "stream",
     "text": [
      "Running simulation 42...\n"
     ]
    },
    {
     "name": "stderr",
     "output_type": "stream",
     "text": [
      "Model is not converging.  Current: 13468.816491203392 is not greater than 13468.821245673736. Delta is -0.004754470344778383\n"
     ]
    },
    {
     "name": "stdout",
     "output_type": "stream",
     "text": [
      "Error in LDL factorization when computing the nonzero elements. The problem seems to be non-convex.\n",
      "factor_status: 0, num_vars: 7\n",
      "Error in LDL initial factorization.\n",
      "ERROR: init_lin_sys_work failure\n",
      "Falling back to min_volatility due to: ScsWork allocation error!\n",
      "Running simulation 43...\n"
     ]
    },
    {
     "name": "stderr",
     "output_type": "stream",
     "text": [
      "Model is not converging.  Current: 13395.661740711672 is not greater than 13395.672267900074. Delta is -0.010527188402193133\n"
     ]
    },
    {
     "name": "stdout",
     "output_type": "stream",
     "text": [
      "Error in LDL factorization when computing the nonzero elements. The problem seems to be non-convex.\n",
      "factor_status: 0, num_vars: 7\n",
      "Error in LDL initial factorization.\n",
      "ERROR: init_lin_sys_work failure\n",
      "Falling back to min_volatility due to: ScsWork allocation error!\n",
      "Running simulation 44...\n"
     ]
    },
    {
     "name": "stderr",
     "output_type": "stream",
     "text": [
      "Model is not converging.  Current: 13532.032215425039 is not greater than 13532.048062350379. Delta is -0.015846925340156304\n",
      "Model is not converging.  Current: 13368.577010012361 is not greater than 13368.70207994963. Delta is -0.12506993726856308\n"
     ]
    },
    {
     "name": "stdout",
     "output_type": "stream",
     "text": [
      "Error in LDL factorization when computing the nonzero elements. The problem seems to be non-convex.\n",
      "factor_status: 0, num_vars: 7\n",
      "Error in LDL initial factorization.\n",
      "ERROR: init_lin_sys_work failure\n",
      "Falling back to min_volatility due to: ScsWork allocation error!\n",
      "Running simulation 45...\n"
     ]
    },
    {
     "name": "stderr",
     "output_type": "stream",
     "text": [
      "Model is not converging.  Current: 13403.123763666192 is not greater than 13403.229892165436. Delta is -0.10612849924473267\n",
      "Model is not converging.  Current: 13448.288622863272 is not greater than 13448.292982922316. Delta is -0.004360059043392539\n",
      "Model is not converging.  Current: 13503.92822623196 is not greater than 13503.941052007593. Delta is -0.01282577563324594\n"
     ]
    },
    {
     "name": "stdout",
     "output_type": "stream",
     "text": [
      "Error in LDL factorization when computing the nonzero elements. The problem seems to be non-convex.\n",
      "factor_status: 0, num_vars: 7\n",
      "Error in LDL initial factorization.\n",
      "ERROR: init_lin_sys_work failure\n",
      "Falling back to min_volatility due to: ScsWork allocation error!\n",
      "Running simulation 46...\n"
     ]
    },
    {
     "name": "stderr",
     "output_type": "stream",
     "text": [
      "Model is not converging.  Current: 13422.036588060537 is not greater than 13422.085764042857. Delta is -0.04917598231986631\n"
     ]
    },
    {
     "name": "stdout",
     "output_type": "stream",
     "text": [
      "Error in LDL factorization when computing the nonzero elements. The problem seems to be non-convex.\n",
      "factor_status: 0, num_vars: 7\n",
      "Error in LDL initial factorization.\n",
      "ERROR: init_lin_sys_work failure\n",
      "Falling back to min_volatility due to: ScsWork allocation error!\n",
      "Running simulation 47...\n"
     ]
    },
    {
     "name": "stderr",
     "output_type": "stream",
     "text": [
      "Model is not converging.  Current: 13449.115725076947 is not greater than 13449.132042269464. Delta is -0.016317192517817602\n"
     ]
    },
    {
     "name": "stdout",
     "output_type": "stream",
     "text": [
      "Falling back to min_volatility due to: at least one of the assets must have an expected return exceeding the risk-free rate\n",
      "Running simulation 48...\n"
     ]
    },
    {
     "name": "stderr",
     "output_type": "stream",
     "text": [
      "Model is not converging.  Current: 13450.259210350034 is not greater than 13450.261452956196. Delta is -0.0022426061623264104\n",
      "Model is not converging.  Current: 13461.557943453294 is not greater than 13461.565463914578. Delta is -0.007520461284002522\n",
      "Model is not converging.  Current: 13417.200231331384 is not greater than 13417.233394709077. Delta is -0.033163377693199436\n",
      "Model is not converging.  Current: 13422.024364606521 is not greater than 13422.032139217776. Delta is -0.007774611254717456\n",
      "Model is not converging.  Current: 13460.37824881622 is not greater than 13460.385946050534. Delta is -0.007697234314036905\n",
      "Model is not converging.  Current: 13403.088509977606 is not greater than 13403.14731948834. Delta is -0.058809510734135984\n",
      "Model is not converging.  Current: 13446.61449185395 is not greater than 13446.618294817008. Delta is -0.0038029630577511853\n"
     ]
    },
    {
     "name": "stdout",
     "output_type": "stream",
     "text": [
      "Error in LDL factorization when computing the nonzero elements. The problem seems to be non-convex.\n",
      "factor_status: 0, num_vars: 7\n",
      "Error in LDL initial factorization.\n",
      "ERROR: init_lin_sys_work failure\n",
      "Falling back to min_volatility due to: ScsWork allocation error!\n"
     ]
    },
    {
     "name": "stderr",
     "output_type": "stream",
     "text": [
      "Model is not converging.  Current: 13432.954580309826 is not greater than 13432.984440827413. Delta is -0.029860517586712376\n",
      "Model is not converging.  Current: 13432.948955020202 is not greater than 13432.96703333578. Delta is -0.01807831557925965\n"
     ]
    },
    {
     "name": "stdout",
     "output_type": "stream",
     "text": [
      "Error in LDL factorization when computing the nonzero elements. The problem seems to be non-convex.\n",
      "factor_status: 0, num_vars: 7\n",
      "Error in LDL initial factorization.\n",
      "ERROR: init_lin_sys_work failure\n",
      "Falling back to min_volatility due to: ScsWork allocation error!\n"
     ]
    },
    {
     "name": "stderr",
     "output_type": "stream",
     "text": [
      "Model is not converging.  Current: 13410.236228782212 is not greater than 13410.242790635217. Delta is -0.006561853004313889\n",
      "Model is not converging.  Current: 13332.761488054279 is not greater than 13332.766659255969. Delta is -0.005171201690245653\n",
      "Model is not converging.  Current: 13332.75752427266 is not greater than 13332.762063768512. Delta is -0.004539495852441178\n",
      "Model is not converging.  Current: 13369.168897599284 is not greater than 13369.1741352106. Delta is -0.005237611316260882\n",
      "Model is not converging.  Current: 13573.16116562807 is not greater than 13573.16147303003. Delta is -0.0003074019605264766\n",
      "Model is not converging.  Current: 13551.55247905606 is not greater than 13551.598097321688. Delta is -0.045618265628945665\n",
      "Model is not converging.  Current: 13551.545444357465 is not greater than 13551.57345131967. Delta is -0.028006962204017327\n",
      "Model is not converging.  Current: 13332.539076530617 is not greater than 13332.60668366019. Delta is -0.06760712957293435\n",
      "Model is not converging.  Current: 13332.541024428594 is not greater than 13332.590747809609. Delta is -0.04972338101470086\n",
      "Model is not converging.  Current: 13687.58549936158 is not greater than 13687.68374622338. Delta is -0.09824686180036224\n",
      "Model is not converging.  Current: 13625.093559395165 is not greater than 13625.10419347924. Delta is -0.01063408407389943\n",
      "Model is not converging.  Current: 13625.086348741299 is not greater than 13625.110471616246. Delta is -0.024122874947352102\n"
     ]
    },
    {
     "name": "stdout",
     "output_type": "stream",
     "text": [
      "Error in LDL factorization when computing the nonzero elements. The problem seems to be non-convex.\n",
      "factor_status: 0, num_vars: 7\n",
      "Error in LDL initial factorization.\n",
      "ERROR: init_lin_sys_work failure\n",
      "Falling back to min_volatility due to: ScsWork allocation error!\n"
     ]
    },
    {
     "name": "stderr",
     "output_type": "stream",
     "text": [
      "Model is not converging.  Current: 13319.904548702918 is not greater than 13319.921898816472. Delta is -0.017350113554130075\n",
      "Model is not converging.  Current: 13319.909341418286 is not greater than 13319.924004538329. Delta is -0.014663120042314404\n"
     ]
    },
    {
     "name": "stdout",
     "output_type": "stream",
     "text": [
      "Error in LDL factorization when computing the nonzero elements. The problem seems to be non-convex.\n",
      "factor_status: 0, num_vars: 7\n",
      "Error in LDL initial factorization.\n",
      "ERROR: init_lin_sys_work failure\n",
      "Falling back to min_volatility due to: ScsWork allocation error!\n"
     ]
    },
    {
     "name": "stderr",
     "output_type": "stream",
     "text": [
      "Model is not converging.  Current: 13617.50633063167 is not greater than 13617.559306844552. Delta is -0.05297621288264054\n",
      "Model is not converging.  Current: 13577.527259513847 is not greater than 13577.582775425308. Delta is -0.05551591146104329\n",
      "Model is not converging.  Current: 13427.406603098838 is not greater than 13427.427886941356. Delta is -0.02128384251773241\n"
     ]
    },
    {
     "name": "stdout",
     "output_type": "stream",
     "text": [
      "Error in LDL factorization when computing the nonzero elements. The problem seems to be non-convex.\n",
      "factor_status: 0, num_vars: 7\n",
      "Error in LDL initial factorization.\n",
      "ERROR: init_lin_sys_work failure\n",
      "Falling back to min_volatility due to: ScsWork allocation error!\n"
     ]
    },
    {
     "name": "stderr",
     "output_type": "stream",
     "text": [
      "Model is not converging.  Current: 13431.263365768995 is not greater than 13431.304619877184. Delta is -0.041254108189605176\n",
      "Model is not converging.  Current: 13431.252390617732 is not greater than 13431.290451907573. Delta is -0.03806128984069801\n",
      "Model is not converging.  Current: 13577.428983219232 is not greater than 13577.469579558392. Delta is -0.04059633916040184\n",
      "Model is not converging.  Current: 13556.281103138299 is not greater than 13556.332623148419. Delta is -0.05152001011992979\n",
      "Model is not converging.  Current: 13556.286353410547 is not greater than 13556.316474049792. Delta is -0.03012063924506947\n"
     ]
    },
    {
     "name": "stdout",
     "output_type": "stream",
     "text": [
      "Error in LDL factorization when computing the nonzero elements. The problem seems to be non-convex.\n",
      "factor_status: 0, num_vars: 7\n",
      "Error in LDL initial factorization.\n",
      "ERROR: init_lin_sys_work failure\n",
      "Falling back to min_volatility due to: ScsWork allocation error!\n",
      "Error in LDL factorization when computing the nonzero elements. The problem seems to be non-convex.\n",
      "factor_status: 0, num_vars: 7\n",
      "Error in LDL initial factorization.\n",
      "ERROR: init_lin_sys_work failure\n",
      "Falling back to min_volatility due to: ScsWork allocation error!\n"
     ]
    },
    {
     "name": "stderr",
     "output_type": "stream",
     "text": [
      "Model is not converging.  Current: 13656.790202060296 is not greater than 13656.825530513062. Delta is -0.03532845276640728\n",
      "Model is not converging.  Current: 13656.776784949778 is not greater than 13656.811744133254. Delta is -0.0349591834765306\n"
     ]
    },
    {
     "name": "stdout",
     "output_type": "stream",
     "text": [
      "Error in LDL factorization when computing the nonzero elements. The problem seems to be non-convex.\n",
      "factor_status: 0, num_vars: 7\n",
      "Error in LDL initial factorization.\n",
      "ERROR: init_lin_sys_work failure\n",
      "Falling back to min_volatility due to: ScsWork allocation error!\n"
     ]
    },
    {
     "name": "stderr",
     "output_type": "stream",
     "text": [
      "Model is not converging.  Current: 13348.368046015014 is not greater than 13348.433215496272. Delta is -0.06516948125863564\n",
      "Model is not converging.  Current: 13503.875180142873 is not greater than 13503.889196582077. Delta is -0.014016439203260234\n",
      "Model is not converging.  Current: 13503.879682374678 is not greater than 13503.887314584346. Delta is -0.007632209668372525\n",
      "Model is not converging.  Current: 13426.506026588093 is not greater than 13426.528355343526. Delta is -0.022328755432681646\n",
      "Model is not converging.  Current: 13270.32374025358 is not greater than 13270.373507690238. Delta is -0.049767436657930375\n",
      "Model is not converging.  Current: 13270.337288816268 is not greater than 13270.360639580946. Delta is -0.02335076467716135\n",
      "Model is not converging.  Current: 13509.487064914123 is not greater than 13509.49513366821. Delta is -0.008068754086707486\n",
      "Model is not converging.  Current: 13509.487378265445 is not greater than 13509.493838032127. Delta is -0.006459766682382906\n",
      "Model is not converging.  Current: 13418.735471114385 is not greater than 13418.736745437887. Delta is -0.0012743235020025168\n",
      "Model is not converging.  Current: 13418.729257875466 is not greater than 13418.74001247642. Delta is -0.010754600954896887\n",
      "Model is not converging.  Current: 13609.142193332433 is not greater than 13609.242280446404. Delta is -0.10008711397131265\n",
      "Model is not converging.  Current: 13609.165542066452 is not greater than 13609.203399539647. Delta is -0.03785747319489019\n",
      "Model is not converging.  Current: 13648.300011295385 is not greater than 13648.374970096726. Delta is -0.07495880134047184\n",
      "Model is not converging.  Current: 13648.265729422159 is not greater than 13648.33179647502. Delta is -0.06606705286139913\n",
      "Model is not converging.  Current: 13353.839166921296 is not greater than 13353.84431033667. Delta is -0.005143415373822791\n",
      "Model is not converging.  Current: 13353.837923760535 is not greater than 13353.842558291457. Delta is -0.004634530921975966\n",
      "Model is not converging.  Current: 13424.262434285634 is not greater than 13424.312500815371. Delta is -0.05006652973679593\n",
      "Model is not converging.  Current: 13812.124010273134 is not greater than 13812.139306091092. Delta is -0.015295817958758562\n",
      "Model is not converging.  Current: 13648.23832473494 is not greater than 13648.265086023142. Delta is -0.02676128820166923\n",
      "Model is not converging.  Current: 13570.060422371178 is not greater than 13570.150875085897. Delta is -0.090452714719504\n",
      "Model is not converging.  Current: 13570.01077360496 is not greater than 13570.05754483059. Delta is -0.046771225630436675\n",
      "Model is not converging.  Current: 13501.29283182876 is not greater than 13501.327723515786. Delta is -0.03489168702617462\n",
      "Model is not converging.  Current: 13387.33849412414 is not greater than 13387.354111942883. Delta is -0.015617818742612144\n",
      "Model is not converging.  Current: 13387.33025397418 is not greater than 13387.346241265037. Delta is -0.01598729085708328\n",
      "Model is not converging.  Current: 13586.781862082575 is not greater than 13586.857106465077. Delta is -0.07524438250220555\n",
      "Model is not converging.  Current: 13586.791243705116 is not greater than 13586.85744570041. Delta is -0.06620199529425008\n"
     ]
    },
    {
     "name": "stdout",
     "output_type": "stream",
     "text": [
      "Falling back to min_volatility due to: at least one of the assets must have an expected return exceeding the risk-free rate\n"
     ]
    },
    {
     "name": "stderr",
     "output_type": "stream",
     "text": [
      "Model is not converging.  Current: 14051.086011427526 is not greater than 14051.10805795219. Delta is -0.022046524663892342\n",
      "Model is not converging.  Current: 14051.08414065175 is not greater than 14051.094626117549. Delta is -0.010485465798410587\n"
     ]
    },
    {
     "name": "stdout",
     "output_type": "stream",
     "text": [
      "Error in LDL factorization when computing the nonzero elements. The problem seems to be non-convex.\n",
      "factor_status: 0, num_vars: 7\n",
      "Error in LDL initial factorization.\n",
      "ERROR: init_lin_sys_work failure\n",
      "Falling back to min_volatility due to: ScsWork allocation error!\n"
     ]
    },
    {
     "name": "stderr",
     "output_type": "stream",
     "text": [
      "Model is not converging.  Current: 14095.951977294111 is not greater than 14095.958499805298. Delta is -0.006522511186631164\n",
      "Model is not converging.  Current: 14095.952950523111 is not greater than 14095.957071985116. Delta is -0.004121462005059584\n",
      "Model is not converging.  Current: 13697.182351763018 is not greater than 13697.193639249457. Delta is -0.011287486438959604\n",
      "Model is not converging.  Current: 13697.18185080416 is not greater than 13697.185412824922. Delta is -0.00356202076181944\n",
      "Model is not converging.  Current: 13608.783462671448 is not greater than 13608.797413523007. Delta is -0.013950851558547583\n",
      "Model is not converging.  Current: 13857.706392613345 is not greater than 13857.723453390274. Delta is -0.01706077692870167\n",
      "Model is not converging.  Current: 13857.673101792927 is not greater than 13857.724162609908. Delta is -0.0510608169806801\n",
      "Model is not converging.  Current: 13933.460430761614 is not greater than 13933.485376544551. Delta is -0.02494578293772065\n",
      "Model is not converging.  Current: 13933.469143497941 is not greater than 13933.52428373072. Delta is -0.05514023277828528\n",
      "Model is not converging.  Current: 13832.343176411305 is not greater than 13832.379598096979. Delta is -0.03642168567421322\n",
      "Model is not converging.  Current: 13832.337531179339 is not greater than 13832.360071852865. Delta is -0.022540673526236787\n",
      "Model is not converging.  Current: 14126.316637597925 is not greater than 14126.340870501068. Delta is -0.024232903142547002\n",
      "Model is not converging.  Current: 14126.136226377512 is not greater than 14126.227972830235. Delta is -0.09174645272287307\n",
      "Model is not converging.  Current: 13775.959706360736 is not greater than 13775.960374225064. Delta is -0.0006678643276245566\n"
     ]
    },
    {
     "name": "stdout",
     "output_type": "stream",
     "text": [
      "Error in LDL factorization when computing the nonzero elements. The problem seems to be non-convex.\n",
      "factor_status: 0, num_vars: 7\n",
      "Error in LDL initial factorization.\n",
      "ERROR: init_lin_sys_work failure\n",
      "Falling back to min_volatility due to: ScsWork allocation error!\n"
     ]
    },
    {
     "name": "stderr",
     "output_type": "stream",
     "text": [
      "Model is not converging.  Current: 13796.044813279059 is not greater than 13796.047882937948. Delta is -0.003069658889216953\n",
      "Model is not converging.  Current: 13796.045316384698 is not greater than 13796.05288842982. Delta is -0.007572045122287818\n",
      "Model is not converging.  Current: 13754.90301410958 is not greater than 13754.910710273121. Delta is -0.007696163540458656\n",
      "Model is not converging.  Current: 13754.902950116264 is not greater than 13754.909447748922. Delta is -0.006497632657556096\n"
     ]
    },
    {
     "name": "stdout",
     "output_type": "stream",
     "text": [
      "Error in LDL factorization when computing the nonzero elements. The problem seems to be non-convex.\n",
      "factor_status: 0, num_vars: 7\n",
      "Error in LDL initial factorization.\n",
      "ERROR: init_lin_sys_work failure\n",
      "Falling back to min_volatility due to: ScsWork allocation error!\n"
     ]
    },
    {
     "name": "stderr",
     "output_type": "stream",
     "text": [
      "Model is not converging.  Current: 13981.069747375423 is not greater than 13981.08099511633. Delta is -0.011247740907492698\n",
      "Model is not converging.  Current: 13923.298582656023 is not greater than 13923.397437995874. Delta is -0.09885533985107031\n",
      "Model is not converging.  Current: 13923.317863772452 is not greater than 13923.436929902753. Delta is -0.11906613030078006\n",
      "Model is not converging.  Current: 13839.38370128644 is not greater than 13839.404188296887. Delta is -0.02048701044623158\n",
      "Model is not converging.  Current: 13839.37664114321 is not greater than 13839.413865208813. Delta is -0.03722406560336822\n",
      "Model is not converging.  Current: 14132.377873031593 is not greater than 14132.405956979663. Delta is -0.028083948069252074\n",
      "Model is not converging.  Current: 14132.378310729338 is not greater than 14132.408324500517. Delta is -0.03001377117834636\n",
      "Model is not converging.  Current: 13979.815490803472 is not greater than 13979.827068802271. Delta is -0.01157799879911181\n",
      "Model is not converging.  Current: 13979.823292859886 is not greater than 13979.834791015732. Delta is -0.011498155845401925\n",
      "Model is not converging.  Current: 13975.167101338979 is not greater than 13975.16845566552. Delta is -0.0013543265413318295\n"
     ]
    },
    {
     "name": "stdout",
     "output_type": "stream",
     "text": [
      "Error in LDL factorization when computing the nonzero elements. The problem seems to be non-convex.\n",
      "factor_status: 0, num_vars: 7\n",
      "Error in LDL initial factorization.\n",
      "ERROR: init_lin_sys_work failure\n",
      "Falling back to min_volatility due to: ScsWork allocation error!\n"
     ]
    },
    {
     "name": "stderr",
     "output_type": "stream",
     "text": [
      "Model is not converging.  Current: 14143.935419168925 is not greater than 14143.939918303491. Delta is -0.00449913456577633\n",
      "Model is not converging.  Current: 14053.906308143394 is not greater than 14054.03232831394. Delta is -0.12602017054632597\n",
      "Model is not converging.  Current: 13775.754056406413 is not greater than 13775.754950076454. Delta is -0.0008936700414778898\n",
      "Model is not converging.  Current: 13695.546175847292 is not greater than 13695.574939647235. Delta is -0.028763799942680635\n",
      "Model is not converging.  Current: 13695.546399990057 is not greater than 13695.576038099738. Delta is -0.029638109681400238\n",
      "Model is not converging.  Current: 14109.037214723701 is not greater than 14109.071162025062. Delta is -0.033947301360967685\n",
      "Model is not converging.  Current: 14109.029605421276 is not greater than 14109.055527093802. Delta is -0.02592167252623767\n"
     ]
    },
    {
     "name": "stdout",
     "output_type": "stream",
     "text": [
      "Error in LDL factorization when computing the nonzero elements. The problem seems to be non-convex.\n",
      "factor_status: 0, num_vars: 7\n",
      "Error in LDL initial factorization.\n",
      "ERROR: init_lin_sys_work failure\n",
      "Falling back to min_volatility due to: ScsWork allocation error!\n",
      "Error in LDL factorization when computing the nonzero elements. The problem seems to be non-convex.\n",
      "factor_status: 0, num_vars: 7\n",
      "Error in LDL initial factorization.\n",
      "ERROR: init_lin_sys_work failure\n",
      "Falling back to min_volatility due to: ScsWork allocation error!\n"
     ]
    },
    {
     "name": "stderr",
     "output_type": "stream",
     "text": [
      "Model is not converging.  Current: 13907.677550964247 is not greater than 13907.761873670173. Delta is -0.08432270592675195\n",
      "Model is not converging.  Current: 13907.700493103846 is not greater than 13907.810292234155. Delta is -0.10979913030860189\n"
     ]
    },
    {
     "name": "stdout",
     "output_type": "stream",
     "text": [
      "Error in LDL factorization when computing the nonzero elements. The problem seems to be non-convex.\n",
      "factor_status: 0, num_vars: 7\n",
      "Error in LDL initial factorization.\n",
      "ERROR: init_lin_sys_work failure\n",
      "Falling back to min_volatility due to: ScsWork allocation error!\n"
     ]
    },
    {
     "name": "stderr",
     "output_type": "stream",
     "text": [
      "Model is not converging.  Current: 13619.690814688587 is not greater than 13619.69283402195. Delta is -0.0020193333621136844\n",
      "Model is not converging.  Current: 14031.525834779713 is not greater than 14031.55079547265. Delta is -0.02496069293738401\n",
      "Model is not converging.  Current: 14036.67348364888 is not greater than 14036.699636093717. Delta is -0.026152444837862276\n",
      "Model is not converging.  Current: 14036.671220874185 is not greater than 14036.703177124564. Delta is -0.03195625037915306\n",
      "Model is not converging.  Current: 14159.17962889004 is not greater than 14159.1914574347. Delta is -0.011828544658783358\n",
      "Model is not converging.  Current: 13872.510465131041 is not greater than 13872.513722647402. Delta is -0.0032575163604633417\n",
      "Model is not converging.  Current: 13872.510595301828 is not greater than 13872.515409552097. Delta is -0.004814250269191689\n",
      "Model is not converging.  Current: 13373.53605170015 is not greater than 13373.545703085501. Delta is -0.009651385351389763\n",
      "Model is not converging.  Current: 13373.53569413961 is not greater than 13373.542933044999. Delta is -0.0072389053893857636\n",
      "Model is not converging.  Current: 14183.865737008315 is not greater than 14183.867641434377. Delta is -0.0019044260625378229\n",
      "Model is not converging.  Current: 14183.86569590436 is not greater than 14183.867031675354. Delta is -0.0013357709940464702\n",
      "Model is not converging.  Current: 13800.077177598312 is not greater than 13800.092535100182. Delta is -0.015357501870312262\n",
      "Model is not converging.  Current: 13802.484704525932 is not greater than 13802.490673287937. Delta is -0.005968762005068129\n",
      "Model is not converging.  Current: 13802.484173353652 is not greater than 13802.49634340578. Delta is -0.012170052128567477\n"
     ]
    },
    {
     "name": "stdout",
     "output_type": "stream",
     "text": [
      "Error in LDL factorization when computing the nonzero elements. The problem seems to be non-convex.\n",
      "factor_status: 0, num_vars: 7\n",
      "Error in LDL initial factorization.\n",
      "ERROR: init_lin_sys_work failure\n",
      "Falling back to min_volatility due to: ScsWork allocation error!\n",
      "Running simulation 49...\n"
     ]
    },
    {
     "name": "stderr",
     "output_type": "stream",
     "text": [
      "Model is not converging.  Current: 13546.20667692217 is not greater than 13546.216431545421. Delta is -0.009754623251865269\n",
      "Model is not converging.  Current: 13538.516174456234 is not greater than 13538.52535209227. Delta is -0.009177636036838521\n"
     ]
    },
    {
     "name": "stdout",
     "output_type": "stream",
     "text": [
      "Error in LDL factorization when computing the nonzero elements. The problem seems to be non-convex.\n",
      "factor_status: 0, num_vars: 7\n",
      "Error in LDL initial factorization.\n",
      "ERROR: init_lin_sys_work failure\n",
      "Falling back to min_volatility due to: ScsWork allocation error!\n",
      "Running simulation 50...\n"
     ]
    },
    {
     "name": "stderr",
     "output_type": "stream",
     "text": [
      "Model is not converging.  Current: 13473.6557149555 is not greater than 13473.65623897474. Delta is -0.0005240192404016852\n",
      "Model is not converging.  Current: 13503.085431968828 is not greater than 13503.110166887624. Delta is -0.024734918795729754\n",
      "Model is not converging.  Current: 13492.419662229324 is not greater than 13492.422839648718. Delta is -0.003177419393978198\n",
      "Model is not converging.  Current: 13499.240057928202 is not greater than 13499.280284159127. Delta is -0.0402262309253274\n"
     ]
    },
    {
     "name": "stdout",
     "output_type": "stream",
     "text": [
      "Error in LDL factorization when computing the nonzero elements. The problem seems to be non-convex.\n",
      "factor_status: 0, num_vars: 7\n",
      "Error in LDL initial factorization.\n",
      "ERROR: init_lin_sys_work failure\n",
      "Falling back to min_volatility due to: ScsWork allocation error!\n",
      "Running simulation 51...\n"
     ]
    },
    {
     "name": "stderr",
     "output_type": "stream",
     "text": [
      "Model is not converging.  Current: 13435.508781476161 is not greater than 13435.538453294941. Delta is -0.029671818780116155\n",
      "Model is not converging.  Current: 13411.96657497416 is not greater than 13411.976854172231. Delta is -0.010279198071657447\n"
     ]
    },
    {
     "name": "stdout",
     "output_type": "stream",
     "text": [
      "Error in LDL factorization when computing the nonzero elements. The problem seems to be non-convex.\n",
      "factor_status: 0, num_vars: 7\n",
      "Error in LDL initial factorization.\n",
      "ERROR: init_lin_sys_work failure\n",
      "Falling back to min_volatility due to: ScsWork allocation error!\n",
      "Running simulation 52...\n"
     ]
    },
    {
     "name": "stderr",
     "output_type": "stream",
     "text": [
      "Model is not converging.  Current: 13454.68262980411 is not greater than 13454.682900820815. Delta is -0.0002710167045734124\n",
      "Model is not converging.  Current: 13409.029562475935 is not greater than 13409.039409182464. Delta is -0.009846706529060612\n"
     ]
    },
    {
     "name": "stdout",
     "output_type": "stream",
     "text": [
      "Error in LDL factorization when computing the nonzero elements. The problem seems to be non-convex.\n",
      "factor_status: 0, num_vars: 7\n",
      "Error in LDL initial factorization.\n",
      "ERROR: init_lin_sys_work failure\n",
      "Falling back to min_volatility due to: ScsWork allocation error!\n",
      "Running simulation 53...\n"
     ]
    },
    {
     "name": "stderr",
     "output_type": "stream",
     "text": [
      "Model is not converging.  Current: 13417.117926466715 is not greater than 13417.147151848474. Delta is -0.02922538175880618\n",
      "Model is not converging.  Current: 13467.312053260432 is not greater than 13467.342069375243. Delta is -0.030016114811587613\n"
     ]
    },
    {
     "name": "stdout",
     "output_type": "stream",
     "text": [
      "Error in LDL factorization when computing the nonzero elements. The problem seems to be non-convex.\n",
      "factor_status: 0, num_vars: 7\n",
      "Error in LDL initial factorization.\n",
      "ERROR: init_lin_sys_work failure\n",
      "Falling back to min_volatility due to: ScsWork allocation error!\n",
      "Running simulation 54...\n"
     ]
    },
    {
     "name": "stderr",
     "output_type": "stream",
     "text": [
      "Model is not converging.  Current: 13376.581086071592 is not greater than 13376.656623052035. Delta is -0.07553698044284829\n"
     ]
    },
    {
     "name": "stdout",
     "output_type": "stream",
     "text": [
      "Error in LDL factorization when computing the nonzero elements. The problem seems to be non-convex.\n",
      "factor_status: 0, num_vars: 7\n",
      "Error in LDL initial factorization.\n",
      "ERROR: init_lin_sys_work failure\n",
      "Falling back to min_volatility due to: ScsWork allocation error!\n",
      "Running simulation 55...\n"
     ]
    },
    {
     "name": "stderr",
     "output_type": "stream",
     "text": [
      "Model is not converging.  Current: 13374.747425320224 is not greater than 13374.753563200591. Delta is -0.006137880367532489\n",
      "Model is not converging.  Current: 13428.40899695705 is not greater than 13428.412121752555. Delta is -0.003124795504845679\n"
     ]
    },
    {
     "name": "stdout",
     "output_type": "stream",
     "text": [
      "Error in LDL factorization when computing the nonzero elements. The problem seems to be non-convex.\n",
      "factor_status: 0, num_vars: 7\n",
      "Error in LDL initial factorization.\n",
      "ERROR: init_lin_sys_work failure\n",
      "Falling back to min_volatility due to: ScsWork allocation error!\n"
     ]
    },
    {
     "name": "stderr",
     "output_type": "stream",
     "text": [
      "Model is not converging.  Current: 13404.039293252185 is not greater than 13404.03993973203. Delta is -0.0006464798461820465\n"
     ]
    },
    {
     "name": "stdout",
     "output_type": "stream",
     "text": [
      "Running simulation 56...\n"
     ]
    },
    {
     "name": "stderr",
     "output_type": "stream",
     "text": [
      "Model is not converging.  Current: 13407.77948527318 is not greater than 13407.780078333291. Delta is -0.0005930601109866984\n",
      "Model is not converging.  Current: 13502.2025196468 is not greater than 13502.256780525704. Delta is -0.0542608789037331\n",
      "Model is not converging.  Current: 13416.75029820988 is not greater than 13416.758307857615. Delta is -0.008009647735889303\n",
      "Model is not converging.  Current: 13450.572726342676 is not greater than 13450.613184030488. Delta is -0.04045768781179504\n",
      "Model is not converging.  Current: 13434.793272318926 is not greater than 13434.803763980759. Delta is -0.010491661832929822\n",
      "Model is not converging.  Current: 13391.116619110255 is not greater than 13391.131759036261. Delta is -0.015139926006668247\n",
      "Model is not converging.  Current: 13399.10254395632 is not greater than 13399.103540913511. Delta is -0.0009969571910914965\n",
      "Model is not converging.  Current: 13438.099696844762 is not greater than 13438.212261895525. Delta is -0.11256505076380563\n",
      "Model is not converging.  Current: 13416.415968477577 is not greater than 13416.420430772207. Delta is -0.004462294629774988\n"
     ]
    },
    {
     "name": "stdout",
     "output_type": "stream",
     "text": [
      "Error in LDL factorization when computing the nonzero elements. The problem seems to be non-convex.\n",
      "factor_status: 0, num_vars: 7\n",
      "Error in LDL initial factorization.\n",
      "ERROR: init_lin_sys_work failure\n",
      "Falling back to min_volatility due to: ScsWork allocation error!\n"
     ]
    },
    {
     "name": "stderr",
     "output_type": "stream",
     "text": [
      "Model is not converging.  Current: 13509.916928556613 is not greater than 13509.959548634599. Delta is -0.042620077985702665\n",
      "Model is not converging.  Current: 13509.894418226802 is not greater than 13509.93942914877. Delta is -0.04501092196733225\n"
     ]
    },
    {
     "name": "stdout",
     "output_type": "stream",
     "text": [
      "Error in LDL factorization when computing the nonzero elements. The problem seems to be non-convex.\n",
      "factor_status: 0, num_vars: 7\n",
      "Error in LDL initial factorization.\n",
      "ERROR: init_lin_sys_work failure\n",
      "Falling back to min_volatility due to: ScsWork allocation error!\n"
     ]
    },
    {
     "name": "stderr",
     "output_type": "stream",
     "text": [
      "Model is not converging.  Current: 13465.335893673267 is not greater than 13465.36740176721. Delta is -0.03150809394173848\n",
      "Model is not converging.  Current: 13542.787789890617 is not greater than 13542.845927049659. Delta is -0.0581371590415074\n",
      "Model is not converging.  Current: 13593.7896708165 is not greater than 13593.831101933754. Delta is -0.04143111725352355\n",
      "Model is not converging.  Current: 13477.987914251518 is not greater than 13478.125086754819. Delta is -0.13717250330046227\n",
      "Model is not converging.  Current: 13478.003659964335 is not greater than 13478.142922424418. Delta is -0.13926246008304588\n",
      "Model is not converging.  Current: 13543.597907171983 is not greater than 13543.637541282973. Delta is -0.039634110989936744\n",
      "Model is not converging.  Current: 13543.608196916499 is not greater than 13543.628314632198. Delta is -0.020117715699598193\n"
     ]
    },
    {
     "name": "stdout",
     "output_type": "stream",
     "text": [
      "Error in LDL factorization when computing the nonzero elements. The problem seems to be non-convex.\n",
      "factor_status: 0, num_vars: 7\n",
      "Error in LDL initial factorization.\n",
      "ERROR: init_lin_sys_work failure\n",
      "Falling back to min_volatility due to: ScsWork allocation error!\n",
      "Error in LDL factorization when computing the nonzero elements. The problem seems to be non-convex.\n",
      "factor_status: 0, num_vars: 7\n",
      "Error in LDL initial factorization.\n",
      "ERROR: init_lin_sys_work failure\n",
      "Falling back to min_volatility due to: ScsWork allocation error!\n"
     ]
    },
    {
     "name": "stderr",
     "output_type": "stream",
     "text": [
      "Model is not converging.  Current: 13698.271236252547 is not greater than 13698.328840031028. Delta is -0.05760377848127973\n",
      "Model is not converging.  Current: 13698.150705793067 is not greater than 13698.152509461755. Delta is -0.0018036686888081022\n",
      "Model is not converging.  Current: 13312.6995909461 is not greater than 13312.700073278225. Delta is -0.00048233212510240264\n",
      "Model is not converging.  Current: 13674.315936234176 is not greater than 13674.401412528221. Delta is -0.08547629404529289\n",
      "Model is not converging.  Current: 13674.295333902688 is not greater than 13674.331479150535. Delta is -0.03614524784643436\n",
      "Model is not converging.  Current: 13556.08152059071 is not greater than 13556.100541160664. Delta is -0.019020569954591338\n",
      "Model is not converging.  Current: 13556.07085285974 is not greater than 13556.086397059567. Delta is -0.01554419982676336\n",
      "Model is not converging.  Current: 13742.828965077815 is not greater than 13742.85785129109. Delta is -0.028886213274745387\n",
      "Model is not converging.  Current: 13742.788545721107 is not greater than 13742.79318265219. Delta is -0.004636931083950913\n",
      "Model is not converging.  Current: 13429.996415869375 is not greater than 13430.008687848223. Delta is -0.012271978848730214\n",
      "Model is not converging.  Current: 13429.974601454933 is not greater than 13430.006336070861. Delta is -0.031734615928144194\n",
      "Model is not converging.  Current: 13503.759968075447 is not greater than 13503.780208238635. Delta is -0.020240163188645965\n",
      "Model is not converging.  Current: 13503.747221689651 is not greater than 13503.76820160245. Delta is -0.02097991279879352\n",
      "Model is not converging.  Current: 13621.276724406762 is not greater than 13621.285201747054. Delta is -0.00847734029230196\n",
      "Model is not converging.  Current: 13621.252787257907 is not greater than 13621.271474674339. Delta is -0.018687416431930615\n",
      "Model is not converging.  Current: 13516.687006487926 is not greater than 13516.688781821893. Delta is -0.0017753339670889545\n",
      "Model is not converging.  Current: 13386.065582681751 is not greater than 13386.07060252778. Delta is -0.00501984602851735\n",
      "Model is not converging.  Current: 13386.040920184449 is not greater than 13386.0589816323. Delta is -0.01806144785223296\n"
     ]
    },
    {
     "name": "stdout",
     "output_type": "stream",
     "text": [
      "Error in LDL factorization when computing the nonzero elements. The problem seems to be non-convex.\n",
      "factor_status: 0, num_vars: 7\n",
      "Error in LDL initial factorization.\n",
      "ERROR: init_lin_sys_work failure\n",
      "Falling back to min_volatility due to: ScsWork allocation error!\n"
     ]
    },
    {
     "name": "stderr",
     "output_type": "stream",
     "text": [
      "Model is not converging.  Current: 13329.272734846025 is not greater than 13329.311860370315. Delta is -0.039125524290284375\n",
      "Model is not converging.  Current: 13406.376450945372 is not greater than 13406.381131275373. Delta is -0.004680330001065158\n"
     ]
    },
    {
     "name": "stdout",
     "output_type": "stream",
     "text": [
      "Error in LDL factorization when computing the nonzero elements. The problem seems to be non-convex.\n",
      "factor_status: 0, num_vars: 7\n",
      "Error in LDL initial factorization.\n",
      "ERROR: init_lin_sys_work failure\n",
      "Falling back to min_volatility due to: ScsWork allocation error!\n"
     ]
    },
    {
     "name": "stderr",
     "output_type": "stream",
     "text": [
      "Model is not converging.  Current: 13441.637466358356 is not greater than 13441.663391977238. Delta is -0.025925618881956325\n",
      "Model is not converging.  Current: 13441.630577918859 is not greater than 13441.652665750044. Delta is -0.022087831184762763\n"
     ]
    },
    {
     "name": "stdout",
     "output_type": "stream",
     "text": [
      "Falling back to min_volatility due to: at least one of the assets must have an expected return exceeding the risk-free rate\n",
      "Error in LDL factorization when computing the nonzero elements. The problem seems to be non-convex.\n",
      "factor_status: 0, num_vars: 7\n",
      "Error in LDL initial factorization.\n",
      "ERROR: init_lin_sys_work failure\n",
      "Falling back to min_volatility due to: ScsWork allocation error!\n"
     ]
    },
    {
     "name": "stderr",
     "output_type": "stream",
     "text": [
      "Model is not converging.  Current: 13632.720047621973 is not greater than 13632.83137087308. Delta is -0.11132325110702368\n",
      "Model is not converging.  Current: 13629.678545856003 is not greater than 13629.793401617579. Delta is -0.11485576157610922\n",
      "Model is not converging.  Current: 13443.651656778022 is not greater than 13443.697950799215. Delta is -0.04629402119280712\n",
      "Model is not converging.  Current: 13563.220482107314 is not greater than 13563.312084525394. Delta is -0.09160241808058345\n",
      "Model is not converging.  Current: 13563.168689878938 is not greater than 13563.22875174681. Delta is -0.06006186787271872\n",
      "Model is not converging.  Current: 13417.879117389164 is not greater than 13417.93168968913. Delta is -0.05257229996641399\n",
      "Model is not converging.  Current: 13629.991547367392 is not greater than 13630.004912169015. Delta is -0.01336480162353837\n",
      "Model is not converging.  Current: 13629.968852932121 is not greater than 13630.016532799968. Delta is -0.04767986784645473\n",
      "Model is not converging.  Current: 13631.078251685625 is not greater than 13631.120615653. Delta is -0.04236396737542236\n",
      "Model is not converging.  Current: 13570.393980730101 is not greater than 13570.412745410398. Delta is -0.018764680296953884\n",
      "Model is not converging.  Current: 13570.403022318385 is not greater than 13570.405608482028. Delta is -0.0025861636422632728\n",
      "Model is not converging.  Current: 13299.369275617428 is not greater than 13299.454160746493. Delta is -0.08488512906478718\n",
      "Model is not converging.  Current: 13299.387970689822 is not greater than 13299.432630581343. Delta is -0.044659891520495876\n",
      "Model is not converging.  Current: 13525.656142919828 is not greater than 13525.712158964945. Delta is -0.056016045116848545\n",
      "Model is not converging.  Current: 13461.442477164626 is not greater than 13461.490195071287. Delta is -0.04771790666018205\n",
      "Model is not converging.  Current: 13459.583715997047 is not greater than 13459.623078400196. Delta is -0.03936240314942552\n",
      "Model is not converging.  Current: 13487.890528928341 is not greater than 13487.936008100374. Delta is -0.04547917203308316\n",
      "Model is not converging.  Current: 13354.30630007834 is not greater than 13354.321595125803. Delta is -0.015295047462132061\n"
     ]
    },
    {
     "name": "stdout",
     "output_type": "stream",
     "text": [
      "Error in LDL factorization when computing the nonzero elements. The problem seems to be non-convex.\n",
      "factor_status: 0, num_vars: 7\n",
      "Error in LDL initial factorization.\n",
      "ERROR: init_lin_sys_work failure\n",
      "Falling back to min_volatility due to: ScsWork allocation error!\n"
     ]
    },
    {
     "name": "stderr",
     "output_type": "stream",
     "text": [
      "Model is not converging.  Current: 14210.748376879306 is not greater than 14210.839342149933. Delta is -0.0909652706268389\n",
      "Model is not converging.  Current: 14210.714143045496 is not greater than 14210.725761170921. Delta is -0.011618125425229664\n",
      "Model is not converging.  Current: 13996.0050179855 is not greater than 13996.022632789993. Delta is -0.017614804492041003\n",
      "Model is not converging.  Current: 13996.003926805128 is not greater than 13996.016103283446. Delta is -0.012176478317996953\n",
      "Model is not converging.  Current: 13478.79892966287 is not greater than 13478.881227082451. Delta is -0.08229741958166414\n",
      "Model is not converging.  Current: 13478.815366518205 is not greater than 13478.847746870368. Delta is -0.032380352162363124\n"
     ]
    },
    {
     "name": "stdout",
     "output_type": "stream",
     "text": [
      "Error in LDL factorization when computing the nonzero elements. The problem seems to be non-convex.\n",
      "factor_status: 0, num_vars: 7\n",
      "Error in LDL initial factorization.\n",
      "ERROR: init_lin_sys_work failure\n",
      "Falling back to min_volatility due to: ScsWork allocation error!\n"
     ]
    },
    {
     "name": "stderr",
     "output_type": "stream",
     "text": [
      "Model is not converging.  Current: 13623.109555963953 is not greater than 13623.119617655228. Delta is -0.010061691275041085\n",
      "Model is not converging.  Current: 13623.110729842694 is not greater than 13623.121473903078. Delta is -0.010744060384240584\n",
      "Model is not converging.  Current: 14123.367089738413 is not greater than 14123.39485375433. Delta is -0.02776401591654576\n",
      "Model is not converging.  Current: 14123.370852733178 is not greater than 14123.395036101867. Delta is -0.024183368688682094\n",
      "Model is not converging.  Current: 13741.615652899634 is not greater than 13741.621292368465. Delta is -0.005639468830850092\n",
      "Model is not converging.  Current: 13741.615603192962 is not greater than 13741.620118102643. Delta is -0.004514909680437995\n",
      "Model is not converging.  Current: 13673.084937244503 is not greater than 13673.093726547642. Delta is -0.008789303139565163\n",
      "Model is not converging.  Current: 13673.085193894689 is not greater than 13673.095911917879. Delta is -0.010718023189838277\n",
      "Model is not converging.  Current: 13987.699630703351 is not greater than 13987.704698322254. Delta is -0.005067618902103277\n",
      "Model is not converging.  Current: 13987.69951657938 is not greater than 13987.700597241315. Delta is -0.0010806619357026648\n",
      "Model is not converging.  Current: 13868.61721477267 is not greater than 13868.6215710649. Delta is -0.004356292229203973\n",
      "Model is not converging.  Current: 13868.6191310485 is not greater than 13868.629596469204. Delta is -0.010465420704349526\n"
     ]
    },
    {
     "name": "stdout",
     "output_type": "stream",
     "text": [
      "Falling back to min_volatility due to: at least one of the assets must have an expected return exceeding the risk-free rate\n",
      "Error in LDL factorization when computing the nonzero elements. The problem seems to be non-convex.\n",
      "factor_status: 0, num_vars: 7\n",
      "Error in LDL initial factorization.\n",
      "ERROR: init_lin_sys_work failure\n",
      "Falling back to min_volatility due to: ScsWork allocation error!\n"
     ]
    },
    {
     "name": "stderr",
     "output_type": "stream",
     "text": [
      "Model is not converging.  Current: 14092.01910718799 is not greater than 14092.061648218674. Delta is -0.04254103068342374\n",
      "Model is not converging.  Current: 14092.004346245052 is not greater than 14092.007403799644. Delta is -0.003057554591578082\n",
      "Model is not converging.  Current: 13367.494211905308 is not greater than 13367.545818710316. Delta is -0.05160680500739545\n",
      "Model is not converging.  Current: 13367.48804155788 is not greater than 13367.509468170683. Delta is -0.021426612804134493\n",
      "Model is not converging.  Current: 13607.452661877021 is not greater than 13607.504284238414. Delta is -0.05162236139221932\n",
      "Model is not converging.  Current: 13607.4626122659 is not greater than 13607.512024153793. Delta is -0.049411887894166284\n",
      "Model is not converging.  Current: 13847.460214941448 is not greater than 13847.470015829867. Delta is -0.009800888419704279\n",
      "Model is not converging.  Current: 13847.462943661427 is not greater than 13847.466814909685. Delta is -0.0038712482582923258\n",
      "Model is not converging.  Current: 13976.836300561383 is not greater than 13976.844079486147. Delta is -0.0077789247643522685\n",
      "Model is not converging.  Current: 13976.833116178525 is not greater than 13976.83821280329. Delta is -0.0050966247654287145\n",
      "Model is not converging.  Current: 13717.190138281832 is not greater than 13717.202857017539. Delta is -0.012718735706584994\n",
      "Model is not converging.  Current: 13717.188004814238 is not greater than 13717.195791226392. Delta is -0.0077864121540187625\n",
      "Model is not converging.  Current: 14335.856427916005 is not greater than 14335.91717035053. Delta is -0.06074243452530936\n",
      "Model is not converging.  Current: 13558.011954693153 is not greater than 13558.021929991584. Delta is -0.009975298431527335\n",
      "Model is not converging.  Current: 14335.820391390045 is not greater than 14335.90739256507. Delta is -0.08700117502485227\n",
      "Model is not converging.  Current: 13558.011466774235 is not greater than 13558.020193411214. Delta is -0.008726636979190516\n"
     ]
    },
    {
     "name": "stdout",
     "output_type": "stream",
     "text": [
      "Falling back to min_volatility due to: at least one of the assets must have an expected return exceeding the risk-free rate\n"
     ]
    },
    {
     "name": "stderr",
     "output_type": "stream",
     "text": [
      "Model is not converging.  Current: 13969.665881429666 is not greater than 13969.669258399652. Delta is -0.0033769699857657542\n",
      "Model is not converging.  Current: 13799.683673848407 is not greater than 13799.832657293451. Delta is -0.14898344504399574\n",
      "Model is not converging.  Current: 13799.795162593759 is not greater than 13799.873103428024. Delta is -0.07794083426597354\n",
      "Model is not converging.  Current: 13822.867462085233 is not greater than 13822.880961417986. Delta is -0.013499332753781346\n",
      "Model is not converging.  Current: 13822.862499279126 is not greater than 13822.87494847249. Delta is -0.012449193363863742\n",
      "Model is not converging.  Current: 13527.288117339847 is not greater than 13527.290800855435. Delta is -0.0026835155877051875\n",
      "Model is not converging.  Current: 13527.288279518094 is not greater than 13527.293665367906. Delta is -0.005385849812228116\n"
     ]
    },
    {
     "name": "stdout",
     "output_type": "stream",
     "text": [
      "Error in LDL factorization when computing the nonzero elements. The problem seems to be non-convex.\n",
      "factor_status: 0, num_vars: 7\n",
      "Error in LDL initial factorization.\n",
      "ERROR: init_lin_sys_work failure\n",
      "Falling back to min_volatility due to: ScsWork allocation error!\n"
     ]
    },
    {
     "name": "stderr",
     "output_type": "stream",
     "text": [
      "Model is not converging.  Current: 13911.766619755646 is not greater than 13911.768214964857. Delta is -0.0015952092107909266\n"
     ]
    },
    {
     "name": "stdout",
     "output_type": "stream",
     "text": [
      "Error in LDL factorization when computing the nonzero elements. The problem seems to be non-convex.\n",
      "factor_status: 0, num_vars: 7\n",
      "Error in LDL initial factorization.\n",
      "ERROR: init_lin_sys_work failure\n",
      "Falling back to min_volatility due to: ScsWork allocation error!\n",
      "Error in LDL factorization when computing the nonzero elements. The problem seems to be non-convex.\n",
      "factor_status: 0, num_vars: 7\n",
      "Error in LDL initial factorization.\n",
      "ERROR: init_lin_sys_work failure\n",
      "Falling back to min_volatility due to: ScsWork allocation error!\n"
     ]
    },
    {
     "name": "stderr",
     "output_type": "stream",
     "text": [
      "Model is not converging.  Current: 13938.421006624538 is not greater than 13938.472025225808. Delta is -0.05101860127069813\n",
      "Model is not converging.  Current: 13938.422621243662 is not greater than 13938.478848127907. Delta is -0.056226884244097164\n",
      "Model is not converging.  Current: 14159.39817525832 is not greater than 14159.400361036633. Delta is -0.0021857783121959073\n",
      "Model is not converging.  Current: 14159.397951986737 is not greater than 14159.398637552054. Delta is -0.0006855653173261089\n",
      "Model is not converging.  Current: 13503.9767058516 is not greater than 13503.977885782733. Delta is -0.001179931132355705\n",
      "Model is not converging.  Current: 13829.881171803834 is not greater than 13829.897327261651. Delta is -0.016155457817149\n",
      "Model is not converging.  Current: 13829.88349859372 is not greater than 13829.911843520322. Delta is -0.028344926602585474\n",
      "Model is not converging.  Current: 13714.426835886006 is not greater than 13714.519233545474. Delta is -0.09239765946767875\n",
      "Model is not converging.  Current: 13714.430546371148 is not greater than 13714.523182971736. Delta is -0.09263660058786627\n",
      "Model is not converging.  Current: 13889.71618517916 is not greater than 13889.718242352503. Delta is -0.0020571733421093086\n",
      "Model is not converging.  Current: 13889.7161899603 is not greater than 13889.718411392469. Delta is -0.0022214321688807104\n",
      "Model is not converging.  Current: 13458.417377479376 is not greater than 13458.421611716247. Delta is -0.0042342368706158595\n",
      "Model is not converging.  Current: 13458.416777603376 is not greater than 13458.420304399931. Delta is -0.0035267965558887227\n",
      "Model is not converging.  Current: 14164.117983821356 is not greater than 14164.222121748016. Delta is -0.10413792666076915\n"
     ]
    },
    {
     "name": "stdout",
     "output_type": "stream",
     "text": [
      "Error in LDL factorization when computing the nonzero elements. The problem seems to be non-convex.\n",
      "factor_status: 0, num_vars: 7\n",
      "Error in LDL initial factorization.\n",
      "ERROR: init_lin_sys_work failure\n",
      "Falling back to min_volatility due to: ScsWork allocation error!\n"
     ]
    },
    {
     "name": "stderr",
     "output_type": "stream",
     "text": [
      "Model is not converging.  Current: 14193.797131445725 is not greater than 14193.829642184146. Delta is -0.03251073842147889\n",
      "Model is not converging.  Current: 13933.327670970766 is not greater than 13933.361791730946. Delta is -0.03412076017957588\n",
      "Model is not converging.  Current: 13933.31703825237 is not greater than 13933.373778567442. Delta is -0.05674031507260224\n"
     ]
    },
    {
     "name": "stdout",
     "output_type": "stream",
     "text": [
      "Running simulation 57...\n"
     ]
    },
    {
     "name": "stderr",
     "output_type": "stream",
     "text": [
      "Model is not converging.  Current: 13961.218512710526 is not greater than 13961.360915088782. Delta is -0.14240237825652002\n",
      "Model is not converging.  Current: 13961.295610538613 is not greater than 13961.35238106773. Delta is -0.05677052911778446\n",
      "Model is not converging.  Current: 13442.533860952102 is not greater than 13442.597709228328. Delta is -0.06384827622605371\n"
     ]
    },
    {
     "name": "stdout",
     "output_type": "stream",
     "text": [
      "Error in LDL factorization when computing the nonzero elements. The problem seems to be non-convex.\n",
      "factor_status: 0, num_vars: 7\n",
      "Error in LDL initial factorization.\n",
      "ERROR: init_lin_sys_work failure\n",
      "Falling back to min_volatility due to: ScsWork allocation error!\n",
      "Running simulation 58...\n"
     ]
    },
    {
     "name": "stderr",
     "output_type": "stream",
     "text": [
      "Model is not converging.  Current: 13460.537659093185 is not greater than 13460.540322512083. Delta is -0.002663418898009695\n"
     ]
    },
    {
     "name": "stdout",
     "output_type": "stream",
     "text": [
      "Falling back to min_volatility due to: at least one of the assets must have an expected return exceeding the risk-free rate\n",
      "Error in LDL factorization when computing the nonzero elements. The problem seems to be non-convex.\n",
      "factor_status: 0, num_vars: 7\n",
      "Error in LDL initial factorization.\n",
      "ERROR: init_lin_sys_work failure\n",
      "Falling back to min_volatility due to: ScsWork allocation error!\n",
      "Running simulation 59...\n"
     ]
    },
    {
     "name": "stderr",
     "output_type": "stream",
     "text": [
      "Model is not converging.  Current: 13428.148432042504 is not greater than 13428.164380404512. Delta is -0.01594836200820282\n"
     ]
    },
    {
     "name": "stdout",
     "output_type": "stream",
     "text": [
      "Running simulation 60...\n"
     ]
    },
    {
     "name": "stderr",
     "output_type": "stream",
     "text": [
      "Model is not converging.  Current: 13420.853404086727 is not greater than 13420.88009517781. Delta is -0.026691091083193896\n",
      "Model is not converging.  Current: 13430.078006056974 is not greater than 13430.080325539337. Delta is -0.0023194823625090066\n"
     ]
    },
    {
     "name": "stdout",
     "output_type": "stream",
     "text": [
      "Error in LDL factorization when computing the nonzero elements. The problem seems to be non-convex.\n",
      "factor_status: 0, num_vars: 7\n",
      "Error in LDL initial factorization.\n",
      "ERROR: init_lin_sys_work failure\n",
      "Falling back to min_volatility due to: ScsWork allocation error!\n",
      "Running simulation 61...\n"
     ]
    },
    {
     "name": "stderr",
     "output_type": "stream",
     "text": [
      "Model is not converging.  Current: 13451.142391303336 is not greater than 13451.150166529125. Delta is -0.007775225789373508\n"
     ]
    },
    {
     "name": "stdout",
     "output_type": "stream",
     "text": [
      "Falling back to min_volatility due to: at least one of the assets must have an expected return exceeding the risk-free rate\n"
     ]
    },
    {
     "name": "stderr",
     "output_type": "stream",
     "text": [
      "Model is not converging.  Current: 13487.550978191013 is not greater than 13487.573233191051. Delta is -0.022255000038057915\n"
     ]
    },
    {
     "name": "stdout",
     "output_type": "stream",
     "text": [
      "Error in LDL factorization when computing the nonzero elements. The problem seems to be non-convex.\n",
      "factor_status: 0, num_vars: 7\n",
      "Error in LDL initial factorization.\n",
      "ERROR: init_lin_sys_work failure\n",
      "Falling back to min_volatility due to: ScsWork allocation error!\n",
      "Running simulation 62...\n"
     ]
    },
    {
     "name": "stderr",
     "output_type": "stream",
     "text": [
      "Model is not converging.  Current: 13497.352970403765 is not greater than 13497.356301426847. Delta is -0.0033310230828647036\n"
     ]
    },
    {
     "name": "stdout",
     "output_type": "stream",
     "text": [
      "Running simulation 63...\n"
     ]
    },
    {
     "name": "stderr",
     "output_type": "stream",
     "text": [
      "Model is not converging.  Current: 13423.521453556468 is not greater than 13423.523550284868. Delta is -0.0020967283999198116\n",
      "Model is not converging.  Current: 13466.10803728511 is not greater than 13466.142972034193. Delta is -0.034934749082822236\n"
     ]
    },
    {
     "name": "stdout",
     "output_type": "stream",
     "text": [
      "Error in LDL factorization when computing the nonzero elements. The problem seems to be non-convex.\n",
      "factor_status: 0, num_vars: 7\n",
      "Error in LDL initial factorization.\n",
      "ERROR: init_lin_sys_work failure\n",
      "Falling back to min_volatility due to: ScsWork allocation error!\n",
      "Running simulation 64...\n"
     ]
    },
    {
     "name": "stderr",
     "output_type": "stream",
     "text": [
      "Model is not converging.  Current: 13516.724369139978 is not greater than 13516.754506281406. Delta is -0.030137141427985625\n",
      "Model is not converging.  Current: 13410.501741712498 is not greater than 13410.501810863301. Delta is -6.915080302860588e-05\n",
      "Model is not converging.  Current: 13459.087088809072 is not greater than 13459.088703644953. Delta is -0.0016148358809005003\n",
      "Model is not converging.  Current: 13432.422129543815 is not greater than 13432.42459072201. Delta is -0.0024611781955172773\n",
      "Model is not converging.  Current: 13525.012534353067 is not greater than 13525.012914815152. Delta is -0.00038046208464947995\n",
      "Model is not converging.  Current: 13465.833884746507 is not greater than 13465.866221531584. Delta is -0.03233678507604054\n"
     ]
    },
    {
     "name": "stdout",
     "output_type": "stream",
     "text": [
      "Falling back to min_volatility due to: at least one of the assets must have an expected return exceeding the risk-free rate\n"
     ]
    },
    {
     "name": "stderr",
     "output_type": "stream",
     "text": [
      "Model is not converging.  Current: 13461.647648988703 is not greater than 13461.667395099266. Delta is -0.019746110563573893\n",
      "Model is not converging.  Current: 13410.550579342853 is not greater than 13410.556645748085. Delta is -0.006066405232559191\n",
      "Model is not converging.  Current: 13431.80676560731 is not greater than 13431.80706822122. Delta is -0.0003026139092980884\n",
      "Model is not converging.  Current: 13555.34671476987 is not greater than 13555.358482410233. Delta is -0.011767640362450038\n"
     ]
    },
    {
     "name": "stdout",
     "output_type": "stream",
     "text": [
      "Error in LDL factorization when computing the nonzero elements. The problem seems to be non-convex.\n",
      "factor_status: 0, num_vars: 7\n",
      "Error in LDL initial factorization.\n",
      "ERROR: init_lin_sys_work failure\n",
      "Falling back to min_volatility due to: ScsWork allocation error!\n"
     ]
    },
    {
     "name": "stderr",
     "output_type": "stream",
     "text": [
      "Model is not converging.  Current: 13588.373513260329 is not greater than 13588.374967807984. Delta is -0.001454547655157512\n",
      "Model is not converging.  Current: 13524.368746933507 is not greater than 13524.43522222648. Delta is -0.06647529297333676\n",
      "Model is not converging.  Current: 13524.319780581167 is not greater than 13524.343354647674. Delta is -0.023574066506625968\n",
      "Model is not converging.  Current: 13618.847421380575 is not greater than 13618.930587367297. Delta is -0.08316598672172404\n",
      "Model is not converging.  Current: 13618.867406975085 is not greater than 13618.944493365709. Delta is -0.07708639062366274\n",
      "Model is not converging.  Current: 13545.22158794665 is not greater than 13545.221875894267. Delta is -0.000287947617835016\n",
      "Model is not converging.  Current: 13270.993812970954 is not greater than 13271.005127655608. Delta is -0.011314684654280427\n",
      "Model is not converging.  Current: 13270.987467320252 is not greater than 13271.005151646466. Delta is -0.017684326214293833\n",
      "Model is not converging.  Current: 13503.963510826406 is not greater than 13504.027258684173. Delta is -0.06374785776642966\n",
      "Model is not converging.  Current: 13503.947998335192 is not greater than 13504.00357701837. Delta is -0.05557868317737302\n",
      "Model is not converging.  Current: 13692.205056777248 is not greater than 13692.218275728064. Delta is -0.013218950816735742\n",
      "Model is not converging.  Current: 13629.410296890812 is not greater than 13629.45570861463. Delta is -0.04541172381868819\n",
      "Model is not converging.  Current: 13629.409384554829 is not greater than 13629.448274391452. Delta is -0.038889836623638985\n"
     ]
    },
    {
     "name": "stdout",
     "output_type": "stream",
     "text": [
      "Error in LDL factorization when computing the nonzero elements. The problem seems to be non-convex.\n",
      "factor_status: 0, num_vars: 7\n",
      "Error in LDL initial factorization.\n",
      "ERROR: init_lin_sys_work failure\n",
      "Falling back to min_volatility due to: ScsWork allocation error!\n",
      "Error in LDL factorization when computing the nonzero elements. The problem seems to be non-convex.\n",
      "factor_status: 0, num_vars: 7\n",
      "Error in LDL initial factorization.\n",
      "ERROR: init_lin_sys_work failure\n",
      "Falling back to min_volatility due to: ScsWork allocation error!\n"
     ]
    },
    {
     "name": "stderr",
     "output_type": "stream",
     "text": [
      "Model is not converging.  Current: 13328.402237099779 is not greater than 13328.405216660478. Delta is -0.002979560698804562\n",
      "Model is not converging.  Current: 13624.048834375017 is not greater than 13624.161691986292. Delta is -0.11285761127510341\n",
      "Model is not converging.  Current: 13624.007069958603 is not greater than 13624.077219046127. Delta is -0.07014908752353222\n",
      "Model is not converging.  Current: 13116.161536791564 is not greater than 13116.175482581184. Delta is -0.013945789620265714\n",
      "Model is not converging.  Current: 13116.155204043855 is not greater than 13116.181725184146. Delta is -0.026521140291151823\n",
      "Model is not converging.  Current: 13489.763071912577 is not greater than 13489.785987086847. Delta is -0.022915174269655836\n",
      "Model is not converging.  Current: 13489.749958085213 is not greater than 13489.775660313377. Delta is -0.025702228163936525\n",
      "Model is not converging.  Current: 13752.546781599678 is not greater than 13752.595351319162. Delta is -0.04856971948356659\n",
      "Model is not converging.  Current: 13389.241816301132 is not greater than 13389.255818324602. Delta is -0.014002023470311542\n",
      "Model is not converging.  Current: 13535.494837482162 is not greater than 13535.505915605787. Delta is -0.011078123625338776\n",
      "Model is not converging.  Current: 13389.246558366502 is not greater than 13389.256743300752. Delta is -0.010184934249991784\n",
      "Model is not converging.  Current: 13521.275682589232 is not greater than 13521.38036234875. Delta is -0.10467975951723929\n",
      "Model is not converging.  Current: 13521.259705960223 is not greater than 13521.268774789613. Delta is -0.00906882938943454\n",
      "Model is not converging.  Current: 13467.379808630603 is not greater than 13467.433632094178. Delta is -0.053823463575099595\n",
      "Model is not converging.  Current: 13465.367804589487 is not greater than 13465.437609346167. Delta is -0.06980475668024155\n",
      "Model is not converging.  Current: 13587.578857719638 is not greater than 13587.59506119369. Delta is -0.016203474051508238\n"
     ]
    },
    {
     "name": "stdout",
     "output_type": "stream",
     "text": [
      "Error in LDL factorization when computing the nonzero elements. The problem seems to be non-convex.\n",
      "factor_status: 0, num_vars: 7\n",
      "Error in LDL initial factorization.\n",
      "ERROR: init_lin_sys_work failure\n",
      "Falling back to min_volatility due to: ScsWork allocation error!\n"
     ]
    },
    {
     "name": "stderr",
     "output_type": "stream",
     "text": [
      "Model is not converging.  Current: 13622.350999305274 is not greater than 13622.39627971291. Delta is -0.04528040763580066\n",
      "Model is not converging.  Current: 13622.35911417446 is not greater than 13622.376768647999. Delta is -0.01765447353864147\n"
     ]
    },
    {
     "name": "stdout",
     "output_type": "stream",
     "text": [
      "Error in LDL factorization when computing the nonzero elements. The problem seems to be non-convex.\n",
      "factor_status: 0, num_vars: 7\n",
      "Error in LDL initial factorization.\n",
      "ERROR: init_lin_sys_work failure\n",
      "Falling back to min_volatility due to: ScsWork allocation error!\n"
     ]
    },
    {
     "name": "stderr",
     "output_type": "stream",
     "text": [
      "Model is not converging.  Current: 13256.275434214833 is not greater than 13256.307439930384. Delta is -0.03200571555134957\n",
      "Model is not converging.  Current: 13256.275075596846 is not greater than 13256.301158018889. Delta is -0.02608242204223643\n",
      "Model is not converging.  Current: 13558.41121251004 is not greater than 13558.448738557305. Delta is -0.03752604726469144\n"
     ]
    },
    {
     "name": "stdout",
     "output_type": "stream",
     "text": [
      "Error in LDL factorization when computing the nonzero elements. The problem seems to be non-convex.\n",
      "factor_status: 0, num_vars: 7\n",
      "Error in LDL initial factorization.\n",
      "ERROR: init_lin_sys_work failure\n",
      "Falling back to min_volatility due to: ScsWork allocation error!\n"
     ]
    },
    {
     "name": "stderr",
     "output_type": "stream",
     "text": [
      "Model is not converging.  Current: 13484.904586135379 is not greater than 13484.908810772786. Delta is -0.004224637406878173\n",
      "Model is not converging.  Current: 13628.264491575024 is not greater than 13628.267747070797. Delta is -0.003255495772464201\n",
      "Model is not converging.  Current: 13487.037573279686 is not greater than 13487.074626655462. Delta is -0.03705337577594037\n",
      "Model is not converging.  Current: 13558.531340969494 is not greater than 13558.560735190542. Delta is -0.02939422104827827\n",
      "Model is not converging.  Current: 13558.532335544602 is not greater than 13558.559132913626. Delta is -0.02679736902427976\n",
      "Model is not converging.  Current: 13466.232304402562 is not greater than 13466.287163291925. Delta is -0.05485888936345873\n",
      "Model is not converging.  Current: 13466.245856984046 is not greater than 13466.262203963977. Delta is -0.016346979931768146\n",
      "Model is not converging.  Current: 13491.27886764779 is not greater than 13491.31066473536. Delta is -0.031797087569430005\n",
      "Model is not converging.  Current: 13491.294642478519 is not greater than 13491.320641380331. Delta is -0.02599890181227238\n",
      "Model is not converging.  Current: 13532.169156105452 is not greater than 13532.174169144257. Delta is -0.0050130388044635765\n",
      "Model is not converging.  Current: 13700.167555261514 is not greater than 13700.210361588963. Delta is -0.042806327448488446\n",
      "Model is not converging.  Current: 13712.62659654273 is not greater than 13712.631054251782. Delta is -0.004457709052076098\n",
      "Model is not converging.  Current: 13694.470737418338 is not greater than 13694.544221225857. Delta is -0.0734838075186417\n",
      "Model is not converging.  Current: 13694.472137542172 is not greater than 13694.499511575126. Delta is -0.027374032953957794\n",
      "Model is not converging.  Current: 13306.121271372129 is not greater than 13306.14973523944. Delta is -0.028463867311074864\n",
      "Model is not converging.  Current: 13306.111287320377 is not greater than 13306.132985906694. Delta is -0.021698586317143054\n"
     ]
    },
    {
     "name": "stdout",
     "output_type": "stream",
     "text": [
      "Error in LDL factorization when computing the nonzero elements. The problem seems to be non-convex.\n",
      "factor_status: 0, num_vars: 7\n",
      "Error in LDL initial factorization.\n",
      "ERROR: init_lin_sys_work failure\n",
      "Falling back to min_volatility due to: ScsWork allocation error!\n"
     ]
    },
    {
     "name": "stderr",
     "output_type": "stream",
     "text": [
      "Model is not converging.  Current: 13347.099178615788 is not greater than 13347.14926769788. Delta is -0.05008908209129004\n",
      "Model is not converging.  Current: 13595.352010058825 is not greater than 13595.390573959368. Delta is -0.03856390054352232\n",
      "Model is not converging.  Current: 13595.344962571085 is not greater than 13595.353373465787. Delta is -0.008410894701228244\n",
      "Model is not converging.  Current: 13675.704784519996 is not greater than 13675.741829876433. Delta is -0.03704535643737472\n",
      "Model is not converging.  Current: 13675.718212315578 is not greater than 13675.722839813001. Delta is -0.004627497422916349\n",
      "Model is not converging.  Current: 13560.411255291756 is not greater than 13560.483287683463. Delta is -0.07203239170667075\n",
      "Model is not converging.  Current: 13560.391494276326 is not greater than 13560.397045036489. Delta is -0.005550760162805091\n",
      "Model is not converging.  Current: 13773.573683082226 is not greater than 13773.609799858088. Delta is -0.03611677586195583\n",
      "Model is not converging.  Current: 13773.566597883559 is not greater than 13773.618770169478. Delta is -0.05217228591936873\n",
      "Model is not converging.  Current: 13566.017934304664 is not greater than 13566.075315033511. Delta is -0.05738072884741996\n",
      "Model is not converging.  Current: 13565.985221657873 is not greater than 13566.073574625125. Delta is -0.08835296725192165\n",
      "Model is not converging.  Current: 13645.449725360866 is not greater than 13645.455592445245. Delta is -0.005867084379133303\n",
      "Model is not converging.  Current: 13484.976104939422 is not greater than 13485.02722885511. Delta is -0.051123915687639965\n",
      "Model is not converging.  Current: 13484.987042435481 is not greater than 13485.020395122201. Delta is -0.033352686719808844\n",
      "Model is not converging.  Current: 13442.93174007834 is not greater than 13442.933234476805. Delta is -0.001494398464274127\n",
      "Model is not converging.  Current: 13442.931813018156 is not greater than 13442.934047862651. Delta is -0.0022348444945237134\n",
      "Model is not converging.  Current: 13777.92081416096 is not greater than 13777.921552059597. Delta is -0.000737898637453327\n"
     ]
    },
    {
     "name": "stdout",
     "output_type": "stream",
     "text": [
      "Error in LDL factorization when computing the nonzero elements. The problem seems to be non-convex.\n",
      "factor_status: 0, num_vars: 7\n",
      "Error in LDL initial factorization.\n",
      "ERROR: init_lin_sys_work failure\n",
      "Falling back to min_volatility due to: ScsWork allocation error!\n"
     ]
    },
    {
     "name": "stderr",
     "output_type": "stream",
     "text": [
      "Model is not converging.  Current: 13321.65971065172 is not greater than 13321.7809906532. Delta is -0.12128000148004503\n",
      "Model is not converging.  Current: 13321.67682971005 is not greater than 13321.808897601884. Delta is -0.13206789183459477\n",
      "Model is not converging.  Current: 13961.265193213258 is not greater than 13961.271074848852. Delta is -0.005881635594050749\n",
      "Model is not converging.  Current: 13961.265327288014 is not greater than 13961.272009185699. Delta is -0.006681897684757132\n",
      "Model is not converging.  Current: 13869.029588893012 is not greater than 13869.036391082727. Delta is -0.006802189715017448\n",
      "Model is not converging.  Current: 13869.029682955043 is not greater than 13869.034021197065. Delta is -0.00433824202264077\n",
      "Model is not converging.  Current: 13974.840672874934 is not greater than 13974.842345374203. Delta is -0.001672499269261607\n",
      "Model is not converging.  Current: 13974.840668202161 is not greater than 13974.842081624916. Delta is -0.0014134227549220668\n",
      "Model is not converging.  Current: 13990.018211050185 is not greater than 13990.037238253115. Delta is -0.019027202930374187\n",
      "Model is not converging.  Current: 14066.529496848421 is not greater than 14066.542602525786. Delta is -0.013105677364364965\n",
      "Model is not converging.  Current: 14066.527212001814 is not greater than 14066.541739954186. Delta is -0.014527952371281572\n",
      "Model is not converging.  Current: 13795.741058949045 is not greater than 13795.745799794784. Delta is -0.0047408457394340076\n",
      "Model is not converging.  Current: 13795.741728632998 is not greater than 13795.756947064854. Delta is -0.015218431855828385\n"
     ]
    },
    {
     "name": "stdout",
     "output_type": "stream",
     "text": [
      "Error in LDL factorization when computing the nonzero elements. The problem seems to be non-convex.\n",
      "factor_status: 0, num_vars: 7\n",
      "Error in LDL initial factorization.\n",
      "ERROR: init_lin_sys_work failure\n",
      "Falling back to min_volatility due to: ScsWork allocation error!\n"
     ]
    },
    {
     "name": "stderr",
     "output_type": "stream",
     "text": [
      "Model is not converging.  Current: 14170.094628272482 is not greater than 14170.101739002788. Delta is -0.007110730306521873\n",
      "Model is not converging.  Current: 13706.311206689044 is not greater than 13706.340935487973. Delta is -0.02972879892877245\n",
      "Model is not converging.  Current: 13706.314600174352 is not greater than 13706.3718024019. Delta is -0.05720222754825954\n",
      "Model is not converging.  Current: 13604.541205570824 is not greater than 13604.556506897376. Delta is -0.015301326551707461\n"
     ]
    },
    {
     "name": "stdout",
     "output_type": "stream",
     "text": [
      "Error in LDL factorization when computing the nonzero elements. The problem seems to be non-convex.\n",
      "factor_status: 0, num_vars: 7\n",
      "Error in LDL initial factorization.\n",
      "ERROR: init_lin_sys_work failure\n",
      "Falling back to min_volatility due to: ScsWork allocation error!\n"
     ]
    },
    {
     "name": "stderr",
     "output_type": "stream",
     "text": [
      "Model is not converging.  Current: 14080.347207859628 is not greater than 14080.356508152734. Delta is -0.009300293106207391\n",
      "Model is not converging.  Current: 14170.989167284979 is not greater than 14171.041522953246. Delta is -0.05235566826740978\n",
      "Model is not converging.  Current: 14170.986716699568 is not greater than 14171.034903469452. Delta is -0.04818676988361403\n",
      "Model is not converging.  Current: 13565.862247507406 is not greater than 13565.8628051323. Delta is -0.0005576248931902228\n",
      "Model is not converging.  Current: 13732.982888896448 is not greater than 13732.9845527692. Delta is -0.0016638727520330576\n"
     ]
    },
    {
     "name": "stdout",
     "output_type": "stream",
     "text": [
      "Falling back to min_volatility due to: at least one of the assets must have an expected return exceeding the risk-free rate\n"
     ]
    },
    {
     "name": "stderr",
     "output_type": "stream",
     "text": [
      "Model is not converging.  Current: 13571.401908684322 is not greater than 13571.407075432357. Delta is -0.005166748034753255\n",
      "Model is not converging.  Current: 13571.401815714697 is not greater than 13571.406000429533. Delta is -0.004184714836810599\n",
      "Model is not converging.  Current: 13669.490624869146 is not greater than 13669.499498532003. Delta is -0.008873662856785813\n",
      "Model is not converging.  Current: 13669.490419521715 is not greater than 13669.496647484992. Delta is -0.006227963276614901\n"
     ]
    },
    {
     "name": "stdout",
     "output_type": "stream",
     "text": [
      "Error in LDL factorization when computing the nonzero elements. The problem seems to be non-convex.\n",
      "factor_status: 0, num_vars: 7\n",
      "Error in LDL initial factorization.\n",
      "ERROR: init_lin_sys_work failure\n",
      "Falling back to min_volatility due to: ScsWork allocation error!\n",
      "Error in LDL factorization when computing the nonzero elements. The problem seems to be non-convex.\n",
      "factor_status: 0, num_vars: 7\n",
      "Error in LDL initial factorization.\n",
      "ERROR: init_lin_sys_work failure\n",
      "Falling back to min_volatility due to: ScsWork allocation error!\n"
     ]
    },
    {
     "name": "stderr",
     "output_type": "stream",
     "text": [
      "Model is not converging.  Current: 13931.946679212268 is not greater than 13931.947846141213. Delta is -0.0011669289451674558\n",
      "Model is not converging.  Current: 13931.94674127109 is not greater than 13931.947959623078. Delta is -0.0012183519884274574\n",
      "Model is not converging.  Current: 14005.892910949146 is not greater than 14005.928800583022. Delta is -0.035889633876649896\n",
      "Model is not converging.  Current: 14005.911060495511 is not greater than 14005.911074379374. Delta is -1.388386226608418e-05\n",
      "Model is not converging.  Current: 13872.533350036541 is not greater than 13872.541258330331. Delta is -0.00790829379002389\n",
      "Model is not converging.  Current: 13872.535437344048 is not greater than 13872.553390547264. Delta is -0.017953203216166003\n",
      "Model is not converging.  Current: 13629.837285342246 is not greater than 13629.909830636572. Delta is -0.07254529432611889\n",
      "Model is not converging.  Current: 13629.821321100291 is not greater than 13629.888836459817. Delta is -0.0675153595257143\n"
     ]
    },
    {
     "name": "stdout",
     "output_type": "stream",
     "text": [
      "Error in LDL factorization when computing the nonzero elements. The problem seems to be non-convex.\n",
      "factor_status: 0, num_vars: 7\n",
      "Error in LDL initial factorization.\n",
      "ERROR: init_lin_sys_work failure\n",
      "Falling back to min_volatility due to: ScsWork allocation error!\n",
      "Error in LDL factorization when computing the nonzero elements. The problem seems to be non-convex.\n",
      "factor_status: 0, num_vars: 7\n",
      "Error in LDL initial factorization.\n",
      "ERROR: init_lin_sys_work failure\n",
      "Falling back to min_volatility due to: ScsWork allocation error!\n",
      "Running simulation 65...\n"
     ]
    },
    {
     "name": "stderr",
     "output_type": "stream",
     "text": [
      "Model is not converging.  Current: 14245.177529653507 is not greater than 14245.188152098372. Delta is -0.010622444864566205\n",
      "Model is not converging.  Current: 13493.807478686827 is not greater than 13493.828635065614. Delta is -0.021156378787054564\n",
      "Model is not converging.  Current: 13869.07969386478 is not greater than 13869.176180376351. Delta is -0.09648651157112909\n",
      "Model is not converging.  Current: 13869.10017910931 is not greater than 13869.183416881544. Delta is -0.08323777223449724\n",
      "Model is not converging.  Current: 13479.631105402392 is not greater than 13479.63438896872. Delta is -0.0032835663278092397\n",
      "Model is not converging.  Current: 14083.724216542945 is not greater than 14083.730029372744. Delta is -0.005812829798742314\n",
      "Model is not converging.  Current: 14133.030767609625 is not greater than 14133.074107516857. Delta is -0.04333990723171155\n",
      "Model is not converging.  Current: 14133.001677669581 is not greater than 14133.061873993624. Delta is -0.06019632404240838\n",
      "Model is not converging.  Current: 14167.785244540384 is not greater than 14167.797614387388. Delta is -0.012369847003355972\n",
      "Model is not converging.  Current: 14167.788433594904 is not greater than 14167.802216710204. Delta is -0.013783115300611826\n",
      "Model is not converging.  Current: 13815.030269843359 is not greater than 13815.043707325616. Delta is -0.013437482257359079\n",
      "Model is not converging.  Current: 13815.02806252056 is not greater than 13815.038836415486. Delta is -0.010773894926387584\n",
      "Model is not converging.  Current: 13396.529690035066 is not greater than 13396.638011035197. Delta is -0.10832100013067247\n",
      "Model is not converging.  Current: 13724.563571656967 is not greater than 13724.56686076315. Delta is -0.003289106183729018\n",
      "Model is not converging.  Current: 13724.561981347751 is not greater than 13724.56841446946. Delta is -0.006433121709051193\n"
     ]
    },
    {
     "name": "stdout",
     "output_type": "stream",
     "text": [
      "Error in LDL factorization when computing the nonzero elements. The problem seems to be non-convex.\n",
      "factor_status: 0, num_vars: 7\n",
      "Error in LDL initial factorization.\n",
      "ERROR: init_lin_sys_work failure\n",
      "Falling back to min_volatility due to: ScsWork allocation error!\n",
      "Running simulation 66...\n"
     ]
    },
    {
     "name": "stderr",
     "output_type": "stream",
     "text": [
      "Model is not converging.  Current: 13440.897383771788 is not greater than 13440.946245297839. Delta is -0.04886152605104144\n",
      "Model is not converging.  Current: 14035.61501717488 is not greater than 14035.683410207956. Delta is -0.06839303307606315\n",
      "Model is not converging.  Current: 14035.60756742706 is not greater than 14035.651498846859. Delta is -0.043931419799264404\n",
      "Model is not converging.  Current: 13452.745569279237 is not greater than 13452.745930415673. Delta is -0.0003611364354583202\n",
      "Model is not converging.  Current: 13490.106014248973 is not greater than 13490.14386825352. Delta is -0.037854004547625664\n"
     ]
    },
    {
     "name": "stdout",
     "output_type": "stream",
     "text": [
      "Error in LDL factorization when computing the nonzero elements. The problem seems to be non-convex.\n",
      "factor_status: 0, num_vars: 7\n",
      "Error in LDL initial factorization.\n",
      "ERROR: init_lin_sys_work failure\n",
      "Falling back to min_volatility due to: ScsWork allocation error!\n",
      "Running simulation 67...\n"
     ]
    },
    {
     "name": "stderr",
     "output_type": "stream",
     "text": [
      "Model is not converging.  Current: 13453.304816088526 is not greater than 13453.338784392707. Delta is -0.033968304180234554\n",
      "Model is not converging.  Current: 13414.57685997437 is not greater than 13414.663734394464. Delta is -0.08687442009431834\n"
     ]
    },
    {
     "name": "stdout",
     "output_type": "stream",
     "text": [
      "Error in LDL factorization when computing the nonzero elements. The problem seems to be non-convex.\n",
      "factor_status: 0, num_vars: 7\n",
      "Error in LDL initial factorization.\n",
      "ERROR: init_lin_sys_work failure\n",
      "Falling back to min_volatility due to: ScsWork allocation error!\n",
      "Running simulation 68...\n"
     ]
    },
    {
     "name": "stderr",
     "output_type": "stream",
     "text": [
      "Model is not converging.  Current: 13425.198131989364 is not greater than 13425.211558885485. Delta is -0.013426896121018217\n",
      "Model is not converging.  Current: 13392.142521518408 is not greater than 13392.143480997755. Delta is -0.0009594793464202667\n",
      "Model is not converging.  Current: 13386.554942248262 is not greater than 13386.562251959409. Delta is -0.007309711147172493\n"
     ]
    },
    {
     "name": "stdout",
     "output_type": "stream",
     "text": [
      "Error in LDL factorization when computing the nonzero elements. The problem seems to be non-convex.\n",
      "factor_status: 0, num_vars: 7\n",
      "Error in LDL initial factorization.\n",
      "ERROR: init_lin_sys_work failure\n",
      "Falling back to min_volatility due to: ScsWork allocation error!\n",
      "Running simulation 69...\n"
     ]
    },
    {
     "name": "stderr",
     "output_type": "stream",
     "text": [
      "Model is not converging.  Current: 13479.133611732366 is not greater than 13479.135998946993. Delta is -0.0023872146266512573\n",
      "Model is not converging.  Current: 13379.620260777241 is not greater than 13379.623419975118. Delta is -0.003159197876811959\n",
      "Model is not converging.  Current: 13498.744738133359 is not greater than 13498.746109526975. Delta is -0.001371393616864225\n",
      "Model is not converging.  Current: 13419.77922354279 is not greater than 13419.784354299143. Delta is -0.005130756353537436\n"
     ]
    },
    {
     "name": "stdout",
     "output_type": "stream",
     "text": [
      "Error in LDL factorization when computing the nonzero elements. The problem seems to be non-convex.\n",
      "factor_status: 0, num_vars: 7\n",
      "Error in LDL initial factorization.\n",
      "ERROR: init_lin_sys_work failure\n",
      "Falling back to min_volatility due to: ScsWork allocation error!\n",
      "Error in LDL factorization when computing the nonzero elements. The problem seems to be non-convex.\n",
      "factor_status: 0, num_vars: 7\n",
      "Error in LDL initial factorization.\n",
      "ERROR: init_lin_sys_work failure\n",
      "Falling back to min_volatility due to: ScsWork allocation error!\n",
      "Error in LDL factorization when computing the nonzero elements. The problem seems to be non-convex.\n",
      "factor_status: 0, num_vars: 7\n",
      "Error in LDL initial factorization.\n",
      "ERROR: init_lin_sys_work failure\n",
      "Falling back to min_volatility due to: ScsWork allocation error!\n",
      "Running simulation 70...\n"
     ]
    },
    {
     "name": "stderr",
     "output_type": "stream",
     "text": [
      "Model is not converging.  Current: 13463.342266177839 is not greater than 13463.358705917319. Delta is -0.016439739480119897\n"
     ]
    },
    {
     "name": "stdout",
     "output_type": "stream",
     "text": [
      "Running simulation 71...\n"
     ]
    },
    {
     "name": "stderr",
     "output_type": "stream",
     "text": [
      "Model is not converging.  Current: 13419.621349330035 is not greater than 13419.702392161405. Delta is -0.08104283137072343\n",
      "Model is not converging.  Current: 13385.601645552166 is not greater than 13385.669925369917. Delta is -0.06827981775131775\n",
      "Model is not converging.  Current: 13385.589023820829 is not greater than 13385.649026234723. Delta is -0.06000241389483563\n",
      "Model is not converging.  Current: 13423.40026248343 is not greater than 13423.501545828998. Delta is -0.10128334556793561\n"
     ]
    },
    {
     "name": "stdout",
     "output_type": "stream",
     "text": [
      "Error in LDL factorization when computing the nonzero elements. The problem seems to be non-convex.\n",
      "factor_status: 0, num_vars: 7\n",
      "Error in LDL initial factorization.\n",
      "ERROR: init_lin_sys_work failure\n",
      "Falling back to min_volatility due to: ScsWork allocation error!\n"
     ]
    },
    {
     "name": "stderr",
     "output_type": "stream",
     "text": [
      "Model is not converging.  Current: 13389.11987520152 is not greater than 13389.287384479487. Delta is -0.167509277966019\n",
      "Model is not converging.  Current: 13559.782268312965 is not greater than 13560.022433893722. Delta is -0.24016558075709327\n",
      "Model is not converging.  Current: 13559.854403727895 is not greater than 13560.035936340535. Delta is -0.18153261263978493\n"
     ]
    },
    {
     "name": "stdout",
     "output_type": "stream",
     "text": [
      "Running simulation 72...\n"
     ]
    },
    {
     "name": "stderr",
     "output_type": "stream",
     "text": [
      "Model is not converging.  Current: 13665.800009803621 is not greater than 13665.945675660914. Delta is -0.14566585729335202\n",
      "Model is not converging.  Current: 13665.726088483716 is not greater than 13665.835993094173. Delta is -0.10990461045730626\n",
      "Model is not converging.  Current: 13332.917009160132 is not greater than 13332.922878226243. Delta is -0.005869066111699794\n",
      "Model is not converging.  Current: 13332.842458292245 is not greater than 13332.924665728651. Delta is -0.08220743640595174\n",
      "Model is not converging.  Current: 13380.239204231724 is not greater than 13380.246538944168. Delta is -0.0073347124434803845\n",
      "Model is not converging.  Current: 13373.630634211324 is not greater than 13373.652344186574. Delta is -0.021709975249905256\n",
      "Model is not converging.  Current: 13686.851468366509 is not greater than 13686.871818450216. Delta is -0.020350083706944133\n"
     ]
    },
    {
     "name": "stdout",
     "output_type": "stream",
     "text": [
      "Error in LDL factorization when computing the nonzero elements. The problem seems to be non-convex.\n",
      "factor_status: 0, num_vars: 7\n",
      "Error in LDL initial factorization.\n",
      "ERROR: init_lin_sys_work failure\n",
      "Falling back to min_volatility due to: ScsWork allocation error!\n",
      "Error in LDL factorization when computing the nonzero elements. The problem seems to be non-convex.\n",
      "factor_status: 0, num_vars: 7\n",
      "Error in LDL initial factorization.\n",
      "ERROR: init_lin_sys_work failure\n",
      "Falling back to min_volatility due to: ScsWork allocation error!\n"
     ]
    },
    {
     "name": "stderr",
     "output_type": "stream",
     "text": [
      "Model is not converging.  Current: 13644.84957036204 is not greater than 13644.856026808813. Delta is -0.006456446773881908\n",
      "Model is not converging.  Current: 13610.922067122025 is not greater than 13610.924031439103. Delta is -0.0019643170780909713\n",
      "Model is not converging.  Current: 13531.272411756894 is not greater than 13531.345338150373. Delta is -0.07292639347906515\n",
      "Model is not converging.  Current: 13329.191436369409 is not greater than 13329.210609580421. Delta is -0.019173211012457614\n",
      "Model is not converging.  Current: 13326.44325450931 is not greater than 13326.44435043331. Delta is -0.0010959240007650806\n",
      "Model is not converging.  Current: 13220.919669623758 is not greater than 13220.930917142778. Delta is -0.011247519019889296\n",
      "Model is not converging.  Current: 13220.917584307581 is not greater than 13220.927702998533. Delta is -0.010118690952367615\n",
      "Model is not converging.  Current: 13338.617716542163 is not greater than 13338.62381712335. Delta is -0.006100581187638454\n",
      "Model is not converging.  Current: 13338.616555650628 is not greater than 13338.620462686113. Delta is -0.003907035485099186\n",
      "Model is not converging.  Current: 13688.41228515127 is not greater than 13688.447105099303. Delta is -0.034819948034055415\n"
     ]
    },
    {
     "name": "stdout",
     "output_type": "stream",
     "text": [
      "Error in LDL factorization when computing the nonzero elements. The problem seems to be non-convex.\n",
      "factor_status: 0, num_vars: 7\n",
      "Error in LDL initial factorization.\n",
      "ERROR: init_lin_sys_work failure\n",
      "Falling back to min_volatility due to: ScsWork allocation error!\n"
     ]
    },
    {
     "name": "stderr",
     "output_type": "stream",
     "text": [
      "Model is not converging.  Current: 13607.587390289622 is not greater than 13607.62201337582. Delta is -0.034623086197825614\n",
      "Model is not converging.  Current: 13607.603622540246 is not greater than 13607.615481712817. Delta is -0.011859172571348608\n",
      "Model is not converging.  Current: 13203.556367531035 is not greater than 13203.562414995356. Delta is -0.006047464321454754\n",
      "Model is not converging.  Current: 13203.558270858259 is not greater than 13203.561017103755. Delta is -0.002746245496382471\n",
      "Model is not converging.  Current: 13675.327182431574 is not greater than 13675.357752492531. Delta is -0.030570060956961242\n"
     ]
    },
    {
     "name": "stdout",
     "output_type": "stream",
     "text": [
      "Error in LDL factorization when computing the nonzero elements. The problem seems to be non-convex.\n",
      "factor_status: 0, num_vars: 7\n",
      "Error in LDL initial factorization.\n",
      "ERROR: init_lin_sys_work failure\n",
      "Falling back to min_volatility due to: ScsWork allocation error!\n",
      "Error in LDL factorization when computing the nonzero elements. The problem seems to be non-convex.\n",
      "factor_status: 0, num_vars: 7\n",
      "Error in LDL initial factorization.\n",
      "ERROR: init_lin_sys_work failure\n",
      "Falling back to min_volatility due to: ScsWork allocation error!\n"
     ]
    },
    {
     "name": "stderr",
     "output_type": "stream",
     "text": [
      "Model is not converging.  Current: 13539.812229542611 is not greater than 13539.953518818236. Delta is -0.1412892756252404\n",
      "Model is not converging.  Current: 13539.774421720822 is not greater than 13539.916379848375. Delta is -0.14195812755315274\n"
     ]
    },
    {
     "name": "stdout",
     "output_type": "stream",
     "text": [
      "Error in LDL factorization when computing the nonzero elements. The problem seems to be non-convex.\n",
      "factor_status: 0, num_vars: 7\n",
      "Error in LDL initial factorization.\n",
      "ERROR: init_lin_sys_work failure\n",
      "Falling back to min_volatility due to: ScsWork allocation error!\n"
     ]
    },
    {
     "name": "stderr",
     "output_type": "stream",
     "text": [
      "Model is not converging.  Current: 13817.526426234914 is not greater than 13817.526945876507. Delta is -0.0005196415932005038\n",
      "Model is not converging.  Current: 13607.766448933375 is not greater than 13607.771053214483. Delta is -0.004604281108186115\n",
      "Model is not converging.  Current: 13607.76608269299 is not greater than 13607.770689545458. Delta is -0.004606852467986755\n",
      "Model is not converging.  Current: 13885.451487463397 is not greater than 13885.489212702725. Delta is -0.03772523932821059\n",
      "Model is not converging.  Current: 13885.45482486962 is not greater than 13885.491891117896. Delta is -0.0370662482764601\n",
      "Model is not converging.  Current: 13520.116372612565 is not greater than 13520.124559140804. Delta is -0.008186528239093604\n",
      "Model is not converging.  Current: 13698.182802952379 is not greater than 13698.331582943014. Delta is -0.14877999063537573\n",
      "Model is not converging.  Current: 13698.133165152069 is not greater than 13698.259905377881. Delta is -0.12674022581268218\n",
      "Model is not converging.  Current: 13526.506543135081 is not greater than 13526.581690478548. Delta is -0.0751473434665968\n",
      "Model is not converging.  Current: 13526.514685470065 is not greater than 13526.536312287642. Delta is -0.02162681757727114\n"
     ]
    },
    {
     "name": "stdout",
     "output_type": "stream",
     "text": [
      "Error in LDL factorization when computing the nonzero elements. The problem seems to be non-convex.\n",
      "factor_status: 0, num_vars: 7\n",
      "Error in LDL initial factorization.\n",
      "ERROR: init_lin_sys_work failure\n",
      "Falling back to min_volatility due to: ScsWork allocation error!\n"
     ]
    },
    {
     "name": "stderr",
     "output_type": "stream",
     "text": [
      "Model is not converging.  Current: 14035.425850693076 is not greater than 14035.436444628122. Delta is -0.010593935045108083\n",
      "Model is not converging.  Current: 14035.425742435778 is not greater than 14035.435064277945. Delta is -0.009321842166173155\n",
      "Model is not converging.  Current: 13375.318728485543 is not greater than 13375.32023167548. Delta is -0.001503189936556737\n",
      "Model is not converging.  Current: 13281.620487946435 is not greater than 13281.668641483719. Delta is -0.04815353728372429\n",
      "Model is not converging.  Current: 13281.635100107003 is not greater than 13281.679857437748. Delta is -0.04475733074468735\n",
      "Model is not converging.  Current: 13635.385417734402 is not greater than 13635.51535308076. Delta is -0.129935346358252\n",
      "Model is not converging.  Current: 13635.40203692584 is not greater than 13635.503340645846. Delta is -0.10130372000639909\n"
     ]
    },
    {
     "name": "stdout",
     "output_type": "stream",
     "text": [
      "Error in LDL factorization when computing the nonzero elements. The problem seems to be non-convex.\n",
      "factor_status: 0, num_vars: 7\n",
      "Error in LDL initial factorization.\n",
      "ERROR: init_lin_sys_work failure\n",
      "Falling back to min_volatility due to: ScsWork allocation error!\n"
     ]
    },
    {
     "name": "stderr",
     "output_type": "stream",
     "text": [
      "Model is not converging.  Current: 13378.409462959866 is not greater than 13378.41697783953. Delta is -0.007514879664086038\n",
      "Model is not converging.  Current: 13378.408744324983 is not greater than 13378.415752344354. Delta is -0.007008019370914553\n",
      "Model is not converging.  Current: 13976.039099428357 is not greater than 13976.042252164852. Delta is -0.0031527364953944925\n",
      "Model is not converging.  Current: 13976.036655017333 is not greater than 13976.050099844953. Delta is -0.013444827620332944\n",
      "Model is not converging.  Current: 13535.350647901008 is not greater than 13535.478897286368. Delta is -0.12824938535959518\n",
      "Model is not converging.  Current: 13535.397946458279 is not greater than 13535.505797246578. Delta is -0.10785078829940176\n",
      "Model is not converging.  Current: 13591.562579541222 is not greater than 13591.72761507425. Delta is -0.1650355330275488\n",
      "Model is not converging.  Current: 13588.305144767122 is not greater than 13588.444277877465. Delta is -0.13913311034229991\n",
      "Model is not converging.  Current: 13403.18777074573 is not greater than 13403.237225579496. Delta is -0.049454833766503725\n",
      "Model is not converging.  Current: 13403.163436407423 is not greater than 13403.220583770571. Delta is -0.05714736314803304\n",
      "Model is not converging.  Current: 13869.585252452871 is not greater than 13869.585434015404. Delta is -0.00018156253281631507\n",
      "Model is not converging.  Current: 13690.059943741551 is not greater than 13690.085743142943. Delta is -0.02579940139185055\n",
      "Model is not converging.  Current: 13485.33479076241 is not greater than 13485.340288793761. Delta is -0.005498031350725796\n",
      "Model is not converging.  Current: 13485.334431467681 is not greater than 13485.335783006458. Delta is -0.0013515387763618492\n",
      "Model is not converging.  Current: 14230.841795543894 is not greater than 14230.843143389373. Delta is -0.0013478454784490168\n",
      "Model is not converging.  Current: 13904.398396857552 is not greater than 13904.416629480334. Delta is -0.018232622782306862\n",
      "Model is not converging.  Current: 13904.389725230343 is not greater than 13904.439460460751. Delta is -0.04973523040825967\n"
     ]
    },
    {
     "name": "stdout",
     "output_type": "stream",
     "text": [
      "Error in LDL factorization when computing the nonzero elements. The problem seems to be non-convex.\n",
      "factor_status: 0, num_vars: 7\n",
      "Error in LDL initial factorization.\n",
      "ERROR: init_lin_sys_work failure\n",
      "Falling back to min_volatility due to: ScsWork allocation error!\n"
     ]
    },
    {
     "name": "stderr",
     "output_type": "stream",
     "text": [
      "Model is not converging.  Current: 14071.524887707948 is not greater than 14071.654318658888. Delta is -0.12943095093942247\n",
      "Model is not converging.  Current: 14071.508505087377 is not greater than 14071.647102955265. Delta is -0.13859786788816564\n",
      "Model is not converging.  Current: 13948.088472851807 is not greater than 13948.136367164358. Delta is -0.04789431255085219\n",
      "Model is not converging.  Current: 13948.077957636544 is not greater than 13948.0789060996. Delta is -0.000948463055465254\n"
     ]
    },
    {
     "name": "stdout",
     "output_type": "stream",
     "text": [
      "Error in LDL factorization when computing the nonzero elements. The problem seems to be non-convex.\n",
      "factor_status: 0, num_vars: 7\n",
      "Error in LDL initial factorization.\n",
      "ERROR: init_lin_sys_work failure\n",
      "Falling back to min_volatility due to: ScsWork allocation error!\n"
     ]
    },
    {
     "name": "stderr",
     "output_type": "stream",
     "text": [
      "Model is not converging.  Current: 13827.540029268517 is not greater than 13827.550594250117. Delta is -0.010564981599600287\n",
      "Model is not converging.  Current: 13827.539521437588 is not greater than 13827.547421263565. Delta is -0.007899825977801811\n",
      "Model is not converging.  Current: 13896.167832701192 is not greater than 13896.168005702488. Delta is -0.00017300129547948018\n",
      "Model is not converging.  Current: 14088.308195364447 is not greater than 14088.334691622824. Delta is -0.026496258376937476\n",
      "Model is not converging.  Current: 14088.31115849092 is not greater than 14088.35631627618. Delta is -0.04515778526001668\n",
      "Model is not converging.  Current: 14040.461493385561 is not greater than 14040.477824600523. Delta is -0.016331214961610385\n",
      "Model is not converging.  Current: 14040.456977714819 is not greater than 14040.462733005013. Delta is -0.005755290194429108\n",
      "Model is not converging.  Current: 13905.054388502349 is not greater than 13905.059384092843. Delta is -0.00499559049421805\n",
      "Model is not converging.  Current: 13905.054264408638 is not greater than 13905.057944744154. Delta is -0.003680335516037303\n",
      "Model is not converging.  Current: 13932.831745586622 is not greater than 13932.87576960928. Delta is -0.044024022658049944\n",
      "Model is not converging.  Current: 13932.83984307503 is not greater than 13932.892921256065. Delta is -0.05307818103574391\n"
     ]
    },
    {
     "name": "stdout",
     "output_type": "stream",
     "text": [
      "Error in LDL factorization when computing the nonzero elements. The problem seems to be non-convex.\n",
      "factor_status: 0, num_vars: 7\n",
      "Error in LDL initial factorization.\n",
      "ERROR: init_lin_sys_work failure\n",
      "Falling back to min_volatility due to: ScsWork allocation error!\n"
     ]
    },
    {
     "name": "stderr",
     "output_type": "stream",
     "text": [
      "Model is not converging.  Current: 14048.106350418018 is not greater than 14048.11327244055. Delta is -0.006922022532307892\n",
      "Model is not converging.  Current: 13895.490496168455 is not greater than 13895.548006233998. Delta is -0.05751006554237392\n",
      "Model is not converging.  Current: 13895.500838969485 is not greater than 13895.518314082763. Delta is -0.0174751132781239\n"
     ]
    },
    {
     "name": "stdout",
     "output_type": "stream",
     "text": [
      "Error in LDL factorization when computing the nonzero elements. The problem seems to be non-convex.\n",
      "factor_status: 0, num_vars: 7\n",
      "Error in LDL initial factorization.\n",
      "ERROR: init_lin_sys_work failure\n",
      "Falling back to min_volatility due to: ScsWork allocation error!\n"
     ]
    },
    {
     "name": "stderr",
     "output_type": "stream",
     "text": [
      "Model is not converging.  Current: 13920.708057025959 is not greater than 13920.752657139961. Delta is -0.04460011400260555\n",
      "Model is not converging.  Current: 13920.700622478555 is not greater than 13920.737868462507. Delta is -0.0372459839527437\n"
     ]
    },
    {
     "name": "stdout",
     "output_type": "stream",
     "text": [
      "Running simulation 73...\n"
     ]
    },
    {
     "name": "stderr",
     "output_type": "stream",
     "text": [
      "Model is not converging.  Current: 13435.646548386 is not greater than 13435.65869043227. Delta is -0.012142046271037543\n"
     ]
    },
    {
     "name": "stdout",
     "output_type": "stream",
     "text": [
      "Error in LDL factorization when computing the nonzero elements. The problem seems to be non-convex.\n",
      "factor_status: 0, num_vars: 7\n",
      "Error in LDL initial factorization.\n",
      "ERROR: init_lin_sys_work failure\n",
      "Falling back to min_volatility due to: ScsWork allocation error!\n"
     ]
    },
    {
     "name": "stderr",
     "output_type": "stream",
     "text": [
      "Model is not converging.  Current: 14263.220682029158 is not greater than 14263.251447020502. Delta is -0.030764991344767623\n",
      "Model is not converging.  Current: 13478.38388819368 is not greater than 13478.44817813253. Delta is -0.06428993884946976\n"
     ]
    },
    {
     "name": "stdout",
     "output_type": "stream",
     "text": [
      "Falling back to min_volatility due to: at least one of the assets must have an expected return exceeding the risk-free rate\n"
     ]
    },
    {
     "name": "stderr",
     "output_type": "stream",
     "text": [
      "Model is not converging.  Current: 13889.829284017655 is not greater than 13889.847653865403. Delta is -0.018369847748545\n",
      "Model is not converging.  Current: 13888.06706603947 is not greater than 13888.109779918332. Delta is -0.0427138788618322\n",
      "Model is not converging.  Current: 14193.255840508222 is not greater than 14193.274724656663. Delta is -0.018884148441429716\n",
      "Model is not converging.  Current: 13405.69399403388 is not greater than 13405.693994909665. Delta is -8.757851901464164e-07\n",
      "Model is not converging.  Current: 14045.81137360222 is not greater than 14045.824537176688. Delta is -0.013163574467398576\n",
      "Model is not converging.  Current: 14045.810757533272 is not greater than 14045.820694709915. Delta is -0.009937176642779377\n",
      "Model is not converging.  Current: 13908.45698733713 is not greater than 13908.486200984344. Delta is -0.029213647214419325\n",
      "Model is not converging.  Current: 13908.417984489688 is not greater than 13908.504414114623. Delta is -0.08642962493468076\n",
      "Model is not converging.  Current: 14082.85355790984 is not greater than 14082.964943810772. Delta is -0.1113859009310545\n",
      "Model is not converging.  Current: 14082.84435187161 is not greater than 14082.963604278819. Delta is -0.11925240720847796\n"
     ]
    },
    {
     "name": "stdout",
     "output_type": "stream",
     "text": [
      "Error in LDL factorization when computing the nonzero elements. The problem seems to be non-convex.\n",
      "factor_status: 0, num_vars: 7\n",
      "Error in LDL initial factorization.\n",
      "ERROR: init_lin_sys_work failure\n",
      "Falling back to min_volatility due to: ScsWork allocation error!\n"
     ]
    },
    {
     "name": "stderr",
     "output_type": "stream",
     "text": [
      "Model is not converging.  Current: 13972.56668833444 is not greater than 13972.567880044013. Delta is -0.0011917095725948457\n",
      "Model is not converging.  Current: 13972.566439152728 is not greater than 13972.567847049553. Delta is -0.001407896825185162\n",
      "Model is not converging.  Current: 13895.919524338666 is not greater than 13895.919929903372. Delta is -0.0004055647059431067\n",
      "Model is not converging.  Current: 13607.913741252829 is not greater than 13607.914803132386. Delta is -0.0010618795568007044\n",
      "Model is not converging.  Current: 13607.913836184674 is not greater than 13607.917661392898. Delta is -0.0038252082231338136\n",
      "Model is not converging.  Current: 12923.28692215752 is not greater than 12923.323925530656. Delta is -0.03700337313603086\n",
      "Model is not converging.  Current: 12923.317448666123 is not greater than 12923.349888469698. Delta is -0.03243980357547116\n",
      "Model is not converging.  Current: 13971.726666578143 is not greater than 13971.769681871023. Delta is -0.04301529288022721\n",
      "Model is not converging.  Current: 13971.722394627197 is not greater than 13971.755179719406. Delta is -0.03278509220945125\n"
     ]
    },
    {
     "name": "stdout",
     "output_type": "stream",
     "text": [
      "Error in LDL factorization when computing the nonzero elements. The problem seems to be non-convex.\n",
      "factor_status: 0, num_vars: 7\n",
      "Error in LDL initial factorization.\n",
      "ERROR: init_lin_sys_work failure\n",
      "Falling back to min_volatility due to: ScsWork allocation error!\n",
      "Running simulation 74...\n"
     ]
    },
    {
     "name": "stderr",
     "output_type": "stream",
     "text": [
      "Model is not converging.  Current: 13429.406473431849 is not greater than 13429.438157460196. Delta is -0.03168402834671724\n",
      "Model is not converging.  Current: 13526.113741045076 is not greater than 13526.118822515931. Delta is -0.005081470855657244\n",
      "Model is not converging.  Current: 13526.114162115551 is not greater than 13526.121351118687. Delta is -0.007189003135863459\n",
      "Model is not converging.  Current: 13994.397628795672 is not greater than 13994.403982866259. Delta is -0.006354070586894522\n",
      "Model is not converging.  Current: 13994.39799919412 is not greater than 13994.41208838784. Delta is -0.014089193720792537\n"
     ]
    },
    {
     "name": "stdout",
     "output_type": "stream",
     "text": [
      "Error in LDL factorization when computing the nonzero elements. The problem seems to be non-convex.\n",
      "factor_status: 0, num_vars: 7\n",
      "Error in LDL initial factorization.\n",
      "ERROR: init_lin_sys_work failure\n",
      "Falling back to min_volatility due to: ScsWork allocation error!\n",
      "Running simulation 75...\n"
     ]
    },
    {
     "name": "stderr",
     "output_type": "stream",
     "text": [
      "Model is not converging.  Current: 13385.099323079425 is not greater than 13385.10482816775. Delta is -0.005505088325662655\n",
      "Model is not converging.  Current: 13395.893553198983 is not greater than 13395.954974338281. Delta is -0.06142113929854531\n",
      "Model is not converging.  Current: 13501.63953578822 is not greater than 13501.678835830646. Delta is -0.03930004242647556\n"
     ]
    },
    {
     "name": "stdout",
     "output_type": "stream",
     "text": [
      "Error in LDL factorization when computing the nonzero elements. The problem seems to be non-convex.\n",
      "factor_status: 0, num_vars: 7\n",
      "Error in LDL initial factorization.\n",
      "ERROR: init_lin_sys_work failure\n",
      "Falling back to min_volatility due to: ScsWork allocation error!\n"
     ]
    },
    {
     "name": "stderr",
     "output_type": "stream",
     "text": [
      "Model is not converging.  Current: 13458.527762234738 is not greater than 13458.5318904709. Delta is -0.00412823616170499\n"
     ]
    },
    {
     "name": "stdout",
     "output_type": "stream",
     "text": [
      "Running simulation 76...\n"
     ]
    },
    {
     "name": "stderr",
     "output_type": "stream",
     "text": [
      "Model is not converging.  Current: 13409.980715581107 is not greater than 13410.00414307692. Delta is -0.023427495812939014\n",
      "Model is not converging.  Current: 13421.888161646386 is not greater than 13421.891659855437. Delta is -0.0034982090510311536\n",
      "Model is not converging.  Current: 13478.637919373843 is not greater than 13478.642821639405. Delta is -0.0049022655621229205\n"
     ]
    },
    {
     "name": "stdout",
     "output_type": "stream",
     "text": [
      "Error in LDL factorization when computing the nonzero elements. The problem seems to be non-convex.\n",
      "factor_status: 0, num_vars: 7\n",
      "Error in LDL initial factorization.\n",
      "ERROR: init_lin_sys_work failure\n",
      "Falling back to min_volatility due to: ScsWork allocation error!\n",
      "Running simulation 77...\n",
      "Error in LDL factorization when computing the nonzero elements. The problem seems to be non-convex.\n",
      "factor_status: 0, num_vars: 7\n",
      "Error in LDL initial factorization.\n",
      "ERROR: init_lin_sys_work failure\n",
      "Falling back to min_volatility due to: ScsWork allocation error!\n"
     ]
    },
    {
     "name": "stderr",
     "output_type": "stream",
     "text": [
      "Model is not converging.  Current: 13453.3043085822 is not greater than 13453.35829258888. Delta is -0.05398400668127579\n"
     ]
    },
    {
     "name": "stdout",
     "output_type": "stream",
     "text": [
      "Error in LDL factorization when computing the nonzero elements. The problem seems to be non-convex.\n",
      "factor_status: 0, num_vars: 7\n",
      "Error in LDL initial factorization.\n",
      "ERROR: init_lin_sys_work failure\n",
      "Falling back to min_volatility due to: ScsWork allocation error!\n",
      "Error in LDL factorization when computing the nonzero elements. The problem seems to be non-convex.\n",
      "factor_status: 0, num_vars: 7\n",
      "Error in LDL initial factorization.\n",
      "ERROR: init_lin_sys_work failure\n",
      "Falling back to min_volatility due to: ScsWork allocation error!\n",
      "Running simulation 78...\n"
     ]
    },
    {
     "name": "stderr",
     "output_type": "stream",
     "text": [
      "Model is not converging.  Current: 13430.50794981678 is not greater than 13430.538237949178. Delta is -0.030288132398709422\n"
     ]
    },
    {
     "name": "stdout",
     "output_type": "stream",
     "text": [
      "Running simulation 79...\n"
     ]
    },
    {
     "name": "stderr",
     "output_type": "stream",
     "text": [
      "Model is not converging.  Current: 13366.443852985067 is not greater than 13366.44549158467. Delta is -0.0016385996041208273\n",
      "Model is not converging.  Current: 13444.886660444772 is not greater than 13444.891741501684. Delta is -0.005081056911876658\n",
      "Model is not converging.  Current: 13596.113122184937 is not greater than 13596.143753009012. Delta is -0.030630824074250995\n",
      "Model is not converging.  Current: 13596.110467513454 is not greater than 13596.136508267842. Delta is -0.026040754388304777\n",
      "Model is not converging.  Current: 13735.33092346714 is not greater than 13735.347388979291. Delta is -0.01646551215162617\n",
      "Model is not converging.  Current: 13735.325406188567 is not greater than 13735.33580340174. Delta is -0.010397213172836928\n"
     ]
    },
    {
     "name": "stdout",
     "output_type": "stream",
     "text": [
      "Error in LDL factorization when computing the nonzero elements. The problem seems to be non-convex.\n",
      "factor_status: 0, num_vars: 7\n",
      "Error in LDL initial factorization.\n",
      "ERROR: init_lin_sys_work failure\n",
      "Falling back to min_volatility due to: ScsWork allocation error!\n",
      "Running simulation 80...\n"
     ]
    },
    {
     "name": "stderr",
     "output_type": "stream",
     "text": [
      "Model is not converging.  Current: 13461.704649632171 is not greater than 13461.706423346424. Delta is -0.0017737142534315353\n",
      "Model is not converging.  Current: 13561.266079498146 is not greater than 13561.280039466465. Delta is -0.01395996831888624\n"
     ]
    },
    {
     "name": "stdout",
     "output_type": "stream",
     "text": [
      "Error in LDL factorization when computing the nonzero elements. The problem seems to be non-convex.\n",
      "factor_status: 0, num_vars: 7\n",
      "Error in LDL initial factorization.\n",
      "ERROR: init_lin_sys_work failure\n",
      "Falling back to min_volatility due to: ScsWork allocation error!\n"
     ]
    },
    {
     "name": "stderr",
     "output_type": "stream",
     "text": [
      "Model is not converging.  Current: 13494.874308201683 is not greater than 13494.881209577277. Delta is -0.006901375594679848\n",
      "Model is not converging.  Current: 13472.965585470529 is not greater than 13472.986443022595. Delta is -0.02085755206644535\n",
      "Model is not converging.  Current: 13235.466641214547 is not greater than 13235.501400722518. Delta is -0.03475950797110272\n",
      "Model is not converging.  Current: 13235.468230927123 is not greater than 13235.50339531978. Delta is -0.03516439265695226\n",
      "Model is not converging.  Current: 13350.1697056346 is not greater than 13350.189993943788. Delta is -0.020288309187890263\n",
      "Model is not converging.  Current: 13350.169074818594 is not greater than 13350.17860798826. Delta is -0.009533169666610775\n",
      "Model is not converging.  Current: 13559.752793788384 is not greater than 13559.874779546753. Delta is -0.1219857583691919\n",
      "Model is not converging.  Current: 13559.657294989616 is not greater than 13559.82253216633. Delta is -0.16523717671407212\n"
     ]
    },
    {
     "name": "stdout",
     "output_type": "stream",
     "text": [
      "Error in LDL factorization when computing the nonzero elements. The problem seems to be non-convex.\n",
      "factor_status: 0, num_vars: 7\n",
      "Error in LDL initial factorization.\n",
      "ERROR: init_lin_sys_work failure\n",
      "Falling back to min_volatility due to: ScsWork allocation error!\n"
     ]
    },
    {
     "name": "stderr",
     "output_type": "stream",
     "text": [
      "Model is not converging.  Current: 13323.793425267932 is not greater than 13323.79434057946. Delta is -0.0009153115279332269\n"
     ]
    },
    {
     "name": "stdout",
     "output_type": "stream",
     "text": [
      "Error in LDL factorization when computing the nonzero elements. The problem seems to be non-convex.\n",
      "factor_status: 0, num_vars: 7\n",
      "Error in LDL initial factorization.\n",
      "ERROR: init_lin_sys_work failure\n",
      "Falling back to min_volatility due to: ScsWork allocation error!\n"
     ]
    },
    {
     "name": "stderr",
     "output_type": "stream",
     "text": [
      "Model is not converging.  Current: 13550.658637537284 is not greater than 13550.713546442881. Delta is -0.05490890559667605\n",
      "Model is not converging.  Current: 13550.645677168346 is not greater than 13550.668967176018. Delta is -0.023290007671675994\n",
      "Model is not converging.  Current: 13480.189024846868 is not greater than 13480.225873107338. Delta is -0.036848260469923844\n",
      "Model is not converging.  Current: 13480.170358145619 is not greater than 13480.196650694616. Delta is -0.026292548996934784\n",
      "Model is not converging.  Current: 13499.693716407102 is not greater than 13499.747729272802. Delta is -0.054012865699405666\n",
      "Model is not converging.  Current: 13499.696283016714 is not greater than 13499.749595694653. Delta is -0.053312677939175046\n",
      "Model is not converging.  Current: 13743.153009974589 is not greater than 13743.168307095253. Delta is -0.0152971206643997\n",
      "Model is not converging.  Current: 13743.145586405757 is not greater than 13743.14776503614. Delta is -0.002178630382331903\n",
      "Model is not converging.  Current: 13313.844023171232 is not greater than 13313.870479363717. Delta is -0.026456192485056818\n",
      "Model is not converging.  Current: 13635.181558317776 is not greater than 13635.31276654867. Delta is -0.13120823089411715\n",
      "Model is not converging.  Current: 13635.123792193583 is not greater than 13635.185848522058. Delta is -0.06205632847559173\n",
      "Model is not converging.  Current: 13683.47723072378 is not greater than 13683.512753532203. Delta is -0.03552280842268374\n"
     ]
    },
    {
     "name": "stdout",
     "output_type": "stream",
     "text": [
      "Falling back to min_volatility due to: at least one of the assets must have an expected return exceeding the risk-free rate\n",
      "Error in LDL factorization when computing the nonzero elements. The problem seems to be non-convex.\n",
      "factor_status: 0, num_vars: 7\n",
      "Error in LDL initial factorization.\n",
      "ERROR: init_lin_sys_work failure\n",
      "Falling back to min_volatility due to: ScsWork allocation error!\n"
     ]
    },
    {
     "name": "stderr",
     "output_type": "stream",
     "text": [
      "Model is not converging.  Current: 13911.470998755352 is not greater than 13911.497556705854. Delta is -0.026557950501228333\n",
      "Model is not converging.  Current: 13911.469789946008 is not greater than 13911.49027206108. Delta is -0.020482115072809393\n",
      "Model is not converging.  Current: 13229.497525143823 is not greater than 13229.51024335422. Delta is -0.012718210396997165\n",
      "Model is not converging.  Current: 13229.497300609037 is not greater than 13229.508279299898. Delta is -0.01097869086152059\n",
      "Model is not converging.  Current: 13357.717337335229 is not greater than 13357.778429034495. Delta is -0.06109169926639879\n",
      "Model is not converging.  Current: 13357.75992820519 is not greater than 13357.77932236837. Delta is -0.019394163178731105\n",
      "Model is not converging.  Current: 13823.253648022192 is not greater than 13823.25374093046. Delta is -9.290826892538462e-05\n"
     ]
    },
    {
     "name": "stdout",
     "output_type": "stream",
     "text": [
      "Error in LDL factorization when computing the nonzero elements. The problem seems to be non-convex.\n",
      "factor_status: 0, num_vars: 7\n",
      "Error in LDL initial factorization.\n",
      "ERROR: init_lin_sys_work failure\n",
      "Falling back to min_volatility due to: ScsWork allocation error!\n"
     ]
    },
    {
     "name": "stderr",
     "output_type": "stream",
     "text": [
      "Model is not converging.  Current: 13421.167402889785 is not greater than 13421.17379098084. Delta is -0.00638809105475957\n",
      "Model is not converging.  Current: 13743.877356783296 is not greater than 13743.882019456467. Delta is -0.004662673170969356\n",
      "Model is not converging.  Current: 13743.877423203812 is not greater than 13743.883028176815. Delta is -0.005604973002846236\n"
     ]
    },
    {
     "name": "stdout",
     "output_type": "stream",
     "text": [
      "Error in LDL factorization when computing the nonzero elements. The problem seems to be non-convex.\n",
      "factor_status: 0, num_vars: 7\n",
      "Error in LDL initial factorization.\n",
      "ERROR: init_lin_sys_work failure\n",
      "Falling back to min_volatility due to: ScsWork allocation error!\n"
     ]
    },
    {
     "name": "stderr",
     "output_type": "stream",
     "text": [
      "Model is not converging.  Current: 13540.960892083234 is not greater than 13540.999974231325. Delta is -0.03908214809052879\n",
      "Model is not converging.  Current: 13540.95579546714 is not greater than 13540.985502085332. Delta is -0.029706618191994494\n",
      "Model is not converging.  Current: 13989.482853675154 is not greater than 13989.585215469097. Delta is -0.10236179394269129\n",
      "Model is not converging.  Current: 13989.441372325802 is not greater than 13989.564086567714. Delta is -0.1227142419120355\n",
      "Model is not converging.  Current: 13507.959281584059 is not greater than 13508.106878020488. Delta is -0.1475964364290121\n",
      "Model is not converging.  Current: 13507.958377405885 is not greater than 13508.098692386926. Delta is -0.14031498104122875\n"
     ]
    },
    {
     "name": "stdout",
     "output_type": "stream",
     "text": [
      "Falling back to min_volatility due to: at least one of the assets must have an expected return exceeding the risk-free rate\n"
     ]
    },
    {
     "name": "stderr",
     "output_type": "stream",
     "text": [
      "Model is not converging.  Current: 13587.11648612421 is not greater than 13587.120162353087. Delta is -0.003676228876429377\n",
      "Model is not converging.  Current: 13720.836893361005 is not greater than 13720.853493102297. Delta is -0.016599741291429382\n",
      "Model is not converging.  Current: 13581.602176040526 is not greater than 13581.655388200033. Delta is -0.053212159507893375\n",
      "Model is not converging.  Current: 13581.582955586266 is not greater than 13581.626827438695. Delta is -0.04387185242921987\n",
      "Model is not converging.  Current: 13268.034719901221 is not greater than 13268.047969836305. Delta is -0.013249935083877062\n",
      "Model is not converging.  Current: 13268.032134183972 is not greater than 13268.041546969678. Delta is -0.009412785706444993\n",
      "Model is not converging.  Current: 13672.174005701227 is not greater than 13672.247483811878. Delta is -0.07347811065119458\n",
      "Model is not converging.  Current: 13714.094884957056 is not greater than 13714.173360586401. Delta is -0.07847562934512098\n",
      "Model is not converging.  Current: 13714.110606060025 is not greater than 13714.161631366578. Delta is -0.05102530655312876\n",
      "Model is not converging.  Current: 13207.58081997702 is not greater than 13207.580947248203. Delta is -0.00012727118337352294\n",
      "Model is not converging.  Current: 13532.059699164689 is not greater than 13532.065175603273. Delta is -0.0054764385840826435\n",
      "Model is not converging.  Current: 13532.057371792416 is not greater than 13532.060310854478. Delta is -0.0029390620620688424\n",
      "Model is not converging.  Current: 13370.460870488172 is not greater than 13370.54659102293. Delta is -0.08572053475836583\n",
      "Model is not converging.  Current: 13370.446226517997 is not greater than 13370.452333744151. Delta is -0.006107226154199452\n",
      "Model is not converging.  Current: 13573.562992431567 is not greater than 13573.564379547097. Delta is -0.0013871155297238147\n"
     ]
    },
    {
     "name": "stdout",
     "output_type": "stream",
     "text": [
      "Error in LDL factorization when computing the nonzero elements. The problem seems to be non-convex.\n",
      "factor_status: 0, num_vars: 7\n",
      "Error in LDL initial factorization.\n",
      "ERROR: init_lin_sys_work failure\n",
      "Falling back to min_volatility due to: ScsWork allocation error!\n"
     ]
    },
    {
     "name": "stderr",
     "output_type": "stream",
     "text": [
      "Model is not converging.  Current: 13412.031662567286 is not greater than 13412.033301573592. Delta is -0.0016390063065045979\n",
      "Model is not converging.  Current: 13412.027108253842 is not greater than 13412.033142556933. Delta is -0.006034303090928006\n",
      "Model is not converging.  Current: 13805.396670141752 is not greater than 13805.407772133278. Delta is -0.011101991525720223\n",
      "Model is not converging.  Current: 13805.397243467947 is not greater than 13805.415370330884. Delta is -0.018126862936696853\n",
      "Model is not converging.  Current: 13999.712417827364 is not greater than 13999.758805735644. Delta is -0.04638790827993944\n",
      "Model is not converging.  Current: 13999.742310235628 is not greater than 13999.780777325492. Delta is -0.038467089863843285\n",
      "Model is not converging.  Current: 13590.919876535903 is not greater than 13590.959841699952. Delta is -0.03996516404913564\n",
      "Model is not converging.  Current: 13590.92399168447 is not greater than 13590.973356409473. Delta is -0.04936472500230593\n",
      "Model is not converging.  Current: 13614.918711289796 is not greater than 13614.920706772158. Delta is -0.001995482361962786\n",
      "Model is not converging.  Current: 13614.918832751006 is not greater than 13614.92069869962. Delta is -0.0018659486140677473\n",
      "Model is not converging.  Current: 13995.382788587469 is not greater than 13995.383955728114. Delta is -0.0011671406446112087\n",
      "Model is not converging.  Current: 13995.382566559936 is not greater than 13995.383955812833. Delta is -0.0013892528968426632\n",
      "Model is not converging.  Current: 14012.983085666405 is not greater than 14013.002107862265. Delta is -0.019022195860088686\n",
      "Model is not converging.  Current: 14012.984762302225 is not greater than 14012.98868868756. Delta is -0.003926385334125371\n"
     ]
    },
    {
     "name": "stdout",
     "output_type": "stream",
     "text": [
      "Error in LDL factorization when computing the nonzero elements. The problem seems to be non-convex.\n",
      "factor_status: 0, num_vars: 7\n",
      "Error in LDL initial factorization.\n",
      "ERROR: init_lin_sys_work failure\n",
      "Falling back to min_volatility due to: ScsWork allocation error!\n"
     ]
    },
    {
     "name": "stderr",
     "output_type": "stream",
     "text": [
      "Model is not converging.  Current: 13841.161983710865 is not greater than 13841.17121298548. Delta is -0.009229274615790928\n",
      "Model is not converging.  Current: 13841.160231379989 is not greater than 13841.165688064746. Delta is -0.005456684757518815\n",
      "Model is not converging.  Current: 13857.439157172812 is not greater than 13857.441923346661. Delta is -0.002766173849522602\n",
      "Model is not converging.  Current: 13857.426702798666 is not greater than 13857.440828121076. Delta is -0.01412532241010922\n"
     ]
    },
    {
     "name": "stdout",
     "output_type": "stream",
     "text": [
      "Falling back to min_volatility due to: at least one of the assets must have an expected return exceeding the risk-free rate\n"
     ]
    },
    {
     "name": "stderr",
     "output_type": "stream",
     "text": [
      "Model is not converging.  Current: 13335.609793323389 is not greater than 13335.61181108564. Delta is -0.002017762251853128\n",
      "Model is not converging.  Current: 13335.60995833474 is not greater than 13335.61219442656. Delta is -0.0022360918192134704\n",
      "Model is not converging.  Current: 13635.699555777644 is not greater than 13635.804224484147. Delta is -0.10466870650270721\n",
      "Model is not converging.  Current: 13634.431556317842 is not greater than 13634.568912321498. Delta is -0.13735600365544087\n",
      "Model is not converging.  Current: 13849.657728095524 is not greater than 13849.658962642658. Delta is -0.0012345471332082525\n",
      "Model is not converging.  Current: 13849.657582656211 is not greater than 13849.658324936292. Delta is -0.0007422800808853935\n",
      "Model is not converging.  Current: 13838.82900678068 is not greater than 13838.839734257914. Delta is -0.010727477234468097\n",
      "Model is not converging.  Current: 13838.828155977184 is not greater than 13838.843301622894. Delta is -0.015145645709708333\n",
      "Model is not converging.  Current: 14182.723012048862 is not greater than 14182.728617479754. Delta is -0.005605430891591823\n",
      "Model is not converging.  Current: 13396.054721620209 is not greater than 13396.057203949342. Delta is -0.0024823291332722874\n",
      "Model is not converging.  Current: 13396.054657010847 is not greater than 13396.05565672368. Delta is -0.0009997128327086102\n",
      "Model is not converging.  Current: 13466.241492687668 is not greater than 13466.247409577893. Delta is -0.00591689022439823\n",
      "Model is not converging.  Current: 13466.239897405392 is not greater than 13466.24260926185. Delta is -0.002711856457608519\n"
     ]
    },
    {
     "name": "stdout",
     "output_type": "stream",
     "text": [
      "Falling back to min_volatility due to: at least one of the assets must have an expected return exceeding the risk-free rate\n"
     ]
    },
    {
     "name": "stderr",
     "output_type": "stream",
     "text": [
      "Model is not converging.  Current: 13815.998270365273 is not greater than 13815.998863044892. Delta is -0.0005926796184212435\n",
      "Model is not converging.  Current: 13883.803280179744 is not greater than 13883.911410391958. Delta is -0.10813021221474628\n",
      "Model is not converging.  Current: 13881.560831118739 is not greater than 13881.677506338436. Delta is -0.11667521969684458\n"
     ]
    },
    {
     "name": "stdout",
     "output_type": "stream",
     "text": [
      "Error in LDL factorization when computing the nonzero elements. The problem seems to be non-convex.\n",
      "factor_status: 0, num_vars: 7\n",
      "Error in LDL initial factorization.\n",
      "ERROR: init_lin_sys_work failure\n",
      "Falling back to min_volatility due to: ScsWork allocation error!\n",
      "Running simulation 81...\n"
     ]
    },
    {
     "name": "stderr",
     "output_type": "stream",
     "text": [
      "Model is not converging.  Current: 13407.272301703206 is not greater than 13407.289961439154. Delta is -0.017659735947745503\n",
      "Model is not converging.  Current: 13500.514470358867 is not greater than 13500.53363612548. Delta is -0.019165766612786683\n",
      "Model is not converging.  Current: 14165.088418362078 is not greater than 14165.10288693423. Delta is -0.014468572151599801\n",
      "Model is not converging.  Current: 14165.088231732168 is not greater than 14165.100387366016. Delta is -0.01215563384721463\n",
      "Model is not converging.  Current: 13889.952847218508 is not greater than 13889.954255408462. Delta is -0.001408189953508554\n",
      "Model is not converging.  Current: 13889.953117495885 is not greater than 13889.958695123045. Delta is -0.005577627160164411\n",
      "Model is not converging.  Current: 13449.018199777234 is not greater than 13449.022503013355. Delta is -0.00430323612090433\n",
      "Model is not converging.  Current: 13495.93531656309 is not greater than 13495.971922985325. Delta is -0.03660642223621835\n"
     ]
    },
    {
     "name": "stdout",
     "output_type": "stream",
     "text": [
      "Error in LDL factorization when computing the nonzero elements. The problem seems to be non-convex.\n",
      "factor_status: 0, num_vars: 7\n",
      "Error in LDL initial factorization.\n",
      "ERROR: init_lin_sys_work failure\n",
      "Falling back to min_volatility due to: ScsWork allocation error!\n",
      "Error in LDL factorization when computing the nonzero elements. The problem seems to be non-convex.\n",
      "factor_status: 0, num_vars: 7\n",
      "Error in LDL initial factorization.\n",
      "ERROR: init_lin_sys_work failure\n",
      "Falling back to min_volatility due to: ScsWork allocation error!\n"
     ]
    },
    {
     "name": "stderr",
     "output_type": "stream",
     "text": [
      "Model is not converging.  Current: 13604.675675203078 is not greater than 13604.689955657428. Delta is -0.014280454350227956\n",
      "Model is not converging.  Current: 13604.674691305238 is not greater than 13604.686291063745. Delta is -0.011599758507145452\n",
      "Model is not converging.  Current: 14090.602512924517 is not greater than 14090.642963329801. Delta is -0.04045040528399113\n",
      "Model is not converging.  Current: 14090.603219727092 is not greater than 14090.632674957003. Delta is -0.02945522991103644\n"
     ]
    },
    {
     "name": "stdout",
     "output_type": "stream",
     "text": [
      "Error in LDL factorization when computing the nonzero elements. The problem seems to be non-convex.\n",
      "factor_status: 0, num_vars: 7\n",
      "Error in LDL initial factorization.\n",
      "ERROR: init_lin_sys_work failure\n",
      "Falling back to min_volatility due to: ScsWork allocation error!\n"
     ]
    },
    {
     "name": "stderr",
     "output_type": "stream",
     "text": [
      "Model is not converging.  Current: 13597.940178275196 is not greater than 13597.982874542282. Delta is -0.042696267086284934\n",
      "Model is not converging.  Current: 13597.93594838368 is not greater than 13597.95275521416. Delta is -0.01680683048107312\n",
      "Model is not converging.  Current: 14076.89675748999 is not greater than 14076.95512751604. Delta is -0.05837002604857844\n",
      "Model is not converging.  Current: 14076.90861655908 is not greater than 14076.99315554022. Delta is -0.08453898114021285\n",
      "Model is not converging.  Current: 13788.23205829889 is not greater than 13788.321388934262. Delta is -0.08933063537187991\n",
      "Model is not converging.  Current: 13788.211669350316 is not greater than 13788.325585084607. Delta is -0.1139157342913677\n",
      "Model is not converging.  Current: 13935.013318103267 is not greater than 13935.039885175887. Delta is -0.026567072620309773\n",
      "Model is not converging.  Current: 13853.532868704368 is not greater than 13853.560181805018. Delta is -0.02731310065064463\n",
      "Model is not converging.  Current: 13853.533625326958 is not greater than 13853.562158367678. Delta is -0.028533040720503777\n"
     ]
    },
    {
     "name": "stdout",
     "output_type": "stream",
     "text": [
      "Error in LDL factorization when computing the nonzero elements. The problem seems to be non-convex.\n",
      "factor_status: 0, num_vars: 7\n",
      "Error in LDL initial factorization.\n",
      "ERROR: init_lin_sys_work failure\n",
      "Falling back to min_volatility due to: ScsWork allocation error!\n",
      "Running simulation 82...\n"
     ]
    },
    {
     "name": "stderr",
     "output_type": "stream",
     "text": [
      "Model is not converging.  Current: 13502.462736096842 is not greater than 13502.510090221425. Delta is -0.04735412458285282\n",
      "Model is not converging.  Current: 13502.45964542536 is not greater than 13502.487492604241. Delta is -0.02784717888062005\n",
      "Model is not converging.  Current: 13614.882359135565 is not greater than 13614.891851888506. Delta is -0.009492752940786886\n",
      "Model is not converging.  Current: 13614.881119448184 is not greater than 13614.888602144085. Delta is -0.007482695900762337\n",
      "Model is not converging.  Current: 13418.831287303541 is not greater than 13418.857673374967. Delta is -0.026386071425804403\n",
      "Model is not converging.  Current: 13893.616825443027 is not greater than 13893.626556236697. Delta is -0.009730793670314597\n",
      "Model is not converging.  Current: 13893.616334966517 is not greater than 13893.619567109114. Delta is -0.0032321425969712436\n",
      "Model is not converging.  Current: 13695.683256908525 is not greater than 13695.71575187676. Delta is -0.03249496823445952\n",
      "Model is not converging.  Current: 13695.693329075917 is not greater than 13695.706458035998. Delta is -0.013128960081303376\n",
      "Model is not converging.  Current: 13926.720654188359 is not greater than 13926.732141123508. Delta is -0.011486935149150668\n",
      "Model is not converging.  Current: 13926.720180075725 is not greater than 13926.72746906774. Delta is -0.007288992015674012\n",
      "Model is not converging.  Current: 13558.112215231866 is not greater than 13558.120817217316. Delta is -0.008601985449786298\n"
     ]
    },
    {
     "name": "stdout",
     "output_type": "stream",
     "text": [
      "Error in LDL factorization when computing the nonzero elements. The problem seems to be non-convex.\n",
      "factor_status: 0, num_vars: 7\n",
      "Error in LDL initial factorization.\n",
      "ERROR: init_lin_sys_work failure\n",
      "Falling back to min_volatility due to: ScsWork allocation error!\n",
      "Running simulation 83...\n"
     ]
    },
    {
     "name": "stderr",
     "output_type": "stream",
     "text": [
      "Model is not converging.  Current: 13445.837834164333 is not greater than 13445.840354680086. Delta is -0.002520515752621577\n",
      "Model is not converging.  Current: 13466.758546104513 is not greater than 13466.768703925807. Delta is -0.010157821294342284\n",
      "Model is not converging.  Current: 13473.249454238741 is not greater than 13473.296983992968. Delta is -0.04752975422707095\n"
     ]
    },
    {
     "name": "stdout",
     "output_type": "stream",
     "text": [
      "Falling back to min_volatility due to: at least one of the assets must have an expected return exceeding the risk-free rate\n",
      "Running simulation 84...\n"
     ]
    },
    {
     "name": "stderr",
     "output_type": "stream",
     "text": [
      "Model is not converging.  Current: 13493.51457133812 is not greater than 13493.54154768572. Delta is -0.026976347598974826\n",
      "Model is not converging.  Current: 13460.539747773544 is not greater than 13460.552485843822. Delta is -0.012738070277919178\n"
     ]
    },
    {
     "name": "stdout",
     "output_type": "stream",
     "text": [
      "Error in LDL factorization when computing the nonzero elements. The problem seems to be non-convex.\n",
      "factor_status: 0, num_vars: 7\n",
      "Error in LDL initial factorization.\n",
      "ERROR: init_lin_sys_work failure\n",
      "Falling back to min_volatility due to: ScsWork allocation error!\n",
      "Running simulation 85...\n"
     ]
    },
    {
     "name": "stderr",
     "output_type": "stream",
     "text": [
      "Model is not converging.  Current: 13358.658130831842 is not greater than 13358.694710713868. Delta is -0.036579882025762345\n",
      "Model is not converging.  Current: 13401.088411046834 is not greater than 13401.120394026295. Delta is -0.031982979460735805\n"
     ]
    },
    {
     "name": "stdout",
     "output_type": "stream",
     "text": [
      "Error in LDL factorization when computing the nonzero elements. The problem seems to be non-convex.\n",
      "factor_status: 0, num_vars: 7\n",
      "Error in LDL initial factorization.\n",
      "ERROR: init_lin_sys_work failure\n",
      "Falling back to min_volatility due to: ScsWork allocation error!\n"
     ]
    },
    {
     "name": "stderr",
     "output_type": "stream",
     "text": [
      "Model is not converging.  Current: 13432.670750050042 is not greater than 13432.714479759645. Delta is -0.04372970960321254\n",
      "Model is not converging.  Current: 13573.061131314516 is not greater than 13573.099804995001. Delta is -0.038673680484862416\n",
      "Model is not converging.  Current: 13572.977757589286 is not greater than 13572.994469129844. Delta is -0.01671154055838997\n",
      "Model is not converging.  Current: 13561.548547522108 is not greater than 13561.630623437331. Delta is -0.08207591522295843\n",
      "Model is not converging.  Current: 13748.660280793907 is not greater than 13748.695500657263. Delta is -0.0352198633554508\n",
      "Model is not converging.  Current: 13425.78101325245 is not greater than 13425.885478817947. Delta is -0.10446556549686647\n",
      "Model is not converging.  Current: 13425.751208312187 is not greater than 13425.833816480132. Delta is -0.08260816794427228\n",
      "Model is not converging.  Current: 13433.030750563647 is not greater than 13433.049855717869. Delta is -0.019105154222415877\n"
     ]
    },
    {
     "name": "stdout",
     "output_type": "stream",
     "text": [
      "Error in LDL factorization when computing the nonzero elements. The problem seems to be non-convex.\n",
      "factor_status: 0, num_vars: 7\n",
      "Error in LDL initial factorization.\n",
      "ERROR: init_lin_sys_work failure\n",
      "Falling back to min_volatility due to: ScsWork allocation error!\n",
      "Running simulation 86...\n"
     ]
    },
    {
     "name": "stderr",
     "output_type": "stream",
     "text": [
      "Model is not converging.  Current: 13492.293412424797 is not greater than 13492.295487392608. Delta is -0.0020749678114952985\n"
     ]
    },
    {
     "name": "stdout",
     "output_type": "stream",
     "text": [
      "Error in LDL factorization when computing the nonzero elements. The problem seems to be non-convex.\n",
      "factor_status: 0, num_vars: 7\n",
      "Error in LDL initial factorization.\n",
      "ERROR: init_lin_sys_work failure\n",
      "Falling back to min_volatility due to: ScsWork allocation error!\n",
      "Running simulation 87...\n"
     ]
    },
    {
     "name": "stderr",
     "output_type": "stream",
     "text": [
      "Model is not converging.  Current: 13404.492211841927 is not greater than 13404.535408976284. Delta is -0.043197134356887545\n",
      "Model is not converging.  Current: 13430.043612862746 is not greater than 13430.050792897433. Delta is -0.00718003468682582\n"
     ]
    },
    {
     "name": "stdout",
     "output_type": "stream",
     "text": [
      "Error in LDL factorization when computing the nonzero elements. The problem seems to be non-convex.\n",
      "factor_status: 0, num_vars: 7\n",
      "Error in LDL initial factorization.\n",
      "ERROR: init_lin_sys_work failure\n",
      "Falling back to min_volatility due to: ScsWork allocation error!\n",
      "Error in LDL factorization when computing the nonzero elements. The problem seems to be non-convex.\n",
      "factor_status: 0, num_vars: 7\n",
      "Error in LDL initial factorization.\n",
      "ERROR: init_lin_sys_work failure\n",
      "Falling back to min_volatility due to: ScsWork allocation error!\n",
      "Running simulation 88...\n"
     ]
    },
    {
     "name": "stderr",
     "output_type": "stream",
     "text": [
      "Model is not converging.  Current: 13430.630507681813 is not greater than 13430.657061474356. Delta is -0.026553792542472365\n",
      "Model is not converging.  Current: 13493.67086462104 is not greater than 13493.671970372341. Delta is -0.0011057513002015185\n",
      "Model is not converging.  Current: 13479.396907136655 is not greater than 13479.42360227797. Delta is -0.02669514131412143\n",
      "Model is not converging.  Current: 13459.140625679824 is not greater than 13459.170184329214. Delta is -0.029558649390310165\n",
      "Model is not converging.  Current: 13474.951090885052 is not greater than 13474.977608093253. Delta is -0.026517208201767062\n",
      "Model is not converging.  Current: 13360.828563035911 is not greater than 13360.883065323378. Delta is -0.054502287466675625\n",
      "Model is not converging.  Current: 13459.636748635845 is not greater than 13459.75456362331. Delta is -0.11781498746495345\n",
      "Model is not converging.  Current: 13516.151329499367 is not greater than 13516.19400341548. Delta is -0.04267391611210769\n",
      "Model is not converging.  Current: 13319.229641419488 is not greater than 13319.27100431115. Delta is -0.041362891661265166\n",
      "Model is not converging.  Current: 13319.186992335739 is not greater than 13319.224145084205. Delta is -0.03715274846581451\n",
      "Model is not converging.  Current: 13586.104799867477 is not greater than 13586.15011591448. Delta is -0.04531604700241587\n"
     ]
    },
    {
     "name": "stdout",
     "output_type": "stream",
     "text": [
      "Error in LDL factorization when computing the nonzero elements. The problem seems to be non-convex.\n",
      "factor_status: 0, num_vars: 7\n",
      "Error in LDL initial factorization.\n",
      "ERROR: init_lin_sys_work failure\n",
      "Falling back to min_volatility due to: ScsWork allocation error!\n"
     ]
    },
    {
     "name": "stderr",
     "output_type": "stream",
     "text": [
      "Model is not converging.  Current: 13288.348731643167 is not greater than 13288.374022106049. Delta is -0.025290462881457643\n",
      "Model is not converging.  Current: 13477.436042898657 is not greater than 13477.454052303074. Delta is -0.018009404417171027\n"
     ]
    },
    {
     "name": "stdout",
     "output_type": "stream",
     "text": [
      "Falling back to min_volatility due to: at least one of the assets must have an expected return exceeding the risk-free rate\n"
     ]
    },
    {
     "name": "stderr",
     "output_type": "stream",
     "text": [
      "Model is not converging.  Current: 13456.593985794574 is not greater than 13456.695920516067. Delta is -0.10193472149330773\n",
      "Model is not converging.  Current: 13234.192366327283 is not greater than 13234.199622733826. Delta is -0.007256406543092453\n",
      "Model is not converging.  Current: 13513.4027052767 is not greater than 13513.428827653177. Delta is -0.026122376477360376\n",
      "Model is not converging.  Current: 13513.3887906464 is not greater than 13513.402498621146. Delta is -0.013707974745557294\n",
      "Model is not converging.  Current: 13581.024250943254 is not greater than 13581.054867896995. Delta is -0.030616953741628095\n",
      "Model is not converging.  Current: 13356.31498635568 is not greater than 13356.363254015307. Delta is -0.04826765962752688\n",
      "Model is not converging.  Current: 13307.202979212034 is not greater than 13307.237554927444. Delta is -0.03457571541002835\n",
      "Model is not converging.  Current: 13307.190056925549 is not greater than 13307.190791800856. Delta is -0.0007348753078986192\n",
      "Model is not converging.  Current: 13299.79472419348 is not greater than 13299.808594148835. Delta is -0.013869955355403363\n",
      "Model is not converging.  Current: 13299.789976957958 is not greater than 13299.79898105096. Delta is -0.00900409300265892\n",
      "Model is not converging.  Current: 13644.204749612487 is not greater than 13644.207859231426. Delta is -0.0031096189395611873\n"
     ]
    },
    {
     "name": "stdout",
     "output_type": "stream",
     "text": [
      "Falling back to min_volatility due to: at least one of the assets must have an expected return exceeding the risk-free rate\n"
     ]
    },
    {
     "name": "stderr",
     "output_type": "stream",
     "text": [
      "Model is not converging.  Current: 13573.651310190513 is not greater than 13573.679097083897. Delta is -0.027786893384472933\n",
      "Model is not converging.  Current: 13573.644621347426 is not greater than 13573.670735171445. Delta is -0.026113824018466403\n",
      "Model is not converging.  Current: 13504.241431678209 is not greater than 13504.33118920309. Delta is -0.08975752488186117\n"
     ]
    },
    {
     "name": "stdout",
     "output_type": "stream",
     "text": [
      "Error in LDL factorization when computing the nonzero elements. The problem seems to be non-convex.\n",
      "factor_status: 0, num_vars: 7\n",
      "Error in LDL initial factorization.\n",
      "ERROR: init_lin_sys_work failure\n",
      "Falling back to min_volatility due to: ScsWork allocation error!\n"
     ]
    },
    {
     "name": "stderr",
     "output_type": "stream",
     "text": [
      "Model is not converging.  Current: 14259.631223750952 is not greater than 14259.637791119509. Delta is -0.0065673685567162465\n",
      "Model is not converging.  Current: 14002.148678764326 is not greater than 14002.158967956184. Delta is -0.010289191857737023\n",
      "Model is not converging.  Current: 14002.149103786987 is not greater than 14002.160940245372. Delta is -0.011836458385005244\n",
      "Model is not converging.  Current: 13622.313435389433 is not greater than 13622.377880687369. Delta is -0.06444529793589027\n",
      "Model is not converging.  Current: 13622.29883684513 is not greater than 13622.369522331306. Delta is -0.0706854861764441\n",
      "Model is not converging.  Current: 14341.608165914871 is not greater than 14341.609291122048. Delta is -0.0011252071763010463\n",
      "Model is not converging.  Current: 13369.280669624184 is not greater than 13369.327840943188. Delta is -0.047171319003609824\n",
      "Model is not converging.  Current: 13369.2871267599 is not greater than 13369.297757994667. Delta is -0.01063123476706096\n",
      "Model is not converging.  Current: 13617.50274776979 is not greater than 13617.524003556482. Delta is -0.02125578669256356\n",
      "Model is not converging.  Current: 13617.502799772823 is not greater than 13617.523743991569. Delta is -0.020944218746080878\n",
      "Model is not converging.  Current: 13586.291003327475 is not greater than 13586.3439064895. Delta is -0.05290316202444956\n",
      "Model is not converging.  Current: 13586.272311868946 is not greater than 13586.27616567727. Delta is -0.0038538083226740127\n",
      "Model is not converging.  Current: 13453.349946709739 is not greater than 13453.352063420345. Delta is -0.0021167106060602237\n",
      "Model is not converging.  Current: 13453.349785057866 is not greater than 13453.350021478724. Delta is -0.00023642085761821363\n"
     ]
    },
    {
     "name": "stdout",
     "output_type": "stream",
     "text": [
      "Error in LDL factorization when computing the nonzero elements. The problem seems to be non-convex.\n",
      "factor_status: 0, num_vars: 7\n",
      "Error in LDL initial factorization.\n",
      "ERROR: init_lin_sys_work failure\n",
      "Falling back to min_volatility due to: ScsWork allocation error!\n",
      "Error in LDL factorization when computing the nonzero elements. The problem seems to be non-convex.\n",
      "factor_status: 0, num_vars: 7\n",
      "Error in LDL initial factorization.\n",
      "ERROR: init_lin_sys_work failure\n",
      "Falling back to min_volatility due to: ScsWork allocation error!\n",
      "Error in LDL factorization when computing the nonzero elements. The problem seems to be non-convex.\n",
      "factor_status: 0, num_vars: 7\n",
      "Error in LDL initial factorization.\n",
      "ERROR: init_lin_sys_work failure\n",
      "Falling back to min_volatility due to: ScsWork allocation error!\n"
     ]
    },
    {
     "name": "stderr",
     "output_type": "stream",
     "text": [
      "Model is not converging.  Current: 13490.542052739323 is not greater than 13490.63631334823. Delta is -0.09426060890655208\n",
      "Model is not converging.  Current: 13490.514381147914 is not greater than 13490.585680563836. Delta is -0.07129941592211253\n",
      "Model is not converging.  Current: 13454.83937575092 is not greater than 13454.897933997634. Delta is -0.058558246713801054\n",
      "Model is not converging.  Current: 13454.829993438874 is not greater than 13454.878590324755. Delta is -0.04859688588112476\n"
     ]
    },
    {
     "name": "stdout",
     "output_type": "stream",
     "text": [
      "Error in LDL factorization when computing the nonzero elements. The problem seems to be non-convex.\n",
      "factor_status: 0, num_vars: 7\n",
      "Error in LDL initial factorization.\n",
      "ERROR: init_lin_sys_work failure\n",
      "Falling back to min_volatility due to: ScsWork allocation error!\n"
     ]
    },
    {
     "name": "stderr",
     "output_type": "stream",
     "text": [
      "Model is not converging.  Current: 13636.144623909342 is not greater than 13636.170641161652. Delta is -0.026017252310339245\n",
      "Model is not converging.  Current: 14131.369140881125 is not greater than 14131.373202934717. Delta is -0.004062053592861048\n",
      "Model is not converging.  Current: 13636.274960857181 is not greater than 13636.28556924707. Delta is -0.01060838988814794\n",
      "Model is not converging.  Current: 13927.86457194287 is not greater than 13927.924331405302. Delta is -0.059759462432339205\n",
      "Model is not converging.  Current: 13303.571095281126 is not greater than 13303.57190514338. Delta is -0.0008098622547549894\n",
      "Model is not converging.  Current: 13879.324376732015 is not greater than 13879.324907041684. Delta is -0.0005303096695570275\n",
      "Model is not converging.  Current: 13697.145046227695 is not greater than 13697.149716835092. Delta is -0.00467060739720182\n",
      "Model is not converging.  Current: 13697.122530094519 is not greater than 13697.152373256917. Delta is -0.029843162397810374\n",
      "Model is not converging.  Current: 13216.654579272066 is not greater than 13216.677233907469. Delta is -0.022654635402432177\n",
      "Model is not converging.  Current: 13446.942852297403 is not greater than 13447.112537219607. Delta is -0.16968492220439657\n",
      "Model is not converging.  Current: 13446.855973319254 is not greater than 13447.044496106135. Delta is -0.18852278688063961\n",
      "Model is not converging.  Current: 13688.416354085202 is not greater than 13688.453972195668. Delta is -0.03761811046570074\n",
      "Model is not converging.  Current: 13688.41652346764 is not greater than 13688.451659715736. Delta is -0.03513624809602334\n",
      "Model is not converging.  Current: 13367.371542427885 is not greater than 13367.395998678376. Delta is -0.024456250490402454\n",
      "Model is not converging.  Current: 13367.356238516551 is not greater than 13367.367706601197. Delta is -0.011468084645457566\n",
      "Model is not converging.  Current: 13532.817385565588 is not greater than 13533.027777995421. Delta is -0.2103924298335187\n",
      "Model is not converging.  Current: 13532.806086012306 is not greater than 13533.001398087397. Delta is -0.1953120750913513\n"
     ]
    },
    {
     "name": "stdout",
     "output_type": "stream",
     "text": [
      "Error in LDL factorization when computing the nonzero elements. The problem seems to be non-convex.\n",
      "factor_status: 0, num_vars: 7\n",
      "Error in LDL initial factorization.\n",
      "ERROR: init_lin_sys_work failure\n",
      "Falling back to min_volatility due to: ScsWork allocation error!\n"
     ]
    },
    {
     "name": "stderr",
     "output_type": "stream",
     "text": [
      "Model is not converging.  Current: 14035.526428327208 is not greater than 14035.556269047984. Delta is -0.029840720775609952\n",
      "Model is not converging.  Current: 14035.526555720578 is not greater than 14035.556463650571. Delta is -0.029907929992987192\n",
      "Model is not converging.  Current: 13948.012784304156 is not greater than 13948.106865033398. Delta is -0.09408072924270527\n",
      "Model is not converging.  Current: 13948.02828920482 is not greater than 13948.122489885236. Delta is -0.09420068041617924\n"
     ]
    },
    {
     "name": "stdout",
     "output_type": "stream",
     "text": [
      "Error in LDL factorization when computing the nonzero elements. The problem seems to be non-convex.\n",
      "factor_status: 0, num_vars: 7\n",
      "Error in LDL initial factorization.\n",
      "ERROR: init_lin_sys_work failure\n",
      "Falling back to min_volatility due to: ScsWork allocation error!\n"
     ]
    },
    {
     "name": "stderr",
     "output_type": "stream",
     "text": [
      "Model is not converging.  Current: 14081.120394508393 is not greater than 14081.144886144359. Delta is -0.0244916359661147\n",
      "Model is not converging.  Current: 14081.132661227404 is not greater than 14081.13658774489. Delta is -0.003926517485524528\n",
      "Model is not converging.  Current: 13497.586503990244 is not greater than 13497.60152816561. Delta is -0.015024175365397241\n",
      "Model is not converging.  Current: 13497.590284080761 is not greater than 13497.59677267874. Delta is -0.0064885979791142745\n",
      "Model is not converging.  Current: 14039.029761959493 is not greater than 14039.031477931358. Delta is -0.0017159718645416433\n",
      "Model is not converging.  Current: 13875.29346825697 is not greater than 13875.297599307156. Delta is -0.004131050185606\n",
      "Model is not converging.  Current: 13842.286043455055 is not greater than 13842.292926599062. Delta is -0.006883144007588271\n"
     ]
    },
    {
     "name": "stdout",
     "output_type": "stream",
     "text": [
      "Error in LDL factorization when computing the nonzero elements. The problem seems to be non-convex.\n",
      "factor_status: 0, num_vars: 7\n",
      "Error in LDL initial factorization.\n",
      "ERROR: init_lin_sys_work failure\n",
      "Falling back to min_volatility due to: ScsWork allocation error!\n",
      "Error in LDL factorization when computing the nonzero elements. The problem seems to be non-convex.\n",
      "factor_status: 0, num_vars: 7\n",
      "Error in LDL initial factorization.\n",
      "ERROR: init_lin_sys_work failure\n",
      "Falling back to min_volatility due to: ScsWork allocation error!\n"
     ]
    },
    {
     "name": "stderr",
     "output_type": "stream",
     "text": [
      "Model is not converging.  Current: 14154.111194113197 is not greater than 14154.114718369283. Delta is -0.003524256086166133\n"
     ]
    },
    {
     "name": "stdout",
     "output_type": "stream",
     "text": [
      "Running simulation 89...\n"
     ]
    },
    {
     "name": "stderr",
     "output_type": "stream",
     "text": [
      "Model is not converging.  Current: 13865.791393089286 is not greater than 13865.795323083586. Delta is -0.003929994300051476\n",
      "Model is not converging.  Current: 13865.791141071328 is not greater than 13865.794235752614. Delta is -0.0030946812858019257\n",
      "Model is not converging.  Current: 13393.17464615305 is not greater than 13393.230814101393. Delta is -0.05616794834350003\n",
      "Model is not converging.  Current: 13862.178386840314 is not greater than 13862.24751358645. Delta is -0.0691267461352254\n",
      "Model is not converging.  Current: 13863.48646876402 is not greater than 13863.544333601421. Delta is -0.057864837401211844\n",
      "Model is not converging.  Current: 13391.82092228448 is not greater than 13391.826744231248. Delta is -0.005821946768264752\n",
      "Model is not converging.  Current: 14240.819769829683 is not greater than 14240.892687794527. Delta is -0.07291796484423685\n",
      "Model is not converging.  Current: 14240.81400324627 is not greater than 14240.87858222628. Delta is -0.06457898000917339\n"
     ]
    },
    {
     "name": "stdout",
     "output_type": "stream",
     "text": [
      "Error in LDL factorization when computing the nonzero elements. The problem seems to be non-convex.\n",
      "factor_status: 0, num_vars: 7\n",
      "Error in LDL initial factorization.\n",
      "ERROR: init_lin_sys_work failure\n",
      "Falling back to min_volatility due to: ScsWork allocation error!\n",
      "Error in LDL factorization when computing the nonzero elements. The problem seems to be non-convex.\n",
      "factor_status: 0, num_vars: 7\n",
      "Error in LDL initial factorization.\n",
      "ERROR: init_lin_sys_work failure\n",
      "Falling back to min_volatility due to: ScsWork allocation error!\n",
      "Error in LDL factorization when computing the nonzero elements. The problem seems to be non-convex.\n",
      "factor_status: 0, num_vars: 7\n",
      "Error in LDL initial factorization.\n",
      "ERROR: init_lin_sys_work failure\n",
      "Falling back to min_volatility due to: ScsWork allocation error!\n"
     ]
    },
    {
     "name": "stderr",
     "output_type": "stream",
     "text": [
      "Model is not converging.  Current: 14182.7516755115 is not greater than 14182.771044482655. Delta is -0.019368971155927284\n",
      "Model is not converging.  Current: 14182.764280208183 is not greater than 14182.780166921231. Delta is -0.01588671304853051\n"
     ]
    },
    {
     "name": "stdout",
     "output_type": "stream",
     "text": [
      "Error in LDL factorization when computing the nonzero elements. The problem seems to be non-convex.\n",
      "factor_status: 0, num_vars: 7\n",
      "Error in LDL initial factorization.\n",
      "ERROR: init_lin_sys_work failure\n",
      "Falling back to min_volatility due to: ScsWork allocation error!\n"
     ]
    },
    {
     "name": "stderr",
     "output_type": "stream",
     "text": [
      "Model is not converging.  Current: 13555.685289621564 is not greater than 13555.754983926092. Delta is -0.0696943045277294\n",
      "Model is not converging.  Current: 13555.683765717518 is not greater than 13555.746176269975. Delta is -0.06241055245664029\n"
     ]
    },
    {
     "name": "stdout",
     "output_type": "stream",
     "text": [
      "Running simulation 90...\n"
     ]
    },
    {
     "name": "stderr",
     "output_type": "stream",
     "text": [
      "Model is not converging.  Current: 13426.443702051009 is not greater than 13426.45183041673. Delta is -0.008128365721859154\n",
      "Model is not converging.  Current: 13771.84763550892 is not greater than 13771.891781207456. Delta is -0.04414569853543071\n",
      "Model is not converging.  Current: 13771.844963708225 is not greater than 13771.881816975196. Delta is -0.03685326697086566\n",
      "Model is not converging.  Current: 13662.431519394298 is not greater than 13662.435947799755. Delta is -0.004428405456565088\n",
      "Model is not converging.  Current: 13862.704301606356 is not greater than 13862.731997498839. Delta is -0.027695892482370255\n",
      "Model is not converging.  Current: 13862.697993193427 is not greater than 13862.709568060009. Delta is -0.011574866581213428\n",
      "Model is not converging.  Current: 13836.737406718572 is not greater than 13836.738965623319. Delta is -0.0015589047470712103\n",
      "Model is not converging.  Current: 13836.737284801075 is not greater than 13836.738325558872. Delta is -0.0010407577974547166\n",
      "Model is not converging.  Current: 13666.01665090502 is not greater than 13666.017365617636. Delta is -0.0007147126161726192\n",
      "Model is not converging.  Current: 13666.016622013956 is not greater than 13666.016737552145. Delta is -0.00011553818876564037\n",
      "Model is not converging.  Current: 13527.131254903348 is not greater than 13527.195333802478. Delta is -0.06407889912952669\n",
      "Model is not converging.  Current: 13848.1896916122 is not greater than 13848.19772536111. Delta is -0.008033748908928828\n",
      "Model is not converging.  Current: 13966.216302339273 is not greater than 13966.216384017345. Delta is -8.167807209247258e-05\n",
      "Model is not converging.  Current: 13848.190026984663 is not greater than 13848.196685830639. Delta is -0.006658845975834993\n",
      "Model is not converging.  Current: 13968.261885581382 is not greater than 13968.288935021317. Delta is -0.027049439935581177\n",
      "Model is not converging.  Current: 13810.597340026994 is not greater than 13810.600372249992. Delta is -0.0030322229977173265\n",
      "Model is not converging.  Current: 13810.595050897038 is not greater than 13810.610328817475. Delta is -0.015277920436346903\n",
      "Model is not converging.  Current: 13496.91472305675 is not greater than 13496.976735594822. Delta is -0.06201253807194007\n",
      "Model is not converging.  Current: 13804.300863138586 is not greater than 13804.310833966401. Delta is -0.009970827815777739\n",
      "Model is not converging.  Current: 13804.305554750432 is not greater than 13804.321459425426. Delta is -0.015904674994089874\n",
      "Model is not converging.  Current: 13924.48831107984 is not greater than 13924.494650317849. Delta is -0.006339238008877146\n",
      "Model is not converging.  Current: 13616.073224624468 is not greater than 13616.07374553524. Delta is -0.0005209107712289551\n",
      "Model is not converging.  Current: 13616.073250896037 is not greater than 13616.073267509875. Delta is -1.661383794271387e-05\n"
     ]
    },
    {
     "name": "stdout",
     "output_type": "stream",
     "text": [
      "Error in LDL factorization when computing the nonzero elements. The problem seems to be non-convex.\n",
      "factor_status: 0, num_vars: 7\n",
      "Error in LDL initial factorization.\n",
      "ERROR: init_lin_sys_work failure\n",
      "Falling back to min_volatility due to: ScsWork allocation error!\n",
      "Running simulation 91...\n"
     ]
    },
    {
     "name": "stderr",
     "output_type": "stream",
     "text": [
      "Model is not converging.  Current: 13407.218869286022 is not greater than 13407.224665336918. Delta is -0.005796050896606175\n",
      "Model is not converging.  Current: 13458.831169024366 is not greater than 13458.831980724699. Delta is -0.0008117003326333361\n"
     ]
    },
    {
     "name": "stdout",
     "output_type": "stream",
     "text": [
      "Error in LDL factorization when computing the nonzero elements. The problem seems to be non-convex.\n",
      "factor_status: 0, num_vars: 7\n",
      "Error in LDL initial factorization.\n",
      "ERROR: init_lin_sys_work failure\n",
      "Falling back to min_volatility due to: ScsWork allocation error!\n",
      "Running simulation 92...\n"
     ]
    },
    {
     "name": "stderr",
     "output_type": "stream",
     "text": [
      "Model is not converging.  Current: 13470.878883387668 is not greater than 13470.915485450265. Delta is -0.036602062597012264\n",
      "Model is not converging.  Current: 13479.813667285242 is not greater than 13479.814563828268. Delta is -0.0008965430261014262\n",
      "Model is not converging.  Current: 13465.16947515081 is not greater than 13465.177053059366. Delta is -0.007577908556413604\n"
     ]
    },
    {
     "name": "stdout",
     "output_type": "stream",
     "text": [
      "Error in LDL factorization when computing the nonzero elements. The problem seems to be non-convex.\n",
      "factor_status: 0, num_vars: 7\n",
      "Error in LDL initial factorization.\n",
      "ERROR: init_lin_sys_work failure\n",
      "Falling back to min_volatility due to: ScsWork allocation error!\n",
      "Error in LDL factorization when computing the nonzero elements. The problem seems to be non-convex.\n",
      "factor_status: 0, num_vars: 7\n",
      "Error in LDL initial factorization.\n",
      "ERROR: init_lin_sys_work failure\n",
      "Falling back to min_volatility due to: ScsWork allocation error!\n",
      "Running simulation 93...\n"
     ]
    },
    {
     "name": "stderr",
     "output_type": "stream",
     "text": [
      "Model is not converging.  Current: 13443.66404770695 is not greater than 13443.698440669019. Delta is -0.03439296206852305\n",
      "Model is not converging.  Current: 13640.831794271498 is not greater than 13640.833102953975. Delta is -0.001308682476519607\n",
      "Model is not converging.  Current: 13466.306283736498 is not greater than 13466.309883824044. Delta is -0.003600087546146824\n",
      "Model is not converging.  Current: 13482.619050272826 is not greater than 13482.621763053581. Delta is -0.002712780755246058\n",
      "Model is not converging.  Current: 13573.05654045748 is not greater than 13573.089710342183. Delta is -0.0331698847021471\n",
      "Model is not converging.  Current: 13573.030607068938 is not greater than 13573.0621422117. Delta is -0.0315351427616406\n"
     ]
    },
    {
     "name": "stdout",
     "output_type": "stream",
     "text": [
      "Error in LDL factorization when computing the nonzero elements. The problem seems to be non-convex.\n",
      "factor_status: 0, num_vars: 7\n",
      "Error in LDL initial factorization.\n",
      "ERROR: init_lin_sys_work failure\n",
      "Falling back to min_volatility due to: ScsWork allocation error!\n",
      "Error in LDL factorization when computing the nonzero elements. The problem seems to be non-convex.\n",
      "factor_status: 0, num_vars: 7\n",
      "Error in LDL initial factorization.\n",
      "ERROR: init_lin_sys_work failure\n",
      "Falling back to min_volatility due to: ScsWork allocation error!\n",
      "Running simulation 94...\n"
     ]
    },
    {
     "name": "stderr",
     "output_type": "stream",
     "text": [
      "Model is not converging.  Current: 13521.111010635035 is not greater than 13521.1404053539. Delta is -0.029394718865660252\n"
     ]
    },
    {
     "name": "stdout",
     "output_type": "stream",
     "text": [
      "Running simulation 95...\n",
      "Error in LDL factorization when computing the nonzero elements. The problem seems to be non-convex.\n",
      "factor_status: 0, num_vars: 7\n",
      "Error in LDL initial factorization.\n",
      "ERROR: init_lin_sys_work failure\n",
      "Falling back to min_volatility due to: ScsWork allocation error!\n",
      "Running simulation 96...\n"
     ]
    },
    {
     "name": "stderr",
     "output_type": "stream",
     "text": [
      "Model is not converging.  Current: 13431.46448368994 is not greater than 13431.489225585256. Delta is -0.024741895314946305\n",
      "Model is not converging.  Current: 13734.928982424935 is not greater than 13735.063388061615. Delta is -0.13440563667973038\n",
      "Model is not converging.  Current: 13466.818196297341 is not greater than 13466.824599650956. Delta is -0.006403353614587104\n",
      "Model is not converging.  Current: 13448.390807833732 is not greater than 13448.441862047215. Delta is -0.051054213483439526\n",
      "Model is not converging.  Current: 13685.715401468568 is not greater than 13685.760095048832. Delta is -0.04469358026472037\n",
      "Model is not converging.  Current: 13453.949741307475 is not greater than 13453.96183680224. Delta is -0.012095494765162584\n",
      "Model is not converging.  Current: 13401.0306589031 is not greater than 13401.036615974688. Delta is -0.005957071587545215\n",
      "Model is not converging.  Current: 13398.032609699343 is not greater than 13398.034812862115. Delta is -0.002203162772275391\n",
      "Model is not converging.  Current: 13479.506510174533 is not greater than 13479.51012583443. Delta is -0.003615659896240686\n",
      "Model is not converging.  Current: 13409.262913707567 is not greater than 13409.2832701627. Delta is -0.020356455132059637\n",
      "Model is not converging.  Current: 13624.947695237874 is not greater than 13624.977064049637. Delta is -0.029368811763561098\n",
      "Model is not converging.  Current: 13624.959526269437 is not greater than 13624.984322128817. Delta is -0.024795859380901675\n",
      "Model is not converging.  Current: 13485.072192730428 is not greater than 13485.072538820594. Delta is -0.00034609016620379407\n",
      "Model is not converging.  Current: 13641.02551088023 is not greater than 13641.073644717368. Delta is -0.04813383713735675\n",
      "Model is not converging.  Current: 13640.974539478162 is not greater than 13641.058501026439. Delta is -0.08396154827642022\n",
      "Model is not converging.  Current: 13583.244824005795 is not greater than 13583.2550731382. Delta is -0.010249132405078853\n",
      "Model is not converging.  Current: 13583.183874725712 is not greater than 13583.280375419474. Delta is -0.09650069376220927\n"
     ]
    },
    {
     "name": "stdout",
     "output_type": "stream",
     "text": [
      "Error in LDL factorization when computing the nonzero elements. The problem seems to be non-convex.\n",
      "factor_status: 0, num_vars: 7\n",
      "Error in LDL initial factorization.\n",
      "ERROR: init_lin_sys_work failure\n",
      "Falling back to min_volatility due to: ScsWork allocation error!\n",
      "Error in LDL factorization when computing the nonzero elements. The problem seems to be non-convex.\n",
      "factor_status: 0, num_vars: 7\n",
      "Error in LDL initial factorization.\n",
      "ERROR: init_lin_sys_work failure\n",
      "Falling back to min_volatility due to: ScsWork allocation error!\n"
     ]
    },
    {
     "name": "stderr",
     "output_type": "stream",
     "text": [
      "Model is not converging.  Current: 13489.886767705004 is not greater than 13489.904168890198. Delta is -0.017401185194103164\n",
      "Model is not converging.  Current: 13489.88387241482 is not greater than 13489.895252547587. Delta is -0.01138013276613492\n",
      "Model is not converging.  Current: 13492.249095244955 is not greater than 13492.336702970239. Delta is -0.08760772528330563\n",
      "Model is not converging.  Current: 13492.285999531083 is not greater than 13492.339391238585. Delta is -0.053391707502669306\n",
      "Model is not converging.  Current: 13434.789393432184 is not greater than 13434.877891259328. Delta is -0.08849782714423782\n",
      "Model is not converging.  Current: 13434.808736166073 is not greater than 13434.877233378085. Delta is -0.06849721201251668\n",
      "Model is not converging.  Current: 13676.336518417438 is not greater than 13676.339970964636. Delta is -0.003452547198321554\n",
      "Model is not converging.  Current: 13501.186624005471 is not greater than 13501.346439310835. Delta is -0.15981530536373612\n",
      "Model is not converging.  Current: 13501.163252358761 is not greater than 13501.322034383435. Delta is -0.1587820246732008\n",
      "Model is not converging.  Current: 13440.15217869671 is not greater than 13440.269693105527. Delta is -0.11751440881744202\n"
     ]
    },
    {
     "name": "stdout",
     "output_type": "stream",
     "text": [
      "Error in LDL factorization when computing the nonzero elements. The problem seems to be non-convex.\n",
      "factor_status: 0, num_vars: 7\n",
      "Error in LDL initial factorization.\n",
      "ERROR: init_lin_sys_work failure\n",
      "Falling back to min_volatility due to: ScsWork allocation error!\n",
      "Error in LDL factorization when computing the nonzero elements. The problem seems to be non-convex.\n",
      "factor_status: 0, num_vars: 7\n",
      "Error in LDL initial factorization.\n",
      "ERROR: init_lin_sys_work failure\n",
      "Falling back to min_volatility due to: ScsWork allocation error!\n"
     ]
    },
    {
     "name": "stderr",
     "output_type": "stream",
     "text": [
      "Model is not converging.  Current: 14180.53573395061 is not greater than 14180.553957101076. Delta is -0.018223150465928484\n",
      "Model is not converging.  Current: 14180.531211383746 is not greater than 14180.538891349433. Delta is -0.007679965687202639\n",
      "Model is not converging.  Current: 13516.968014887689 is not greater than 13517.068174003716. Delta is -0.10015911602749838\n",
      "Model is not converging.  Current: 13432.156033692057 is not greater than 13432.202124806056. Delta is -0.04609111399804533\n",
      "Model is not converging.  Current: 13432.122424128804 is not greater than 13432.162281362456. Delta is -0.03985723365258309\n",
      "Model is not converging.  Current: 13483.624667525843 is not greater than 13483.650955270617. Delta is -0.026287744774890598\n",
      "Model is not converging.  Current: 13644.320443319837 is not greater than 13644.390154075236. Delta is -0.06971075539877347\n",
      "Model is not converging.  Current: 13644.292261974091 is not greater than 13644.358604047628. Delta is -0.06634207353636157\n",
      "Model is not converging.  Current: 14097.923552168131 is not greater than 14097.92568467051. Delta is -0.002132502379026846\n",
      "Model is not converging.  Current: 13635.933989161791 is not greater than 13635.973296352626. Delta is -0.039307190834733774\n",
      "Model is not converging.  Current: 13635.903009204492 is not greater than 13635.935481723978. Delta is -0.03247251948596386\n",
      "Model is not converging.  Current: 13493.953872329394 is not greater than 13494.009006526569. Delta is -0.05513419717499346\n",
      "Model is not converging.  Current: 13493.957507012137 is not greater than 13494.01051634679. Delta is -0.05300933465332491\n"
     ]
    },
    {
     "name": "stdout",
     "output_type": "stream",
     "text": [
      "Error in LDL factorization when computing the nonzero elements. The problem seems to be non-convex.\n",
      "factor_status: 0, num_vars: 7\n",
      "Error in LDL initial factorization.\n",
      "ERROR: init_lin_sys_work failure\n",
      "Falling back to min_volatility due to: ScsWork allocation error!\n",
      "Error in LDL factorization when computing the nonzero elements. The problem seems to be non-convex.\n",
      "factor_status: 0, num_vars: 7\n",
      "Error in LDL initial factorization.\n",
      "ERROR: init_lin_sys_work failure\n",
      "Falling back to min_volatility due to: ScsWork allocation error!\n",
      "Falling back to min_volatility due to: at least one of the assets must have an expected return exceeding the risk-free rate\n"
     ]
    },
    {
     "name": "stderr",
     "output_type": "stream",
     "text": [
      "Model is not converging.  Current: 13388.889310876119 is not greater than 13389.007700333423. Delta is -0.11838945730414707\n",
      "Model is not converging.  Current: 13388.807038392011 is not greater than 13388.939092033484. Delta is -0.13205364147324872\n"
     ]
    },
    {
     "name": "stdout",
     "output_type": "stream",
     "text": [
      "Error in LDL factorization when computing the nonzero elements. The problem seems to be non-convex.\n",
      "factor_status: 0, num_vars: 7\n",
      "Error in LDL initial factorization.\n",
      "ERROR: init_lin_sys_work failure\n",
      "Falling back to min_volatility due to: ScsWork allocation error!\n"
     ]
    },
    {
     "name": "stderr",
     "output_type": "stream",
     "text": [
      "Model is not converging.  Current: 13567.876701081086 is not greater than 13567.88247760992. Delta is -0.00577652883475821\n",
      "Model is not converging.  Current: 14159.178232557524 is not greater than 14159.205384263529. Delta is -0.02715170600458805\n",
      "Model is not converging.  Current: 14159.18348609387 is not greater than 14159.192580233961. Delta is -0.009094140090383007\n",
      "Model is not converging.  Current: 14062.406050834721 is not greater than 14062.407089325616. Delta is -0.0010384908946434734\n",
      "Model is not converging.  Current: 14062.406207329994 is not greater than 14062.407006574645. Delta is -0.0007992446517164353\n",
      "Model is not converging.  Current: 13463.835399781423 is not greater than 13463.841290966093. Delta is -0.005891184669962968\n",
      "Model is not converging.  Current: 13434.839558556812 is not greater than 13434.94658155386. Delta is -0.10702299704826146\n",
      "Model is not converging.  Current: 13433.76178154922 is not greater than 13433.831670531034. Delta is -0.06988898181407421\n",
      "Model is not converging.  Current: 13449.330729750114 is not greater than 13449.355986058916. Delta is -0.025256308801544947\n",
      "Model is not converging.  Current: 13726.890532766763 is not greater than 13726.904933657797. Delta is -0.0144008910338016\n",
      "Model is not converging.  Current: 13726.887434195309 is not greater than 13726.904952195375. Delta is -0.017518000066047534\n",
      "Model is not converging.  Current: 13413.993149712625 is not greater than 13414.009057739371. Delta is -0.01590802674581937\n",
      "Model is not converging.  Current: 13533.055166324491 is not greater than 13533.07867241855. Delta is -0.023506094057665905\n",
      "Model is not converging.  Current: 13533.038564297593 is not greater than 13533.065807923042. Delta is -0.027243625449045794\n",
      "Model is not converging.  Current: 13685.743924357195 is not greater than 13685.74973873874. Delta is -0.00581438154404168\n",
      "Model is not converging.  Current: 13479.115266667222 is not greater than 13479.127449822323. Delta is -0.012183155100501608\n",
      "Model is not converging.  Current: 13653.45486628665 is not greater than 13653.53974504026. Delta is -0.08487875361061015\n",
      "Model is not converging.  Current: 13653.28240482786 is not greater than 13653.345286345726. Delta is -0.06288151786611706\n",
      "Model is not converging.  Current: 14062.624855983413 is not greater than 14062.705905394885. Delta is -0.0810494114721223\n",
      "Model is not converging.  Current: 14062.634747682388 is not greater than 14062.695557916746. Delta is -0.060810234357632\n"
     ]
    },
    {
     "name": "stdout",
     "output_type": "stream",
     "text": [
      "Error in LDL factorization when computing the nonzero elements. The problem seems to be non-convex.\n",
      "factor_status: 0, num_vars: 7\n",
      "Error in LDL initial factorization.\n",
      "ERROR: init_lin_sys_work failure\n",
      "Falling back to min_volatility due to: ScsWork allocation error!\n"
     ]
    },
    {
     "name": "stderr",
     "output_type": "stream",
     "text": [
      "Model is not converging.  Current: 13968.140184249913 is not greater than 13968.14619326785. Delta is -0.006009017937685712\n",
      "Model is not converging.  Current: 13968.14087807051 is not greater than 13968.147750075534. Delta is -0.006872005023979\n"
     ]
    },
    {
     "name": "stdout",
     "output_type": "stream",
     "text": [
      "Falling back to min_volatility due to: at least one of the assets must have an expected return exceeding the risk-free rate\n"
     ]
    },
    {
     "name": "stderr",
     "output_type": "stream",
     "text": [
      "Model is not converging.  Current: 13835.37637353364 is not greater than 13835.392122552697. Delta is -0.01574901905769366\n",
      "Model is not converging.  Current: 13835.375270929495 is not greater than 13835.385010752898. Delta is -0.00973982340292423\n",
      "Model is not converging.  Current: 13917.066007978792 is not greater than 13917.086994984082. Delta is -0.020987005289498484\n",
      "Model is not converging.  Current: 13917.06833105881 is not greater than 13917.093110870102. Delta is -0.02477981129231921\n",
      "Model is not converging.  Current: 13654.792846828852 is not greater than 13654.800671585517. Delta is -0.007824756665286259\n",
      "Model is not converging.  Current: 13654.7931587498 is not greater than 13654.803822235313. Delta is -0.010663485512850457\n"
     ]
    },
    {
     "name": "stdout",
     "output_type": "stream",
     "text": [
      "Error in LDL factorization when computing the nonzero elements. The problem seems to be non-convex.\n",
      "factor_status: 0, num_vars: 7\n",
      "Error in LDL initial factorization.\n",
      "ERROR: init_lin_sys_work failure\n",
      "Falling back to min_volatility due to: ScsWork allocation error!\n",
      "Running simulation 97...\n"
     ]
    },
    {
     "name": "stderr",
     "output_type": "stream",
     "text": [
      "Model is not converging.  Current: 13394.01721168411 is not greater than 13394.022082865391. Delta is -0.004871181281487225\n"
     ]
    },
    {
     "name": "stdout",
     "output_type": "stream",
     "text": [
      "Error in LDL factorization when computing the nonzero elements. The problem seems to be non-convex.\n",
      "factor_status: 0, num_vars: 7\n",
      "Error in LDL initial factorization.\n",
      "ERROR: init_lin_sys_work failure\n",
      "Falling back to min_volatility due to: ScsWork allocation error!\n"
     ]
    },
    {
     "name": "stderr",
     "output_type": "stream",
     "text": [
      "Model is not converging.  Current: 14167.064126043902 is not greater than 14167.06555936739. Delta is -0.0014333234867081046\n",
      "Model is not converging.  Current: 13920.529785149181 is not greater than 13920.560953123651. Delta is -0.03116797447000863\n",
      "Model is not converging.  Current: 14021.850504872946 is not greater than 14021.851845587149. Delta is -0.0013407142032519914\n",
      "Model is not converging.  Current: 14021.850512991548 is not greater than 14021.851902429493. Delta is -0.0013894379444536753\n",
      "Model is not converging.  Current: 13771.012750857835 is not greater than 13771.026327027146. Delta is -0.013576169310908881\n",
      "Model is not converging.  Current: 13771.005868150758 is not greater than 13771.033677406547. Delta is -0.027809255789179588\n",
      "Model is not converging.  Current: 13991.242146350112 is not greater than 13991.243406049343. Delta is -0.0012596992310136557\n",
      "Model is not converging.  Current: 13991.242647062747 is not greater than 13991.243330994905. Delta is -0.0006839321576990187\n"
     ]
    },
    {
     "name": "stdout",
     "output_type": "stream",
     "text": [
      "Falling back to min_volatility due to: at least one of the assets must have an expected return exceeding the risk-free rate\n",
      "Error in LDL factorization when computing the nonzero elements. The problem seems to be non-convex.\n",
      "factor_status: 0, num_vars: 7\n",
      "Error in LDL initial factorization.\n",
      "ERROR: init_lin_sys_work failure\n",
      "Falling back to min_volatility due to: ScsWork allocation error!\n",
      "Error in LDL factorization when computing the nonzero elements. The problem seems to be non-convex.\n",
      "factor_status: 0, num_vars: 7\n",
      "Error in LDL initial factorization.\n",
      "ERROR: init_lin_sys_work failure\n",
      "Falling back to min_volatility due to: ScsWork allocation error!\n",
      "Error in LDL factorization when computing the nonzero elements. The problem seems to be non-convex.\n",
      "factor_status: 0, num_vars: 7\n",
      "Error in LDL initial factorization.\n",
      "ERROR: init_lin_sys_work failure\n",
      "Falling back to min_volatility due to: ScsWork allocation error!\n"
     ]
    },
    {
     "name": "stderr",
     "output_type": "stream",
     "text": [
      "Model is not converging.  Current: 14086.146857898291 is not greater than 14086.14869647211. Delta is -0.0018385738185315859\n"
     ]
    },
    {
     "name": "stdout",
     "output_type": "stream",
     "text": [
      "Running simulation 98...\n"
     ]
    },
    {
     "name": "stderr",
     "output_type": "stream",
     "text": [
      "Model is not converging.  Current: 13511.781721280144 is not greater than 13511.791008492617. Delta is -0.009287212473282125\n",
      "Model is not converging.  Current: 14137.561394661332 is not greater than 14137.66493222653. Delta is -0.10353756519725721\n",
      "Model is not converging.  Current: 14117.611303629961 is not greater than 14117.651623980906. Delta is -0.040320350944966776\n",
      "Model is not converging.  Current: 13716.57852770421 is not greater than 13716.583951029024. Delta is -0.005423324813818908\n",
      "Model is not converging.  Current: 13716.5782078153 is not greater than 13716.579096880345. Delta is -0.0008890650442481274\n",
      "Model is not converging.  Current: 13882.293316731751 is not greater than 13882.397700358872. Delta is -0.1043836271201144\n",
      "Model is not converging.  Current: 13882.245418817532 is not greater than 13882.328466199622. Delta is -0.08304738208971685\n",
      "Model is not converging.  Current: 13862.020020116748 is not greater than 13862.020576767327. Delta is -0.0005566505788010545\n",
      "Model is not converging.  Current: 13862.02003415197 is not greater than 13862.020620934898. Delta is -0.0005867829277121928\n",
      "Model is not converging.  Current: 13433.602574941531 is not greater than 13433.606149086305. Delta is -0.0035741447736654663\n",
      "Model is not converging.  Current: 14079.874987430918 is not greater than 14079.88175605706. Delta is -0.006768626142729772\n",
      "Model is not converging.  Current: 14079.85953858592 is not greater than 14079.91133678908. Delta is -0.051798203159705736\n",
      "Model is not converging.  Current: 13823.339702659643 is not greater than 13823.386714420265. Delta is -0.04701176062189916\n",
      "Model is not converging.  Current: 13823.341899742101 is not greater than 13823.387389566677. Delta is -0.04548982457527018\n",
      "Model is not converging.  Current: 14167.670161529055 is not greater than 14167.672881122784. Delta is -0.002719593729125336\n",
      "Model is not converging.  Current: 14167.670681650798 is not greater than 14167.677798235325. Delta is -0.00711658452746633\n",
      "Model is not converging.  Current: 12980.495022008288 is not greater than 12980.495315113092. Delta is -0.0002931048038590234\n",
      "Model is not converging.  Current: 13510.715284271282 is not greater than 13510.727723696562. Delta is -0.012439425279808347\n"
     ]
    },
    {
     "name": "stdout",
     "output_type": "stream",
     "text": [
      "Falling back to min_volatility due to: at least one of the assets must have an expected return exceeding the risk-free rate\n",
      "Running simulation 99...\n"
     ]
    },
    {
     "name": "stderr",
     "output_type": "stream",
     "text": [
      "Model is not converging.  Current: 13392.405218472526 is not greater than 13392.483372479655. Delta is -0.07815400712934206\n",
      "Model is not converging.  Current: 13453.796862316472 is not greater than 13453.818275319376. Delta is -0.021413002903500455\n",
      "Model is not converging.  Current: 13419.400590437053 is not greater than 13419.406755564361. Delta is -0.0061651273081224645\n"
     ]
    },
    {
     "name": "stdout",
     "output_type": "stream",
     "text": [
      "Error in LDL factorization when computing the nonzero elements. The problem seems to be non-convex.\n",
      "factor_status: 0, num_vars: 7\n",
      "Error in LDL initial factorization.\n",
      "ERROR: init_lin_sys_work failure\n",
      "Falling back to min_volatility due to: ScsWork allocation error!\n",
      "Running simulation 100...\n"
     ]
    },
    {
     "name": "stderr",
     "output_type": "stream",
     "text": [
      "Model is not converging.  Current: 13462.480494674175 is not greater than 13462.521080329125. Delta is -0.04058565494960931\n",
      "Model is not converging.  Current: 13412.99203172581 is not greater than 13413.01630291362. Delta is -0.02427118781088211\n"
     ]
    },
    {
     "name": "stdout",
     "output_type": "stream",
     "text": [
      "Error in LDL factorization when computing the nonzero elements. The problem seems to be non-convex.\n",
      "factor_status: 0, num_vars: 7\n",
      "Error in LDL initial factorization.\n",
      "ERROR: init_lin_sys_work failure\n",
      "Falling back to min_volatility due to: ScsWork allocation error!\n"
     ]
    },
    {
     "name": "stderr",
     "output_type": "stream",
     "text": [
      "Model is not converging.  Current: 13513.106965416166 is not greater than 13513.15020263711. Delta is -0.04323722094522964\n",
      "Model is not converging.  Current: 13500.259172497288 is not greater than 13500.259507490588. Delta is -0.00033499329947517253\n",
      "Model is not converging.  Current: 13500.258209455738 is not greater than 13500.260016414448. Delta is -0.0018069587094942108\n",
      "Model is not converging.  Current: 13429.040347991577 is not greater than 13429.05215211204. Delta is -0.011804120464148582\n"
     ]
    },
    {
     "name": "stdout",
     "output_type": "stream",
     "text": [
      "Error in LDL factorization when computing the nonzero elements. The problem seems to be non-convex.\n",
      "factor_status: 0, num_vars: 7\n",
      "Error in LDL initial factorization.\n",
      "ERROR: init_lin_sys_work failure\n",
      "Falling back to min_volatility due to: ScsWork allocation error!\n"
     ]
    },
    {
     "name": "stderr",
     "output_type": "stream",
     "text": [
      "Model is not converging.  Current: 13707.728063649765 is not greater than 13707.839743981605. Delta is -0.11168033184003434\n",
      "Model is not converging.  Current: 13707.691297288704 is not greater than 13707.815138400818. Delta is -0.12384111211395066\n",
      "Model is not converging.  Current: 13469.967066820776 is not greater than 13469.969692257933. Delta is -0.002625437156893895\n",
      "Model is not converging.  Current: 13469.956248055136 is not greater than 13469.967144604687. Delta is -0.010896549551034695\n"
     ]
    },
    {
     "name": "stdout",
     "output_type": "stream",
     "text": [
      "Error in LDL factorization when computing the nonzero elements. The problem seems to be non-convex.\n",
      "factor_status: 0, num_vars: 7\n",
      "Error in LDL initial factorization.\n",
      "ERROR: init_lin_sys_work failure\n",
      "Falling back to min_volatility due to: ScsWork allocation error!\n",
      "Error in LDL factorization when computing the nonzero elements. The problem seems to be non-convex.\n",
      "factor_status: 0, num_vars: 7\n",
      "Error in LDL initial factorization.\n",
      "ERROR: init_lin_sys_work failure\n",
      "Falling back to min_volatility due to: ScsWork allocation error!\n",
      "Error in LDL factorization when computing the nonzero elements. The problem seems to be non-convex.\n",
      "factor_status: 0, num_vars: 7\n",
      "Error in LDL initial factorization.\n",
      "ERROR: init_lin_sys_work failure\n",
      "Falling back to min_volatility due to: ScsWork allocation error!\n",
      "Error in LDL factorization when computing the nonzero elements. The problem seems to be non-convex.\n",
      "factor_status: 0, num_vars: 7\n",
      "Error in LDL initial factorization.\n",
      "ERROR: init_lin_sys_work failure\n",
      "Falling back to min_volatility due to: ScsWork allocation error!\n"
     ]
    },
    {
     "name": "stderr",
     "output_type": "stream",
     "text": [
      "Model is not converging.  Current: 13384.249548759099 is not greater than 13384.2918089736. Delta is -0.04226021450085682\n",
      "Model is not converging.  Current: 13384.167826606052 is not greater than 13384.249951595782. Delta is -0.08212498973080073\n",
      "Model is not converging.  Current: 13555.487759291262 is not greater than 13555.489638470686. Delta is -0.0018791794245771598\n",
      "Model is not converging.  Current: 13315.631496663855 is not greater than 13315.632191251585. Delta is -0.0006945877303223824\n",
      "Model is not converging.  Current: 13315.623361343773 is not greater than 13315.634936000744. Delta is -0.0115746569717885\n",
      "Model is not converging.  Current: 13390.471353452474 is not greater than 13390.482894046509. Delta is -0.011540594034158858\n",
      "Model is not converging.  Current: 13715.763503759314 is not greater than 13715.808725464793. Delta is -0.04522170547897986\n",
      "Model is not converging.  Current: 13715.737772505605 is not greater than 13715.775319005423. Delta is -0.037546499817835866\n"
     ]
    },
    {
     "name": "stdout",
     "output_type": "stream",
     "text": [
      "Error in LDL factorization when computing the nonzero elements. The problem seems to be non-convex.\n",
      "factor_status: 0, num_vars: 7\n",
      "Error in LDL initial factorization.\n",
      "ERROR: init_lin_sys_work failure\n",
      "Falling back to min_volatility due to: ScsWork allocation error!\n"
     ]
    },
    {
     "name": "stderr",
     "output_type": "stream",
     "text": [
      "Model is not converging.  Current: 13646.743171480368 is not greater than 13646.812873778119. Delta is -0.06970229775106418\n"
     ]
    },
    {
     "name": "stdout",
     "output_type": "stream",
     "text": [
      "Error in LDL factorization when computing the nonzero elements. The problem seems to be non-convex.\n",
      "factor_status: 0, num_vars: 7\n",
      "Error in LDL initial factorization.\n",
      "ERROR: init_lin_sys_work failure\n",
      "Falling back to min_volatility due to: ScsWork allocation error!\n"
     ]
    },
    {
     "name": "stderr",
     "output_type": "stream",
     "text": [
      "Model is not converging.  Current: 13090.896843200366 is not greater than 13090.969996354688. Delta is -0.07315315432242642\n",
      "Model is not converging.  Current: 13090.862214298577 is not greater than 13090.87150724961. Delta is -0.009292951033785357\n",
      "Model is not converging.  Current: 13465.099128203197 is not greater than 13465.107473485581. Delta is -0.008345282383743324\n",
      "Model is not converging.  Current: 13465.099368068668 is not greater than 13465.108459878185. Delta is -0.009091809517485672\n",
      "Model is not converging.  Current: 13478.35442405175 is not greater than 13478.391971214889. Delta is -0.03754716313960671\n",
      "Model is not converging.  Current: 13675.775665039724 is not greater than 13675.793127335412. Delta is -0.01746229568743729\n",
      "Model is not converging.  Current: 13675.769738580313 is not greater than 13675.782567676752. Delta is -0.012829096438508714\n",
      "Model is not converging.  Current: 13306.078735162942 is not greater than 13306.105477783816. Delta is -0.026742620873847045\n",
      "Model is not converging.  Current: 13306.08372427338 is not greater than 13306.11185439112. Delta is -0.028130117740147398\n"
     ]
    },
    {
     "name": "stdout",
     "output_type": "stream",
     "text": [
      "Error in LDL factorization when computing the nonzero elements. The problem seems to be non-convex.\n",
      "factor_status: 0, num_vars: 7\n",
      "Error in LDL initial factorization.\n",
      "ERROR: init_lin_sys_work failure\n",
      "Falling back to min_volatility due to: ScsWork allocation error!\n"
     ]
    },
    {
     "name": "stderr",
     "output_type": "stream",
     "text": [
      "Model is not converging.  Current: 14128.108856999583 is not greater than 14128.142312885366. Delta is -0.033455885783041595\n",
      "Model is not converging.  Current: 14128.108179491077 is not greater than 14128.132130374992. Delta is -0.023950883914949372\n",
      "Model is not converging.  Current: 13950.847994043575 is not greater than 13950.859870570293. Delta is -0.011876526717969682\n",
      "Model is not converging.  Current: 13950.849857362418 is not greater than 13950.856287568971. Delta is -0.0064302065529773245\n",
      "Model is not converging.  Current: 13603.674632666114 is not greater than 13603.676100298306. Delta is -0.0014676321916340385\n",
      "Model is not converging.  Current: 13603.674684041143 is not greater than 13603.676350443715. Delta is -0.0016664025715726893\n",
      "Model is not converging.  Current: 14051.812552270803 is not greater than 14051.821908425365. Delta is -0.009356154561828589\n",
      "Model is not converging.  Current: 14051.81397398951 is not greater than 14051.825851883203. Delta is -0.011877893692144426\n"
     ]
    },
    {
     "name": "stdout",
     "output_type": "stream",
     "text": [
      "Error in LDL factorization when computing the nonzero elements. The problem seems to be non-convex.\n",
      "factor_status: 0, num_vars: 7\n",
      "Error in LDL initial factorization.\n",
      "ERROR: init_lin_sys_work failure\n",
      "Falling back to min_volatility due to: ScsWork allocation error!\n"
     ]
    },
    {
     "name": "stderr",
     "output_type": "stream",
     "text": [
      "Model is not converging.  Current: 14016.764203321569 is not greater than 14016.877997869855. Delta is -0.1137945482860232\n",
      "Model is not converging.  Current: 13169.90640018182 is not greater than 13169.91049757231. Delta is -0.004097390488823294\n",
      "Model is not converging.  Current: 13169.906233737176 is not greater than 13169.906419057557. Delta is -0.00018532038120611105\n",
      "Model is not converging.  Current: 13829.51675736405 is not greater than 13829.52750641988. Delta is -0.010749055829364806\n"
     ]
    },
    {
     "name": "stdout",
     "output_type": "stream",
     "text": [
      "Error in LDL factorization when computing the nonzero elements. The problem seems to be non-convex.\n",
      "factor_status: 0, num_vars: 7\n",
      "Error in LDL initial factorization.\n",
      "ERROR: init_lin_sys_work failure\n",
      "Falling back to min_volatility due to: ScsWork allocation error!\n"
     ]
    },
    {
     "name": "stderr",
     "output_type": "stream",
     "text": [
      "Model is not converging.  Current: 13464.78093767101 is not greater than 13464.78714372182. Delta is -0.006206050809851149\n",
      "Model is not converging.  Current: 13464.770977400438 is not greater than 13464.787828591448. Delta is -0.01685119101057353\n",
      "Model is not converging.  Current: 14091.801073840046 is not greater than 14091.80477452419. Delta is -0.003700684143041144\n",
      "Model is not converging.  Current: 14349.061818052869 is not greater than 14349.170762983596. Delta is -0.10894493072737532\n",
      "Model is not converging.  Current: 13953.356432086564 is not greater than 13953.662198276126. Delta is -0.30576618956183665\n",
      "Model is not converging.  Current: 13953.364916308803 is not greater than 13953.671395994781. Delta is -0.3064796859780472\n"
     ]
    },
    {
     "name": "stdout",
     "output_type": "stream",
     "text": [
      "Error in LDL factorization when computing the nonzero elements. The problem seems to be non-convex.\n",
      "factor_status: 0, num_vars: 7\n",
      "Error in LDL initial factorization.\n",
      "ERROR: init_lin_sys_work failure\n",
      "Falling back to min_volatility due to: ScsWork allocation error!\n"
     ]
    },
    {
     "name": "stderr",
     "output_type": "stream",
     "text": [
      "Model is not converging.  Current: 14228.512188482267 is not greater than 14228.527757354614. Delta is -0.01556887234619353\n",
      "Model is not converging.  Current: 14228.519035835523 is not greater than 14228.521307518646. Delta is -0.002271683122671675\n",
      "Model is not converging.  Current: 13596.60343161105 is not greater than 13596.608343900696. Delta is -0.004912289645290002\n"
     ]
    },
    {
     "name": "stdout",
     "output_type": "stream",
     "text": [
      "Error in LDL factorization when computing the nonzero elements. The problem seems to be non-convex.\n",
      "factor_status: 0, num_vars: 7\n",
      "Error in LDL initial factorization.\n",
      "ERROR: init_lin_sys_work failure\n",
      "Falling back to min_volatility due to: ScsWork allocation error!\n",
      "Error in LDL factorization when computing the nonzero elements. The problem seems to be non-convex.\n",
      "factor_status: 0, num_vars: 7\n",
      "Error in LDL initial factorization.\n",
      "ERROR: init_lin_sys_work failure\n",
      "Falling back to min_volatility due to: ScsWork allocation error!\n",
      "Error in LDL factorization when computing the nonzero elements. The problem seems to be non-convex.\n",
      "factor_status: 0, num_vars: 7\n",
      "Error in LDL initial factorization.\n",
      "ERROR: init_lin_sys_work failure\n",
      "Falling back to min_volatility due to: ScsWork allocation error!\n",
      "Error in LDL factorization when computing the nonzero elements. The problem seems to be non-convex.\n",
      "factor_status: 0, num_vars: 7\n",
      "Error in LDL initial factorization.\n",
      "ERROR: init_lin_sys_work failure\n",
      "Falling back to min_volatility due to: ScsWork allocation error!\n",
      "\n",
      "==== Wilcoxon Tests (SJM-BL vs. others) ====\n",
      "1state | SJM-BL vs EW: stat=1502.0000, p=0.0004358\n",
      "1state | SJM-BL vs IV: stat=1464.0000, p=0.0002642\n",
      "1state | SJM-BL vs MVO: stat=903.0000, p=2.448e-08\n",
      "1state | SJM-BL vs HMM-BL-Default: stat=2523.0000, p=0.9945\n",
      "1state | SJM-BL vs HMM-BL-KMeans: stat=8.0000, p=4.961e-18\n",
      "2state | SJM-BL vs EW: stat=2123.0000, p=0.1669\n",
      "2state | SJM-BL vs IV: stat=2314.0000, p=0.4682\n",
      "2state | SJM-BL vs MVO: stat=1133.0000, p=1.7e-06\n",
      "2state | SJM-BL vs HMM-BL-Default: stat=2404.0000, p=0.6774\n",
      "2state | SJM-BL vs HMM-BL-KMeans: stat=1328.0000, p=3.86e-05\n",
      "3state | SJM-BL vs EW: stat=565.0000, p=1.594e-11\n",
      "3state | SJM-BL vs IV: stat=1165.0000, p=2.924e-06\n",
      "3state | SJM-BL vs MVO: stat=253.0000, p=5.634e-15\n",
      "3state | SJM-BL vs HMM-BL-Default: stat=2426.0000, p=0.7336\n",
      "3state | SJM-BL vs HMM-BL-KMeans: stat=1387.0000, p=9.123e-05\n",
      "\n",
      "Wilcoxon Results Table:\n",
      "Scenario               Comparison  Statistic      p-value\n",
      "  1state             SJM-BL vs EW     1502.0 4.357862e-04\n",
      "  1state             SJM-BL vs IV     1464.0 2.642252e-04\n",
      "  1state            SJM-BL vs MVO      903.0 2.447540e-08\n",
      "  1state SJM-BL vs HMM-BL-Default     2523.0 9.945133e-01\n",
      "  1state  SJM-BL vs HMM-BL-KMeans        8.0 4.961042e-18\n",
      "  2state             SJM-BL vs EW     2123.0 1.669083e-01\n",
      "  2state             SJM-BL vs IV     2314.0 4.681536e-01\n",
      "  2state            SJM-BL vs MVO     1133.0 1.700126e-06\n",
      "  2state SJM-BL vs HMM-BL-Default     2404.0 6.773827e-01\n",
      "  2state  SJM-BL vs HMM-BL-KMeans     1328.0 3.860482e-05\n",
      "  3state             SJM-BL vs EW      565.0 1.593524e-11\n",
      "  3state             SJM-BL vs IV     1165.0 2.923510e-06\n",
      "  3state            SJM-BL vs MVO      253.0 5.634385e-15\n",
      "  3state SJM-BL vs HMM-BL-Default     2426.0 7.335597e-01\n",
      "  3state  SJM-BL vs HMM-BL-KMeans     1387.0 9.122692e-05\n",
      "\n",
      "==== Average Performance Metrics (across runs) ====\n",
      "\n",
      "--- 1STATE ---\n",
      "                Annualized Return  Cumulative Return  Volatility  Downside Deviation  Max Drawdown  Sharpe Ratio  Sortino Ratio  Calmar Ratio  Turnover Rate\n",
      "Strategy                                                                                                                                                    \n",
      "EW                       0.114946           0.581456    0.074733            0.043695     -0.079657      1.537433       2.641661      1.646222       0.000000\n",
      "IV                       0.114946           0.581484    0.074690            0.043674     -0.079545      1.538327       2.642901      1.647007       0.000000\n",
      "MVO                      0.113878           0.576510    0.091737            0.053695     -0.104583      1.258105       2.161091      1.309464       0.000000\n",
      "HMM-BL-Default           0.114422           0.577786    0.076266            0.044651     -0.082406      1.499090       2.572852      1.565350       0.000320\n",
      "HMM-BL-KMeans            0.093902           0.454722    0.076548            0.044966     -0.093531      1.226345       2.100570      1.186138       0.119451\n",
      "SJM-BL                   0.114032           0.576220    0.076318            0.044674     -0.082750      1.492479       2.562881      1.549422       0.000715\n",
      "\n",
      "--- 2STATE ---\n",
      "                Annualized Return  Cumulative Return  Volatility  Downside Deviation  Max Drawdown  Sharpe Ratio  Sortino Ratio  Calmar Ratio  Turnover Rate\n",
      "Strategy                                                                                                                                                    \n",
      "EW                       0.108286           0.550382    0.076581            0.046210     -0.093256      1.423346       2.382097      1.419993       0.000000\n",
      "IV                       0.110563           0.564907    0.075823            0.045581     -0.089800      1.466770       2.462470      1.501424       0.000000\n",
      "MVO                      0.111475           0.569192    0.095358            0.059329     -0.130242      1.195225       1.954221      1.095824       0.000000\n",
      "HMM-BL-Default           0.114178           0.588960    0.078505            0.047155     -0.094096      1.461670       2.456892      1.501380       0.004170\n",
      "HMM-BL-KMeans            0.116896           0.606830    0.077624            0.046362     -0.091184      1.511576       2.554836      1.582969       0.005662\n",
      "SJM-BL                   0.114048           0.588939    0.078739            0.047479     -0.095836      1.456103       2.437111      1.483457       0.002983\n",
      "\n",
      "--- 3STATE ---\n",
      "                Annualized Return  Cumulative Return  Volatility  Downside Deviation  Max Drawdown  Sharpe Ratio  Sortino Ratio  Calmar Ratio  Turnover Rate\n",
      "Strategy                                                                                                                                                    \n",
      "EW                       0.105191           0.557206    0.073135            0.045393     -0.138602      1.519529       2.516087      1.367714       0.000000\n",
      "IV                       0.122476           0.656248    0.070227            0.042536     -0.109092      1.802525       3.034140      1.748923       0.000000\n",
      "MVO                      0.105296           0.588981    0.091621            0.059601     -0.194801      1.311592       2.180707      1.227701       0.000000\n",
      "HMM-BL-Default           0.144591           0.791850    0.072012            0.043643     -0.094310      2.042320       3.426171      2.048001       0.002651\n",
      "HMM-BL-KMeans            0.153805           0.856172    0.069927            0.041734     -0.078868      2.225238       3.775279      2.477545       0.012877\n",
      "SJM-BL                   0.143996           0.789183    0.072177            0.043812     -0.091753      2.036142       3.417237      2.130141       0.002184\n",
      "\n",
      "No fallback events recorded.\n"
     ]
    }
   ],
   "source": [
    "if __name__ == \"__main__\":\n",
    "    config = {\n",
    "        \"n_simulations\": 1000,\n",
    "        \"T_sim\": 5000,\n",
    "        \"risk_free_rate\": 0.02 / 252,\n",
    "        \"transaction_cost\": 0.0007,  # 7 bps\n",
    "        \"bl_tau\": 0.05,\n",
    "        \"lam_sjm\": 100,\n",
    "    }\n",
    "\n",
    "    sharpe_data, all_metrics, all_runs, df_wilcoxon = run_monte_carlo_study(\n",
    "        n_runs=config[\"n_simulations\"],\n",
    "        T_sim=config[\"T_sim\"],\n",
    "        lam_sjm=config[\"lam_sjm\"],\n",
    "        risk_free_rate=config[\"risk_free_rate\"],\n",
    "        transaction_cost=config[\"transaction_cost\"],\n",
    "        bl_tau=config[\"bl_tau\"]\n",
    "    )\n",
    "\n",
    "    # Fallback summary loop now uses all_runs\n",
    "    fallback_summary = []\n",
    "    for run in all_runs:\n",
    "        for scenario in run:  # \"1state\", \"2state\", \"3state\"\n",
    "            # Unpack the tuple to get fallback_events (second element)\n",
    "            _, fallback_dict = run[scenario]\n",
    "            for strat, events in fallback_dict.items():\n",
    "                for event in events:\n",
    "                    record = event.copy()\n",
    "                    record.update({\n",
    "                        \"Scenario\": scenario,\n",
    "                        \"Strategy\": strat\n",
    "                    })\n",
    "                    fallback_summary.append(record)\n",
    "    if fallback_summary:\n",
    "        df_fallback = pd.DataFrame(fallback_summary)\n",
    "        print(\"\\n==== Fallback Events Summary ====\")\n",
    "        print(df_fallback.to_string(index=False))\n",
    "    else:\n",
    "        print(\"\\nNo fallback events recorded.\")"
   ]
  },
  {
   "cell_type": "code",
   "execution_count": null,
   "metadata": {},
   "outputs": [],
   "source": []
  }
 ],
 "metadata": {
  "kernelspec": {
   "display_name": "base",
   "language": "python",
   "name": "python3"
  },
  "language_info": {
   "codemirror_mode": {
    "name": "ipython",
    "version": 3
   },
   "file_extension": ".py",
   "mimetype": "text/x-python",
   "name": "python",
   "nbconvert_exporter": "python",
   "pygments_lexer": "ipython3",
   "version": "3.12.2"
  }
 },
 "nbformat": 4,
 "nbformat_minor": 2
}
